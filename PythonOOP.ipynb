{
  "nbformat": 4,
  "nbformat_minor": 0,
  "metadata": {
    "colab": {
      "name": "PythonOOP.ipynb",
      "provenance": [],
      "authorship_tag": "ABX9TyMkTsrKX2dMldmmpmtmVBMq",
      "include_colab_link": true
    },
    "kernelspec": {
      "name": "python3",
      "display_name": "Python 3"
    },
    "language_info": {
      "name": "python"
    }
  },
  "cells": [
    {
      "cell_type": "markdown",
      "metadata": {
        "id": "view-in-github",
        "colab_type": "text"
      },
      "source": [
        "<a href=\"https://colab.research.google.com/github/shantayya/Python/blob/main/PythonOOP.ipynb\" target=\"_parent\"><img src=\"https://colab.research.google.com/assets/colab-badge.svg\" alt=\"Open In Colab\"/></a>"
      ]
    },
    {
      "cell_type": "code",
      "execution_count": 53,
      "metadata": {
        "id": "mCBBLN8kWKm8"
      },
      "outputs": [],
      "source": [
        "class Circle():\n",
        "  pi = 3.14\n",
        "\n",
        "  def __init__(self,rad=1):\n",
        "    self.rad = rad\n",
        "\n",
        "  \n",
        "  def get_circumference(self):\n",
        "    return 2 * Circle.pi * self.rad"
      ]
    },
    {
      "cell_type": "code",
      "source": [
        "my_circle = Circle(20)"
      ],
      "metadata": {
        "id": "jgEhekPysKYg"
      },
      "execution_count": 55,
      "outputs": []
    },
    {
      "cell_type": "code",
      "source": [
        "my_circle.get_circumference()"
      ],
      "metadata": {
        "colab": {
          "base_uri": "https://localhost:8080/"
        },
        "id": "RBYxm2qIsUe9",
        "outputId": "7e0a2c98-bb63-4723-bfc9-e366bae94d28"
      },
      "execution_count": 57,
      "outputs": [
        {
          "output_type": "execute_result",
          "data": {
            "text/plain": [
              "125.60000000000001"
            ]
          },
          "metadata": {},
          "execution_count": 57
        }
      ]
    },
    {
      "cell_type": "code",
      "source": [
        ""
      ],
      "metadata": {
        "id": "Z7fX7lZVsXmG"
      },
      "execution_count": null,
      "outputs": []
    }
  ]
}