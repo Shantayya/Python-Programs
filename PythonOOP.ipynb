{
  "nbformat": 4,
  "nbformat_minor": 0,
  "metadata": {
    "colab": {
      "name": "PythonOOP.ipynb",
      "provenance": [],
      "authorship_tag": "ABX9TyOin2D6ejsIdySi5abgqIfk",
      "include_colab_link": true
    },
    "kernelspec": {
      "name": "python3",
      "display_name": "Python 3"
    },
    "language_info": {
      "name": "python"
    }
  },
  "cells": [
    {
      "cell_type": "markdown",
      "metadata": {
        "id": "view-in-github",
        "colab_type": "text"
      },
      "source": [
        "<a href=\"https://colab.research.google.com/github/shantayya/Python/blob/main/PythonOOP.ipynb\" target=\"_parent\"><img src=\"https://colab.research.google.com/assets/colab-badge.svg\" alt=\"Open In Colab\"/></a>"
      ]
    },
    {
      "cell_type": "code",
      "execution_count": null,
      "metadata": {
        "id": "mCBBLN8kWKm8"
      },
      "outputs": [],
      "source": [
        "class Circle():\n",
        "  pi = 3.14\n",
        "\n",
        "  def __init__(self,rad=1):\n",
        "    self.rad = rad\n",
        "\n",
        "  \n",
        "  def get_circumference(self):\n",
        "    return 2 * Circle.pi * self.rad"
      ]
    },
    {
      "cell_type": "code",
      "source": [
        "my_circle = Circle(20)"
      ],
      "metadata": {
        "id": "jgEhekPysKYg"
      },
      "execution_count": null,
      "outputs": []
    },
    {
      "cell_type": "code",
      "source": [
        "my_circle.get_circumference()"
      ],
      "metadata": {
        "colab": {
          "base_uri": "https://localhost:8080/"
        },
        "id": "RBYxm2qIsUe9",
        "outputId": "7e0a2c98-bb63-4723-bfc9-e366bae94d28"
      },
      "execution_count": null,
      "outputs": [
        {
          "output_type": "execute_result",
          "data": {
            "text/plain": [
              "125.60000000000001"
            ]
          },
          "metadata": {},
          "execution_count": 57
        }
      ]
    },
    {
      "cell_type": "code",
      "source": [
        "# Inheritance\n",
        "\n",
        "class Animal():\n",
        "  def __init__(self):\n",
        "    print(\"Welcome to Animal Kingdom\")\n",
        "  \n",
        "  def who_am_i(self):\n",
        "    print(\"I am an Animal\")\n",
        "\n",
        "  def what_i_do():\n",
        "    print(\"I am eating\")\n",
        "\n",
        "class Dog(Animal):\n",
        "  def __init__(self):\n",
        "    Animal.__init__(self)\n",
        "    print(\"This is Dog world\")\n",
        "\n",
        "  def who_am_i(self):\n",
        "    print(\"I am Dog\")\n"
      ],
      "metadata": {
        "id": "Z7fX7lZVsXmG"
      },
      "execution_count": null,
      "outputs": []
    },
    {
      "cell_type": "code",
      "source": [
        "dog = Dog()"
      ],
      "metadata": {
        "colab": {
          "base_uri": "https://localhost:8080/"
        },
        "id": "WU2KfWoWyJII",
        "outputId": "e22e5f97-ee0d-4dc7-f567-b02fcf260656"
      },
      "execution_count": null,
      "outputs": [
        {
          "output_type": "stream",
          "name": "stdout",
          "text": [
            "Welcome to Animal Kingdom\n",
            "This is Dog world\n"
          ]
        }
      ]
    },
    {
      "cell_type": "code",
      "source": [
        "dog.who_am_i()"
      ],
      "metadata": {
        "colab": {
          "base_uri": "https://localhost:8080/"
        },
        "id": "6hrhAu8ayOvd",
        "outputId": "d63b9a92-c3e4-46c0-db61-40355b14c318"
      },
      "execution_count": null,
      "outputs": [
        {
          "output_type": "stream",
          "name": "stdout",
          "text": [
            "I am Dog\n"
          ]
        }
      ]
    },
    {
      "cell_type": "code",
      "source": [
        "# Polymorphism\n",
        "\n",
        "class Dog():\n",
        "  def __init__(self,name):\n",
        "    self.name = name\n",
        "  \n",
        "  def speak(self):\n",
        "    return self.name +\" Says woof!\"\n",
        "  \n",
        "class Cat():\n",
        "  def __init__(self,name):\n",
        "    self.name = name\n",
        "  \n",
        "  def speak(self):\n",
        "    return self.name +\" says Muew\"\n"
      ],
      "metadata": {
        "id": "j7Gtpy6Eydsd"
      },
      "execution_count": 18,
      "outputs": []
    },
    {
      "cell_type": "code",
      "source": [
        "Mahesh = Dog('Mahesh')\n",
        "Sam = Cat('Sam')"
      ],
      "metadata": {
        "id": "HM-OM4kiRmSN"
      },
      "execution_count": 7,
      "outputs": []
    },
    {
      "cell_type": "code",
      "source": [
        "Mahesh.speak()"
      ],
      "metadata": {
        "colab": {
          "base_uri": "https://localhost:8080/",
          "height": 35
        },
        "id": "A3AGrAQ1RvOJ",
        "outputId": "6f887e0e-753a-4fac-c0d3-4952fb79077e"
      },
      "execution_count": 9,
      "outputs": [
        {
          "output_type": "execute_result",
          "data": {
            "text/plain": [
              "'MaheshSays woof!'"
            ],
            "application/vnd.google.colaboratory.intrinsic+json": {
              "type": "string"
            }
          },
          "metadata": {},
          "execution_count": 9
        }
      ]
    },
    {
      "cell_type": "code",
      "source": [
        "Sam.speak()"
      ],
      "metadata": {
        "colab": {
          "base_uri": "https://localhost:8080/",
          "height": 35
        },
        "id": "Ijk8SkGpR62S",
        "outputId": "6ba299c3-6d4a-4d87-f97c-562822745b18"
      },
      "execution_count": 10,
      "outputs": [
        {
          "output_type": "execute_result",
          "data": {
            "text/plain": [
              "'Samsays Muew'"
            ],
            "application/vnd.google.colaboratory.intrinsic+json": {
              "type": "string"
            }
          },
          "metadata": {},
          "execution_count": 10
        }
      ]
    },
    {
      "cell_type": "code",
      "source": [
        "for pet in (Mahesh,Sam):\n",
        "  print(pet.speak())"
      ],
      "metadata": {
        "colab": {
          "base_uri": "https://localhost:8080/"
        },
        "id": "P_8d8fO_SMII",
        "outputId": "3be88bd2-29b8-4e29-dac9-ac59c5d3214a"
      },
      "execution_count": 17,
      "outputs": [
        {
          "output_type": "stream",
          "name": "stdout",
          "text": [
            "MaheshSays woof!\n",
            "Samsays Muew\n"
          ]
        }
      ]
    },
    {
      "cell_type": "code",
      "source": [
        "# Abstract Class\n",
        "class Animal():\n",
        "  def __init__(self,name):\n",
        "    self.name = name\n",
        "  \n",
        "  def speak():\n",
        "    return NotImplementedError(\"This is an abstract class, cannot be instantiated\")\n",
        "  \n",
        "class Dog(Animal):\n",
        "  def __init__(self,name):\n",
        "    self.name = name\n",
        "  \n",
        "  def speak(self):\n",
        "    return self.name +\" says woof!\"\n",
        "\n",
        "class Cat(Animal):\n",
        "  def __init__(self,name):\n",
        "    self.name = name\n",
        "  \n",
        "  def speak(self):\n",
        "    return self.name +\" says meuw\""
      ],
      "metadata": {
        "id": "J6Iz_gxXSVsK"
      },
      "execution_count": 19,
      "outputs": []
    },
    {
      "cell_type": "code",
      "source": [
        "dog = Dog('Do')"
      ],
      "metadata": {
        "id": "8ByxfHOITxgS"
      },
      "execution_count": 20,
      "outputs": []
    },
    {
      "cell_type": "code",
      "source": [
        "cat = Cat('ca')"
      ],
      "metadata": {
        "id": "69K3yY4aUAMu"
      },
      "execution_count": 29,
      "outputs": []
    },
    {
      "cell_type": "code",
      "source": [
        "cat.speak()\n",
        "dog.speak()"
      ],
      "metadata": {
        "colab": {
          "base_uri": "https://localhost:8080/",
          "height": 35
        },
        "id": "jt8dZhDzUDJG",
        "outputId": "8d3ef17a-eb1a-410a-af24-c7c2ed612a80"
      },
      "execution_count": 31,
      "outputs": [
        {
          "output_type": "execute_result",
          "data": {
            "text/plain": [
              "'Do says woof!'"
            ],
            "application/vnd.google.colaboratory.intrinsic+json": {
              "type": "string"
            }
          },
          "metadata": {},
          "execution_count": 31
        }
      ]
    },
    {
      "cell_type": "code",
      "source": [
        "# Speacial methods in OOPS \n",
        "\n",
        "class Class():\n",
        "  def __init__(self,author,book,pages):\n",
        "    self.author = author\n",
        "    self.book = book\n",
        "    self.pages = pages\n",
        "  \n",
        "  def __str__(self):\n",
        "    return f\"{self.book} is written by {self.author}\"\n",
        "  \n",
        "  def __len__(self):\n",
        "    return self.pages\n",
        "  \n"
      ],
      "metadata": {
        "id": "-mZYWBGqUX70"
      },
      "execution_count": 45,
      "outputs": []
    },
    {
      "cell_type": "code",
      "source": [
        "obj = Class('Shantayya','Power of Thoughts',200)"
      ],
      "metadata": {
        "id": "3NB42GJfWO4m"
      },
      "execution_count": 47,
      "outputs": []
    },
    {
      "cell_type": "code",
      "source": [
        "print(obj)"
      ],
      "metadata": {
        "colab": {
          "base_uri": "https://localhost:8080/"
        },
        "id": "77NWen-DWWKJ",
        "outputId": "c02ede32-90c3-4994-ef13-088a68ca8aa0"
      },
      "execution_count": 34,
      "outputs": [
        {
          "output_type": "stream",
          "name": "stdout",
          "text": [
            "Power of Thoughts is written by Shantayya\n"
          ]
        }
      ]
    },
    {
      "cell_type": "code",
      "source": [
        "len(obj)"
      ],
      "metadata": {
        "colab": {
          "base_uri": "https://localhost:8080/"
        },
        "id": "cEa_2HzVWaIn",
        "outputId": "f16312b6-13e6-41bd-e723-546fcbdc0a65"
      },
      "execution_count": 48,
      "outputs": [
        {
          "output_type": "execute_result",
          "data": {
            "text/plain": [
              "200"
            ]
          },
          "metadata": {},
          "execution_count": 48
        }
      ]
    },
    {
      "cell_type": "code",
      "source": [
        "class Line():\n",
        "  def __init__(self,coor1,coor2):\n",
        "    self.coor1 = coor1\n",
        "    self.coor2 = coor2\n",
        "  \n",
        "  def distance(self):\n",
        "   x1,y1 = self.coor1\n",
        "   x2,y2 = self.coor2\n",
        "   return ((x2-x1)**2 + (y2-y1)**2)**0.5\n",
        "\n",
        "  def slope(self):\n",
        "   x1,y1 = self.coor1\n",
        "   x2,y2 = self.coor2\n",
        "   return (y2-y1) / (x2-x1)\n"
      ],
      "metadata": {
        "id": "TSA8dmiPWcqQ"
      },
      "execution_count": 55,
      "outputs": []
    },
    {
      "cell_type": "code",
      "source": [
        "c1 = (10,20)\n",
        "c2 = (5,10)"
      ],
      "metadata": {
        "id": "ES4TYYFfZyhy"
      },
      "execution_count": 51,
      "outputs": []
    },
    {
      "cell_type": "code",
      "source": [
        "line = Line(c1,c2)"
      ],
      "metadata": {
        "id": "au7L4HeKZ3nK"
      },
      "execution_count": 57,
      "outputs": []
    },
    {
      "cell_type": "code",
      "source": [
        "line.distance()"
      ],
      "metadata": {
        "colab": {
          "base_uri": "https://localhost:8080/"
        },
        "id": "CFKIr-cZZ8Cv",
        "outputId": "52056378-735e-4bae-d2f6-d6bcc5523731"
      },
      "execution_count": 53,
      "outputs": [
        {
          "output_type": "execute_result",
          "data": {
            "text/plain": [
              "11.180339887498949"
            ]
          },
          "metadata": {},
          "execution_count": 53
        }
      ]
    },
    {
      "cell_type": "code",
      "source": [
        "line.slope()"
      ],
      "metadata": {
        "colab": {
          "base_uri": "https://localhost:8080/"
        },
        "id": "lZaipg4cZ-x7",
        "outputId": "120132d7-af69-490a-e8d2-62fac7b1a334"
      },
      "execution_count": 58,
      "outputs": [
        {
          "output_type": "execute_result",
          "data": {
            "text/plain": [
              "2.0"
            ]
          },
          "metadata": {},
          "execution_count": 58
        }
      ]
    },
    {
      "cell_type": "code",
      "source": [
        "class Cylinder():\n",
        "  def __init__(self,height,radius):\n",
        "    self.height = height\n",
        "    self.radius = radius\n",
        "  \n",
        "  def volume(self):\n",
        "    return self.height * 3.14 * self.radius**2\n",
        "  \n",
        "  def surface_aread(self):\n",
        "    return (2 * 3.14 * (self.radius)**2) + (2 * self.height * 3.14 * self.radius)"
      ],
      "metadata": {
        "id": "YxalWSc-aBjP"
      },
      "execution_count": 64,
      "outputs": []
    },
    {
      "cell_type": "code",
      "source": [
        "cyl = Cylinder(2,3)"
      ],
      "metadata": {
        "id": "Zo28BDDyb5aq"
      },
      "execution_count": 65,
      "outputs": []
    },
    {
      "cell_type": "code",
      "source": [
        "cyl.volume()"
      ],
      "metadata": {
        "colab": {
          "base_uri": "https://localhost:8080/"
        },
        "id": "Ie-YwzdNcARD",
        "outputId": "57a94724-5cd9-4ee7-dfa1-aeccb13b020b"
      },
      "execution_count": 66,
      "outputs": [
        {
          "output_type": "execute_result",
          "data": {
            "text/plain": [
              "56.52"
            ]
          },
          "metadata": {},
          "execution_count": 66
        }
      ]
    },
    {
      "cell_type": "code",
      "source": [
        "cyl.surface_aread()"
      ],
      "metadata": {
        "colab": {
          "base_uri": "https://localhost:8080/"
        },
        "id": "eksCSjJscC16",
        "outputId": "01c0e37c-9c3c-4d33-bcdb-5e0cc5210f8b"
      },
      "execution_count": 67,
      "outputs": [
        {
          "output_type": "execute_result",
          "data": {
            "text/plain": [
              "94.2"
            ]
          },
          "metadata": {},
          "execution_count": 67
        }
      ]
    },
    {
      "cell_type": "code",
      "source": [
        ""
      ],
      "metadata": {
        "id": "uj8uw4JQcFSc"
      },
      "execution_count": null,
      "outputs": []
    }
  ]
}