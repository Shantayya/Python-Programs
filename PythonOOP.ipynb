{
  "nbformat": 4,
  "nbformat_minor": 0,
  "metadata": {
    "colab": {
      "name": "PythonOOP.ipynb",
      "provenance": [],
      "collapsed_sections": [],
      "authorship_tag": "ABX9TyPzhGnayhKCrCbjaQkTHRn4",
      "include_colab_link": true
    },
    "kernelspec": {
      "name": "python3",
      "display_name": "Python 3"
    },
    "language_info": {
      "name": "python"
    }
  },
  "cells": [
    {
      "cell_type": "markdown",
      "metadata": {
        "id": "view-in-github",
        "colab_type": "text"
      },
      "source": [
        "<a href=\"https://colab.research.google.com/github/shantayya/Python-Projects/blob/main/PythonOOP.ipynb\" target=\"_parent\"><img src=\"https://colab.research.google.com/assets/colab-badge.svg\" alt=\"Open In Colab\"/></a>"
      ]
    },
    {
      "cell_type": "code",
      "execution_count": null,
      "metadata": {
        "id": "mCBBLN8kWKm8"
      },
      "outputs": [],
      "source": [
        "class Circle():\n",
        "  pi = 3.14\n",
        "\n",
        "  def __init__(self,rad=1):\n",
        "    self.rad = rad\n",
        "\n",
        "  \n",
        "  def get_circumference(self):\n",
        "    return 2 * Circle.pi * self.rad"
      ]
    },
    {
      "cell_type": "code",
      "source": [
        "my_circle = Circle(20)"
      ],
      "metadata": {
        "id": "jgEhekPysKYg"
      },
      "execution_count": null,
      "outputs": []
    },
    {
      "cell_type": "code",
      "source": [
        "my_circle.get_circumference()"
      ],
      "metadata": {
        "colab": {
          "base_uri": "https://localhost:8080/"
        },
        "id": "RBYxm2qIsUe9",
        "outputId": "7e0a2c98-bb63-4723-bfc9-e366bae94d28"
      },
      "execution_count": null,
      "outputs": [
        {
          "output_type": "execute_result",
          "data": {
            "text/plain": [
              "125.60000000000001"
            ]
          },
          "metadata": {},
          "execution_count": 57
        }
      ]
    },
    {
      "cell_type": "code",
      "source": [
        "# Inheritance\n",
        "\n",
        "class Animal():\n",
        "  def __init__(self):\n",
        "    print(\"Welcome to Animal Kingdom\")\n",
        "  \n",
        "  def who_am_i(self):\n",
        "    print(\"I am an Animal\")\n",
        "\n",
        "  def what_i_do():\n",
        "    print(\"I am eating\")\n",
        "\n",
        "class Dog(Animal):\n",
        "  def __init__(self):\n",
        "    Animal.__init__(self)\n",
        "    print(\"This is Dog world\")\n",
        "\n",
        "  def who_am_i(self):\n",
        "    print(\"I am Dog\")\n"
      ],
      "metadata": {
        "id": "Z7fX7lZVsXmG"
      },
      "execution_count": null,
      "outputs": []
    },
    {
      "cell_type": "code",
      "source": [
        "dog = Dog()"
      ],
      "metadata": {
        "colab": {
          "base_uri": "https://localhost:8080/"
        },
        "id": "WU2KfWoWyJII",
        "outputId": "e22e5f97-ee0d-4dc7-f567-b02fcf260656"
      },
      "execution_count": null,
      "outputs": [
        {
          "output_type": "stream",
          "name": "stdout",
          "text": [
            "Welcome to Animal Kingdom\n",
            "This is Dog world\n"
          ]
        }
      ]
    },
    {
      "cell_type": "code",
      "source": [
        "dog.who_am_i()"
      ],
      "metadata": {
        "colab": {
          "base_uri": "https://localhost:8080/"
        },
        "id": "6hrhAu8ayOvd",
        "outputId": "d63b9a92-c3e4-46c0-db61-40355b14c318"
      },
      "execution_count": null,
      "outputs": [
        {
          "output_type": "stream",
          "name": "stdout",
          "text": [
            "I am Dog\n"
          ]
        }
      ]
    },
    {
      "cell_type": "code",
      "source": [
        "# Polymorphism\n",
        "\n",
        "class Dog():\n",
        "  def __init__(self,name):\n",
        "    self.name = name\n",
        "  \n",
        "  def speak(self):\n",
        "    return self.name +\" Says woof!\"\n",
        "  \n",
        "class Cat():\n",
        "  def __init__(self,name):\n",
        "    self.name = name\n",
        "  \n",
        "  def speak(self):\n",
        "    return self.name +\" says Muew\"\n"
      ],
      "metadata": {
        "id": "j7Gtpy6Eydsd"
      },
      "execution_count": 18,
      "outputs": []
    },
    {
      "cell_type": "code",
      "source": [
        "Mahesh = Dog('Mahesh')\n",
        "Sam = Cat('Sam')"
      ],
      "metadata": {
        "id": "HM-OM4kiRmSN"
      },
      "execution_count": 7,
      "outputs": []
    },
    {
      "cell_type": "code",
      "source": [
        "Mahesh.speak()"
      ],
      "metadata": {
        "colab": {
          "base_uri": "https://localhost:8080/",
          "height": 35
        },
        "id": "A3AGrAQ1RvOJ",
        "outputId": "6f887e0e-753a-4fac-c0d3-4952fb79077e"
      },
      "execution_count": 9,
      "outputs": [
        {
          "output_type": "execute_result",
          "data": {
            "text/plain": [
              "'MaheshSays woof!'"
            ],
            "application/vnd.google.colaboratory.intrinsic+json": {
              "type": "string"
            }
          },
          "metadata": {},
          "execution_count": 9
        }
      ]
    },
    {
      "cell_type": "code",
      "source": [
        "Sam.speak()"
      ],
      "metadata": {
        "colab": {
          "base_uri": "https://localhost:8080/",
          "height": 35
        },
        "id": "Ijk8SkGpR62S",
        "outputId": "6ba299c3-6d4a-4d87-f97c-562822745b18"
      },
      "execution_count": 10,
      "outputs": [
        {
          "output_type": "execute_result",
          "data": {
            "text/plain": [
              "'Samsays Muew'"
            ],
            "application/vnd.google.colaboratory.intrinsic+json": {
              "type": "string"
            }
          },
          "metadata": {},
          "execution_count": 10
        }
      ]
    },
    {
      "cell_type": "code",
      "source": [
        "for pet in (Mahesh,Sam):\n",
        "  print(pet.speak())"
      ],
      "metadata": {
        "colab": {
          "base_uri": "https://localhost:8080/"
        },
        "id": "P_8d8fO_SMII",
        "outputId": "3be88bd2-29b8-4e29-dac9-ac59c5d3214a"
      },
      "execution_count": 17,
      "outputs": [
        {
          "output_type": "stream",
          "name": "stdout",
          "text": [
            "MaheshSays woof!\n",
            "Samsays Muew\n"
          ]
        }
      ]
    },
    {
      "cell_type": "code",
      "source": [
        "# Abstract Class\n",
        "class Animal():\n",
        "  def __init__(self,name):\n",
        "    self.name = name\n",
        "  \n",
        "  def speak():\n",
        "    return NotImplementedError(\"This is an abstract class, cannot be instantiated\")\n",
        "  \n",
        "class Dog(Animal):\n",
        "  def __init__(self,name):\n",
        "    self.name = name\n",
        "  \n",
        "  def speak(self):\n",
        "    return self.name +\" says woof!\"\n",
        "\n",
        "class Cat(Animal):\n",
        "  def __init__(self,name):\n",
        "    self.name = name\n",
        "  \n",
        "  def speak(self):\n",
        "    return self.name +\" says meuw\""
      ],
      "metadata": {
        "id": "J6Iz_gxXSVsK"
      },
      "execution_count": 19,
      "outputs": []
    },
    {
      "cell_type": "code",
      "source": [
        "dog = Dog('Do')"
      ],
      "metadata": {
        "id": "8ByxfHOITxgS"
      },
      "execution_count": 20,
      "outputs": []
    },
    {
      "cell_type": "code",
      "source": [
        "cat = Cat('ca')"
      ],
      "metadata": {
        "id": "69K3yY4aUAMu"
      },
      "execution_count": 29,
      "outputs": []
    },
    {
      "cell_type": "code",
      "source": [
        "cat.speak()\n",
        "dog.speak()"
      ],
      "metadata": {
        "colab": {
          "base_uri": "https://localhost:8080/",
          "height": 35
        },
        "id": "jt8dZhDzUDJG",
        "outputId": "8d3ef17a-eb1a-410a-af24-c7c2ed612a80"
      },
      "execution_count": 31,
      "outputs": [
        {
          "output_type": "execute_result",
          "data": {
            "text/plain": [
              "'Do says woof!'"
            ],
            "application/vnd.google.colaboratory.intrinsic+json": {
              "type": "string"
            }
          },
          "metadata": {},
          "execution_count": 31
        }
      ]
    },
    {
      "cell_type": "code",
      "source": [
        "# Speacial methods in OOPS \n",
        "\n",
        "class Class():\n",
        "  def __init__(self,author,book,pages):\n",
        "    self.author = author\n",
        "    self.book = book\n",
        "    self.pages = pages\n",
        "  \n",
        "  def __str__(self):\n",
        "    return f\"{self.book} is written by {self.author}\"\n",
        "  \n",
        "  def __len__(self):\n",
        "    return self.pages\n",
        "  \n"
      ],
      "metadata": {
        "id": "-mZYWBGqUX70"
      },
      "execution_count": 45,
      "outputs": []
    },
    {
      "cell_type": "code",
      "source": [
        "obj = Class('Shantayya','Power of Thoughts',200)"
      ],
      "metadata": {
        "id": "3NB42GJfWO4m"
      },
      "execution_count": 47,
      "outputs": []
    },
    {
      "cell_type": "code",
      "source": [
        "print(obj)"
      ],
      "metadata": {
        "colab": {
          "base_uri": "https://localhost:8080/"
        },
        "id": "77NWen-DWWKJ",
        "outputId": "c02ede32-90c3-4994-ef13-088a68ca8aa0"
      },
      "execution_count": 34,
      "outputs": [
        {
          "output_type": "stream",
          "name": "stdout",
          "text": [
            "Power of Thoughts is written by Shantayya\n"
          ]
        }
      ]
    },
    {
      "cell_type": "code",
      "source": [
        "len(obj)"
      ],
      "metadata": {
        "colab": {
          "base_uri": "https://localhost:8080/"
        },
        "id": "cEa_2HzVWaIn",
        "outputId": "f16312b6-13e6-41bd-e723-546fcbdc0a65"
      },
      "execution_count": 48,
      "outputs": [
        {
          "output_type": "execute_result",
          "data": {
            "text/plain": [
              "200"
            ]
          },
          "metadata": {},
          "execution_count": 48
        }
      ]
    },
    {
      "cell_type": "code",
      "source": [
        "class Line():\n",
        "  def __init__(self,coor1,coor2):\n",
        "    self.coor1 = coor1\n",
        "    self.coor2 = coor2\n",
        "  \n",
        "  def distance(self):\n",
        "   x1,y1 = self.coor1\n",
        "   x2,y2 = self.coor2\n",
        "   return ((x2-x1)**2 + (y2-y1)**2)**0.5\n",
        "\n",
        "  def slope(self):\n",
        "   x1,y1 = self.coor1\n",
        "   x2,y2 = self.coor2\n",
        "   return (y2-y1) / (x2-x1)\n"
      ],
      "metadata": {
        "id": "TSA8dmiPWcqQ"
      },
      "execution_count": 55,
      "outputs": []
    },
    {
      "cell_type": "code",
      "source": [
        "c1 = (10,20)\n",
        "c2 = (5,10)"
      ],
      "metadata": {
        "id": "ES4TYYFfZyhy"
      },
      "execution_count": 51,
      "outputs": []
    },
    {
      "cell_type": "code",
      "source": [
        "line = Line(c1,c2)"
      ],
      "metadata": {
        "id": "au7L4HeKZ3nK"
      },
      "execution_count": 57,
      "outputs": []
    },
    {
      "cell_type": "code",
      "source": [
        "line.distance()"
      ],
      "metadata": {
        "colab": {
          "base_uri": "https://localhost:8080/"
        },
        "id": "CFKIr-cZZ8Cv",
        "outputId": "52056378-735e-4bae-d2f6-d6bcc5523731"
      },
      "execution_count": 53,
      "outputs": [
        {
          "output_type": "execute_result",
          "data": {
            "text/plain": [
              "11.180339887498949"
            ]
          },
          "metadata": {},
          "execution_count": 53
        }
      ]
    },
    {
      "cell_type": "code",
      "source": [
        "line.slope()"
      ],
      "metadata": {
        "colab": {
          "base_uri": "https://localhost:8080/"
        },
        "id": "lZaipg4cZ-x7",
        "outputId": "120132d7-af69-490a-e8d2-62fac7b1a334"
      },
      "execution_count": 58,
      "outputs": [
        {
          "output_type": "execute_result",
          "data": {
            "text/plain": [
              "2.0"
            ]
          },
          "metadata": {},
          "execution_count": 58
        }
      ]
    },
    {
      "cell_type": "code",
      "source": [
        "class Cylinder():\n",
        "  def __init__(self,height,radius):\n",
        "    self.height = height\n",
        "    self.radius = radius\n",
        "  \n",
        "  def volume(self):\n",
        "    return self.height * 3.14 * self.radius**2\n",
        "  \n",
        "  def surface_aread(self):\n",
        "    return (2 * 3.14 * (self.radius)**2) + (2 * self.height * 3.14 * self.radius)"
      ],
      "metadata": {
        "id": "YxalWSc-aBjP"
      },
      "execution_count": 64,
      "outputs": []
    },
    {
      "cell_type": "code",
      "source": [
        "cyl = Cylinder(2,3)"
      ],
      "metadata": {
        "id": "Zo28BDDyb5aq"
      },
      "execution_count": 65,
      "outputs": []
    },
    {
      "cell_type": "code",
      "source": [
        "cyl.volume()"
      ],
      "metadata": {
        "colab": {
          "base_uri": "https://localhost:8080/"
        },
        "id": "Ie-YwzdNcARD",
        "outputId": "57a94724-5cd9-4ee7-dfa1-aeccb13b020b"
      },
      "execution_count": 66,
      "outputs": [
        {
          "output_type": "execute_result",
          "data": {
            "text/plain": [
              "56.52"
            ]
          },
          "metadata": {},
          "execution_count": 66
        }
      ]
    },
    {
      "cell_type": "code",
      "source": [
        "cyl.surface_aread()"
      ],
      "metadata": {
        "colab": {
          "base_uri": "https://localhost:8080/"
        },
        "id": "eksCSjJscC16",
        "outputId": "01c0e37c-9c3c-4d33-bcdb-5e0cc5210f8b"
      },
      "execution_count": 67,
      "outputs": [
        {
          "output_type": "execute_result",
          "data": {
            "text/plain": [
              "94.2"
            ]
          },
          "metadata": {},
          "execution_count": 67
        }
      ]
    },
    {
      "cell_type": "code",
      "source": [
        "# Exception Handling \n",
        "\n",
        "try:\n",
        "   result = 10 + '10'\n",
        "   print(f'{result}')\n",
        "except:\n",
        "   print('Seems there is an error')\n",
        "finally:\n",
        "  print('I always run')\n"
      ],
      "metadata": {
        "colab": {
          "base_uri": "https://localhost:8080/"
        },
        "id": "uj8uw4JQcFSc",
        "outputId": "f1665fe3-3cc1-40bb-9865-44d86a4a5779"
      },
      "execution_count": 68,
      "outputs": [
        {
          "output_type": "stream",
          "name": "stdout",
          "text": [
            "Seems there is an error\n",
            "I always run\n"
          ]
        }
      ]
    },
    {
      "cell_type": "code",
      "source": [
        "def accept_int_only():\n",
        "  while True:\n",
        "    try:\n",
        "      int(input(\"Please enter a number:\"))\n",
        "    except:\n",
        "      print(\"Opps..! You have not entered number\")\n",
        "      continue\n",
        "    else:\n",
        "      break\n",
        "    finally:\n",
        "      print(\"I always run\")\n",
        "    "
      ],
      "metadata": {
        "id": "MUgiAAwtqLNL"
      },
      "execution_count": 74,
      "outputs": []
    },
    {
      "cell_type": "code",
      "source": [
        "accept_int_only()"
      ],
      "metadata": {
        "colab": {
          "base_uri": "https://localhost:8080/"
        },
        "id": "SPmcA7WPqt4g",
        "outputId": "ab8cf2a5-211e-46ab-d369-4b17f9fa1b54"
      },
      "execution_count": 75,
      "outputs": [
        {
          "output_type": "stream",
          "name": "stdout",
          "text": [
            "Please enter a number:ws\n",
            "Opps..! You have not entered number\n",
            "I always run\n",
            "Please enter a number:12\n",
            "I always run\n"
          ]
        }
      ]
    },
    {
      "cell_type": "code",
      "source": [
        "def sqr():\n",
        "  while True:\n",
        "    try:\n",
        "      num = int(input('Please enter a number:'))\n",
        "      sqr = num**2\n",
        "      print(f'{sqr} is square of {num}')\n",
        "    except:\n",
        "      print(\"Opps..! You have not entered a number.\")\n",
        "      continue\n",
        "    else:\n",
        "      break\n",
        "   \n"
      ],
      "metadata": {
        "id": "UjN_qtNiqweo"
      },
      "execution_count": 81,
      "outputs": []
    },
    {
      "cell_type": "code",
      "source": [
        "  import random\n",
        "\n",
        "  suits = ('Hearts','Diamonds','Spades','clubs')\n",
        "  ranks = ('Two','Three','Four','Five','Six','Seven','Eight','Nine','Ten','Jack','Queen','King','Ace')\n",
        "  values = {'Two':2,'Three':3,'Four':4,'Five':5,'Six':6,'Seven':7,'Eight':8,'Nine':9,'Ten':10,'Jack':11,'Queen':12,'King':13,'Ace':14}\n",
        " "
      ],
      "metadata": {
        "id": "a-1k1zFbtQjL"
      },
      "execution_count": 255,
      "outputs": []
    },
    {
      "cell_type": "code",
      "source": [
        "  class Card():\n",
        "     def __init__(self,suit,rank):\n",
        "          self.rank = rank\n",
        "          self.suit = suit\n",
        "          self.value = values[rank]\n",
        "  \n",
        "     def __str__(self):\n",
        "      return self.rank +\" of \"+ self.suit\n"
      ],
      "metadata": {
        "id": "9hasJNHnxkiN"
      },
      "execution_count": 257,
      "outputs": []
    },
    {
      "cell_type": "code",
      "source": [
        "card = Card('Hearts','Two')\n",
        "print(card)"
      ],
      "metadata": {
        "colab": {
          "base_uri": "https://localhost:8080/"
        },
        "id": "I03t4EiUyAK-",
        "outputId": "fc2ca797-f546-448c-8fc6-461700e7d3a5"
      },
      "execution_count": 262,
      "outputs": [
        {
          "output_type": "stream",
          "name": "stdout",
          "text": [
            "Two of Hearts\n"
          ]
        }
      ]
    },
    {
      "cell_type": "code",
      "source": [
        "class Deck():\n",
        "  \n",
        "  def __init__(self):\n",
        "    self.deck = []\n",
        "    for suit in suits:\n",
        "      for rank in ranks:\n",
        "        self.deck.append(Card(suit,rank))\n",
        "  \n",
        "  def shuffle(self):\n",
        "    random.shuffle(self.deck)\n",
        "  \n",
        "  def one_card(self):\n",
        "    return self.deck.pop()\n",
        "\n",
        "  def __str__(self):\n",
        "    list = ''\n",
        "    for card in self.deck:\n",
        "        list +='\\n' +card.__str__()\n",
        "    return 'The deck has:' +list\n",
        "  \n",
        "\n",
        "  \n",
        "  "
      ],
      "metadata": {
        "id": "N8WGKbDZ5EUw"
      },
      "execution_count": 263,
      "outputs": []
    },
    {
      "cell_type": "code",
      "source": [
        "dk = Deck()"
      ],
      "metadata": {
        "id": "dPcgXW6xFJbZ"
      },
      "execution_count": 271,
      "outputs": []
    },
    {
      "cell_type": "code",
      "source": [
        "dk.shuffle()"
      ],
      "metadata": {
        "id": "9xnqY20xFrmy"
      },
      "execution_count": 272,
      "outputs": []
    },
    {
      "cell_type": "code",
      "source": [
        "print(dk)"
      ],
      "metadata": {
        "colab": {
          "base_uri": "https://localhost:8080/"
        },
        "id": "oM2aeYUmFuOx",
        "outputId": "fe09610f-bd2b-4c2c-c2d1-eabdae681e2d"
      },
      "execution_count": 273,
      "outputs": [
        {
          "output_type": "stream",
          "name": "stdout",
          "text": [
            "The deck has:\n",
            "Six of Spades\n",
            "Ten of Hearts\n",
            "Jack of clubs\n",
            "Seven of clubs\n",
            "Ace of Hearts\n",
            "Queen of clubs\n",
            "King of Diamonds\n",
            "Eight of Hearts\n",
            "Three of Spades\n",
            "Nine of Diamonds\n",
            "Queen of Diamonds\n",
            "Three of Hearts\n",
            "Nine of Hearts\n",
            "Seven of Spades\n",
            "Nine of clubs\n",
            "Queen of Spades\n",
            "Queen of Hearts\n",
            "Six of Hearts\n",
            "Seven of Diamonds\n",
            "Two of Hearts\n",
            "Jack of Hearts\n",
            "Four of clubs\n",
            "Three of Diamonds\n",
            "Six of clubs\n",
            "Ace of Diamonds\n",
            "Nine of Spades\n",
            "Eight of Spades\n",
            "Jack of Spades\n",
            "Seven of Hearts\n",
            "Four of Hearts\n",
            "Ten of Spades\n",
            "Three of clubs\n",
            "Ten of clubs\n",
            "Six of Diamonds\n",
            "Ace of clubs\n",
            "Five of Spades\n",
            "Eight of Diamonds\n",
            "King of clubs\n",
            "Ace of Spades\n",
            "Eight of clubs\n",
            "King of Hearts\n",
            "Two of Diamonds\n",
            "Four of Diamonds\n",
            "Two of clubs\n",
            "Two of Spades\n",
            "Five of Hearts\n",
            "Ten of Diamonds\n",
            "Jack of Diamonds\n",
            "Five of clubs\n",
            "Four of Spades\n",
            "Five of Diamonds\n",
            "King of Spades\n"
          ]
        }
      ]
    },
    {
      "cell_type": "code",
      "source": [
        "len(dk.deck)"
      ],
      "metadata": {
        "colab": {
          "base_uri": "https://localhost:8080/"
        },
        "id": "mvC3QmncNIPc",
        "outputId": "eb0fe9e3-7dc7-48b1-d70f-3d5092835c05"
      },
      "execution_count": 274,
      "outputs": [
        {
          "output_type": "execute_result",
          "data": {
            "text/plain": [
              "52"
            ]
          },
          "metadata": {},
          "execution_count": 274
        }
      ]
    },
    {
      "cell_type": "code",
      "source": [
        "class player():\n",
        "\n",
        "  def __init__(self,name):\n",
        "    self.name = name\n",
        "    self.deck = []\n",
        "\n",
        "  def remove(self):\n",
        "    return self.deck.pop(0)\n",
        "\n",
        "  def addcard(self,newcard):\n",
        "    if type(newcard) == type([]):\n",
        "      self.deck.extend(newcard)\n",
        "    else:\n",
        "      self.deck.append(newcard)\n",
        "\n",
        "  def __str__(self):\n",
        "    return f'{self.name} has {len(self.deck)} cards'\n",
        "  \n",
        "  "
      ],
      "metadata": {
        "id": "sTx5ZGzONNBE"
      },
      "execution_count": 275,
      "outputs": []
    },
    {
      "cell_type": "code",
      "source": [
        "# game setup\n",
        "player_one = player(\"one\")\n",
        "player_two = player(\"two\")\n",
        "\n",
        "dk = Deck()\n",
        "dk.shuffle()\n",
        "\n",
        "for x in range(26):\n",
        "    player_one.addcard(dk.one_card())\n",
        "    player_two.addcard(dk.one_card())"
      ],
      "metadata": {
        "id": "DkSbFyT0Vu94"
      },
      "execution_count": 287,
      "outputs": []
    },
    {
      "cell_type": "code",
      "source": [
        "round = 0\n",
        "game_on = True\n",
        "\n",
        "while game_on:\n",
        "  round += 1\n",
        "  print(f\"Round {round}\")\n",
        "\n",
        "  if len(player_one.deck) == 0:\n",
        "    print(\"Player_one loose the game\")\n",
        "    game_on = False\n",
        "    break\n",
        "  \n",
        "  if len(player_two.deck) == 0:\n",
        "    print(\"Player_two loose the game\")\n",
        "    game_on = False\n",
        "    break\n",
        "\n",
        "  # play new game\n",
        "\n",
        "  player_one_cards = []\n",
        "  player_one_cards.append(player_one.remove())\n",
        "\n",
        "  player_two_cards = []\n",
        "  player_two_cards.append(player_two.remove())\n",
        "\n",
        "\n",
        "  at_war = True\n",
        "  while at_war:\n",
        "    \n",
        "    if player_one_cards[-1].value > player_two_cards[-1].value:\n",
        "      player_one.addcard(player_one_cards)\n",
        "      player_one.addcard(player_two_cards)\n",
        "      at_war = False\n",
        "\n",
        "    elif player_one_cards[-1].value < player_two_cards[-1].value:\n",
        "      player_two.addcard(player_one_cards)\n",
        "      player_two.addcard(player_two_cards)\n",
        "      at_war = False\n",
        "\n",
        "    else:\n",
        "      print(\"WAR!\")\n",
        "      if len(player_one.deck) < 3:\n",
        "        print('Player_two won the game')\n",
        "        game_on = False\n",
        "        at_war = False\n",
        "        break\n",
        "      elif len(player_two.deck) < 3:\n",
        "        print('Player_one won the game')\n",
        "        game_one = False\n",
        "        at_war = False\n",
        "        break\n",
        "      else:\n",
        "        for num in range(3):\n",
        "          player_one_cards.append(player_one.remove())\n",
        "          player_two_cards.append(player_two.remove())\n",
        "    \n",
        "  \n"
      ],
      "metadata": {
        "colab": {
          "base_uri": "https://localhost:8080/"
        },
        "id": "8ALXeeRg3ruH",
        "outputId": "43939d09-04cc-49eb-9a7a-2b5e5ee7a9fa"
      },
      "execution_count": 288,
      "outputs": [
        {
          "output_type": "stream",
          "name": "stdout",
          "text": [
            "Round 1\n",
            "Round 2\n",
            "Round 3\n",
            "Round 4\n",
            "Round 5\n",
            "Round 6\n",
            "Round 7\n",
            "Round 8\n",
            "Round 9\n",
            "Round 10\n",
            "Round 11\n",
            "Round 12\n",
            "Round 13\n",
            "Round 14\n",
            "Round 15\n",
            "Round 16\n",
            "Round 17\n",
            "Round 18\n",
            "Round 19\n",
            "Round 20\n",
            "Round 21\n",
            "Round 22\n",
            "Round 23\n",
            "WAR!\n",
            "Round 24\n",
            "Round 25\n",
            "Round 26\n",
            "Round 27\n",
            "Round 28\n",
            "Round 29\n",
            "Round 30\n",
            "Round 31\n",
            "Round 32\n",
            "Round 33\n",
            "Round 34\n",
            "Round 35\n",
            "Round 36\n",
            "Round 37\n",
            "Round 38\n",
            "Round 39\n",
            "Round 40\n",
            "Round 41\n",
            "Round 42\n",
            "Round 43\n",
            "Round 44\n",
            "Round 45\n",
            "Round 46\n",
            "WAR!\n",
            "Round 47\n",
            "Round 48\n",
            "Round 49\n",
            "Round 50\n",
            "Round 51\n",
            "Round 52\n",
            "Round 53\n",
            "Round 54\n",
            "Round 55\n",
            "Round 56\n",
            "Round 57\n",
            "Round 58\n",
            "Round 59\n",
            "Round 60\n",
            "Round 61\n",
            "Round 62\n",
            "Round 63\n",
            "Round 64\n",
            "Round 65\n",
            "Round 66\n",
            "Round 67\n",
            "Round 68\n",
            "Round 69\n",
            "WAR!\n",
            "Round 70\n",
            "Round 71\n",
            "Round 72\n",
            "Round 73\n",
            "Round 74\n",
            "Round 75\n",
            "Round 76\n",
            "Round 77\n",
            "Round 78\n",
            "Round 79\n",
            "Round 80\n",
            "Round 81\n",
            "Round 82\n",
            "Round 83\n",
            "Round 84\n",
            "Round 85\n",
            "Round 86\n",
            "Round 87\n",
            "Round 88\n",
            "Round 89\n",
            "Round 90\n",
            "Round 91\n",
            "Round 92\n",
            "Round 93\n",
            "Round 94\n",
            "Round 95\n",
            "Round 96\n",
            "Round 97\n",
            "Round 98\n",
            "Round 99\n",
            "Round 100\n",
            "Round 101\n",
            "Round 102\n",
            "Round 103\n",
            "Round 104\n",
            "Round 105\n",
            "Round 106\n",
            "Round 107\n",
            "Round 108\n",
            "Round 109\n",
            "Round 110\n",
            "Round 111\n",
            "Round 112\n",
            "Round 113\n",
            "Round 114\n",
            "Round 115\n",
            "Round 116\n",
            "Round 117\n",
            "Round 118\n",
            "Round 119\n",
            "Round 120\n",
            "Round 121\n",
            "Round 122\n",
            "Round 123\n",
            "Round 124\n",
            "Round 125\n",
            "Round 126\n",
            "Round 127\n",
            "Round 128\n",
            "Round 129\n",
            "Round 130\n",
            "Round 131\n",
            "Round 132\n",
            "Round 133\n",
            "Round 134\n",
            "Round 135\n",
            "Round 136\n",
            "Round 137\n",
            "WAR!\n",
            "Round 138\n",
            "Round 139\n",
            "WAR!\n",
            "Round 140\n",
            "Round 141\n",
            "Round 142\n",
            "Round 143\n",
            "Round 144\n",
            "Round 145\n",
            "WAR!\n",
            "WAR!\n",
            "Round 146\n",
            "Round 147\n",
            "Round 148\n",
            "WAR!\n",
            "Round 149\n",
            "Round 150\n",
            "Round 151\n",
            "Round 152\n",
            "Round 153\n",
            "Round 154\n",
            "Round 155\n",
            "Round 156\n",
            "Round 157\n",
            "Round 158\n",
            "Round 159\n",
            "Round 160\n",
            "Round 161\n",
            "Round 162\n",
            "Round 163\n",
            "Round 164\n",
            "Round 165\n",
            "Round 166\n",
            "Round 167\n",
            "Round 168\n",
            "Round 169\n",
            "Round 170\n",
            "Round 171\n",
            "Round 172\n",
            "Round 173\n",
            "Round 174\n",
            "Round 175\n",
            "Round 176\n",
            "Round 177\n",
            "Round 178\n",
            "Round 179\n",
            "Round 180\n",
            "Round 181\n",
            "Round 182\n",
            "Round 183\n",
            "Round 184\n",
            "Round 185\n",
            "WAR!\n",
            "Round 186\n",
            "Round 187\n",
            "Round 188\n",
            "Round 189\n",
            "Round 190\n",
            "Round 191\n",
            "Round 192\n",
            "Round 193\n",
            "Round 194\n",
            "Round 195\n",
            "Round 196\n",
            "Round 197\n",
            "Round 198\n",
            "Round 199\n",
            "Round 200\n",
            "Round 201\n",
            "Round 202\n",
            "Round 203\n",
            "Round 204\n",
            "Round 205\n",
            "Round 206\n",
            "Round 207\n",
            "Round 208\n",
            "Round 209\n",
            "Round 210\n",
            "Round 211\n",
            "Round 212\n",
            "Round 213\n",
            "Round 214\n",
            "Round 215\n",
            "Round 216\n",
            "Round 217\n",
            "Round 218\n",
            "Round 219\n",
            "Round 220\n",
            "Round 221\n",
            "Round 222\n",
            "Round 223\n",
            "Round 224\n",
            "Round 225\n",
            "Round 226\n",
            "Round 227\n",
            "Round 228\n",
            "Round 229\n",
            "Round 230\n",
            "Round 231\n",
            "Round 232\n",
            "Round 233\n",
            "Round 234\n",
            "WAR!\n",
            "Round 235\n",
            "Round 236\n",
            "Round 237\n",
            "Round 238\n",
            "Round 239\n",
            "Round 240\n",
            "Round 241\n",
            "Round 242\n",
            "Round 243\n",
            "Round 244\n",
            "Round 245\n",
            "Round 246\n",
            "Round 247\n",
            "Round 248\n",
            "Round 249\n",
            "Round 250\n",
            "Round 251\n",
            "Round 252\n",
            "Round 253\n",
            "Round 254\n",
            "Round 255\n",
            "Round 256\n",
            "Round 257\n",
            "Round 258\n",
            "Round 259\n",
            "Round 260\n",
            "Round 261\n",
            "Round 262\n",
            "Round 263\n",
            "Round 264\n",
            "Round 265\n",
            "Round 266\n",
            "Round 267\n",
            "Round 268\n",
            "Round 269\n",
            "Round 270\n",
            "Round 271\n",
            "Round 272\n",
            "Round 273\n",
            "Round 274\n",
            "Round 275\n",
            "Round 276\n",
            "Round 277\n",
            "Round 278\n",
            "Round 279\n",
            "WAR!\n",
            "Round 280\n",
            "Round 281\n",
            "Round 282\n",
            "Round 283\n",
            "Round 284\n",
            "Round 285\n",
            "WAR!\n",
            "Round 286\n",
            "Round 287\n",
            "Round 288\n",
            "Round 289\n",
            "Round 290\n",
            "Round 291\n",
            "Round 292\n",
            "Round 293\n",
            "Round 294\n",
            "Round 295\n",
            "Round 296\n",
            "Round 297\n",
            "Round 298\n",
            "Round 299\n",
            "Round 300\n",
            "Round 301\n",
            "Round 302\n",
            "Round 303\n",
            "Round 304\n",
            "Round 305\n",
            "Round 306\n",
            "Round 307\n",
            "Round 308\n",
            "Round 309\n",
            "WAR!\n",
            "Round 310\n",
            "WAR!\n",
            "Player_two won the game\n"
          ]
        }
      ]
    },
    {
      "cell_type": "code",
      "source": [
        ""
      ],
      "metadata": {
        "id": "0LwjQoGQD4uV"
      },
      "execution_count": null,
      "outputs": []
    }
  ]
}