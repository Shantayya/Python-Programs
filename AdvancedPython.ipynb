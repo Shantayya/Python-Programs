{
  "nbformat": 4,
  "nbformat_minor": 0,
  "metadata": {
    "colab": {
      "name": "AdvancedPython.ipynb",
      "provenance": [],
      "collapsed_sections": [],
      "authorship_tag": "ABX9TyNA3gEAetMAlV4Pp+RvAjL0",
      "include_colab_link": true
    },
    "kernelspec": {
      "name": "python3",
      "display_name": "Python 3"
    },
    "language_info": {
      "name": "python"
    }
  },
  "cells": [
    {
      "cell_type": "markdown",
      "metadata": {
        "id": "view-in-github",
        "colab_type": "text"
      },
      "source": [
        "<a href=\"https://colab.research.google.com/github/shantayya/Python-Projects/blob/main/AdvancedPython.ipynb\" target=\"_parent\"><img src=\"https://colab.research.google.com/assets/colab-badge.svg\" alt=\"Open In Colab\"/></a>"
      ]
    },
    {
      "cell_type": "code",
      "execution_count": 30,
      "metadata": {
        "id": "Ac5P4lLw0DZl"
      },
      "outputs": [],
      "source": [
        "# Decorators\n",
        "def Hello(name):\n",
        "  print(f\"Hello {name}\")\n",
        "\n",
        "  def greet():\n",
        "    print(\"\\t thanks for greeting\")\n",
        "\n",
        "  def welcome():\n",
        "    print(\"\\t Welcome\")\n",
        "\n",
        "  return greet()"
      ]
    },
    {
      "cell_type": "code",
      "source": [
        "Hello('Shantayya')"
      ],
      "metadata": {
        "colab": {
          "base_uri": "https://localhost:8080/"
        },
        "id": "q4dVGewE191H",
        "outputId": "f2738779-e170-41a1-f281-a49d9f926e4f"
      },
      "execution_count": 11,
      "outputs": [
        {
          "output_type": "stream",
          "name": "stdout",
          "text": [
            "Hello Shantayya\n",
            "\t thanks for greeting\n"
          ]
        }
      ]
    },
    {
      "cell_type": "code",
      "source": [
        "Hello"
      ],
      "metadata": {
        "colab": {
          "base_uri": "https://localhost:8080/"
        },
        "id": "hunwRt_61_zV",
        "outputId": "0abe3215-9aa7-4afb-be02-e86e7c02e379"
      },
      "execution_count": 13,
      "outputs": [
        {
          "output_type": "execute_result",
          "data": {
            "text/plain": [
              "<function __main__.Hello(name)>"
            ]
          },
          "metadata": {},
          "execution_count": 13
        }
      ]
    },
    {
      "cell_type": "code",
      "source": [
        "def new_decorator(original_func):\n",
        " # def wrap():\n",
        "    print(\"Code, Before original function\")\n",
        "    original_func()\n",
        "    print(\"Code, after original function\")\n",
        "    return new_decorator"
      ],
      "metadata": {
        "id": "dggdCNtk2GDd"
      },
      "execution_count": 20,
      "outputs": []
    },
    {
      "cell_type": "code",
      "source": [
        "@new_decorator\n",
        "def fun_needs_decorator():\n",
        "  print(\"I am adding exytra functionality as decorator\")"
      ],
      "metadata": {
        "colab": {
          "base_uri": "https://localhost:8080/"
        },
        "id": "hm3gsgih3xtB",
        "outputId": "67b9a9b3-2564-4cb1-a190-8be275f56c20"
      },
      "execution_count": 29,
      "outputs": [
        {
          "output_type": "stream",
          "name": "stdout",
          "text": [
            "Code, Before original function\n",
            "I am adding exytra functionality as decorator\n",
            "Code, after original function\n"
          ]
        }
      ]
    },
    {
      "cell_type": "code",
      "source": [
        "# Generators"
      ],
      "metadata": {
        "id": "EppVP_cK46Cr"
      },
      "execution_count": 31,
      "outputs": []
    },
    {
      "cell_type": "code",
      "source": [
        "def cube(n):\n",
        "  result = []\n",
        "  for i in range(n):\n",
        "    result.append(i**3)\n",
        "  return result"
      ],
      "metadata": {
        "id": "CHQQdmor6Bh7"
      },
      "execution_count": 41,
      "outputs": []
    },
    {
      "cell_type": "code",
      "source": [
        "list(cube(8))"
      ],
      "metadata": {
        "colab": {
          "base_uri": "https://localhost:8080/"
        },
        "id": "f0NO_Tpp7Q2S",
        "outputId": "316b848a-64e9-4e3f-c9b8-128ab526421a"
      },
      "execution_count": 43,
      "outputs": [
        {
          "output_type": "execute_result",
          "data": {
            "text/plain": [
              "[0, 1, 8, 27, 64, 125, 216, 343]"
            ]
          },
          "metadata": {},
          "execution_count": 43
        }
      ]
    },
    {
      "cell_type": "code",
      "source": [
        "def generate_cube(n):\n",
        "  for i in range(n):\n",
        "     yield i**3"
      ],
      "metadata": {
        "id": "RQjEzeiw7Sh-"
      },
      "execution_count": 46,
      "outputs": []
    },
    {
      "cell_type": "code",
      "source": [
        "for i in generate_cube(10):\n",
        "  print(i)"
      ],
      "metadata": {
        "colab": {
          "base_uri": "https://localhost:8080/"
        },
        "id": "p4sMP8cn7X6k",
        "outputId": "6b451e54-0f74-4e58-8863-d024e018b864"
      },
      "execution_count": 49,
      "outputs": [
        {
          "output_type": "stream",
          "name": "stdout",
          "text": [
            "0\n",
            "1\n",
            "8\n",
            "27\n",
            "64\n",
            "125\n",
            "216\n",
            "343\n",
            "512\n",
            "729\n"
          ]
        }
      ]
    },
    {
      "cell_type": "code",
      "source": [
        "def generate_fib(n):\n",
        "  a=1\n",
        "  b=1\n",
        "  for i in range(n):\n",
        "    yield a\n",
        "    a,b = b,a+b\n",
        "  "
      ],
      "metadata": {
        "id": "SxlMl8aZ8Z90"
      },
      "execution_count": 50,
      "outputs": []
    },
    {
      "cell_type": "code",
      "source": [
        "list(generate_fib(9))"
      ],
      "metadata": {
        "colab": {
          "base_uri": "https://localhost:8080/"
        },
        "id": "t9ka_K4B9N-F",
        "outputId": "282c30d3-06e7-4c8d-d592-fc2766e20d4c"
      },
      "execution_count": 52,
      "outputs": [
        {
          "output_type": "execute_result",
          "data": {
            "text/plain": [
              "[1, 1, 2, 3, 5, 8, 13, 21, 34]"
            ]
          },
          "metadata": {},
          "execution_count": 52
        }
      ]
    },
    {
      "cell_type": "code",
      "source": [
        "def sample_gen(n):\n",
        "  for i in range(n):\n",
        "    yield i"
      ],
      "metadata": {
        "id": "DV8i2OqA9RAD"
      },
      "execution_count": 53,
      "outputs": []
    },
    {
      "cell_type": "code",
      "source": [
        "sample_gen(6)"
      ],
      "metadata": {
        "colab": {
          "base_uri": "https://localhost:8080/"
        },
        "id": "kCRmA48F-Caz",
        "outputId": "a32d5f31-0b56-4883-a24e-be3f11eed689"
      },
      "execution_count": 54,
      "outputs": [
        {
          "output_type": "execute_result",
          "data": {
            "text/plain": [
              "<generator object sample_gen at 0x7f49570154d0>"
            ]
          },
          "metadata": {},
          "execution_count": 54
        }
      ]
    },
    {
      "cell_type": "code",
      "source": [
        "sample_gen(next)"
      ],
      "metadata": {
        "colab": {
          "base_uri": "https://localhost:8080/"
        },
        "id": "hHjIoDNW-Epq",
        "outputId": "c2e86baf-8b3d-4a4d-bf0c-88593c83697a"
      },
      "execution_count": 55,
      "outputs": [
        {
          "output_type": "execute_result",
          "data": {
            "text/plain": [
              "<generator object sample_gen at 0x7f49570199d0>"
            ]
          },
          "metadata": {},
          "execution_count": 55
        }
      ]
    },
    {
      "cell_type": "code",
      "source": [
        "out = sample_gen(5)"
      ],
      "metadata": {
        "id": "f7EX1eKA-Lav"
      },
      "execution_count": 56,
      "outputs": []
    },
    {
      "cell_type": "code",
      "source": [
        "print(next(out))"
      ],
      "metadata": {
        "colab": {
          "base_uri": "https://localhost:8080/"
        },
        "id": "5y5FBzxV-Xb0",
        "outputId": "9ded5420-1abd-433d-8380-49035b7e080e"
      },
      "execution_count": 61,
      "outputs": [
        {
          "output_type": "stream",
          "name": "stdout",
          "text": [
            "2\n"
          ]
        }
      ]
    },
    {
      "cell_type": "code",
      "source": [
        "# yield iterate autmaticaly (behind the scene for loop executed to perform iteration)"
      ],
      "metadata": {
        "id": "8oG4GfvP-Z_d"
      },
      "execution_count": 60,
      "outputs": []
    },
    {
      "cell_type": "code",
      "source": [
        "letter = 'Hello'\n",
        "for i in letter:\n",
        "  print(i)"
      ],
      "metadata": {
        "colab": {
          "base_uri": "https://localhost:8080/"
        },
        "id": "eINIWcO6-dKy",
        "outputId": "00b5ca63-c04b-4671-8d1e-a1a5259775cc"
      },
      "execution_count": 62,
      "outputs": [
        {
          "output_type": "stream",
          "name": "stdout",
          "text": [
            "H\n",
            "e\n",
            "l\n",
            "l\n",
            "o\n"
          ]
        }
      ]
    },
    {
      "cell_type": "code",
      "source": [
        "print(next(i))"
      ],
      "metadata": {
        "colab": {
          "base_uri": "https://localhost:8080/",
          "height": 165
        },
        "id": "1n5u4QK9-634",
        "outputId": "53609e77-71ca-48ce-b801-ea8e7c32fb01"
      },
      "execution_count": 64,
      "outputs": [
        {
          "output_type": "error",
          "ename": "TypeError",
          "evalue": "ignored",
          "traceback": [
            "\u001b[0;31m---------------------------------------------------------------------------\u001b[0m",
            "\u001b[0;31mTypeError\u001b[0m                                 Traceback (most recent call last)",
            "\u001b[0;32m<ipython-input-64-58c5a451ce44>\u001b[0m in \u001b[0;36m<module>\u001b[0;34m\u001b[0m\n\u001b[0;32m----> 1\u001b[0;31m \u001b[0mprint\u001b[0m\u001b[0;34m(\u001b[0m\u001b[0mnext\u001b[0m\u001b[0;34m(\u001b[0m\u001b[0mi\u001b[0m\u001b[0;34m)\u001b[0m\u001b[0;34m)\u001b[0m\u001b[0;34m\u001b[0m\u001b[0;34m\u001b[0m\u001b[0m\n\u001b[0m",
            "\u001b[0;31mTypeError\u001b[0m: 'str' object is not an iterator"
          ]
        }
      ]
    },
    {
      "cell_type": "code",
      "source": [
        "letter_iter = iter(letter)"
      ],
      "metadata": {
        "id": "ZB41KZm5_A_c"
      },
      "execution_count": 65,
      "outputs": []
    },
    {
      "cell_type": "code",
      "source": [
        "print(next(letter_iter))"
      ],
      "metadata": {
        "colab": {
          "base_uri": "https://localhost:8080/"
        },
        "id": "Way7ZLsf_Kh3",
        "outputId": "2401ba22-0312-4eda-c1c9-52ffc8eb226b"
      },
      "execution_count": 67,
      "outputs": [
        {
          "output_type": "stream",
          "name": "stdout",
          "text": [
            "e\n"
          ]
        }
      ]
    },
    {
      "cell_type": "code",
      "source": [
        "import random\n",
        "def randome(low,high,num):\n",
        "   for i in range(num):\n",
        "     yield random.randint(low,high)"
      ],
      "metadata": {
        "id": "yzY2wffX_MwC"
      },
      "execution_count": 91,
      "outputs": []
    },
    {
      "cell_type": "code",
      "source": [
        "list(randome(1,4,12))"
      ],
      "metadata": {
        "colab": {
          "base_uri": "https://localhost:8080/"
        },
        "id": "bLIVEBwiCHn6",
        "outputId": "40844130-15f8-490d-f319-8f5b52131a12"
      },
      "execution_count": 93,
      "outputs": [
        {
          "output_type": "execute_result",
          "data": {
            "text/plain": [
              "[2, 2, 3, 4, 3, 3, 3, 2, 4, 3, 1, 4]"
            ]
          },
          "metadata": {},
          "execution_count": 93
        }
      ]
    },
    {
      "cell_type": "code",
      "source": [
        ""
      ],
      "metadata": {
        "id": "UQSO9bUlCTYX"
      },
      "execution_count": null,
      "outputs": []
    }
  ]
}