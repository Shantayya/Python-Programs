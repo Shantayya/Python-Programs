{
  "nbformat": 4,
  "nbformat_minor": 0,
  "metadata": {
    "colab": {
      "provenance": [],
      "authorship_tag": "ABX9TyNurXswA52DSaExeuRtNAfD",
      "include_colab_link": true
    },
    "kernelspec": {
      "name": "python3",
      "display_name": "Python 3"
    },
    "language_info": {
      "name": "python"
    }
  },
  "cells": [
    {
      "cell_type": "markdown",
      "metadata": {
        "id": "view-in-github",
        "colab_type": "text"
      },
      "source": [
        "<a href=\"https://colab.research.google.com/github/Shantayya/Python-Projects/blob/main/AdvancedPython.ipynb\" target=\"_parent\"><img src=\"https://colab.research.google.com/assets/colab-badge.svg\" alt=\"Open In Colab\"/></a>"
      ]
    },
    {
      "cell_type": "code",
      "execution_count": null,
      "metadata": {
        "id": "Ac5P4lLw0DZl"
      },
      "outputs": [],
      "source": [
        "# Decorators\n",
        "def Hello(name):\n",
        "  print(f\"Hello {name}\")\n",
        "\n",
        "  def greet():\n",
        "    print(\"\\t thanks for greeting\")\n",
        "\n",
        "  def welcome():\n",
        "    print(\"\\t Welcome\")\n",
        "\n",
        "  return greet()"
      ]
    },
    {
      "cell_type": "code",
      "source": [
        "Hello('Shantayya')"
      ],
      "metadata": {
        "colab": {
          "base_uri": "https://localhost:8080/"
        },
        "id": "q4dVGewE191H",
        "outputId": "f2738779-e170-41a1-f281-a49d9f926e4f"
      },
      "execution_count": null,
      "outputs": [
        {
          "output_type": "stream",
          "name": "stdout",
          "text": [
            "Hello Shantayya\n",
            "\t thanks for greeting\n"
          ]
        }
      ]
    },
    {
      "cell_type": "code",
      "source": [
        "Hello"
      ],
      "metadata": {
        "colab": {
          "base_uri": "https://localhost:8080/"
        },
        "id": "hunwRt_61_zV",
        "outputId": "0abe3215-9aa7-4afb-be02-e86e7c02e379"
      },
      "execution_count": null,
      "outputs": [
        {
          "output_type": "execute_result",
          "data": {
            "text/plain": [
              "<function __main__.Hello(name)>"
            ]
          },
          "metadata": {},
          "execution_count": 13
        }
      ]
    },
    {
      "cell_type": "code",
      "source": [
        "def new_decorator(original_func):\n",
        " # def wrap():\n",
        "    print(\"Code, Before original function\")\n",
        "    original_func()\n",
        "    print(\"Code, after original function\")\n",
        "    return new_decorator"
      ],
      "metadata": {
        "id": "dggdCNtk2GDd"
      },
      "execution_count": null,
      "outputs": []
    },
    {
      "cell_type": "code",
      "source": [
        "@new_decorator\n",
        "def fun_needs_decorator():\n",
        "  print(\"I am adding exytra functionality as decorator\")"
      ],
      "metadata": {
        "colab": {
          "base_uri": "https://localhost:8080/"
        },
        "id": "hm3gsgih3xtB",
        "outputId": "67b9a9b3-2564-4cb1-a190-8be275f56c20"
      },
      "execution_count": null,
      "outputs": [
        {
          "output_type": "stream",
          "name": "stdout",
          "text": [
            "Code, Before original function\n",
            "I am adding exytra functionality as decorator\n",
            "Code, after original function\n"
          ]
        }
      ]
    },
    {
      "cell_type": "code",
      "source": [
        "# Generators"
      ],
      "metadata": {
        "id": "EppVP_cK46Cr"
      },
      "execution_count": null,
      "outputs": []
    },
    {
      "cell_type": "code",
      "source": [
        "def cube(n):\n",
        "  result = []\n",
        "  for i in range(n):\n",
        "    result.append(i**3)\n",
        "  return result"
      ],
      "metadata": {
        "id": "CHQQdmor6Bh7"
      },
      "execution_count": null,
      "outputs": []
    },
    {
      "cell_type": "code",
      "source": [
        "list(cube(8))"
      ],
      "metadata": {
        "colab": {
          "base_uri": "https://localhost:8080/"
        },
        "id": "f0NO_Tpp7Q2S",
        "outputId": "316b848a-64e9-4e3f-c9b8-128ab526421a"
      },
      "execution_count": null,
      "outputs": [
        {
          "output_type": "execute_result",
          "data": {
            "text/plain": [
              "[0, 1, 8, 27, 64, 125, 216, 343]"
            ]
          },
          "metadata": {},
          "execution_count": 43
        }
      ]
    },
    {
      "cell_type": "code",
      "source": [
        "def generate_cube(n):\n",
        "  for i in range(n):\n",
        "     yield i**3"
      ],
      "metadata": {
        "id": "RQjEzeiw7Sh-"
      },
      "execution_count": null,
      "outputs": []
    },
    {
      "cell_type": "code",
      "source": [
        "for i in generate_cube(10):\n",
        "  print(i)"
      ],
      "metadata": {
        "colab": {
          "base_uri": "https://localhost:8080/"
        },
        "id": "p4sMP8cn7X6k",
        "outputId": "6b451e54-0f74-4e58-8863-d024e018b864"
      },
      "execution_count": null,
      "outputs": [
        {
          "output_type": "stream",
          "name": "stdout",
          "text": [
            "0\n",
            "1\n",
            "8\n",
            "27\n",
            "64\n",
            "125\n",
            "216\n",
            "343\n",
            "512\n",
            "729\n"
          ]
        }
      ]
    },
    {
      "cell_type": "code",
      "source": [
        "def generate_fib(n):\n",
        "  a=1\n",
        "  b=1\n",
        "  for i in range(n):\n",
        "    yield a\n",
        "    a,b = b,a+b\n",
        "  "
      ],
      "metadata": {
        "id": "SxlMl8aZ8Z90"
      },
      "execution_count": null,
      "outputs": []
    },
    {
      "cell_type": "code",
      "source": [
        "list(generate_fib(9))"
      ],
      "metadata": {
        "colab": {
          "base_uri": "https://localhost:8080/"
        },
        "id": "t9ka_K4B9N-F",
        "outputId": "282c30d3-06e7-4c8d-d592-fc2766e20d4c"
      },
      "execution_count": null,
      "outputs": [
        {
          "output_type": "execute_result",
          "data": {
            "text/plain": [
              "[1, 1, 2, 3, 5, 8, 13, 21, 34]"
            ]
          },
          "metadata": {},
          "execution_count": 52
        }
      ]
    },
    {
      "cell_type": "code",
      "source": [
        "def sample_gen(n):\n",
        "  for i in range(n):\n",
        "    yield i"
      ],
      "metadata": {
        "id": "DV8i2OqA9RAD"
      },
      "execution_count": null,
      "outputs": []
    },
    {
      "cell_type": "code",
      "source": [
        "sample_gen(6)"
      ],
      "metadata": {
        "colab": {
          "base_uri": "https://localhost:8080/"
        },
        "id": "kCRmA48F-Caz",
        "outputId": "a32d5f31-0b56-4883-a24e-be3f11eed689"
      },
      "execution_count": null,
      "outputs": [
        {
          "output_type": "execute_result",
          "data": {
            "text/plain": [
              "<generator object sample_gen at 0x7f49570154d0>"
            ]
          },
          "metadata": {},
          "execution_count": 54
        }
      ]
    },
    {
      "cell_type": "code",
      "source": [
        "sample_gen(next)"
      ],
      "metadata": {
        "colab": {
          "base_uri": "https://localhost:8080/"
        },
        "id": "hHjIoDNW-Epq",
        "outputId": "c2e86baf-8b3d-4a4d-bf0c-88593c83697a"
      },
      "execution_count": null,
      "outputs": [
        {
          "output_type": "execute_result",
          "data": {
            "text/plain": [
              "<generator object sample_gen at 0x7f49570199d0>"
            ]
          },
          "metadata": {},
          "execution_count": 55
        }
      ]
    },
    {
      "cell_type": "code",
      "source": [
        "out = sample_gen(5)"
      ],
      "metadata": {
        "id": "f7EX1eKA-Lav"
      },
      "execution_count": null,
      "outputs": []
    },
    {
      "cell_type": "code",
      "source": [
        "print(next(out))"
      ],
      "metadata": {
        "colab": {
          "base_uri": "https://localhost:8080/"
        },
        "id": "5y5FBzxV-Xb0",
        "outputId": "9ded5420-1abd-433d-8380-49035b7e080e"
      },
      "execution_count": null,
      "outputs": [
        {
          "output_type": "stream",
          "name": "stdout",
          "text": [
            "2\n"
          ]
        }
      ]
    },
    {
      "cell_type": "code",
      "source": [
        "# yield iterate autmaticaly (behind the scene for loop executed to perform iteration)"
      ],
      "metadata": {
        "id": "8oG4GfvP-Z_d"
      },
      "execution_count": null,
      "outputs": []
    },
    {
      "cell_type": "code",
      "source": [
        "letter = 'Hello'\n",
        "for i in letter:\n",
        "  print(i)"
      ],
      "metadata": {
        "colab": {
          "base_uri": "https://localhost:8080/"
        },
        "id": "eINIWcO6-dKy",
        "outputId": "00b5ca63-c04b-4671-8d1e-a1a5259775cc"
      },
      "execution_count": null,
      "outputs": [
        {
          "output_type": "stream",
          "name": "stdout",
          "text": [
            "H\n",
            "e\n",
            "l\n",
            "l\n",
            "o\n"
          ]
        }
      ]
    },
    {
      "cell_type": "code",
      "source": [
        "print(next(i))"
      ],
      "metadata": {
        "colab": {
          "base_uri": "https://localhost:8080/",
          "height": 165
        },
        "id": "1n5u4QK9-634",
        "outputId": "53609e77-71ca-48ce-b801-ea8e7c32fb01"
      },
      "execution_count": null,
      "outputs": [
        {
          "output_type": "error",
          "ename": "TypeError",
          "evalue": "ignored",
          "traceback": [
            "\u001b[0;31m---------------------------------------------------------------------------\u001b[0m",
            "\u001b[0;31mTypeError\u001b[0m                                 Traceback (most recent call last)",
            "\u001b[0;32m<ipython-input-64-58c5a451ce44>\u001b[0m in \u001b[0;36m<module>\u001b[0;34m\u001b[0m\n\u001b[0;32m----> 1\u001b[0;31m \u001b[0mprint\u001b[0m\u001b[0;34m(\u001b[0m\u001b[0mnext\u001b[0m\u001b[0;34m(\u001b[0m\u001b[0mi\u001b[0m\u001b[0;34m)\u001b[0m\u001b[0;34m)\u001b[0m\u001b[0;34m\u001b[0m\u001b[0;34m\u001b[0m\u001b[0m\n\u001b[0m",
            "\u001b[0;31mTypeError\u001b[0m: 'str' object is not an iterator"
          ]
        }
      ]
    },
    {
      "cell_type": "code",
      "source": [
        "letter_iter = iter(letter)"
      ],
      "metadata": {
        "id": "ZB41KZm5_A_c"
      },
      "execution_count": null,
      "outputs": []
    },
    {
      "cell_type": "code",
      "source": [
        "print(next(letter_iter))"
      ],
      "metadata": {
        "colab": {
          "base_uri": "https://localhost:8080/"
        },
        "id": "Way7ZLsf_Kh3",
        "outputId": "2401ba22-0312-4eda-c1c9-52ffc8eb226b"
      },
      "execution_count": null,
      "outputs": [
        {
          "output_type": "stream",
          "name": "stdout",
          "text": [
            "e\n"
          ]
        }
      ]
    },
    {
      "cell_type": "code",
      "source": [
        "import random\n",
        "def randome(low,high,num):\n",
        "   for i in range(num):\n",
        "     yield random.randint(low,high)"
      ],
      "metadata": {
        "id": "yzY2wffX_MwC"
      },
      "execution_count": null,
      "outputs": []
    },
    {
      "cell_type": "code",
      "source": [
        "list(randome(1,4,12))"
      ],
      "metadata": {
        "colab": {
          "base_uri": "https://localhost:8080/"
        },
        "id": "bLIVEBwiCHn6",
        "outputId": "40844130-15f8-490d-f319-8f5b52131a12"
      },
      "execution_count": null,
      "outputs": [
        {
          "output_type": "execute_result",
          "data": {
            "text/plain": [
              "[2, 2, 3, 4, 3, 3, 3, 2, 4, 3, 1, 4]"
            ]
          },
          "metadata": {},
          "execution_count": 93
        }
      ]
    },
    {
      "cell_type": "code",
      "source": [
        "# Python Modules\n",
        "# Counter = count duplicates"
      ],
      "metadata": {
        "id": "UQSO9bUlCTYX"
      },
      "execution_count": null,
      "outputs": []
    },
    {
      "cell_type": "code",
      "source": [
        "from collections import Counter\n",
        "mylist = [1,1,1,1,1,1,1,2,3,2,1,2,1,2,1,4]\n",
        "Counter(mylist)\n"
      ],
      "metadata": {
        "colab": {
          "base_uri": "https://localhost:8080/"
        },
        "id": "XeSJ6fRMIENk",
        "outputId": "9224c5b8-e7ad-49b4-c0e9-20dd74effeda"
      },
      "execution_count": null,
      "outputs": [
        {
          "output_type": "execute_result",
          "data": {
            "text/plain": [
              "Counter({1: 10, 2: 4, 3: 1, 4: 1})"
            ]
          },
          "metadata": {},
          "execution_count": 97
        }
      ]
    },
    {
      "cell_type": "code",
      "source": [
        "name = 'shantayya, How are you doing man? How are all at home?'\n",
        "Counter(name.split())\n"
      ],
      "metadata": {
        "colab": {
          "base_uri": "https://localhost:8080/"
        },
        "id": "bxbXBPJIJKLB",
        "outputId": "1a984909-ab64-457f-c8ae-3e9e75cc825e"
      },
      "execution_count": null,
      "outputs": [
        {
          "output_type": "execute_result",
          "data": {
            "text/plain": [
              "Counter({'shantayya,': 1,\n",
              "         'How': 2,\n",
              "         'are': 2,\n",
              "         'you': 1,\n",
              "         'doing': 1,\n",
              "         'man?': 1,\n",
              "         'all': 1,\n",
              "         'at': 1,\n",
              "         'home?': 1})"
            ]
          },
          "metadata": {},
          "execution_count": 100
        }
      ]
    },
    {
      "cell_type": "code",
      "source": [
        "c = Counter(name)"
      ],
      "metadata": {
        "id": "AFswgl_NS7oH"
      },
      "execution_count": null,
      "outputs": []
    },
    {
      "cell_type": "code",
      "source": [
        "c"
      ],
      "metadata": {
        "colab": {
          "base_uri": "https://localhost:8080/"
        },
        "id": "Nh2H4GUHTbqX",
        "outputId": "cde5d6bf-3aaa-4c16-bcfd-0c9a1d9f6dcd"
      },
      "execution_count": null,
      "outputs": [
        {
          "output_type": "execute_result",
          "data": {
            "text/plain": [
              "Counter({'s': 1,\n",
              "         'h': 2,\n",
              "         'a': 8,\n",
              "         'n': 3,\n",
              "         't': 2,\n",
              "         'y': 3,\n",
              "         ',': 1,\n",
              "         ' ': 10,\n",
              "         'H': 2,\n",
              "         'o': 5,\n",
              "         'w': 2,\n",
              "         'r': 2,\n",
              "         'e': 3,\n",
              "         'u': 1,\n",
              "         'd': 1,\n",
              "         'i': 1,\n",
              "         'g': 1,\n",
              "         'm': 2,\n",
              "         '?': 2,\n",
              "         'l': 2})"
            ]
          },
          "metadata": {},
          "execution_count": 103
        }
      ]
    },
    {
      "cell_type": "code",
      "source": [
        "from collections import namedtuple\n",
        "dog = namedtuple(\"Dog\",[\"Name\",\"Age\",\"Breed\"])"
      ],
      "metadata": {
        "id": "ht9uQWqQTd0I"
      },
      "execution_count": null,
      "outputs": []
    },
    {
      "cell_type": "code",
      "source": [
        "dg = dog(\"Name=Sammy\",\"Age=4\",\"Breed=Husky\")"
      ],
      "metadata": {
        "id": "y_9j1B6bUxgB"
      },
      "execution_count": null,
      "outputs": []
    },
    {
      "cell_type": "code",
      "source": [
        "dg.Age"
      ],
      "metadata": {
        "colab": {
          "base_uri": "https://localhost:8080/",
          "height": 35
        },
        "id": "TWzcU574VAMg",
        "outputId": "91a0c50e-fa32-4981-e016-e419916f05ad"
      },
      "execution_count": null,
      "outputs": [
        {
          "output_type": "execute_result",
          "data": {
            "text/plain": [
              "'Age=4'"
            ],
            "application/vnd.google.colaboratory.intrinsic+json": {
              "type": "string"
            }
          },
          "metadata": {},
          "execution_count": 108
        }
      ]
    },
    {
      "cell_type": "code",
      "source": [
        "animal = namedtuple(\"Animal\",[\"Name\",\"Age\",\"Breed\"])"
      ],
      "metadata": {
        "id": "BkF4kZt9VDe-"
      },
      "execution_count": null,
      "outputs": []
    },
    {
      "cell_type": "code",
      "source": [
        "pet = animal(Name=\"Money\",Age=\"5\",Breed=\"Husky\")"
      ],
      "metadata": {
        "id": "b4tNRrJyVlPc"
      },
      "execution_count": null,
      "outputs": []
    },
    {
      "cell_type": "code",
      "source": [
        "pet.Age"
      ],
      "metadata": {
        "colab": {
          "base_uri": "https://localhost:8080/",
          "height": 35
        },
        "id": "OZCpoHSNV70l",
        "outputId": "f7f157a0-0e41-419f-c7a2-7fe8f0001ddc"
      },
      "execution_count": null,
      "outputs": [
        {
          "output_type": "execute_result",
          "data": {
            "text/plain": [
              "'5'"
            ],
            "application/vnd.google.colaboratory.intrinsic+json": {
              "type": "string"
            }
          },
          "metadata": {},
          "execution_count": 116
        }
      ]
    },
    {
      "cell_type": "code",
      "source": [
        "pet.Breed"
      ],
      "metadata": {
        "colab": {
          "base_uri": "https://localhost:8080/",
          "height": 35
        },
        "id": "ApPcSADfV9TA",
        "outputId": "d3914dcb-6450-4197-ad2f-d951517bd972"
      },
      "execution_count": null,
      "outputs": [
        {
          "output_type": "execute_result",
          "data": {
            "text/plain": [
              "'Husky'"
            ],
            "application/vnd.google.colaboratory.intrinsic+json": {
              "type": "string"
            }
          },
          "metadata": {},
          "execution_count": 117
        }
      ]
    },
    {
      "cell_type": "code",
      "source": [
        "pet[0]"
      ],
      "metadata": {
        "colab": {
          "base_uri": "https://localhost:8080/",
          "height": 35
        },
        "id": "uuT55GJ9WEWq",
        "outputId": "e3cd37b7-234b-46cb-c187-13d41c1253d1"
      },
      "execution_count": null,
      "outputs": [
        {
          "output_type": "execute_result",
          "data": {
            "text/plain": [
              "'Money'"
            ],
            "application/vnd.google.colaboratory.intrinsic+json": {
              "type": "string"
            }
          },
          "metadata": {},
          "execution_count": 118
        }
      ]
    },
    {
      "cell_type": "code",
      "source": [
        "f = open(\"test.txt\",\"+w\")\n",
        "f.write(\"Hello Shantayya\")\n",
        "f.close()"
      ],
      "metadata": {
        "id": "N1n2JoVpWMt9"
      },
      "execution_count": null,
      "outputs": []
    },
    {
      "cell_type": "code",
      "source": [
        "import os\n",
        "os.listdir()"
      ],
      "metadata": {
        "colab": {
          "base_uri": "https://localhost:8080/"
        },
        "id": "_hMLWBrSXQk2",
        "outputId": "3db6e5e4-0860-4b06-96e4-d06375910166"
      },
      "execution_count": null,
      "outputs": [
        {
          "output_type": "execute_result",
          "data": {
            "text/plain": [
              "['.config', 'test.txt', 'sample_data']"
            ]
          },
          "metadata": {},
          "execution_count": 128
        }
      ]
    },
    {
      "cell_type": "code",
      "source": [
        "os.getcwd()"
      ],
      "metadata": {
        "colab": {
          "base_uri": "https://localhost:8080/",
          "height": 35
        },
        "id": "IDeyNVhXXyjm",
        "outputId": "01b8f8cb-0b55-4383-fcd0-5116f8cda372"
      },
      "execution_count": null,
      "outputs": [
        {
          "output_type": "execute_result",
          "data": {
            "text/plain": [
              "'/content'"
            ],
            "application/vnd.google.colaboratory.intrinsic+json": {
              "type": "string"
            }
          },
          "metadata": {},
          "execution_count": 129
        }
      ]
    },
    {
      "cell_type": "code",
      "source": [
        "import datetime"
      ],
      "metadata": {
        "id": "hXlfY-jdYX5w"
      },
      "execution_count": null,
      "outputs": []
    },
    {
      "cell_type": "code",
      "source": [
        "print(datetime.date.today())"
      ],
      "metadata": {
        "colab": {
          "base_uri": "https://localhost:8080/"
        },
        "id": "Hsvfw9iMaCkb",
        "outputId": "a87ea851-2548-409c-b10a-128d3ee114ad"
      },
      "execution_count": null,
      "outputs": [
        {
          "output_type": "stream",
          "name": "stdout",
          "text": [
            "2022-08-20\n"
          ]
        }
      ]
    },
    {
      "cell_type": "code",
      "source": [
        "import random"
      ],
      "metadata": {
        "id": "11KEta7raIFx"
      },
      "execution_count": null,
      "outputs": []
    },
    {
      "cell_type": "markdown",
      "source": [],
      "metadata": {
        "id": "D-koRHZf3V43"
      }
    },
    {
      "cell_type": "code",
      "source": [
        "mylist = []\n",
        "for i in range(20):\n",
        "  mylist.append(i)"
      ],
      "metadata": {
        "id": "sYHd2L0g2fhQ"
      },
      "execution_count": null,
      "outputs": []
    },
    {
      "cell_type": "code",
      "source": [
        "mylist"
      ],
      "metadata": {
        "colab": {
          "base_uri": "https://localhost:8080/"
        },
        "id": "-eOz58ge2nzb",
        "outputId": "110582da-2c05-4021-c61d-8b864dca241b"
      },
      "execution_count": null,
      "outputs": [
        {
          "output_type": "execute_result",
          "data": {
            "text/plain": [
              "[0, 1, 2, 3, 4, 5, 6, 7, 8, 9, 10, 11, 12, 13, 14, 15, 16, 17, 18, 19]"
            ]
          },
          "metadata": {},
          "execution_count": 3
        }
      ]
    },
    {
      "cell_type": "code",
      "source": [
        "random.shuffle(mylist)"
      ],
      "metadata": {
        "id": "m4dQajMt2pjs"
      },
      "execution_count": null,
      "outputs": []
    },
    {
      "cell_type": "code",
      "source": [
        "mylist"
      ],
      "metadata": {
        "colab": {
          "base_uri": "https://localhost:8080/"
        },
        "id": "l3tp7YXF2tH-",
        "outputId": "d833cae9-fe95-43b0-d3a9-d16f9e197573"
      },
      "execution_count": null,
      "outputs": [
        {
          "output_type": "execute_result",
          "data": {
            "text/plain": [
              "[4, 1, 12, 19, 6, 2, 13, 8, 5, 11, 15, 16, 18, 17, 10, 0, 3, 7, 9, 14]"
            ]
          },
          "metadata": {},
          "execution_count": 5
        }
      ]
    },
    {
      "cell_type": "code",
      "source": [
        "random.choices(population=mylist,k=15)"
      ],
      "metadata": {
        "colab": {
          "base_uri": "https://localhost:8080/"
        },
        "id": "o4Lp1h_32wAy",
        "outputId": "a27f73a8-e1dd-413c-b2c3-92b73461d9ba"
      },
      "execution_count": null,
      "outputs": [
        {
          "output_type": "execute_result",
          "data": {
            "text/plain": [
              "[1, 14, 17, 13, 19, 18, 14, 15, 13, 5, 15, 13, 9, 13, 17]"
            ]
          },
          "metadata": {},
          "execution_count": 9
        }
      ]
    },
    {
      "cell_type": "code",
      "source": [
        "random.sample(population=mylist, k=15)"
      ],
      "metadata": {
        "colab": {
          "base_uri": "https://localhost:8080/"
        },
        "id": "1WxfRwDD2yPe",
        "outputId": "2db13458-efc7-4512-dfb9-b49d194dcab9"
      },
      "execution_count": null,
      "outputs": [
        {
          "output_type": "execute_result",
          "data": {
            "text/plain": [
              "[12, 5, 19, 10, 0, 14, 11, 15, 3, 7, 2, 1, 4, 9, 8]"
            ]
          },
          "metadata": {},
          "execution_count": 10
        }
      ]
    },
    {
      "cell_type": "code",
      "source": [
        "# regulater expression"
      ],
      "metadata": {
        "id": "mCcnrxVm3GTe"
      },
      "execution_count": null,
      "outputs": []
    },
    {
      "cell_type": "code",
      "source": [
        "text = \"This is shantayya,Phone Call me tomorrow, Phone number is\""
      ],
      "metadata": {
        "id": "5cZ4blFD482b"
      },
      "execution_count": null,
      "outputs": []
    },
    {
      "cell_type": "code",
      "source": [
        "pattern = \"Phone\""
      ],
      "metadata": {
        "id": "9khiUeZI6LMr"
      },
      "execution_count": null,
      "outputs": []
    },
    {
      "cell_type": "code",
      "source": [
        "import re"
      ],
      "metadata": {
        "id": "T53Kiqwd6OCF"
      },
      "execution_count": null,
      "outputs": []
    },
    {
      "cell_type": "code",
      "source": [
        "re.search(pattern,text)"
      ],
      "metadata": {
        "colab": {
          "base_uri": "https://localhost:8080/"
        },
        "id": "xzc16V1h6PLo",
        "outputId": "60b5faa5-c8c9-424b-c802-04579ea105c8"
      },
      "execution_count": null,
      "outputs": [
        {
          "output_type": "execute_result",
          "data": {
            "text/plain": [
              "<re.Match object; span=(18, 23), match='Phone'>"
            ]
          },
          "metadata": {},
          "execution_count": 15
        }
      ]
    },
    {
      "cell_type": "code",
      "source": [
        "for i in re.finditer(pattern,text):\n",
        "  print(i)"
      ],
      "metadata": {
        "colab": {
          "base_uri": "https://localhost:8080/"
        },
        "id": "r4UfJ_cr6Scr",
        "outputId": "e4192636-cc7f-442c-d79b-d4e0e0f7fcb0"
      },
      "execution_count": null,
      "outputs": [
        {
          "output_type": "stream",
          "name": "stdout",
          "text": [
            "<re.Match object; span=(18, 23), match='Phone'>\n",
            "<re.Match object; span=(42, 47), match='Phone'>\n"
          ]
        }
      ]
    },
    {
      "cell_type": "code",
      "source": [
        "# \\d - digit (0-9)\n",
        "#\\w - alphanumeric (a-z,0-9, _)\n",
        " # \\s - whitespace (' ')\n",
        "# \\D - non-digit (A-Z)\n",
        "# \\W - non-alphanumeric (*-+=@)\n",
        "# \\S - non-whitespace"
      ],
      "metadata": {
        "id": "ut-9iKy86a_m"
      },
      "execution_count": null,
      "outputs": []
    },
    {
      "cell_type": "code",
      "source": [
        "# Quanitfiers\n",
        "# + - occurs once or more times\n",
        "# {3} - occurs 3 times\n",
        "# {2,4} - occurs 2 to 4 times\n",
        "# * - occurs zero to more times\n",
        "# ? - once or none"
      ],
      "metadata": {
        "id": "zh19-ORn7egF"
      },
      "execution_count": null,
      "outputs": []
    },
    {
      "cell_type": "code",
      "source": [
        "text = \"This is Shan, with phone number 999-999-9876\""
      ],
      "metadata": {
        "id": "7ipen7Rc9OnR"
      },
      "execution_count": null,
      "outputs": []
    },
    {
      "cell_type": "code",
      "source": [
        "match = re.search(r'\\d{3}-\\d{3}-\\d{4}',text)"
      ],
      "metadata": {
        "id": "AhxiQdCj98Xu"
      },
      "execution_count": null,
      "outputs": []
    },
    {
      "cell_type": "code",
      "source": [
        "match"
      ],
      "metadata": {
        "colab": {
          "base_uri": "https://localhost:8080/"
        },
        "id": "XxBw9xLK-QaR",
        "outputId": "13ab64c6-2c0b-4a55-cb40-feac6724bcff"
      },
      "execution_count": null,
      "outputs": [
        {
          "output_type": "execute_result",
          "data": {
            "text/plain": [
              "<re.Match object; span=(32, 44), match='999-999-9876'>"
            ]
          },
          "metadata": {},
          "execution_count": 56
        }
      ]
    },
    {
      "cell_type": "code",
      "source": [
        "match.group()"
      ],
      "metadata": {
        "colab": {
          "base_uri": "https://localhost:8080/",
          "height": 35
        },
        "id": "e5JNfe9T-xAe",
        "outputId": "f6317f59-e692-46e0-f82f-43d7bc059134"
      },
      "execution_count": null,
      "outputs": [
        {
          "output_type": "execute_result",
          "data": {
            "text/plain": [
              "'999-999-9876'"
            ],
            "application/vnd.google.colaboratory.intrinsic+json": {
              "type": "string"
            }
          },
          "metadata": {},
          "execution_count": 59
        }
      ]
    },
    {
      "cell_type": "code",
      "source": [
        "match_group = re.search(re.compile(r'(\\d{3})-(\\d{3})-(\\d{4})'),text)"
      ],
      "metadata": {
        "id": "1FrjHiMHAKpL"
      },
      "execution_count": null,
      "outputs": []
    },
    {
      "cell_type": "code",
      "source": [
        "match_group"
      ],
      "metadata": {
        "colab": {
          "base_uri": "https://localhost:8080/"
        },
        "id": "EMM4TQvQAU--",
        "outputId": "83897aa5-fe3e-4321-e5d7-0fb18203c368"
      },
      "execution_count": null,
      "outputs": [
        {
          "output_type": "execute_result",
          "data": {
            "text/plain": [
              "<re.Match object; span=(32, 44), match='999-999-9876'>"
            ]
          },
          "metadata": {},
          "execution_count": 71
        }
      ]
    },
    {
      "cell_type": "code",
      "source": [
        "match_group.group(2)"
      ],
      "metadata": {
        "colab": {
          "base_uri": "https://localhost:8080/",
          "height": 35
        },
        "id": "9fi_uxAzAyax",
        "outputId": "f9703968-f744-4b16-a136-78aea62c0478"
      },
      "execution_count": null,
      "outputs": [
        {
          "output_type": "execute_result",
          "data": {
            "text/plain": [
              "'999'"
            ],
            "application/vnd.google.colaboratory.intrinsic+json": {
              "type": "string"
            }
          },
          "metadata": {},
          "execution_count": 73
        }
      ]
    },
    {
      "cell_type": "code",
      "source": [
        "re.search(r'cat|dog','cat name is dog')"
      ],
      "metadata": {
        "colab": {
          "base_uri": "https://localhost:8080/"
        },
        "id": "7SrvYHqWA1xB",
        "outputId": "321b10c0-bd36-47af-e4af-736e10962999"
      },
      "execution_count": null,
      "outputs": [
        {
          "output_type": "execute_result",
          "data": {
            "text/plain": [
              "<re.Match object; span=(0, 3), match='cat'>"
            ]
          },
          "metadata": {},
          "execution_count": 76
        }
      ]
    },
    {
      "cell_type": "code",
      "source": [
        "re.findall(r'\\d','121cat name is money2')"
      ],
      "metadata": {
        "colab": {
          "base_uri": "https://localhost:8080/"
        },
        "id": "fn4ibxuEDsI_",
        "outputId": "4becee9b-7cf6-4c01-8f2a-31754d3a3553"
      },
      "execution_count": null,
      "outputs": [
        {
          "output_type": "execute_result",
          "data": {
            "text/plain": [
              "['1', '2', '1', '2']"
            ]
          },
          "metadata": {},
          "execution_count": 95
        }
      ]
    },
    {
      "cell_type": "code",
      "source": [
        "re.findall(r'[^\\d]+','my name is 21 and 21stop now')   # [] exclude from list ^-starting with"
      ],
      "metadata": {
        "colab": {
          "base_uri": "https://localhost:8080/"
        },
        "id": "V_cGcRMZD3Sl",
        "outputId": "64bf493d-b807-4c1a-fd74-fc9c6b927452"
      },
      "execution_count": null,
      "outputs": [
        {
          "output_type": "execute_result",
          "data": {
            "text/plain": [
              "['my name is ', ' and ', 'stop now']"
            ]
          },
          "metadata": {},
          "execution_count": 99
        }
      ]
    },
    {
      "cell_type": "code",
      "source": [
        "state = 'This is shant-ayya, and liv-ing in Pune..! really ?'\n",
        "punch = re.findall(r'[^,.!?]+',state)\n"
      ],
      "metadata": {
        "id": "PJnbjiwVFOPH"
      },
      "execution_count": null,
      "outputs": []
    },
    {
      "cell_type": "code",
      "source": [
        "''.join(punch)\n"
      ],
      "metadata": {
        "colab": {
          "base_uri": "https://localhost:8080/",
          "height": 35
        },
        "id": "uuHAwOwFLKUG",
        "outputId": "ba6987d2-0949-487e-eaed-08dc5a6f3065"
      },
      "execution_count": null,
      "outputs": [
        {
          "output_type": "execute_result",
          "data": {
            "text/plain": [
              "'This is shant-ayya and liv-ing in Pune really '"
            ],
            "application/vnd.google.colaboratory.intrinsic+json": {
              "type": "string"
            }
          },
          "metadata": {},
          "execution_count": 112
        }
      ]
    },
    {
      "cell_type": "code",
      "source": [
        "re.findall(r'[\\w]+-[\\w]+',state)"
      ],
      "metadata": {
        "colab": {
          "base_uri": "https://localhost:8080/"
        },
        "id": "0zU13njeLMfn",
        "outputId": "35cbfaa1-cdc8-4451-a565-42cbe27bf7ed"
      },
      "execution_count": null,
      "outputs": [
        {
          "output_type": "execute_result",
          "data": {
            "text/plain": [
              "['shant-ayya', 'liv-ing']"
            ]
          },
          "metadata": {},
          "execution_count": 113
        }
      ]
    },
    {
      "cell_type": "code",
      "source": [
        "# time calculation of prgms"
      ],
      "metadata": {
        "id": "2rQnr3HaMjwM"
      },
      "execution_count": null,
      "outputs": []
    },
    {
      "cell_type": "code",
      "source": [
        "def func_one(n):\n",
        "  return [str(num) for num in range(n)]"
      ],
      "metadata": {
        "id": "At3U-3IoNgTl"
      },
      "execution_count": null,
      "outputs": []
    },
    {
      "cell_type": "code",
      "source": [
        "func_one(10)"
      ],
      "metadata": {
        "colab": {
          "base_uri": "https://localhost:8080/"
        },
        "id": "cpzucLbxNwSg",
        "outputId": "298ac600-a0f0-4a88-dece-949ce004594f"
      },
      "execution_count": null,
      "outputs": [
        {
          "output_type": "execute_result",
          "data": {
            "text/plain": [
              "['0', '1', '2', '3', '4', '5', '6', '7', '8', '9']"
            ]
          },
          "metadata": {},
          "execution_count": 139
        }
      ]
    },
    {
      "cell_type": "code",
      "source": [
        "def func_two(n):\n",
        "  return list(map(str,range(n)))"
      ],
      "metadata": {
        "id": "MLWNvmV3ODe_"
      },
      "execution_count": null,
      "outputs": []
    },
    {
      "cell_type": "code",
      "source": [
        "func_two(10)"
      ],
      "metadata": {
        "colab": {
          "base_uri": "https://localhost:8080/"
        },
        "id": "kKGIAWQgONOv",
        "outputId": "537cfa05-d701-4eec-c313-3fe698682556"
      },
      "execution_count": null,
      "outputs": [
        {
          "output_type": "execute_result",
          "data": {
            "text/plain": [
              "['0', '1', '2', '3', '4', '5', '6', '7', '8', '9']"
            ]
          },
          "metadata": {},
          "execution_count": 141
        }
      ]
    },
    {
      "cell_type": "code",
      "source": [
        "import time"
      ],
      "metadata": {
        "id": "bNQJcbFPOPwj"
      },
      "execution_count": null,
      "outputs": []
    },
    {
      "cell_type": "code",
      "source": [
        "# start os time\n",
        "startt = time.time()\n",
        "#call func\n",
        "func_one(10)\n",
        "#end os time\n",
        "endt = time.time()\n",
        "#calculate time taken by func\n",
        "timet = endt - startt\n",
        "print(timet)"
      ],
      "metadata": {
        "colab": {
          "base_uri": "https://localhost:8080/"
        },
        "id": "rCf21pfWOXk6",
        "outputId": "ce6fee20-fae6-4541-e9d7-830c656e1098"
      },
      "execution_count": null,
      "outputs": [
        {
          "output_type": "stream",
          "name": "stdout",
          "text": [
            "4.8160552978515625e-05\n"
          ]
        }
      ]
    },
    {
      "cell_type": "code",
      "source": [
        "# start os time\n",
        "startt = time.time()\n",
        "#call func\n",
        "func_two(10)\n",
        "#end os time\n",
        "endt = time.time()\n",
        "#calculate time taken by func\n",
        "timet = endt - startt\n",
        "print(timet)"
      ],
      "metadata": {
        "colab": {
          "base_uri": "https://localhost:8080/"
        },
        "id": "qHS6_kPDOsBf",
        "outputId": "5bbde35e-5e35-43a4-c745-8f88c94c56c4"
      },
      "execution_count": null,
      "outputs": [
        {
          "output_type": "stream",
          "name": "stdout",
          "text": [
            "5.0067901611328125e-05\n"
          ]
        }
      ]
    },
    {
      "cell_type": "code",
      "source": [
        "import timeit"
      ],
      "metadata": {
        "id": "795XI3vnOvjo"
      },
      "execution_count": null,
      "outputs": []
    },
    {
      "cell_type": "code",
      "source": [
        "stat1 = '''\n",
        "func_one(100)\n",
        "'''"
      ],
      "metadata": {
        "id": "1TshcObVQ_u7"
      },
      "execution_count": null,
      "outputs": []
    },
    {
      "cell_type": "code",
      "source": [
        "setup1 = '''\n",
        "def func_one(n):\n",
        "  return [str(num) for num in range(n)]\n",
        "  '''"
      ],
      "metadata": {
        "id": "cz__H4JzRH9b"
      },
      "execution_count": null,
      "outputs": []
    },
    {
      "cell_type": "code",
      "source": [
        "stat2 = '''\n",
        "func_two(100)\n",
        "'''"
      ],
      "metadata": {
        "id": "IR4z6GQDROmk"
      },
      "execution_count": null,
      "outputs": []
    },
    {
      "cell_type": "code",
      "source": [
        "setup2 = '''\n",
        "def func_two(n):\n",
        "  return list(map(str,range(n)))\n",
        "  '''\n"
      ],
      "metadata": {
        "id": "XXiChcs2RTfV"
      },
      "execution_count": null,
      "outputs": []
    },
    {
      "cell_type": "code",
      "source": [
        "timeit. timeit(stat1,setup1,number = 1000000)"
      ],
      "metadata": {
        "colab": {
          "base_uri": "https://localhost:8080/"
        },
        "id": "10IzAAUnRYK5",
        "outputId": "4491a7bf-64fd-4c4f-8a20-68fa608a7a22"
      },
      "execution_count": null,
      "outputs": [
        {
          "output_type": "execute_result",
          "data": {
            "text/plain": [
              "13.245047447000616"
            ]
          },
          "metadata": {},
          "execution_count": 151
        }
      ]
    },
    {
      "cell_type": "code",
      "source": [
        "timeit.timeit(stat2,setup2,number = 1000000)"
      ],
      "metadata": {
        "colab": {
          "base_uri": "https://localhost:8080/"
        },
        "id": "TAGMYQy0ReMM",
        "outputId": "4ab8d738-3475-47b5-8961-dd19a3ae998d"
      },
      "execution_count": null,
      "outputs": [
        {
          "output_type": "execute_result",
          "data": {
            "text/plain": [
              "8.44709214500017"
            ]
          },
          "metadata": {},
          "execution_count": 154
        }
      ]
    },
    {
      "cell_type": "code",
      "source": [
        "%%timeit\n",
        "func_one(100)"
      ],
      "metadata": {
        "colab": {
          "base_uri": "https://localhost:8080/"
        },
        "id": "3potwxt-Rq5t",
        "outputId": "cf1044e8-f9e0-47f9-e989-78ba25e6ed6b"
      },
      "execution_count": null,
      "outputs": [
        {
          "output_type": "stream",
          "name": "stdout",
          "text": [
            "15.2 µs ± 993 ns per loop (mean ± std. dev. of 7 runs, 100000 loops each)\n"
          ]
        }
      ]
    },
    {
      "cell_type": "code",
      "source": [
        "%%timeit\n",
        "func_two(100)"
      ],
      "metadata": {
        "colab": {
          "base_uri": "https://localhost:8080/"
        },
        "id": "ut-Pcg2hSCNz",
        "outputId": "9ef662df-04dc-4d39-9fbe-40926a039beb"
      },
      "execution_count": null,
      "outputs": [
        {
          "output_type": "stream",
          "name": "stdout",
          "text": [
            "8.83 µs ± 90.5 ns per loop (mean ± std. dev. of 7 runs, 100000 loops each)\n"
          ]
        }
      ]
    },
    {
      "cell_type": "code",
      "source": [
        "# tar and untar in python"
      ],
      "metadata": {
        "id": "pj9cLNJPSFVU"
      },
      "execution_count": null,
      "outputs": []
    },
    {
      "cell_type": "code",
      "source": [
        "import shutil"
      ],
      "metadata": {
        "id": "EIAVNF1PTbHN"
      },
      "execution_count": null,
      "outputs": []
    },
    {
      "cell_type": "code",
      "source": [
        "pwd"
      ],
      "metadata": {
        "colab": {
          "base_uri": "https://localhost:8080/",
          "height": 35
        },
        "id": "sCGmvLfzTc3H",
        "outputId": "d7a1185c-3a48-4e8d-c1a5-5608965e76b9"
      },
      "execution_count": null,
      "outputs": [
        {
          "output_type": "execute_result",
          "data": {
            "text/plain": [
              "'/content'"
            ],
            "application/vnd.google.colaboratory.intrinsic+json": {
              "type": "string"
            }
          },
          "metadata": {},
          "execution_count": 159
        }
      ]
    },
    {
      "cell_type": "code",
      "source": [
        "shutil.make_archive('python','tar','/content')"
      ],
      "metadata": {
        "colab": {
          "base_uri": "https://localhost:8080/",
          "height": 35
        },
        "id": "XR5HPWDKTjzf",
        "outputId": "daaa1e00-1f19-4dc9-e311-3f6eed6dfffd"
      },
      "execution_count": null,
      "outputs": [
        {
          "output_type": "execute_result",
          "data": {
            "text/plain": [
              "'/content/python.tar'"
            ],
            "application/vnd.google.colaboratory.intrinsic+json": {
              "type": "string"
            }
          },
          "metadata": {},
          "execution_count": 160
        }
      ]
    },
    {
      "cell_type": "code",
      "source": [
        "ls -lrt"
      ],
      "metadata": {
        "colab": {
          "base_uri": "https://localhost:8080/"
        },
        "id": "uPu377bLTst9",
        "outputId": "d8f7a2f0-b054-48b2-9138-10a3d350fb68"
      },
      "execution_count": null,
      "outputs": [
        {
          "output_type": "stream",
          "name": "stdout",
          "text": [
            "total 55564\n",
            "drwxr-xr-x 1 root root     4096 Aug 15 13:44 \u001b[0m\u001b[01;34msample_data\u001b[0m/\n",
            "-rw-r--r-- 1 root root 56893440 Aug 22 16:07 python.tar\n"
          ]
        }
      ]
    },
    {
      "cell_type": "code",
      "source": [
        "shutil.unpack_archive('python.tar','extracted_python','tar')"
      ],
      "metadata": {
        "id": "OxmfnAHGTv3U"
      },
      "execution_count": null,
      "outputs": []
    },
    {
      "cell_type": "code",
      "source": [
        "ls -lrt"
      ],
      "metadata": {
        "colab": {
          "base_uri": "https://localhost:8080/"
        },
        "id": "a8jbaCLfUAzP",
        "outputId": "92e899a9-f2b3-44bd-ec0b-cd5ae232d69d"
      },
      "execution_count": null,
      "outputs": [
        {
          "output_type": "stream",
          "name": "stdout",
          "text": [
            "total 55568\n",
            "drwxr-xr-x 1 root root     4096 Aug 15 13:44 \u001b[0m\u001b[01;34msample_data\u001b[0m/\n",
            "drwxr-xr-x 4 root root     4096 Aug 22 16:07 \u001b[01;34mextracted_python\u001b[0m/\n",
            "-rw-r--r-- 1 root root 56893440 Aug 22 16:07 python.tar\n"
          ]
        }
      ]
    },
    {
      "cell_type": "code",
      "source": [
        "cd extracted_python"
      ],
      "metadata": {
        "colab": {
          "base_uri": "https://localhost:8080/"
        },
        "id": "6B-ou5T4UJ3A",
        "outputId": "e8035b7f-93b6-4821-fb83-d3cc43b56f74"
      },
      "execution_count": null,
      "outputs": [
        {
          "output_type": "stream",
          "name": "stdout",
          "text": [
            "/content/extracted_python\n"
          ]
        }
      ]
    },
    {
      "cell_type": "code",
      "source": [
        "ls -lrt"
      ],
      "metadata": {
        "colab": {
          "base_uri": "https://localhost:8080/"
        },
        "id": "ee32ftF4UMF_",
        "outputId": "e55443a6-95b6-4804-b93d-fc43e838db61"
      },
      "execution_count": null,
      "outputs": [
        {
          "output_type": "stream",
          "name": "stdout",
          "text": [
            "total 4\n",
            "drwxr-xr-x 2 root root 4096 Aug 15 13:44 \u001b[0m\u001b[01;34msample_data\u001b[0m/\n"
          ]
        }
      ]
    },
    {
      "cell_type": "code",
      "source": [
        "cd ../"
      ],
      "metadata": {
        "colab": {
          "base_uri": "https://localhost:8080/"
        },
        "id": "x9LacctYUNCc",
        "outputId": "85643445-f5f7-4c10-d63c-aab51345fcb4"
      },
      "execution_count": null,
      "outputs": [
        {
          "output_type": "stream",
          "name": "stdout",
          "text": [
            "/content\n"
          ]
        }
      ]
    },
    {
      "cell_type": "code",
      "source": [
        "ls -lrt"
      ],
      "metadata": {
        "colab": {
          "base_uri": "https://localhost:8080/"
        },
        "id": "eL92UD-CUPwY",
        "outputId": "055748fa-8da3-4cd7-ddd7-5028936e78ac"
      },
      "execution_count": null,
      "outputs": [
        {
          "output_type": "stream",
          "name": "stdout",
          "text": [
            "total 55568\n",
            "drwxr-xr-x 1 root root     4096 Aug 15 13:44 \u001b[0m\u001b[01;34msample_data\u001b[0m/\n",
            "drwxr-xr-x 4 root root     4096 Aug 22 16:07 \u001b[01;34mextracted_python\u001b[0m/\n",
            "-rw-r--r-- 1 root root 56893440 Aug 22 16:07 python.tar\n"
          ]
        }
      ]
    },
    {
      "cell_type": "code",
      "source": [
        "#ineuron advance Python : Iterator\n",
        "# list,tuple,range() all are iterable object\n",
        "A = [1,2,3,4,5]            #--> A being list is iterable but to use in next function we need A to be iterator\n",
        "next(A)"
      ],
      "metadata": {
        "id": "_dU6mYZbUQz-",
        "colab": {
          "base_uri": "https://localhost:8080/",
          "height": 200
        },
        "outputId": "1f522da0-1757-450c-a33f-08987232485c"
      },
      "execution_count": null,
      "outputs": [
        {
          "output_type": "error",
          "ename": "TypeError",
          "evalue": "ignored",
          "traceback": [
            "\u001b[0;31m---------------------------------------------------------------------------\u001b[0m",
            "\u001b[0;31mTypeError\u001b[0m                                 Traceback (most recent call last)",
            "\u001b[0;32m<ipython-input-1-bcdef1545dfc>\u001b[0m in \u001b[0;36m<module>\u001b[0;34m\u001b[0m\n\u001b[1;32m      1\u001b[0m \u001b[0;31m#ineuron advance Python : Iterator\u001b[0m\u001b[0;34m\u001b[0m\u001b[0;34m\u001b[0m\u001b[0;34m\u001b[0m\u001b[0m\n\u001b[1;32m      2\u001b[0m \u001b[0mA\u001b[0m \u001b[0;34m=\u001b[0m \u001b[0;34m[\u001b[0m\u001b[0;36m1\u001b[0m\u001b[0;34m,\u001b[0m\u001b[0;36m2\u001b[0m\u001b[0;34m,\u001b[0m\u001b[0;36m3\u001b[0m\u001b[0;34m,\u001b[0m\u001b[0;36m4\u001b[0m\u001b[0;34m,\u001b[0m\u001b[0;36m5\u001b[0m\u001b[0;34m]\u001b[0m\u001b[0;34m\u001b[0m\u001b[0;34m\u001b[0m\u001b[0m\n\u001b[0;32m----> 3\u001b[0;31m \u001b[0mnext\u001b[0m\u001b[0;34m(\u001b[0m\u001b[0mA\u001b[0m\u001b[0;34m)\u001b[0m\u001b[0;34m\u001b[0m\u001b[0;34m\u001b[0m\u001b[0m\n\u001b[0m",
            "\u001b[0;31mTypeError\u001b[0m: 'list' object is not an iterator"
          ]
        }
      ]
    },
    {
      "cell_type": "code",
      "source": [
        "A = iter(A)\n",
        "next(A)"
      ],
      "metadata": {
        "colab": {
          "base_uri": "https://localhost:8080/"
        },
        "id": "IsJyB6_AU6tB",
        "outputId": "a63424b2-dbea-44e1-ff23-0e692719f4d5"
      },
      "execution_count": null,
      "outputs": [
        {
          "output_type": "execute_result",
          "data": {
            "text/plain": [
              "1"
            ]
          },
          "metadata": {},
          "execution_count": 3
        }
      ]
    },
    {
      "cell_type": "code",
      "source": [
        "a = 56\n",
        "a = iter(a)\n",
        "next(a)"
      ],
      "metadata": {
        "colab": {
          "base_uri": "https://localhost:8080/",
          "height": 200
        },
        "id": "7-WsVJVnVFPP",
        "outputId": "7aa70438-f7af-478c-efbe-a676cd0d59a6"
      },
      "execution_count": null,
      "outputs": [
        {
          "output_type": "error",
          "ename": "TypeError",
          "evalue": "ignored",
          "traceback": [
            "\u001b[0;31m---------------------------------------------------------------------------\u001b[0m",
            "\u001b[0;31mTypeError\u001b[0m                                 Traceback (most recent call last)",
            "\u001b[0;32m<ipython-input-5-e7a1cbaa4ed4>\u001b[0m in \u001b[0;36m<module>\u001b[0;34m\u001b[0m\n\u001b[1;32m      1\u001b[0m \u001b[0ma\u001b[0m \u001b[0;34m=\u001b[0m \u001b[0;36m56\u001b[0m\u001b[0;34m\u001b[0m\u001b[0;34m\u001b[0m\u001b[0m\n\u001b[0;32m----> 2\u001b[0;31m \u001b[0ma\u001b[0m \u001b[0;34m=\u001b[0m \u001b[0miter\u001b[0m\u001b[0;34m(\u001b[0m\u001b[0mlist\u001b[0m\u001b[0;34m(\u001b[0m\u001b[0ma\u001b[0m\u001b[0;34m)\u001b[0m\u001b[0;34m)\u001b[0m\u001b[0;34m\u001b[0m\u001b[0;34m\u001b[0m\u001b[0m\n\u001b[0m\u001b[1;32m      3\u001b[0m \u001b[0mnext\u001b[0m\u001b[0;34m(\u001b[0m\u001b[0ma\u001b[0m\u001b[0;34m)\u001b[0m\u001b[0;34m\u001b[0m\u001b[0;34m\u001b[0m\u001b[0m\n",
            "\u001b[0;31mTypeError\u001b[0m: 'int' object is not iterable"
          ]
        }
      ]
    },
    {
      "cell_type": "code",
      "source": [
        "# generator --> use yield keyword its generate the range like function\n",
        "def generate_cube(n):\n",
        "  cube = []\n",
        "  for i in range(n):\n",
        "    cube.append(i**3)\n",
        "  return cube\n",
        "\n",
        "def withgenerator_cube(n):\n",
        "  for i in range(n):\n",
        "    yield i**3"
      ],
      "metadata": {
        "id": "vq-odpvvVL2G"
      },
      "execution_count": null,
      "outputs": []
    },
    {
      "cell_type": "code",
      "source": [
        "generate_cube(10000000)   #---> here if n is very large number then code wil not be optimized because above code will save results into list(eates lot of RAM)\n",
        "# and rturns only when list completed and here we cannot use print becuase print returns none type i.e I cannot premitive operations on returned result.\n",
        "# thats why we use generator : yield only remeber what dataset i have generated last time and what i have to do now based on current logic. it will not store \n",
        "# all result to eat ram\n"
      ],
      "metadata": {
        "colab": {
          "base_uri": "https://localhost:8080/"
        },
        "id": "daM8d8lwmskj",
        "outputId": "84cbbc7d-fd85-448f-ae79-cb4249d6d4a4"
      },
      "execution_count": null,
      "outputs": [
        {
          "output_type": "execute_result",
          "data": {
            "text/plain": [
              "[0,\n",
              " 1,\n",
              " 8,\n",
              " 27,\n",
              " 64,\n",
              " 125,\n",
              " 216,\n",
              " 343,\n",
              " 512,\n",
              " 729,\n",
              " 1000,\n",
              " 1331,\n",
              " 1728,\n",
              " 2197,\n",
              " 2744,\n",
              " 3375,\n",
              " 4096,\n",
              " 4913,\n",
              " 5832,\n",
              " 6859,\n",
              " 8000,\n",
              " 9261,\n",
              " 10648,\n",
              " 12167,\n",
              " 13824,\n",
              " 15625,\n",
              " 17576,\n",
              " 19683,\n",
              " 21952,\n",
              " 24389,\n",
              " 27000,\n",
              " 29791,\n",
              " 32768,\n",
              " 35937,\n",
              " 39304,\n",
              " 42875,\n",
              " 46656,\n",
              " 50653,\n",
              " 54872,\n",
              " 59319,\n",
              " 64000,\n",
              " 68921,\n",
              " 74088,\n",
              " 79507,\n",
              " 85184,\n",
              " 91125,\n",
              " 97336,\n",
              " 103823,\n",
              " 110592,\n",
              " 117649,\n",
              " 125000,\n",
              " 132651,\n",
              " 140608,\n",
              " 148877,\n",
              " 157464,\n",
              " 166375,\n",
              " 175616,\n",
              " 185193,\n",
              " 195112,\n",
              " 205379,\n",
              " 216000,\n",
              " 226981,\n",
              " 238328,\n",
              " 250047,\n",
              " 262144,\n",
              " 274625,\n",
              " 287496,\n",
              " 300763,\n",
              " 314432,\n",
              " 328509,\n",
              " 343000,\n",
              " 357911,\n",
              " 373248,\n",
              " 389017,\n",
              " 405224,\n",
              " 421875,\n",
              " 438976,\n",
              " 456533,\n",
              " 474552,\n",
              " 493039,\n",
              " 512000,\n",
              " 531441,\n",
              " 551368,\n",
              " 571787,\n",
              " 592704,\n",
              " 614125,\n",
              " 636056,\n",
              " 658503,\n",
              " 681472,\n",
              " 704969,\n",
              " 729000,\n",
              " 753571,\n",
              " 778688,\n",
              " 804357,\n",
              " 830584,\n",
              " 857375,\n",
              " 884736,\n",
              " 912673,\n",
              " 941192,\n",
              " 970299,\n",
              " 1000000,\n",
              " 1030301,\n",
              " 1061208,\n",
              " 1092727,\n",
              " 1124864,\n",
              " 1157625,\n",
              " 1191016,\n",
              " 1225043,\n",
              " 1259712,\n",
              " 1295029,\n",
              " 1331000,\n",
              " 1367631,\n",
              " 1404928,\n",
              " 1442897,\n",
              " 1481544,\n",
              " 1520875,\n",
              " 1560896,\n",
              " 1601613,\n",
              " 1643032,\n",
              " 1685159,\n",
              " 1728000,\n",
              " 1771561,\n",
              " 1815848,\n",
              " 1860867,\n",
              " 1906624,\n",
              " 1953125,\n",
              " 2000376,\n",
              " 2048383,\n",
              " 2097152,\n",
              " 2146689,\n",
              " 2197000,\n",
              " 2248091,\n",
              " 2299968,\n",
              " 2352637,\n",
              " 2406104,\n",
              " 2460375,\n",
              " 2515456,\n",
              " 2571353,\n",
              " 2628072,\n",
              " 2685619,\n",
              " 2744000,\n",
              " 2803221,\n",
              " 2863288,\n",
              " 2924207,\n",
              " 2985984,\n",
              " 3048625,\n",
              " 3112136,\n",
              " 3176523,\n",
              " 3241792,\n",
              " 3307949,\n",
              " 3375000,\n",
              " 3442951,\n",
              " 3511808,\n",
              " 3581577,\n",
              " 3652264,\n",
              " 3723875,\n",
              " 3796416,\n",
              " 3869893,\n",
              " 3944312,\n",
              " 4019679,\n",
              " 4096000,\n",
              " 4173281,\n",
              " 4251528,\n",
              " 4330747,\n",
              " 4410944,\n",
              " 4492125,\n",
              " 4574296,\n",
              " 4657463,\n",
              " 4741632,\n",
              " 4826809,\n",
              " 4913000,\n",
              " 5000211,\n",
              " 5088448,\n",
              " 5177717,\n",
              " 5268024,\n",
              " 5359375,\n",
              " 5451776,\n",
              " 5545233,\n",
              " 5639752,\n",
              " 5735339,\n",
              " 5832000,\n",
              " 5929741,\n",
              " 6028568,\n",
              " 6128487,\n",
              " 6229504,\n",
              " 6331625,\n",
              " 6434856,\n",
              " 6539203,\n",
              " 6644672,\n",
              " 6751269,\n",
              " 6859000,\n",
              " 6967871,\n",
              " 7077888,\n",
              " 7189057,\n",
              " 7301384,\n",
              " 7414875,\n",
              " 7529536,\n",
              " 7645373,\n",
              " 7762392,\n",
              " 7880599,\n",
              " 8000000,\n",
              " 8120601,\n",
              " 8242408,\n",
              " 8365427,\n",
              " 8489664,\n",
              " 8615125,\n",
              " 8741816,\n",
              " 8869743,\n",
              " 8998912,\n",
              " 9129329,\n",
              " 9261000,\n",
              " 9393931,\n",
              " 9528128,\n",
              " 9663597,\n",
              " 9800344,\n",
              " 9938375,\n",
              " 10077696,\n",
              " 10218313,\n",
              " 10360232,\n",
              " 10503459,\n",
              " 10648000,\n",
              " 10793861,\n",
              " 10941048,\n",
              " 11089567,\n",
              " 11239424,\n",
              " 11390625,\n",
              " 11543176,\n",
              " 11697083,\n",
              " 11852352,\n",
              " 12008989,\n",
              " 12167000,\n",
              " 12326391,\n",
              " 12487168,\n",
              " 12649337,\n",
              " 12812904,\n",
              " 12977875,\n",
              " 13144256,\n",
              " 13312053,\n",
              " 13481272,\n",
              " 13651919,\n",
              " 13824000,\n",
              " 13997521,\n",
              " 14172488,\n",
              " 14348907,\n",
              " 14526784,\n",
              " 14706125,\n",
              " 14886936,\n",
              " 15069223,\n",
              " 15252992,\n",
              " 15438249,\n",
              " 15625000,\n",
              " 15813251,\n",
              " 16003008,\n",
              " 16194277,\n",
              " 16387064,\n",
              " 16581375,\n",
              " 16777216,\n",
              " 16974593,\n",
              " 17173512,\n",
              " 17373979,\n",
              " 17576000,\n",
              " 17779581,\n",
              " 17984728,\n",
              " 18191447,\n",
              " 18399744,\n",
              " 18609625,\n",
              " 18821096,\n",
              " 19034163,\n",
              " 19248832,\n",
              " 19465109,\n",
              " 19683000,\n",
              " 19902511,\n",
              " 20123648,\n",
              " 20346417,\n",
              " 20570824,\n",
              " 20796875,\n",
              " 21024576,\n",
              " 21253933,\n",
              " 21484952,\n",
              " 21717639,\n",
              " 21952000,\n",
              " 22188041,\n",
              " 22425768,\n",
              " 22665187,\n",
              " 22906304,\n",
              " 23149125,\n",
              " 23393656,\n",
              " 23639903,\n",
              " 23887872,\n",
              " 24137569,\n",
              " 24389000,\n",
              " 24642171,\n",
              " 24897088,\n",
              " 25153757,\n",
              " 25412184,\n",
              " 25672375,\n",
              " 25934336,\n",
              " 26198073,\n",
              " 26463592,\n",
              " 26730899,\n",
              " 27000000,\n",
              " 27270901,\n",
              " 27543608,\n",
              " 27818127,\n",
              " 28094464,\n",
              " 28372625,\n",
              " 28652616,\n",
              " 28934443,\n",
              " 29218112,\n",
              " 29503629,\n",
              " 29791000,\n",
              " 30080231,\n",
              " 30371328,\n",
              " 30664297,\n",
              " 30959144,\n",
              " 31255875,\n",
              " 31554496,\n",
              " 31855013,\n",
              " 32157432,\n",
              " 32461759,\n",
              " 32768000,\n",
              " 33076161,\n",
              " 33386248,\n",
              " 33698267,\n",
              " 34012224,\n",
              " 34328125,\n",
              " 34645976,\n",
              " 34965783,\n",
              " 35287552,\n",
              " 35611289,\n",
              " 35937000,\n",
              " 36264691,\n",
              " 36594368,\n",
              " 36926037,\n",
              " 37259704,\n",
              " 37595375,\n",
              " 37933056,\n",
              " 38272753,\n",
              " 38614472,\n",
              " 38958219,\n",
              " 39304000,\n",
              " 39651821,\n",
              " 40001688,\n",
              " 40353607,\n",
              " 40707584,\n",
              " 41063625,\n",
              " 41421736,\n",
              " 41781923,\n",
              " 42144192,\n",
              " 42508549,\n",
              " 42875000,\n",
              " 43243551,\n",
              " 43614208,\n",
              " 43986977,\n",
              " 44361864,\n",
              " 44738875,\n",
              " 45118016,\n",
              " 45499293,\n",
              " 45882712,\n",
              " 46268279,\n",
              " 46656000,\n",
              " 47045881,\n",
              " 47437928,\n",
              " 47832147,\n",
              " 48228544,\n",
              " 48627125,\n",
              " 49027896,\n",
              " 49430863,\n",
              " 49836032,\n",
              " 50243409,\n",
              " 50653000,\n",
              " 51064811,\n",
              " 51478848,\n",
              " 51895117,\n",
              " 52313624,\n",
              " 52734375,\n",
              " 53157376,\n",
              " 53582633,\n",
              " 54010152,\n",
              " 54439939,\n",
              " 54872000,\n",
              " 55306341,\n",
              " 55742968,\n",
              " 56181887,\n",
              " 56623104,\n",
              " 57066625,\n",
              " 57512456,\n",
              " 57960603,\n",
              " 58411072,\n",
              " 58863869,\n",
              " 59319000,\n",
              " 59776471,\n",
              " 60236288,\n",
              " 60698457,\n",
              " 61162984,\n",
              " 61629875,\n",
              " 62099136,\n",
              " 62570773,\n",
              " 63044792,\n",
              " 63521199,\n",
              " 64000000,\n",
              " 64481201,\n",
              " 64964808,\n",
              " 65450827,\n",
              " 65939264,\n",
              " 66430125,\n",
              " 66923416,\n",
              " 67419143,\n",
              " 67917312,\n",
              " 68417929,\n",
              " 68921000,\n",
              " 69426531,\n",
              " 69934528,\n",
              " 70444997,\n",
              " 70957944,\n",
              " 71473375,\n",
              " 71991296,\n",
              " 72511713,\n",
              " 73034632,\n",
              " 73560059,\n",
              " 74088000,\n",
              " 74618461,\n",
              " 75151448,\n",
              " 75686967,\n",
              " 76225024,\n",
              " 76765625,\n",
              " 77308776,\n",
              " 77854483,\n",
              " 78402752,\n",
              " 78953589,\n",
              " 79507000,\n",
              " 80062991,\n",
              " 80621568,\n",
              " 81182737,\n",
              " 81746504,\n",
              " 82312875,\n",
              " 82881856,\n",
              " 83453453,\n",
              " 84027672,\n",
              " 84604519,\n",
              " 85184000,\n",
              " 85766121,\n",
              " 86350888,\n",
              " 86938307,\n",
              " 87528384,\n",
              " 88121125,\n",
              " 88716536,\n",
              " 89314623,\n",
              " 89915392,\n",
              " 90518849,\n",
              " 91125000,\n",
              " 91733851,\n",
              " 92345408,\n",
              " 92959677,\n",
              " 93576664,\n",
              " 94196375,\n",
              " 94818816,\n",
              " 95443993,\n",
              " 96071912,\n",
              " 96702579,\n",
              " 97336000,\n",
              " 97972181,\n",
              " 98611128,\n",
              " 99252847,\n",
              " 99897344,\n",
              " 100544625,\n",
              " 101194696,\n",
              " 101847563,\n",
              " 102503232,\n",
              " 103161709,\n",
              " 103823000,\n",
              " 104487111,\n",
              " 105154048,\n",
              " 105823817,\n",
              " 106496424,\n",
              " 107171875,\n",
              " 107850176,\n",
              " 108531333,\n",
              " 109215352,\n",
              " 109902239,\n",
              " 110592000,\n",
              " 111284641,\n",
              " 111980168,\n",
              " 112678587,\n",
              " 113379904,\n",
              " 114084125,\n",
              " 114791256,\n",
              " 115501303,\n",
              " 116214272,\n",
              " 116930169,\n",
              " 117649000,\n",
              " 118370771,\n",
              " 119095488,\n",
              " 119823157,\n",
              " 120553784,\n",
              " 121287375,\n",
              " 122023936,\n",
              " 122763473,\n",
              " 123505992,\n",
              " 124251499,\n",
              " 125000000,\n",
              " 125751501,\n",
              " 126506008,\n",
              " 127263527,\n",
              " 128024064,\n",
              " 128787625,\n",
              " 129554216,\n",
              " 130323843,\n",
              " 131096512,\n",
              " 131872229,\n",
              " 132651000,\n",
              " 133432831,\n",
              " 134217728,\n",
              " 135005697,\n",
              " 135796744,\n",
              " 136590875,\n",
              " 137388096,\n",
              " 138188413,\n",
              " 138991832,\n",
              " 139798359,\n",
              " 140608000,\n",
              " 141420761,\n",
              " 142236648,\n",
              " 143055667,\n",
              " 143877824,\n",
              " 144703125,\n",
              " 145531576,\n",
              " 146363183,\n",
              " 147197952,\n",
              " 148035889,\n",
              " 148877000,\n",
              " 149721291,\n",
              " 150568768,\n",
              " 151419437,\n",
              " 152273304,\n",
              " 153130375,\n",
              " 153990656,\n",
              " 154854153,\n",
              " 155720872,\n",
              " 156590819,\n",
              " 157464000,\n",
              " 158340421,\n",
              " 159220088,\n",
              " 160103007,\n",
              " 160989184,\n",
              " 161878625,\n",
              " 162771336,\n",
              " 163667323,\n",
              " 164566592,\n",
              " 165469149,\n",
              " 166375000,\n",
              " 167284151,\n",
              " 168196608,\n",
              " 169112377,\n",
              " 170031464,\n",
              " 170953875,\n",
              " 171879616,\n",
              " 172808693,\n",
              " 173741112,\n",
              " 174676879,\n",
              " 175616000,\n",
              " 176558481,\n",
              " 177504328,\n",
              " 178453547,\n",
              " 179406144,\n",
              " 180362125,\n",
              " 181321496,\n",
              " 182284263,\n",
              " 183250432,\n",
              " 184220009,\n",
              " 185193000,\n",
              " 186169411,\n",
              " 187149248,\n",
              " 188132517,\n",
              " 189119224,\n",
              " 190109375,\n",
              " 191102976,\n",
              " 192100033,\n",
              " 193100552,\n",
              " 194104539,\n",
              " 195112000,\n",
              " 196122941,\n",
              " 197137368,\n",
              " 198155287,\n",
              " 199176704,\n",
              " 200201625,\n",
              " 201230056,\n",
              " 202262003,\n",
              " 203297472,\n",
              " 204336469,\n",
              " 205379000,\n",
              " 206425071,\n",
              " 207474688,\n",
              " 208527857,\n",
              " 209584584,\n",
              " 210644875,\n",
              " 211708736,\n",
              " 212776173,\n",
              " 213847192,\n",
              " 214921799,\n",
              " 216000000,\n",
              " 217081801,\n",
              " 218167208,\n",
              " 219256227,\n",
              " 220348864,\n",
              " 221445125,\n",
              " 222545016,\n",
              " 223648543,\n",
              " 224755712,\n",
              " 225866529,\n",
              " 226981000,\n",
              " 228099131,\n",
              " 229220928,\n",
              " 230346397,\n",
              " 231475544,\n",
              " 232608375,\n",
              " 233744896,\n",
              " 234885113,\n",
              " 236029032,\n",
              " 237176659,\n",
              " 238328000,\n",
              " 239483061,\n",
              " 240641848,\n",
              " 241804367,\n",
              " 242970624,\n",
              " 244140625,\n",
              " 245314376,\n",
              " 246491883,\n",
              " 247673152,\n",
              " 248858189,\n",
              " 250047000,\n",
              " 251239591,\n",
              " 252435968,\n",
              " 253636137,\n",
              " 254840104,\n",
              " 256047875,\n",
              " 257259456,\n",
              " 258474853,\n",
              " 259694072,\n",
              " 260917119,\n",
              " 262144000,\n",
              " 263374721,\n",
              " 264609288,\n",
              " 265847707,\n",
              " 267089984,\n",
              " 268336125,\n",
              " 269586136,\n",
              " 270840023,\n",
              " 272097792,\n",
              " 273359449,\n",
              " 274625000,\n",
              " 275894451,\n",
              " 277167808,\n",
              " 278445077,\n",
              " 279726264,\n",
              " 281011375,\n",
              " 282300416,\n",
              " 283593393,\n",
              " 284890312,\n",
              " 286191179,\n",
              " 287496000,\n",
              " 288804781,\n",
              " 290117528,\n",
              " 291434247,\n",
              " 292754944,\n",
              " 294079625,\n",
              " 295408296,\n",
              " 296740963,\n",
              " 298077632,\n",
              " 299418309,\n",
              " 300763000,\n",
              " 302111711,\n",
              " 303464448,\n",
              " 304821217,\n",
              " 306182024,\n",
              " 307546875,\n",
              " 308915776,\n",
              " 310288733,\n",
              " 311665752,\n",
              " 313046839,\n",
              " 314432000,\n",
              " 315821241,\n",
              " 317214568,\n",
              " 318611987,\n",
              " 320013504,\n",
              " 321419125,\n",
              " 322828856,\n",
              " 324242703,\n",
              " 325660672,\n",
              " 327082769,\n",
              " 328509000,\n",
              " 329939371,\n",
              " 331373888,\n",
              " 332812557,\n",
              " 334255384,\n",
              " 335702375,\n",
              " 337153536,\n",
              " 338608873,\n",
              " 340068392,\n",
              " 341532099,\n",
              " 343000000,\n",
              " 344472101,\n",
              " 345948408,\n",
              " 347428927,\n",
              " 348913664,\n",
              " 350402625,\n",
              " 351895816,\n",
              " 353393243,\n",
              " 354894912,\n",
              " 356400829,\n",
              " 357911000,\n",
              " 359425431,\n",
              " 360944128,\n",
              " 362467097,\n",
              " 363994344,\n",
              " 365525875,\n",
              " 367061696,\n",
              " 368601813,\n",
              " 370146232,\n",
              " 371694959,\n",
              " 373248000,\n",
              " 374805361,\n",
              " 376367048,\n",
              " 377933067,\n",
              " 379503424,\n",
              " 381078125,\n",
              " 382657176,\n",
              " 384240583,\n",
              " 385828352,\n",
              " 387420489,\n",
              " 389017000,\n",
              " 390617891,\n",
              " 392223168,\n",
              " 393832837,\n",
              " 395446904,\n",
              " 397065375,\n",
              " 398688256,\n",
              " 400315553,\n",
              " 401947272,\n",
              " 403583419,\n",
              " 405224000,\n",
              " 406869021,\n",
              " 408518488,\n",
              " 410172407,\n",
              " 411830784,\n",
              " 413493625,\n",
              " 415160936,\n",
              " 416832723,\n",
              " 418508992,\n",
              " 420189749,\n",
              " 421875000,\n",
              " 423564751,\n",
              " 425259008,\n",
              " 426957777,\n",
              " 428661064,\n",
              " 430368875,\n",
              " 432081216,\n",
              " 433798093,\n",
              " 435519512,\n",
              " 437245479,\n",
              " 438976000,\n",
              " 440711081,\n",
              " 442450728,\n",
              " 444194947,\n",
              " 445943744,\n",
              " 447697125,\n",
              " 449455096,\n",
              " 451217663,\n",
              " 452984832,\n",
              " 454756609,\n",
              " 456533000,\n",
              " 458314011,\n",
              " 460099648,\n",
              " 461889917,\n",
              " 463684824,\n",
              " 465484375,\n",
              " 467288576,\n",
              " 469097433,\n",
              " 470910952,\n",
              " 472729139,\n",
              " 474552000,\n",
              " 476379541,\n",
              " 478211768,\n",
              " 480048687,\n",
              " 481890304,\n",
              " 483736625,\n",
              " 485587656,\n",
              " 487443403,\n",
              " 489303872,\n",
              " 491169069,\n",
              " 493039000,\n",
              " 494913671,\n",
              " 496793088,\n",
              " 498677257,\n",
              " 500566184,\n",
              " 502459875,\n",
              " 504358336,\n",
              " 506261573,\n",
              " 508169592,\n",
              " 510082399,\n",
              " 512000000,\n",
              " 513922401,\n",
              " 515849608,\n",
              " 517781627,\n",
              " 519718464,\n",
              " 521660125,\n",
              " 523606616,\n",
              " 525557943,\n",
              " 527514112,\n",
              " 529475129,\n",
              " 531441000,\n",
              " 533411731,\n",
              " 535387328,\n",
              " 537367797,\n",
              " 539353144,\n",
              " 541343375,\n",
              " 543338496,\n",
              " 545338513,\n",
              " 547343432,\n",
              " 549353259,\n",
              " 551368000,\n",
              " 553387661,\n",
              " 555412248,\n",
              " 557441767,\n",
              " 559476224,\n",
              " 561515625,\n",
              " 563559976,\n",
              " 565609283,\n",
              " 567663552,\n",
              " 569722789,\n",
              " 571787000,\n",
              " 573856191,\n",
              " 575930368,\n",
              " 578009537,\n",
              " 580093704,\n",
              " 582182875,\n",
              " 584277056,\n",
              " 586376253,\n",
              " 588480472,\n",
              " 590589719,\n",
              " 592704000,\n",
              " 594823321,\n",
              " 596947688,\n",
              " 599077107,\n",
              " 601211584,\n",
              " 603351125,\n",
              " 605495736,\n",
              " 607645423,\n",
              " 609800192,\n",
              " 611960049,\n",
              " 614125000,\n",
              " 616295051,\n",
              " 618470208,\n",
              " 620650477,\n",
              " 622835864,\n",
              " 625026375,\n",
              " 627222016,\n",
              " 629422793,\n",
              " 631628712,\n",
              " 633839779,\n",
              " 636056000,\n",
              " 638277381,\n",
              " 640503928,\n",
              " 642735647,\n",
              " 644972544,\n",
              " 647214625,\n",
              " 649461896,\n",
              " 651714363,\n",
              " 653972032,\n",
              " 656234909,\n",
              " 658503000,\n",
              " 660776311,\n",
              " 663054848,\n",
              " 665338617,\n",
              " 667627624,\n",
              " 669921875,\n",
              " 672221376,\n",
              " 674526133,\n",
              " 676836152,\n",
              " 679151439,\n",
              " 681472000,\n",
              " 683797841,\n",
              " 686128968,\n",
              " 688465387,\n",
              " 690807104,\n",
              " 693154125,\n",
              " 695506456,\n",
              " 697864103,\n",
              " 700227072,\n",
              " 702595369,\n",
              " 704969000,\n",
              " 707347971,\n",
              " 709732288,\n",
              " 712121957,\n",
              " 714516984,\n",
              " 716917375,\n",
              " 719323136,\n",
              " 721734273,\n",
              " 724150792,\n",
              " 726572699,\n",
              " 729000000,\n",
              " 731432701,\n",
              " 733870808,\n",
              " 736314327,\n",
              " 738763264,\n",
              " 741217625,\n",
              " 743677416,\n",
              " 746142643,\n",
              " 748613312,\n",
              " 751089429,\n",
              " 753571000,\n",
              " 756058031,\n",
              " 758550528,\n",
              " 761048497,\n",
              " 763551944,\n",
              " 766060875,\n",
              " 768575296,\n",
              " 771095213,\n",
              " 773620632,\n",
              " 776151559,\n",
              " 778688000,\n",
              " 781229961,\n",
              " 783777448,\n",
              " 786330467,\n",
              " 788889024,\n",
              " 791453125,\n",
              " 794022776,\n",
              " 796597983,\n",
              " 799178752,\n",
              " 801765089,\n",
              " 804357000,\n",
              " 806954491,\n",
              " 809557568,\n",
              " 812166237,\n",
              " 814780504,\n",
              " 817400375,\n",
              " 820025856,\n",
              " 822656953,\n",
              " 825293672,\n",
              " 827936019,\n",
              " 830584000,\n",
              " 833237621,\n",
              " 835896888,\n",
              " 838561807,\n",
              " 841232384,\n",
              " 843908625,\n",
              " 846590536,\n",
              " 849278123,\n",
              " 851971392,\n",
              " 854670349,\n",
              " 857375000,\n",
              " 860085351,\n",
              " 862801408,\n",
              " 865523177,\n",
              " 868250664,\n",
              " 870983875,\n",
              " 873722816,\n",
              " 876467493,\n",
              " 879217912,\n",
              " 881974079,\n",
              " 884736000,\n",
              " 887503681,\n",
              " 890277128,\n",
              " 893056347,\n",
              " 895841344,\n",
              " 898632125,\n",
              " 901428696,\n",
              " 904231063,\n",
              " 907039232,\n",
              " 909853209,\n",
              " 912673000,\n",
              " 915498611,\n",
              " 918330048,\n",
              " 921167317,\n",
              " 924010424,\n",
              " 926859375,\n",
              " 929714176,\n",
              " 932574833,\n",
              " 935441352,\n",
              " 938313739,\n",
              " 941192000,\n",
              " 944076141,\n",
              " 946966168,\n",
              " 949862087,\n",
              " 952763904,\n",
              " 955671625,\n",
              " 958585256,\n",
              " 961504803,\n",
              " 964430272,\n",
              " 967361669,\n",
              " 970299000,\n",
              " 973242271,\n",
              " 976191488,\n",
              " 979146657,\n",
              " 982107784,\n",
              " 985074875,\n",
              " 988047936,\n",
              " 991026973,\n",
              " 994011992,\n",
              " 997002999,\n",
              " ...]"
            ]
          },
          "metadata": {},
          "execution_count": 8
        }
      ]
    },
    {
      "cell_type": "code",
      "source": [
        "for i in withgenerator_cube(10):\n",
        "  print(i)"
      ],
      "metadata": {
        "colab": {
          "base_uri": "https://localhost:8080/"
        },
        "id": "7CUme8z9n_jh",
        "outputId": "04321402-c5c3-42ae-b3c9-aceeaa374581"
      },
      "execution_count": null,
      "outputs": [
        {
          "output_type": "stream",
          "name": "stdout",
          "text": [
            "0\n",
            "1\n",
            "8\n",
            "27\n",
            "64\n",
            "125\n",
            "216\n",
            "343\n",
            "512\n",
            "729\n"
          ]
        }
      ]
    },
    {
      "cell_type": "code",
      "source": [
        "def fib(n):\n",
        "  a = 0\n",
        "  b = 1\n",
        "  for i in range(n):\n",
        "    yield a,i \n",
        "    a, b = b, a+b"
      ],
      "metadata": {
        "id": "EREykuqeo9YS"
      },
      "execution_count": null,
      "outputs": []
    },
    {
      "cell_type": "code",
      "source": [
        "for i in fib(50):\n",
        "  print(i)"
      ],
      "metadata": {
        "colab": {
          "base_uri": "https://localhost:8080/"
        },
        "id": "eSCxluVyrVhf",
        "outputId": "c0b4ae1d-46eb-4b2f-e7e2-6a5274c29faf"
      },
      "execution_count": null,
      "outputs": [
        {
          "output_type": "stream",
          "name": "stdout",
          "text": [
            "(0, 0)\n",
            "(1, 1)\n",
            "(1, 2)\n",
            "(2, 3)\n",
            "(3, 4)\n",
            "(5, 5)\n",
            "(8, 6)\n",
            "(13, 7)\n",
            "(21, 8)\n",
            "(34, 9)\n",
            "(55, 10)\n",
            "(89, 11)\n",
            "(144, 12)\n",
            "(233, 13)\n",
            "(377, 14)\n",
            "(610, 15)\n",
            "(987, 16)\n",
            "(1597, 17)\n",
            "(2584, 18)\n",
            "(4181, 19)\n",
            "(6765, 20)\n",
            "(10946, 21)\n",
            "(17711, 22)\n",
            "(28657, 23)\n",
            "(46368, 24)\n",
            "(75025, 25)\n",
            "(121393, 26)\n",
            "(196418, 27)\n",
            "(317811, 28)\n",
            "(514229, 29)\n",
            "(832040, 30)\n",
            "(1346269, 31)\n",
            "(2178309, 32)\n",
            "(3524578, 33)\n",
            "(5702887, 34)\n",
            "(9227465, 35)\n",
            "(14930352, 36)\n",
            "(24157817, 37)\n",
            "(39088169, 38)\n",
            "(63245986, 39)\n",
            "(102334155, 40)\n",
            "(165580141, 41)\n",
            "(267914296, 42)\n",
            "(433494437, 43)\n",
            "(701408733, 44)\n",
            "(1134903170, 45)\n",
            "(1836311903, 46)\n",
            "(2971215073, 47)\n",
            "(4807526976, 48)\n",
            "(7778742049, 49)\n"
          ]
        }
      ]
    },
    {
      "cell_type": "code",
      "source": [
        "def print_fib(n):\n",
        "  a = 0\n",
        "  b = 1\n",
        "  for i in range(n):\n",
        "    print(type(print(a)))        #--> return none type when we pass high number so we canot perform any operations on result or if we use list then it will not return result until it saves all result in list.\n",
        "    a, b = b, a+b\n"
      ],
      "metadata": {
        "id": "IiTXu1_UrXwt"
      },
      "execution_count": null,
      "outputs": []
    },
    {
      "cell_type": "code",
      "source": [
        "print_fib(10)"
      ],
      "metadata": {
        "colab": {
          "base_uri": "https://localhost:8080/"
        },
        "id": "aHknsiVEsIhq",
        "outputId": "4a4ac00e-5891-42c6-a919-340cc33e69e9"
      },
      "execution_count": null,
      "outputs": [
        {
          "output_type": "stream",
          "name": "stdout",
          "text": [
            "0\n",
            "<class 'NoneType'>\n",
            "1\n",
            "<class 'NoneType'>\n",
            "1\n",
            "<class 'NoneType'>\n",
            "2\n",
            "<class 'NoneType'>\n",
            "3\n",
            "<class 'NoneType'>\n",
            "5\n",
            "<class 'NoneType'>\n",
            "8\n",
            "<class 'NoneType'>\n",
            "13\n",
            "<class 'NoneType'>\n",
            "21\n",
            "<class 'NoneType'>\n",
            "34\n",
            "<class 'NoneType'>\n"
          ]
        }
      ]
    },
    {
      "cell_type": "code",
      "source": [
        "!ls -lrt"
      ],
      "metadata": {
        "colab": {
          "base_uri": "https://localhost:8080/"
        },
        "id": "LM0gRpvOsKVr",
        "outputId": "e8ac5c92-32b4-4cd2-9da9-6ab824ea0a0c"
      },
      "execution_count": null,
      "outputs": [
        {
          "output_type": "stream",
          "name": "stdout",
          "text": [
            "total 4\n",
            "drwxr-xr-x 1 root root 4096 Dec  9 14:37 sample_data\n"
          ]
        }
      ]
    },
    {
      "cell_type": "code",
      "source": [
        "%ls -lrt"
      ],
      "metadata": {
        "colab": {
          "base_uri": "https://localhost:8080/"
        },
        "id": "a6kJHwqxzzjp",
        "outputId": "84c83789-5f60-4181-86e3-49b3fd51f96b"
      },
      "execution_count": null,
      "outputs": [
        {
          "output_type": "stream",
          "name": "stdout",
          "text": [
            "total 4\n",
            "drwxr-xr-x 1 root root 4096 Dec  9 14:37 \u001b[0m\u001b[01;34msample_data\u001b[0m/\n"
          ]
        }
      ]
    },
    {
      "cell_type": "code",
      "source": [
        "f = open(\"sample_file\", \"w\")\n",
        "f.write(\"Hello This is shantayya, executing file moduel in python\")\n",
        "f.close()\n",
        "\n",
        "# r --> default read mode\n",
        "# r+ --> read + write\n",
        "# w --> write mode\n",
        "# a --> append mode\n",
        "# rb+ -> read write binary mode"
      ],
      "metadata": {
        "id": "AE6RmJq60DYa"
      },
      "execution_count": null,
      "outputs": []
    },
    {
      "cell_type": "code",
      "source": [
        "!ls -lrt"
      ],
      "metadata": {
        "colab": {
          "base_uri": "https://localhost:8080/"
        },
        "id": "W8k4vLfh035Q",
        "outputId": "c25c40c8-914e-409f-f742-433c5c8179a1"
      },
      "execution_count": null,
      "outputs": [
        {
          "output_type": "stream",
          "name": "stdout",
          "text": [
            "total 8\n",
            "drwxr-xr-x 1 root root 4096 Dec  9 14:37 sample_data\n",
            "-rw-r--r-- 1 root root   56 Dec 13 04:52 sample_file\n"
          ]
        }
      ]
    },
    {
      "cell_type": "code",
      "source": [
        "!cat sample_file"
      ],
      "metadata": {
        "colab": {
          "base_uri": "https://localhost:8080/"
        },
        "id": "OkpQox5d05r5",
        "outputId": "64706122-5972-4098-ca98-bf4e63f6b6dc"
      },
      "execution_count": null,
      "outputs": [
        {
          "output_type": "stream",
          "name": "stdout",
          "text": [
            "Hello This is shantayya, executing file moduel in python"
          ]
        }
      ]
    },
    {
      "cell_type": "code",
      "source": [
        "%%writefile file1.txt\n",
        "Hello world\n",
        "shantayya\n",
        "Hello\n",
        "1\n",
        "2\n",
        "3"
      ],
      "metadata": {
        "colab": {
          "base_uri": "https://localhost:8080/"
        },
        "id": "Mnur1uCU08ge",
        "outputId": "babb3b09-d087-4682-d46f-cc7d27625ddb"
      },
      "execution_count": null,
      "outputs": [
        {
          "output_type": "stream",
          "name": "stdout",
          "text": [
            "Writing file1.txt\n"
          ]
        }
      ]
    },
    {
      "cell_type": "code",
      "source": [
        "!cat file1.txt"
      ],
      "metadata": {
        "colab": {
          "base_uri": "https://localhost:8080/"
        },
        "id": "exl2wraJ1ekE",
        "outputId": "5801b365-e01d-40f6-f4e8-5225f20caa09"
      },
      "execution_count": null,
      "outputs": [
        {
          "output_type": "stream",
          "name": "stdout",
          "text": [
            "Hello world\n"
          ]
        }
      ]
    },
    {
      "cell_type": "code",
      "source": [
        "f = open(\"sample_file\")\n",
        "f.read()"
      ],
      "metadata": {
        "colab": {
          "base_uri": "https://localhost:8080/",
          "height": 35
        },
        "id": "T8E5EGJB1ha3",
        "outputId": "5dbef55b-5a21-48e7-fa0f-28c42ea0ff3f"
      },
      "execution_count": null,
      "outputs": [
        {
          "output_type": "execute_result",
          "data": {
            "text/plain": [
              "'Hello This is shantayya, executing file moduel in python'"
            ],
            "application/vnd.google.colaboratory.intrinsic+json": {
              "type": "string"
            }
          },
          "metadata": {},
          "execution_count": 38
        }
      ]
    },
    {
      "cell_type": "code",
      "source": [
        "f.read()   #--> because cursor is at last position it returns none "
      ],
      "metadata": {
        "colab": {
          "base_uri": "https://localhost:8080/",
          "height": 35
        },
        "id": "EGM10L3R13kH",
        "outputId": "6352d5b0-324c-4837-bcdb-510fc3d94373"
      },
      "execution_count": null,
      "outputs": [
        {
          "output_type": "execute_result",
          "data": {
            "text/plain": [
              "''"
            ],
            "application/vnd.google.colaboratory.intrinsic+json": {
              "type": "string"
            }
          },
          "metadata": {},
          "execution_count": 39
        }
      ]
    },
    {
      "cell_type": "code",
      "source": [
        "# we need to reset cursor positon before we read again from file\n",
        "f.seek(0)\n",
        "f.read()"
      ],
      "metadata": {
        "colab": {
          "base_uri": "https://localhost:8080/",
          "height": 35
        },
        "id": "IyfwmWeB2CPh",
        "outputId": "e7c6fc3c-11e0-48e6-9935-fa296ed4e93d"
      },
      "execution_count": null,
      "outputs": [
        {
          "output_type": "execute_result",
          "data": {
            "text/plain": [
              "'Hello This is shantayya, executing file moduel in python'"
            ],
            "application/vnd.google.colaboratory.intrinsic+json": {
              "type": "string"
            }
          },
          "metadata": {},
          "execution_count": 41
        }
      ]
    },
    {
      "cell_type": "code",
      "source": [
        "f.tell() #--> tell me position of cursor"
      ],
      "metadata": {
        "colab": {
          "base_uri": "https://localhost:8080/"
        },
        "id": "nu5F7dfe2TFv",
        "outputId": "54b0a99e-13e2-4949-d4ef-f9eaa9eecd07"
      },
      "execution_count": null,
      "outputs": [
        {
          "output_type": "execute_result",
          "data": {
            "text/plain": [
              "56"
            ]
          },
          "metadata": {},
          "execution_count": 42
        }
      ]
    },
    {
      "cell_type": "code",
      "source": [
        "!cat file1.txt"
      ],
      "metadata": {
        "colab": {
          "base_uri": "https://localhost:8080/"
        },
        "id": "1cBZnITX3Z8C",
        "outputId": "ba137c05-5082-4f84-f209-4ee8fe0408c9"
      },
      "execution_count": null,
      "outputs": [
        {
          "output_type": "stream",
          "name": "stdout",
          "text": [
            "Hello world\n",
            "shantayya\n",
            "Hello\n",
            "1\n",
            "2\n",
            "3\n"
          ]
        }
      ]
    },
    {
      "cell_type": "code",
      "source": [
        "f = open(\"file1.txt\")    #---> r mode is default. r+ is read + write\n",
        "f.read()    #--> reads all data set"
      ],
      "metadata": {
        "colab": {
          "base_uri": "https://localhost:8080/",
          "height": 35
        },
        "id": "fauEmx-43nF1",
        "outputId": "d32d4dcb-779f-47a2-8d7f-8f9d146ac9d6"
      },
      "execution_count": null,
      "outputs": [
        {
          "output_type": "execute_result",
          "data": {
            "text/plain": [
              "'Hello world\\nshantayya\\nHello\\n1\\n2\\n3\\n'"
            ],
            "application/vnd.google.colaboratory.intrinsic+json": {
              "type": "string"
            }
          },
          "metadata": {},
          "execution_count": 48
        }
      ]
    },
    {
      "cell_type": "code",
      "source": [
        "f.seek(0)\n",
        "f.readline()    #--> reads one line at a time"
      ],
      "metadata": {
        "colab": {
          "base_uri": "https://localhost:8080/",
          "height": 35
        },
        "id": "Vc3ni05333hX",
        "outputId": "1b9a40e4-97c9-4c7b-e19e-07be3af2b9b9"
      },
      "execution_count": null,
      "outputs": [
        {
          "output_type": "execute_result",
          "data": {
            "text/plain": [
              "'Hello world\\n'"
            ],
            "application/vnd.google.colaboratory.intrinsic+json": {
              "type": "string"
            }
          },
          "metadata": {},
          "execution_count": 50
        }
      ]
    },
    {
      "cell_type": "code",
      "source": [
        "f.readline()"
      ],
      "metadata": {
        "colab": {
          "base_uri": "https://localhost:8080/",
          "height": 35
        },
        "id": "prvDDJZp36RR",
        "outputId": "32f68198-406d-46ba-d320-3a591935f8f1"
      },
      "execution_count": null,
      "outputs": [
        {
          "output_type": "execute_result",
          "data": {
            "text/plain": [
              "'shantayya\\n'"
            ],
            "application/vnd.google.colaboratory.intrinsic+json": {
              "type": "string"
            }
          },
          "metadata": {},
          "execution_count": 51
        }
      ]
    },
    {
      "cell_type": "code",
      "source": [
        "# if we want to rad file in proper format then we can use for loop\n",
        "f.seek(0)\n",
        "for i in f.read():\n",
        "  print(i,end='')"
      ],
      "metadata": {
        "colab": {
          "base_uri": "https://localhost:8080/"
        },
        "id": "odwywk4B40Zj",
        "outputId": "b6d4c209-9dd0-4dae-b327-3e3ac3cc9e1e"
      },
      "execution_count": null,
      "outputs": [
        {
          "output_type": "stream",
          "name": "stdout",
          "text": [
            "Hello world\n",
            "shantayya\n",
            "Hello\n",
            "1\n",
            "2\n",
            "3\n"
          ]
        }
      ]
    },
    {
      "cell_type": "code",
      "source": [
        "# read()             vs           readline()            vs readlines()\n",
        "#reads all data              reads one line at a time    reads one line at a time and put that in list\n"
      ],
      "metadata": {
        "id": "iYZQYtfh5AIZ"
      },
      "execution_count": null,
      "outputs": []
    },
    {
      "cell_type": "code",
      "source": [
        "# we can calcuate number of lines by len function \n",
        "f = open(\"file1.txt\",\"r+\")\n",
        "f.seek(0)\n",
        "len(f.readlines())"
      ],
      "metadata": {
        "colab": {
          "base_uri": "https://localhost:8080/"
        },
        "id": "HJ3yAERJ6XGZ",
        "outputId": "ab9245b5-6ebd-49ea-c27c-c4a9b51b7d9c"
      },
      "execution_count": null,
      "outputs": [
        {
          "output_type": "execute_result",
          "data": {
            "text/plain": [
              "6"
            ]
          },
          "metadata": {},
          "execution_count": 66
        }
      ]
    },
    {
      "cell_type": "code",
      "source": [
        "from collections import Counter\n",
        "f = open(\"file1.txt\",\"r+\")\n",
        "array = f.readlines()\n",
        "print(Counter(array))\n",
        "#print(array)\n",
        "#print(array.count('shantayya\\n'))"
      ],
      "metadata": {
        "colab": {
          "base_uri": "https://localhost:8080/",
          "height": 235
        },
        "id": "mULWLfVG63XY",
        "outputId": "dd5d7cf3-c368-4124-e098-a9dfd06f7dd3"
      },
      "execution_count": null,
      "outputs": [
        {
          "output_type": "error",
          "ename": "AttributeError",
          "evalue": "ignored",
          "traceback": [
            "\u001b[0;31m---------------------------------------------------------------------------\u001b[0m",
            "\u001b[0;31mAttributeError\u001b[0m                            Traceback (most recent call last)",
            "\u001b[0;32m<ipython-input-7-b65ace4c1bd4>\u001b[0m in \u001b[0;36m<module>\u001b[0;34m\u001b[0m\n\u001b[1;32m      2\u001b[0m \u001b[0mf\u001b[0m \u001b[0;34m=\u001b[0m \u001b[0mopen\u001b[0m\u001b[0;34m(\u001b[0m\u001b[0;34m\"file1.txt\"\u001b[0m\u001b[0;34m,\u001b[0m\u001b[0;34m\"r+\"\u001b[0m\u001b[0;34m)\u001b[0m\u001b[0;34m\u001b[0m\u001b[0;34m\u001b[0m\u001b[0m\n\u001b[1;32m      3\u001b[0m \u001b[0marray\u001b[0m \u001b[0;34m=\u001b[0m \u001b[0mf\u001b[0m\u001b[0;34m.\u001b[0m\u001b[0mreadlines\u001b[0m\u001b[0;34m(\u001b[0m\u001b[0;34m)\u001b[0m\u001b[0;34m\u001b[0m\u001b[0;34m\u001b[0m\u001b[0m\n\u001b[0;32m----> 4\u001b[0;31m \u001b[0mprint\u001b[0m\u001b[0;34m(\u001b[0m\u001b[0mCounter\u001b[0m\u001b[0;34m(\u001b[0m\u001b[0marray\u001b[0m\u001b[0;34m.\u001b[0m\u001b[0msplit\u001b[0m\u001b[0;34m(\u001b[0m\u001b[0;34m\"\"\u001b[0m\u001b[0;34m)\u001b[0m\u001b[0;34m)\u001b[0m\u001b[0;34m)\u001b[0m\u001b[0;34m\u001b[0m\u001b[0;34m\u001b[0m\u001b[0m\n\u001b[0m\u001b[1;32m      5\u001b[0m \u001b[0;31m#print(array)\u001b[0m\u001b[0;34m\u001b[0m\u001b[0;34m\u001b[0m\u001b[0;34m\u001b[0m\u001b[0m\n\u001b[1;32m      6\u001b[0m \u001b[0;31m#print(array.count('shantayya\\n'))\u001b[0m\u001b[0;34m\u001b[0m\u001b[0;34m\u001b[0m\u001b[0;34m\u001b[0m\u001b[0m\n",
            "\u001b[0;31mAttributeError\u001b[0m: 'list' object has no attribute 'split'"
          ]
        }
      ]
    },
    {
      "cell_type": "code",
      "source": [
        "%%writefile generator.txt\n",
        "Generator functions allow you to declare a function that behaves like an iterator, i.e. it can be used in a for loop.\n",
        "\n",
        "Simplified Code\n",
        "The simplification of code is a result of generator function and generator expression support provided by Python.\n",
        "\n",
        "To illustrate this, we will compare different implementations that implement a function, \"firstn\", that represents the first n non-negative integers, where n is a really big number, and assume (for the sake of the examples in this section) that each integer takes up a lot of space, say 10 megabytes each.\n",
        "\n",
        "Note: Please note that in real life, integers do not take up that much space, unless they are really, really, really, big integers. For instance you can represent a 309 digit number with 128 bytes (add some overhead, it will still be less than 150 bytes).\n",
        "\n",
        "First, let us consider the simple example of building a list and returning it."
      ],
      "metadata": {
        "colab": {
          "base_uri": "https://localhost:8080/"
        },
        "id": "8Nf38fQaCK0H",
        "outputId": "0d6c44e0-817d-4bf2-8484-b3634ef6e5d0"
      },
      "execution_count": null,
      "outputs": [
        {
          "output_type": "stream",
          "name": "stdout",
          "text": [
            "Writing generator.txt\n"
          ]
        }
      ]
    },
    {
      "cell_type": "code",
      "source": [
        "f = open(\"generator.txt\")\n",
        "l = f.readlines()\n",
        "print(l[0].split())  #---> gives first line words\n"
      ],
      "metadata": {
        "colab": {
          "base_uri": "https://localhost:8080/"
        },
        "id": "0CCeBnyoDHoZ",
        "outputId": "675db31f-f0e0-49b0-80ec-2e87e31a4667"
      },
      "execution_count": null,
      "outputs": [
        {
          "output_type": "stream",
          "name": "stdout",
          "text": [
            "['Generator', 'functions', 'allow', 'you', 'to', 'declare', 'a', 'function', 'that', 'behaves', 'like', 'an', 'iterator,', 'i.e.', 'it', 'can', 'be', 'used', 'in', 'a', 'for', 'loop.']\n"
          ]
        }
      ]
    },
    {
      "cell_type": "code",
      "source": [
        "list1 =[]\n",
        "for i in l[0].split():\n",
        "  list1.append(i[0])\n",
        "print(list1)\n",
        "\n",
        "Counter(list1)\n",
        "# unique = []\n",
        "# for i in list1:\n",
        "#   if i not in unique:\n",
        "#     unique.append(i)\n",
        "\n",
        "# print(unique)\n",
        "\n",
        "# for i in unique:\n",
        "#   count = 0\n",
        "#   count = list1.count(i)\n",
        "#   print(i,count)\n",
        "\n"
      ],
      "metadata": {
        "colab": {
          "base_uri": "https://localhost:8080/"
        },
        "id": "CeRB6V5bDMUk",
        "outputId": "26880d15-af48-4dde-dd20-3f2110fe069a"
      },
      "execution_count": null,
      "outputs": [
        {
          "output_type": "stream",
          "name": "stdout",
          "text": [
            "['G', 'f', 'a', 'y', 't', 'd', 'a', 'f', 't', 'b', 'l', 'a', 'i', 'i', 'i', 'c', 'b', 'u', 'i', 'a', 'f', 'l']\n"
          ]
        },
        {
          "output_type": "execute_result",
          "data": {
            "text/plain": [
              "Counter({'G': 1,\n",
              "         'f': 3,\n",
              "         'a': 4,\n",
              "         'y': 1,\n",
              "         't': 2,\n",
              "         'd': 1,\n",
              "         'b': 2,\n",
              "         'l': 2,\n",
              "         'i': 4,\n",
              "         'c': 1,\n",
              "         'u': 1})"
            ]
          },
          "metadata": {},
          "execution_count": 22
        }
      ]
    },
    {
      "cell_type": "code",
      "source": [
        "f.close()"
      ],
      "metadata": {
        "id": "iOgCnTCnDz1G"
      },
      "execution_count": null,
      "outputs": []
    },
    {
      "cell_type": "code",
      "source": [
        "!rm -rf generator.txt"
      ],
      "metadata": {
        "id": "BLaBA0MiHp3a"
      },
      "execution_count": null,
      "outputs": []
    },
    {
      "cell_type": "code",
      "source": [
        "!ls -lrt *.txt"
      ],
      "metadata": {
        "colab": {
          "base_uri": "https://localhost:8080/"
        },
        "id": "unz2oi6zHsLv",
        "outputId": "50d24ca4-e940-40be-da13-655e52cc96d5"
      },
      "execution_count": null,
      "outputs": [
        {
          "output_type": "stream",
          "name": "stdout",
          "text": [
            "-rw-r--r-- 1 root root  34 Dec 15 04:40 file1.txt\n",
            "-rw-r--r-- 1 root root 893 Dec 15 04:51 generator.txt\n"
          ]
        }
      ]
    },
    {
      "cell_type": "code",
      "source": [
        "# Exception handling\n",
        "# because of error in code the subsequent code fails to execute and throws error so its always recoomended to handle exception\n",
        "# exception handling ovly covers run time error but not compile time errors\n",
        "l = [1,2,3,4,5,6,7,8]\n",
        "for i in range(len(l)+1):\n",
        "  print(l[i])\n"
      ],
      "metadata": {
        "colab": {
          "base_uri": "https://localhost:8080/",
          "height": 339
        },
        "id": "NzBkclBcIyZm",
        "outputId": "90da3968-b8ae-43cb-d8ad-9f3033ea7b59"
      },
      "execution_count": null,
      "outputs": [
        {
          "output_type": "stream",
          "name": "stdout",
          "text": [
            "1\n",
            "2\n",
            "3\n",
            "4\n",
            "5\n",
            "6\n",
            "7\n",
            "8\n"
          ]
        },
        {
          "output_type": "error",
          "ename": "IndexError",
          "evalue": "ignored",
          "traceback": [
            "\u001b[0;31m---------------------------------------------------------------------------\u001b[0m",
            "\u001b[0;31mIndexError\u001b[0m                                Traceback (most recent call last)",
            "\u001b[0;32m<ipython-input-32-28f4fa125bda>\u001b[0m in \u001b[0;36m<module>\u001b[0;34m\u001b[0m\n\u001b[1;32m      4\u001b[0m \u001b[0ml\u001b[0m \u001b[0;34m=\u001b[0m \u001b[0;34m[\u001b[0m\u001b[0;36m1\u001b[0m\u001b[0;34m,\u001b[0m\u001b[0;36m2\u001b[0m\u001b[0;34m,\u001b[0m\u001b[0;36m3\u001b[0m\u001b[0;34m,\u001b[0m\u001b[0;36m4\u001b[0m\u001b[0;34m,\u001b[0m\u001b[0;36m5\u001b[0m\u001b[0;34m,\u001b[0m\u001b[0;36m6\u001b[0m\u001b[0;34m,\u001b[0m\u001b[0;36m7\u001b[0m\u001b[0;34m,\u001b[0m\u001b[0;36m8\u001b[0m\u001b[0;34m]\u001b[0m\u001b[0;34m\u001b[0m\u001b[0;34m\u001b[0m\u001b[0m\n\u001b[1;32m      5\u001b[0m \u001b[0;32mfor\u001b[0m \u001b[0mi\u001b[0m \u001b[0;32min\u001b[0m \u001b[0mrange\u001b[0m\u001b[0;34m(\u001b[0m\u001b[0mlen\u001b[0m\u001b[0;34m(\u001b[0m\u001b[0ml\u001b[0m\u001b[0;34m)\u001b[0m\u001b[0;34m+\u001b[0m\u001b[0;36m1\u001b[0m\u001b[0;34m)\u001b[0m\u001b[0;34m:\u001b[0m\u001b[0;34m\u001b[0m\u001b[0;34m\u001b[0m\u001b[0m\n\u001b[0;32m----> 6\u001b[0;31m   \u001b[0mprint\u001b[0m\u001b[0;34m(\u001b[0m\u001b[0ml\u001b[0m\u001b[0;34m[\u001b[0m\u001b[0mi\u001b[0m\u001b[0;34m]\u001b[0m\u001b[0;34m)\u001b[0m\u001b[0;34m\u001b[0m\u001b[0;34m\u001b[0m\u001b[0m\n\u001b[0m",
            "\u001b[0;31mIndexError\u001b[0m: list index out of range"
          ]
        }
      ]
    },
    {
      "cell_type": "code",
      "source": [
        "try:\n",
        "  for i in range(len(l)+1):\n",
        "    print(l[i])\n",
        "except:                          # --> we can use Exception calss to print default error messages\n",
        "  print(\"This is my code\")"
      ],
      "metadata": {
        "colab": {
          "base_uri": "https://localhost:8080/"
        },
        "id": "n5dLpXPzP1hT",
        "outputId": "48c1540b-00cf-4c21-f5e2-7843ebbf83e6"
      },
      "execution_count": null,
      "outputs": [
        {
          "output_type": "stream",
          "name": "stdout",
          "text": [
            "1\n",
            "2\n",
            "3\n",
            "4\n",
            "5\n",
            "6\n",
            "7\n",
            "8\n",
            "This is my code\n"
          ]
        }
      ]
    },
    {
      "cell_type": "code",
      "source": [
        "try:\n",
        "  for i in range(len(l)+1):\n",
        "    print(l[i])\n",
        "except Exception as e:  #--> Exception is a superclass for all kind of errors\n",
        "  print(e)\n",
        "print(\"Exception handled by the code\")"
      ],
      "metadata": {
        "colab": {
          "base_uri": "https://localhost:8080/"
        },
        "id": "Unc29JL6QK2-",
        "outputId": "e24403f3-a815-42e8-a938-03026e8d7e7b"
      },
      "execution_count": null,
      "outputs": [
        {
          "output_type": "stream",
          "name": "stdout",
          "text": [
            "1\n",
            "2\n",
            "3\n",
            "4\n",
            "5\n",
            "6\n",
            "7\n",
            "8\n",
            "list index out of range\n",
            "Exception handled by the code\n"
          ]
        }
      ]
    },
    {
      "cell_type": "code",
      "source": [
        "# write as many as try-except blocks to handle code issues because it will not increase time complexity \n",
        "# try-except-else --> else block wil get called only when try block is executed successfully. \n",
        "try:\n",
        "  f = open(\"try.txt\", \"w\")\n",
        "  f.write(\"I am writing code to try.txt\")\n",
        "except Exception as e:\n",
        "  print(e)\n",
        "else:\n",
        "  print(\"Code has been written to File\")\n",
        "  f.close()"
      ],
      "metadata": {
        "colab": {
          "base_uri": "https://localhost:8080/"
        },
        "id": "6RIld_oMQvYB",
        "outputId": "4ca55778-b3d4-4572-fbac-77ab7913d913"
      },
      "execution_count": null,
      "outputs": [
        {
          "output_type": "stream",
          "name": "stdout",
          "text": [
            "Code has been written to File\n"
          ]
        }
      ]
    },
    {
      "cell_type": "code",
      "source": [
        "try:\n",
        "  f = open(\"try.txt\", \"r\")\n",
        "  f.write(\"Hey, adding line to try.txt\")\n",
        "except Exception as e:\n",
        "  print(e)\n",
        "else:\n",
        "  print(\"Code has appended to try.txt\")\n",
        "  f.close()"
      ],
      "metadata": {
        "colab": {
          "base_uri": "https://localhost:8080/"
        },
        "id": "RI1XGK9OZyhF",
        "outputId": "6ff70e28-ddc0-40c4-8f3e-8faf61e7882a"
      },
      "execution_count": null,
      "outputs": [
        {
          "output_type": "stream",
          "name": "stdout",
          "text": [
            "not writable\n"
          ]
        }
      ]
    },
    {
      "cell_type": "code",
      "source": [
        "# finaly block--> will executed no matter what happens to try and except\n",
        "try: \n",
        "  f = open(\"finally.txt\", \"w\")\n",
        "  f.write(\"Adding line to finally\")\n",
        "except Exception as e:\n",
        "  print(e)\n",
        "else:\n",
        "  print(\"call this on execution of try block\")\n",
        "finally: \n",
        "  print(\"This block will always execute\")\n",
        "  f.close()"
      ],
      "metadata": {
        "id": "pT6LJR0raDIG"
      },
      "execution_count": null,
      "outputs": []
    },
    {
      "cell_type": "code",
      "source": [
        "def askint():\n",
        "  while True:\n",
        "   try:\n",
        "      a = int(input())\n",
        "   except:\n",
        "     print(\"Only Integers are accepted\")\n",
        "#     continue     \n",
        "   else:\n",
        "     print(\"Thanks for input integer\")\n",
        "     break"
      ],
      "metadata": {
        "id": "a9o1GJS6Z5oR"
      },
      "execution_count": 5,
      "outputs": []
    },
    {
      "cell_type": "code",
      "source": [
        "askint()"
      ],
      "metadata": {
        "id": "Iw8xZ7ECdrG3",
        "colab": {
          "base_uri": "https://localhost:8080/"
        },
        "outputId": "d33bf54f-44cb-4b09-aa74-f7da00e9e311"
      },
      "execution_count": 6,
      "outputs": [
        {
          "output_type": "stream",
          "name": "stdout",
          "text": [
            "1qw\n",
            "Only Integers are accepted\n",
            "12\n",
            "Thanks for input integer\n"
          ]
        }
      ]
    },
    {
      "cell_type": "code",
      "source": [
        "# Raise our own exception \n",
        "def test(n):\n",
        "  if n < 0:\n",
        "    raise Exception(\"Number is -negative\",n)\n",
        "  return n"
      ],
      "metadata": {
        "id": "yxm4h4GlNYYH"
      },
      "execution_count": 7,
      "outputs": []
    },
    {
      "cell_type": "code",
      "source": [
        "try:\n",
        "  test(-9)\n",
        "except Exception as e:\n",
        "  print(e)"
      ],
      "metadata": {
        "colab": {
          "base_uri": "https://localhost:8080/"
        },
        "id": "vsh9t2gjX7Pk",
        "outputId": "dfed748e-2166-4281-c279-2146d4399117"
      },
      "execution_count": 9,
      "outputs": [
        {
          "output_type": "stream",
          "name": "stdout",
          "text": [
            "('Number is -negative', -9)\n"
          ]
        }
      ]
    },
    {
      "cell_type": "code",
      "source": [],
      "metadata": {
        "id": "R3uvOu5IX9FS"
      },
      "execution_count": null,
      "outputs": []
    }
  ]
}