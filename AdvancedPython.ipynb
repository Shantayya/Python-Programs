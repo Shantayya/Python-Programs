{
  "nbformat": 4,
  "nbformat_minor": 0,
  "metadata": {
    "colab": {
      "name": "AdvancedPython.ipynb",
      "provenance": [],
      "collapsed_sections": [],
      "authorship_tag": "ABX9TyN526E83IhPNbsQ9C17jxVh",
      "include_colab_link": true
    },
    "kernelspec": {
      "name": "python3",
      "display_name": "Python 3"
    },
    "language_info": {
      "name": "python"
    }
  },
  "cells": [
    {
      "cell_type": "markdown",
      "metadata": {
        "id": "view-in-github",
        "colab_type": "text"
      },
      "source": [
        "<a href=\"https://colab.research.google.com/github/shantayya/Python-Projects/blob/main/AdvancedPython.ipynb\" target=\"_parent\"><img src=\"https://colab.research.google.com/assets/colab-badge.svg\" alt=\"Open In Colab\"/></a>"
      ]
    },
    {
      "cell_type": "code",
      "execution_count": null,
      "metadata": {
        "id": "Ac5P4lLw0DZl"
      },
      "outputs": [],
      "source": [
        "# Decorators\n",
        "def Hello(name):\n",
        "  print(f\"Hello {name}\")\n",
        "\n",
        "  def greet():\n",
        "    print(\"\\t thanks for greeting\")\n",
        "\n",
        "  def welcome():\n",
        "    print(\"\\t Welcome\")\n",
        "\n",
        "  return greet()"
      ]
    },
    {
      "cell_type": "code",
      "source": [
        "Hello('Shantayya')"
      ],
      "metadata": {
        "colab": {
          "base_uri": "https://localhost:8080/"
        },
        "id": "q4dVGewE191H",
        "outputId": "f2738779-e170-41a1-f281-a49d9f926e4f"
      },
      "execution_count": null,
      "outputs": [
        {
          "output_type": "stream",
          "name": "stdout",
          "text": [
            "Hello Shantayya\n",
            "\t thanks for greeting\n"
          ]
        }
      ]
    },
    {
      "cell_type": "code",
      "source": [
        "Hello"
      ],
      "metadata": {
        "colab": {
          "base_uri": "https://localhost:8080/"
        },
        "id": "hunwRt_61_zV",
        "outputId": "0abe3215-9aa7-4afb-be02-e86e7c02e379"
      },
      "execution_count": null,
      "outputs": [
        {
          "output_type": "execute_result",
          "data": {
            "text/plain": [
              "<function __main__.Hello(name)>"
            ]
          },
          "metadata": {},
          "execution_count": 13
        }
      ]
    },
    {
      "cell_type": "code",
      "source": [
        "def new_decorator(original_func):\n",
        " # def wrap():\n",
        "    print(\"Code, Before original function\")\n",
        "    original_func()\n",
        "    print(\"Code, after original function\")\n",
        "    return new_decorator"
      ],
      "metadata": {
        "id": "dggdCNtk2GDd"
      },
      "execution_count": null,
      "outputs": []
    },
    {
      "cell_type": "code",
      "source": [
        "@new_decorator\n",
        "def fun_needs_decorator():\n",
        "  print(\"I am adding exytra functionality as decorator\")"
      ],
      "metadata": {
        "colab": {
          "base_uri": "https://localhost:8080/"
        },
        "id": "hm3gsgih3xtB",
        "outputId": "67b9a9b3-2564-4cb1-a190-8be275f56c20"
      },
      "execution_count": null,
      "outputs": [
        {
          "output_type": "stream",
          "name": "stdout",
          "text": [
            "Code, Before original function\n",
            "I am adding exytra functionality as decorator\n",
            "Code, after original function\n"
          ]
        }
      ]
    },
    {
      "cell_type": "code",
      "source": [
        "# Generators"
      ],
      "metadata": {
        "id": "EppVP_cK46Cr"
      },
      "execution_count": null,
      "outputs": []
    },
    {
      "cell_type": "code",
      "source": [
        "def cube(n):\n",
        "  result = []\n",
        "  for i in range(n):\n",
        "    result.append(i**3)\n",
        "  return result"
      ],
      "metadata": {
        "id": "CHQQdmor6Bh7"
      },
      "execution_count": null,
      "outputs": []
    },
    {
      "cell_type": "code",
      "source": [
        "list(cube(8))"
      ],
      "metadata": {
        "colab": {
          "base_uri": "https://localhost:8080/"
        },
        "id": "f0NO_Tpp7Q2S",
        "outputId": "316b848a-64e9-4e3f-c9b8-128ab526421a"
      },
      "execution_count": null,
      "outputs": [
        {
          "output_type": "execute_result",
          "data": {
            "text/plain": [
              "[0, 1, 8, 27, 64, 125, 216, 343]"
            ]
          },
          "metadata": {},
          "execution_count": 43
        }
      ]
    },
    {
      "cell_type": "code",
      "source": [
        "def generate_cube(n):\n",
        "  for i in range(n):\n",
        "     yield i**3"
      ],
      "metadata": {
        "id": "RQjEzeiw7Sh-"
      },
      "execution_count": null,
      "outputs": []
    },
    {
      "cell_type": "code",
      "source": [
        "for i in generate_cube(10):\n",
        "  print(i)"
      ],
      "metadata": {
        "colab": {
          "base_uri": "https://localhost:8080/"
        },
        "id": "p4sMP8cn7X6k",
        "outputId": "6b451e54-0f74-4e58-8863-d024e018b864"
      },
      "execution_count": null,
      "outputs": [
        {
          "output_type": "stream",
          "name": "stdout",
          "text": [
            "0\n",
            "1\n",
            "8\n",
            "27\n",
            "64\n",
            "125\n",
            "216\n",
            "343\n",
            "512\n",
            "729\n"
          ]
        }
      ]
    },
    {
      "cell_type": "code",
      "source": [
        "def generate_fib(n):\n",
        "  a=1\n",
        "  b=1\n",
        "  for i in range(n):\n",
        "    yield a\n",
        "    a,b = b,a+b\n",
        "  "
      ],
      "metadata": {
        "id": "SxlMl8aZ8Z90"
      },
      "execution_count": null,
      "outputs": []
    },
    {
      "cell_type": "code",
      "source": [
        "list(generate_fib(9))"
      ],
      "metadata": {
        "colab": {
          "base_uri": "https://localhost:8080/"
        },
        "id": "t9ka_K4B9N-F",
        "outputId": "282c30d3-06e7-4c8d-d592-fc2766e20d4c"
      },
      "execution_count": null,
      "outputs": [
        {
          "output_type": "execute_result",
          "data": {
            "text/plain": [
              "[1, 1, 2, 3, 5, 8, 13, 21, 34]"
            ]
          },
          "metadata": {},
          "execution_count": 52
        }
      ]
    },
    {
      "cell_type": "code",
      "source": [
        "def sample_gen(n):\n",
        "  for i in range(n):\n",
        "    yield i"
      ],
      "metadata": {
        "id": "DV8i2OqA9RAD"
      },
      "execution_count": null,
      "outputs": []
    },
    {
      "cell_type": "code",
      "source": [
        "sample_gen(6)"
      ],
      "metadata": {
        "colab": {
          "base_uri": "https://localhost:8080/"
        },
        "id": "kCRmA48F-Caz",
        "outputId": "a32d5f31-0b56-4883-a24e-be3f11eed689"
      },
      "execution_count": null,
      "outputs": [
        {
          "output_type": "execute_result",
          "data": {
            "text/plain": [
              "<generator object sample_gen at 0x7f49570154d0>"
            ]
          },
          "metadata": {},
          "execution_count": 54
        }
      ]
    },
    {
      "cell_type": "code",
      "source": [
        "sample_gen(next)"
      ],
      "metadata": {
        "colab": {
          "base_uri": "https://localhost:8080/"
        },
        "id": "hHjIoDNW-Epq",
        "outputId": "c2e86baf-8b3d-4a4d-bf0c-88593c83697a"
      },
      "execution_count": null,
      "outputs": [
        {
          "output_type": "execute_result",
          "data": {
            "text/plain": [
              "<generator object sample_gen at 0x7f49570199d0>"
            ]
          },
          "metadata": {},
          "execution_count": 55
        }
      ]
    },
    {
      "cell_type": "code",
      "source": [
        "out = sample_gen(5)"
      ],
      "metadata": {
        "id": "f7EX1eKA-Lav"
      },
      "execution_count": null,
      "outputs": []
    },
    {
      "cell_type": "code",
      "source": [
        "print(next(out))"
      ],
      "metadata": {
        "colab": {
          "base_uri": "https://localhost:8080/"
        },
        "id": "5y5FBzxV-Xb0",
        "outputId": "9ded5420-1abd-433d-8380-49035b7e080e"
      },
      "execution_count": null,
      "outputs": [
        {
          "output_type": "stream",
          "name": "stdout",
          "text": [
            "2\n"
          ]
        }
      ]
    },
    {
      "cell_type": "code",
      "source": [
        "# yield iterate autmaticaly (behind the scene for loop executed to perform iteration)"
      ],
      "metadata": {
        "id": "8oG4GfvP-Z_d"
      },
      "execution_count": null,
      "outputs": []
    },
    {
      "cell_type": "code",
      "source": [
        "letter = 'Hello'\n",
        "for i in letter:\n",
        "  print(i)"
      ],
      "metadata": {
        "colab": {
          "base_uri": "https://localhost:8080/"
        },
        "id": "eINIWcO6-dKy",
        "outputId": "00b5ca63-c04b-4671-8d1e-a1a5259775cc"
      },
      "execution_count": null,
      "outputs": [
        {
          "output_type": "stream",
          "name": "stdout",
          "text": [
            "H\n",
            "e\n",
            "l\n",
            "l\n",
            "o\n"
          ]
        }
      ]
    },
    {
      "cell_type": "code",
      "source": [
        "print(next(i))"
      ],
      "metadata": {
        "colab": {
          "base_uri": "https://localhost:8080/",
          "height": 165
        },
        "id": "1n5u4QK9-634",
        "outputId": "53609e77-71ca-48ce-b801-ea8e7c32fb01"
      },
      "execution_count": null,
      "outputs": [
        {
          "output_type": "error",
          "ename": "TypeError",
          "evalue": "ignored",
          "traceback": [
            "\u001b[0;31m---------------------------------------------------------------------------\u001b[0m",
            "\u001b[0;31mTypeError\u001b[0m                                 Traceback (most recent call last)",
            "\u001b[0;32m<ipython-input-64-58c5a451ce44>\u001b[0m in \u001b[0;36m<module>\u001b[0;34m\u001b[0m\n\u001b[0;32m----> 1\u001b[0;31m \u001b[0mprint\u001b[0m\u001b[0;34m(\u001b[0m\u001b[0mnext\u001b[0m\u001b[0;34m(\u001b[0m\u001b[0mi\u001b[0m\u001b[0;34m)\u001b[0m\u001b[0;34m)\u001b[0m\u001b[0;34m\u001b[0m\u001b[0;34m\u001b[0m\u001b[0m\n\u001b[0m",
            "\u001b[0;31mTypeError\u001b[0m: 'str' object is not an iterator"
          ]
        }
      ]
    },
    {
      "cell_type": "code",
      "source": [
        "letter_iter = iter(letter)"
      ],
      "metadata": {
        "id": "ZB41KZm5_A_c"
      },
      "execution_count": null,
      "outputs": []
    },
    {
      "cell_type": "code",
      "source": [
        "print(next(letter_iter))"
      ],
      "metadata": {
        "colab": {
          "base_uri": "https://localhost:8080/"
        },
        "id": "Way7ZLsf_Kh3",
        "outputId": "2401ba22-0312-4eda-c1c9-52ffc8eb226b"
      },
      "execution_count": null,
      "outputs": [
        {
          "output_type": "stream",
          "name": "stdout",
          "text": [
            "e\n"
          ]
        }
      ]
    },
    {
      "cell_type": "code",
      "source": [
        "import random\n",
        "def randome(low,high,num):\n",
        "   for i in range(num):\n",
        "     yield random.randint(low,high)"
      ],
      "metadata": {
        "id": "yzY2wffX_MwC"
      },
      "execution_count": null,
      "outputs": []
    },
    {
      "cell_type": "code",
      "source": [
        "list(randome(1,4,12))"
      ],
      "metadata": {
        "colab": {
          "base_uri": "https://localhost:8080/"
        },
        "id": "bLIVEBwiCHn6",
        "outputId": "40844130-15f8-490d-f319-8f5b52131a12"
      },
      "execution_count": null,
      "outputs": [
        {
          "output_type": "execute_result",
          "data": {
            "text/plain": [
              "[2, 2, 3, 4, 3, 3, 3, 2, 4, 3, 1, 4]"
            ]
          },
          "metadata": {},
          "execution_count": 93
        }
      ]
    },
    {
      "cell_type": "code",
      "source": [
        "# Python Modules\n",
        "# Counter = count duplicates"
      ],
      "metadata": {
        "id": "UQSO9bUlCTYX"
      },
      "execution_count": null,
      "outputs": []
    },
    {
      "cell_type": "code",
      "source": [
        "from collections import Counter\n",
        "mylist = [1,1,1,1,1,1,1,2,3,2,1,2,1,2,1,4]\n",
        "Counter(mylist)\n"
      ],
      "metadata": {
        "colab": {
          "base_uri": "https://localhost:8080/"
        },
        "id": "XeSJ6fRMIENk",
        "outputId": "9224c5b8-e7ad-49b4-c0e9-20dd74effeda"
      },
      "execution_count": null,
      "outputs": [
        {
          "output_type": "execute_result",
          "data": {
            "text/plain": [
              "Counter({1: 10, 2: 4, 3: 1, 4: 1})"
            ]
          },
          "metadata": {},
          "execution_count": 97
        }
      ]
    },
    {
      "cell_type": "code",
      "source": [
        "name = 'shantayya, How are you doing man? How are all at home?'\n",
        "Counter(name.split())\n"
      ],
      "metadata": {
        "colab": {
          "base_uri": "https://localhost:8080/"
        },
        "id": "bxbXBPJIJKLB",
        "outputId": "1a984909-ab64-457f-c8ae-3e9e75cc825e"
      },
      "execution_count": null,
      "outputs": [
        {
          "output_type": "execute_result",
          "data": {
            "text/plain": [
              "Counter({'shantayya,': 1,\n",
              "         'How': 2,\n",
              "         'are': 2,\n",
              "         'you': 1,\n",
              "         'doing': 1,\n",
              "         'man?': 1,\n",
              "         'all': 1,\n",
              "         'at': 1,\n",
              "         'home?': 1})"
            ]
          },
          "metadata": {},
          "execution_count": 100
        }
      ]
    },
    {
      "cell_type": "code",
      "source": [
        "c = Counter(name)"
      ],
      "metadata": {
        "id": "AFswgl_NS7oH"
      },
      "execution_count": null,
      "outputs": []
    },
    {
      "cell_type": "code",
      "source": [
        "c"
      ],
      "metadata": {
        "colab": {
          "base_uri": "https://localhost:8080/"
        },
        "id": "Nh2H4GUHTbqX",
        "outputId": "cde5d6bf-3aaa-4c16-bcfd-0c9a1d9f6dcd"
      },
      "execution_count": null,
      "outputs": [
        {
          "output_type": "execute_result",
          "data": {
            "text/plain": [
              "Counter({'s': 1,\n",
              "         'h': 2,\n",
              "         'a': 8,\n",
              "         'n': 3,\n",
              "         't': 2,\n",
              "         'y': 3,\n",
              "         ',': 1,\n",
              "         ' ': 10,\n",
              "         'H': 2,\n",
              "         'o': 5,\n",
              "         'w': 2,\n",
              "         'r': 2,\n",
              "         'e': 3,\n",
              "         'u': 1,\n",
              "         'd': 1,\n",
              "         'i': 1,\n",
              "         'g': 1,\n",
              "         'm': 2,\n",
              "         '?': 2,\n",
              "         'l': 2})"
            ]
          },
          "metadata": {},
          "execution_count": 103
        }
      ]
    },
    {
      "cell_type": "code",
      "source": [
        "from collections import namedtuple\n",
        "dog = namedtuple(\"Dog\",[\"Name\",\"Age\",\"Breed\"])"
      ],
      "metadata": {
        "id": "ht9uQWqQTd0I"
      },
      "execution_count": null,
      "outputs": []
    },
    {
      "cell_type": "code",
      "source": [
        "dg = dog(\"Name=Sammy\",\"Age=4\",\"Breed=Husky\")"
      ],
      "metadata": {
        "id": "y_9j1B6bUxgB"
      },
      "execution_count": null,
      "outputs": []
    },
    {
      "cell_type": "code",
      "source": [
        "dg.Age"
      ],
      "metadata": {
        "colab": {
          "base_uri": "https://localhost:8080/",
          "height": 35
        },
        "id": "TWzcU574VAMg",
        "outputId": "91a0c50e-fa32-4981-e016-e419916f05ad"
      },
      "execution_count": null,
      "outputs": [
        {
          "output_type": "execute_result",
          "data": {
            "text/plain": [
              "'Age=4'"
            ],
            "application/vnd.google.colaboratory.intrinsic+json": {
              "type": "string"
            }
          },
          "metadata": {},
          "execution_count": 108
        }
      ]
    },
    {
      "cell_type": "code",
      "source": [
        "animal = namedtuple(\"Animal\",[\"Name\",\"Age\",\"Breed\"])"
      ],
      "metadata": {
        "id": "BkF4kZt9VDe-"
      },
      "execution_count": null,
      "outputs": []
    },
    {
      "cell_type": "code",
      "source": [
        "pet = animal(Name=\"Money\",Age=\"5\",Breed=\"Husky\")"
      ],
      "metadata": {
        "id": "b4tNRrJyVlPc"
      },
      "execution_count": null,
      "outputs": []
    },
    {
      "cell_type": "code",
      "source": [
        "pet.Age"
      ],
      "metadata": {
        "colab": {
          "base_uri": "https://localhost:8080/",
          "height": 35
        },
        "id": "OZCpoHSNV70l",
        "outputId": "f7f157a0-0e41-419f-c7a2-7fe8f0001ddc"
      },
      "execution_count": null,
      "outputs": [
        {
          "output_type": "execute_result",
          "data": {
            "text/plain": [
              "'5'"
            ],
            "application/vnd.google.colaboratory.intrinsic+json": {
              "type": "string"
            }
          },
          "metadata": {},
          "execution_count": 116
        }
      ]
    },
    {
      "cell_type": "code",
      "source": [
        "pet.Breed"
      ],
      "metadata": {
        "colab": {
          "base_uri": "https://localhost:8080/",
          "height": 35
        },
        "id": "ApPcSADfV9TA",
        "outputId": "d3914dcb-6450-4197-ad2f-d951517bd972"
      },
      "execution_count": null,
      "outputs": [
        {
          "output_type": "execute_result",
          "data": {
            "text/plain": [
              "'Husky'"
            ],
            "application/vnd.google.colaboratory.intrinsic+json": {
              "type": "string"
            }
          },
          "metadata": {},
          "execution_count": 117
        }
      ]
    },
    {
      "cell_type": "code",
      "source": [
        "pet[0]"
      ],
      "metadata": {
        "colab": {
          "base_uri": "https://localhost:8080/",
          "height": 35
        },
        "id": "uuT55GJ9WEWq",
        "outputId": "e3cd37b7-234b-46cb-c187-13d41c1253d1"
      },
      "execution_count": null,
      "outputs": [
        {
          "output_type": "execute_result",
          "data": {
            "text/plain": [
              "'Money'"
            ],
            "application/vnd.google.colaboratory.intrinsic+json": {
              "type": "string"
            }
          },
          "metadata": {},
          "execution_count": 118
        }
      ]
    },
    {
      "cell_type": "code",
      "source": [
        "f = open(\"test.txt\",\"+w\")\n",
        "f.write(\"Hello Shantayya\")\n",
        "f.close()"
      ],
      "metadata": {
        "id": "N1n2JoVpWMt9"
      },
      "execution_count": null,
      "outputs": []
    },
    {
      "cell_type": "code",
      "source": [
        "import os\n",
        "os.listdir()"
      ],
      "metadata": {
        "colab": {
          "base_uri": "https://localhost:8080/"
        },
        "id": "_hMLWBrSXQk2",
        "outputId": "3db6e5e4-0860-4b06-96e4-d06375910166"
      },
      "execution_count": null,
      "outputs": [
        {
          "output_type": "execute_result",
          "data": {
            "text/plain": [
              "['.config', 'test.txt', 'sample_data']"
            ]
          },
          "metadata": {},
          "execution_count": 128
        }
      ]
    },
    {
      "cell_type": "code",
      "source": [
        "os.getcwd()"
      ],
      "metadata": {
        "colab": {
          "base_uri": "https://localhost:8080/",
          "height": 35
        },
        "id": "IDeyNVhXXyjm",
        "outputId": "01b8f8cb-0b55-4383-fcd0-5116f8cda372"
      },
      "execution_count": null,
      "outputs": [
        {
          "output_type": "execute_result",
          "data": {
            "text/plain": [
              "'/content'"
            ],
            "application/vnd.google.colaboratory.intrinsic+json": {
              "type": "string"
            }
          },
          "metadata": {},
          "execution_count": 129
        }
      ]
    },
    {
      "cell_type": "code",
      "source": [
        "import datetime"
      ],
      "metadata": {
        "id": "hXlfY-jdYX5w"
      },
      "execution_count": null,
      "outputs": []
    },
    {
      "cell_type": "code",
      "source": [
        "print(datetime.date.today())"
      ],
      "metadata": {
        "colab": {
          "base_uri": "https://localhost:8080/"
        },
        "id": "Hsvfw9iMaCkb",
        "outputId": "a87ea851-2548-409c-b10a-128d3ee114ad"
      },
      "execution_count": null,
      "outputs": [
        {
          "output_type": "stream",
          "name": "stdout",
          "text": [
            "2022-08-20\n"
          ]
        }
      ]
    },
    {
      "cell_type": "code",
      "source": [
        "import random"
      ],
      "metadata": {
        "id": "11KEta7raIFx"
      },
      "execution_count": 1,
      "outputs": []
    },
    {
      "cell_type": "markdown",
      "source": [
        ""
      ],
      "metadata": {
        "id": "D-koRHZf3V43"
      }
    },
    {
      "cell_type": "code",
      "source": [
        "mylist = []\n",
        "for i in range(20):\n",
        "  mylist.append(i)"
      ],
      "metadata": {
        "id": "sYHd2L0g2fhQ"
      },
      "execution_count": 2,
      "outputs": []
    },
    {
      "cell_type": "code",
      "source": [
        "mylist"
      ],
      "metadata": {
        "colab": {
          "base_uri": "https://localhost:8080/"
        },
        "id": "-eOz58ge2nzb",
        "outputId": "110582da-2c05-4021-c61d-8b864dca241b"
      },
      "execution_count": 3,
      "outputs": [
        {
          "output_type": "execute_result",
          "data": {
            "text/plain": [
              "[0, 1, 2, 3, 4, 5, 6, 7, 8, 9, 10, 11, 12, 13, 14, 15, 16, 17, 18, 19]"
            ]
          },
          "metadata": {},
          "execution_count": 3
        }
      ]
    },
    {
      "cell_type": "code",
      "source": [
        "random.shuffle(mylist)"
      ],
      "metadata": {
        "id": "m4dQajMt2pjs"
      },
      "execution_count": 4,
      "outputs": []
    },
    {
      "cell_type": "code",
      "source": [
        "mylist"
      ],
      "metadata": {
        "colab": {
          "base_uri": "https://localhost:8080/"
        },
        "id": "l3tp7YXF2tH-",
        "outputId": "d833cae9-fe95-43b0-d3a9-d16f9e197573"
      },
      "execution_count": 5,
      "outputs": [
        {
          "output_type": "execute_result",
          "data": {
            "text/plain": [
              "[4, 1, 12, 19, 6, 2, 13, 8, 5, 11, 15, 16, 18, 17, 10, 0, 3, 7, 9, 14]"
            ]
          },
          "metadata": {},
          "execution_count": 5
        }
      ]
    },
    {
      "cell_type": "code",
      "source": [
        "random.choices(population=mylist,k=15)"
      ],
      "metadata": {
        "colab": {
          "base_uri": "https://localhost:8080/"
        },
        "id": "o4Lp1h_32wAy",
        "outputId": "a27f73a8-e1dd-413c-b2c3-92b73461d9ba"
      },
      "execution_count": 9,
      "outputs": [
        {
          "output_type": "execute_result",
          "data": {
            "text/plain": [
              "[1, 14, 17, 13, 19, 18, 14, 15, 13, 5, 15, 13, 9, 13, 17]"
            ]
          },
          "metadata": {},
          "execution_count": 9
        }
      ]
    },
    {
      "cell_type": "code",
      "source": [
        "random.sample(population=mylist, k=15)"
      ],
      "metadata": {
        "colab": {
          "base_uri": "https://localhost:8080/"
        },
        "id": "1WxfRwDD2yPe",
        "outputId": "2db13458-efc7-4512-dfb9-b49d194dcab9"
      },
      "execution_count": 10,
      "outputs": [
        {
          "output_type": "execute_result",
          "data": {
            "text/plain": [
              "[12, 5, 19, 10, 0, 14, 11, 15, 3, 7, 2, 1, 4, 9, 8]"
            ]
          },
          "metadata": {},
          "execution_count": 10
        }
      ]
    },
    {
      "cell_type": "code",
      "source": [
        "# regulater expression"
      ],
      "metadata": {
        "id": "mCcnrxVm3GTe"
      },
      "execution_count": 11,
      "outputs": []
    },
    {
      "cell_type": "code",
      "source": [
        "text = \"This is shantayya,Phone Call me tomorrow, Phone number is\""
      ],
      "metadata": {
        "id": "5cZ4blFD482b"
      },
      "execution_count": 12,
      "outputs": []
    },
    {
      "cell_type": "code",
      "source": [
        "pattern = \"Phone\""
      ],
      "metadata": {
        "id": "9khiUeZI6LMr"
      },
      "execution_count": 13,
      "outputs": []
    },
    {
      "cell_type": "code",
      "source": [
        "import re"
      ],
      "metadata": {
        "id": "T53Kiqwd6OCF"
      },
      "execution_count": 38,
      "outputs": []
    },
    {
      "cell_type": "code",
      "source": [
        "re.search(pattern,text)"
      ],
      "metadata": {
        "colab": {
          "base_uri": "https://localhost:8080/"
        },
        "id": "xzc16V1h6PLo",
        "outputId": "60b5faa5-c8c9-424b-c802-04579ea105c8"
      },
      "execution_count": 15,
      "outputs": [
        {
          "output_type": "execute_result",
          "data": {
            "text/plain": [
              "<re.Match object; span=(18, 23), match='Phone'>"
            ]
          },
          "metadata": {},
          "execution_count": 15
        }
      ]
    },
    {
      "cell_type": "code",
      "source": [
        "for i in re.finditer(pattern,text):\n",
        "  print(i)"
      ],
      "metadata": {
        "colab": {
          "base_uri": "https://localhost:8080/"
        },
        "id": "r4UfJ_cr6Scr",
        "outputId": "e4192636-cc7f-442c-d79b-d4e0e0f7fcb0"
      },
      "execution_count": 17,
      "outputs": [
        {
          "output_type": "stream",
          "name": "stdout",
          "text": [
            "<re.Match object; span=(18, 23), match='Phone'>\n",
            "<re.Match object; span=(42, 47), match='Phone'>\n"
          ]
        }
      ]
    },
    {
      "cell_type": "code",
      "source": [
        "# \\d - digit (0-9)\n",
        "#\\w - alphanumeric (a-z,0-9, _)\n",
        " # \\s - whitespace (' ')\n",
        "# \\D - non-digit (A-Z)\n",
        "# \\W - non-alphanumeric (*-+=@)\n",
        "# \\S - non-whitespace"
      ],
      "metadata": {
        "id": "ut-9iKy86a_m"
      },
      "execution_count": 18,
      "outputs": []
    },
    {
      "cell_type": "code",
      "source": [
        "# Quanitfiers\n",
        "# + - occurs once or more times\n",
        "# {3} - occurs 3 times\n",
        "# {2,4} - occurs 2 to 4 times\n",
        "# * - occurs zero to more times\n",
        "# ? - once or none"
      ],
      "metadata": {
        "id": "zh19-ORn7egF"
      },
      "execution_count": 19,
      "outputs": []
    },
    {
      "cell_type": "code",
      "source": [
        "text = \"This is Shan, with phone number 999-999-9876\""
      ],
      "metadata": {
        "id": "7ipen7Rc9OnR"
      },
      "execution_count": 52,
      "outputs": []
    },
    {
      "cell_type": "code",
      "source": [
        "match = re.search(r'\\d{3}-\\d{3}-\\d{4}',text)"
      ],
      "metadata": {
        "id": "AhxiQdCj98Xu"
      },
      "execution_count": 55,
      "outputs": []
    },
    {
      "cell_type": "code",
      "source": [
        "match"
      ],
      "metadata": {
        "colab": {
          "base_uri": "https://localhost:8080/"
        },
        "id": "XxBw9xLK-QaR",
        "outputId": "13ab64c6-2c0b-4a55-cb40-feac6724bcff"
      },
      "execution_count": 56,
      "outputs": [
        {
          "output_type": "execute_result",
          "data": {
            "text/plain": [
              "<re.Match object; span=(32, 44), match='999-999-9876'>"
            ]
          },
          "metadata": {},
          "execution_count": 56
        }
      ]
    },
    {
      "cell_type": "code",
      "source": [
        "match.group()"
      ],
      "metadata": {
        "colab": {
          "base_uri": "https://localhost:8080/",
          "height": 35
        },
        "id": "e5JNfe9T-xAe",
        "outputId": "f6317f59-e692-46e0-f82f-43d7bc059134"
      },
      "execution_count": 59,
      "outputs": [
        {
          "output_type": "execute_result",
          "data": {
            "text/plain": [
              "'999-999-9876'"
            ],
            "application/vnd.google.colaboratory.intrinsic+json": {
              "type": "string"
            }
          },
          "metadata": {},
          "execution_count": 59
        }
      ]
    },
    {
      "cell_type": "code",
      "source": [
        "match_group = re.search(re.compile(r'(\\d{3})-(\\d{3})-(\\d{4})'),text)"
      ],
      "metadata": {
        "id": "1FrjHiMHAKpL"
      },
      "execution_count": 70,
      "outputs": []
    },
    {
      "cell_type": "code",
      "source": [
        "match_group"
      ],
      "metadata": {
        "colab": {
          "base_uri": "https://localhost:8080/"
        },
        "id": "EMM4TQvQAU--",
        "outputId": "83897aa5-fe3e-4321-e5d7-0fb18203c368"
      },
      "execution_count": 71,
      "outputs": [
        {
          "output_type": "execute_result",
          "data": {
            "text/plain": [
              "<re.Match object; span=(32, 44), match='999-999-9876'>"
            ]
          },
          "metadata": {},
          "execution_count": 71
        }
      ]
    },
    {
      "cell_type": "code",
      "source": [
        "match_group.group(2)"
      ],
      "metadata": {
        "colab": {
          "base_uri": "https://localhost:8080/",
          "height": 35
        },
        "id": "9fi_uxAzAyax",
        "outputId": "f9703968-f744-4b16-a136-78aea62c0478"
      },
      "execution_count": 73,
      "outputs": [
        {
          "output_type": "execute_result",
          "data": {
            "text/plain": [
              "'999'"
            ],
            "application/vnd.google.colaboratory.intrinsic+json": {
              "type": "string"
            }
          },
          "metadata": {},
          "execution_count": 73
        }
      ]
    },
    {
      "cell_type": "code",
      "source": [
        "re.search(r'cat|dog','cat name is dog')"
      ],
      "metadata": {
        "colab": {
          "base_uri": "https://localhost:8080/"
        },
        "id": "7SrvYHqWA1xB",
        "outputId": "321b10c0-bd36-47af-e4af-736e10962999"
      },
      "execution_count": 76,
      "outputs": [
        {
          "output_type": "execute_result",
          "data": {
            "text/plain": [
              "<re.Match object; span=(0, 3), match='cat'>"
            ]
          },
          "metadata": {},
          "execution_count": 76
        }
      ]
    },
    {
      "cell_type": "code",
      "source": [
        "re.findall(r'\\d','121cat name is money2')"
      ],
      "metadata": {
        "colab": {
          "base_uri": "https://localhost:8080/"
        },
        "id": "fn4ibxuEDsI_",
        "outputId": "4becee9b-7cf6-4c01-8f2a-31754d3a3553"
      },
      "execution_count": 95,
      "outputs": [
        {
          "output_type": "execute_result",
          "data": {
            "text/plain": [
              "['1', '2', '1', '2']"
            ]
          },
          "metadata": {},
          "execution_count": 95
        }
      ]
    },
    {
      "cell_type": "code",
      "source": [
        "re.findall(r'[^\\d]+','my name is 21 and 21stop now')   # [] exclude from list ^-starting with"
      ],
      "metadata": {
        "colab": {
          "base_uri": "https://localhost:8080/"
        },
        "id": "V_cGcRMZD3Sl",
        "outputId": "64bf493d-b807-4c1a-fd74-fc9c6b927452"
      },
      "execution_count": 99,
      "outputs": [
        {
          "output_type": "execute_result",
          "data": {
            "text/plain": [
              "['my name is ', ' and ', 'stop now']"
            ]
          },
          "metadata": {},
          "execution_count": 99
        }
      ]
    },
    {
      "cell_type": "code",
      "source": [
        "state = 'This is shant-ayya, and liv-ing in Pune..! really ?'\n",
        "punch = re.findall(r'[^,.!?]+',state)\n"
      ],
      "metadata": {
        "id": "PJnbjiwVFOPH"
      },
      "execution_count": 111,
      "outputs": []
    },
    {
      "cell_type": "code",
      "source": [
        "''.join(punch)\n"
      ],
      "metadata": {
        "colab": {
          "base_uri": "https://localhost:8080/",
          "height": 35
        },
        "id": "uuHAwOwFLKUG",
        "outputId": "ba6987d2-0949-487e-eaed-08dc5a6f3065"
      },
      "execution_count": 112,
      "outputs": [
        {
          "output_type": "execute_result",
          "data": {
            "text/plain": [
              "'This is shant-ayya and liv-ing in Pune really '"
            ],
            "application/vnd.google.colaboratory.intrinsic+json": {
              "type": "string"
            }
          },
          "metadata": {},
          "execution_count": 112
        }
      ]
    },
    {
      "cell_type": "code",
      "source": [
        "re.findall(r'[\\w]+-[\\w]+',state)"
      ],
      "metadata": {
        "colab": {
          "base_uri": "https://localhost:8080/"
        },
        "id": "0zU13njeLMfn",
        "outputId": "35cbfaa1-cdc8-4451-a565-42cbe27bf7ed"
      },
      "execution_count": 113,
      "outputs": [
        {
          "output_type": "execute_result",
          "data": {
            "text/plain": [
              "['shant-ayya', 'liv-ing']"
            ]
          },
          "metadata": {},
          "execution_count": 113
        }
      ]
    },
    {
      "cell_type": "code",
      "source": [
        "# time calculation of prgms"
      ],
      "metadata": {
        "id": "2rQnr3HaMjwM"
      },
      "execution_count": 114,
      "outputs": []
    },
    {
      "cell_type": "code",
      "source": [
        "def func_one(n):\n",
        "  return [str(num) for num in range(n)]"
      ],
      "metadata": {
        "id": "At3U-3IoNgTl"
      },
      "execution_count": 138,
      "outputs": []
    },
    {
      "cell_type": "code",
      "source": [
        "func_one(10)"
      ],
      "metadata": {
        "colab": {
          "base_uri": "https://localhost:8080/"
        },
        "id": "cpzucLbxNwSg",
        "outputId": "298ac600-a0f0-4a88-dece-949ce004594f"
      },
      "execution_count": 139,
      "outputs": [
        {
          "output_type": "execute_result",
          "data": {
            "text/plain": [
              "['0', '1', '2', '3', '4', '5', '6', '7', '8', '9']"
            ]
          },
          "metadata": {},
          "execution_count": 139
        }
      ]
    },
    {
      "cell_type": "code",
      "source": [
        "def func_two(n):\n",
        "  return list(map(str,range(n)))"
      ],
      "metadata": {
        "id": "MLWNvmV3ODe_"
      },
      "execution_count": 140,
      "outputs": []
    },
    {
      "cell_type": "code",
      "source": [
        "func_two(10)"
      ],
      "metadata": {
        "colab": {
          "base_uri": "https://localhost:8080/"
        },
        "id": "kKGIAWQgONOv",
        "outputId": "537cfa05-d701-4eec-c313-3fe698682556"
      },
      "execution_count": 141,
      "outputs": [
        {
          "output_type": "execute_result",
          "data": {
            "text/plain": [
              "['0', '1', '2', '3', '4', '5', '6', '7', '8', '9']"
            ]
          },
          "metadata": {},
          "execution_count": 141
        }
      ]
    },
    {
      "cell_type": "code",
      "source": [
        "import time"
      ],
      "metadata": {
        "id": "bNQJcbFPOPwj"
      },
      "execution_count": 125,
      "outputs": []
    },
    {
      "cell_type": "code",
      "source": [
        "# start os time\n",
        "startt = time.time()\n",
        "#call func\n",
        "func_one(10)\n",
        "#end os time\n",
        "endt = time.time()\n",
        "#calculate time taken by func\n",
        "timet = endt - startt\n",
        "print(timet)"
      ],
      "metadata": {
        "colab": {
          "base_uri": "https://localhost:8080/"
        },
        "id": "rCf21pfWOXk6",
        "outputId": "ce6fee20-fae6-4541-e9d7-830c656e1098"
      },
      "execution_count": 142,
      "outputs": [
        {
          "output_type": "stream",
          "name": "stdout",
          "text": [
            "4.8160552978515625e-05\n"
          ]
        }
      ]
    },
    {
      "cell_type": "code",
      "source": [
        "# start os time\n",
        "startt = time.time()\n",
        "#call func\n",
        "func_two(10)\n",
        "#end os time\n",
        "endt = time.time()\n",
        "#calculate time taken by func\n",
        "timet = endt - startt\n",
        "print(timet)"
      ],
      "metadata": {
        "colab": {
          "base_uri": "https://localhost:8080/"
        },
        "id": "qHS6_kPDOsBf",
        "outputId": "5bbde35e-5e35-43a4-c745-8f88c94c56c4"
      },
      "execution_count": 144,
      "outputs": [
        {
          "output_type": "stream",
          "name": "stdout",
          "text": [
            "5.0067901611328125e-05\n"
          ]
        }
      ]
    },
    {
      "cell_type": "code",
      "source": [
        "import timeit"
      ],
      "metadata": {
        "id": "795XI3vnOvjo"
      },
      "execution_count": 145,
      "outputs": []
    },
    {
      "cell_type": "code",
      "source": [
        "stat1 = '''\n",
        "func_one(100)\n",
        "'''"
      ],
      "metadata": {
        "id": "1TshcObVQ_u7"
      },
      "execution_count": 146,
      "outputs": []
    },
    {
      "cell_type": "code",
      "source": [
        "setup1 = '''\n",
        "def func_one(n):\n",
        "  return [str(num) for num in range(n)]\n",
        "  '''"
      ],
      "metadata": {
        "id": "cz__H4JzRH9b"
      },
      "execution_count": 147,
      "outputs": []
    },
    {
      "cell_type": "code",
      "source": [
        "stat2 = '''\n",
        "func_two(100)\n",
        "'''"
      ],
      "metadata": {
        "id": "IR4z6GQDROmk"
      },
      "execution_count": 148,
      "outputs": []
    },
    {
      "cell_type": "code",
      "source": [
        "setup2 = '''\n",
        "def func_two(n):\n",
        "  return list(map(str,range(n)))\n",
        "  '''\n"
      ],
      "metadata": {
        "id": "XXiChcs2RTfV"
      },
      "execution_count": 149,
      "outputs": []
    },
    {
      "cell_type": "code",
      "source": [
        "timeit. timeit(stat1,setup1,number = 1000000)"
      ],
      "metadata": {
        "colab": {
          "base_uri": "https://localhost:8080/"
        },
        "id": "10IzAAUnRYK5",
        "outputId": "4491a7bf-64fd-4c4f-8a20-68fa608a7a22"
      },
      "execution_count": 151,
      "outputs": [
        {
          "output_type": "execute_result",
          "data": {
            "text/plain": [
              "13.245047447000616"
            ]
          },
          "metadata": {},
          "execution_count": 151
        }
      ]
    },
    {
      "cell_type": "code",
      "source": [
        "timeit.timeit(stat2,setup2,number = 1000000)"
      ],
      "metadata": {
        "colab": {
          "base_uri": "https://localhost:8080/"
        },
        "id": "TAGMYQy0ReMM",
        "outputId": "4ab8d738-3475-47b5-8961-dd19a3ae998d"
      },
      "execution_count": 154,
      "outputs": [
        {
          "output_type": "execute_result",
          "data": {
            "text/plain": [
              "8.44709214500017"
            ]
          },
          "metadata": {},
          "execution_count": 154
        }
      ]
    },
    {
      "cell_type": "code",
      "source": [
        "%%timeit\n",
        "func_one(100)"
      ],
      "metadata": {
        "colab": {
          "base_uri": "https://localhost:8080/"
        },
        "id": "3potwxt-Rq5t",
        "outputId": "cf1044e8-f9e0-47f9-e989-78ba25e6ed6b"
      },
      "execution_count": 155,
      "outputs": [
        {
          "output_type": "stream",
          "name": "stdout",
          "text": [
            "15.2 µs ± 993 ns per loop (mean ± std. dev. of 7 runs, 100000 loops each)\n"
          ]
        }
      ]
    },
    {
      "cell_type": "code",
      "source": [
        "%%timeit\n",
        "func_two(100)"
      ],
      "metadata": {
        "colab": {
          "base_uri": "https://localhost:8080/"
        },
        "id": "ut-Pcg2hSCNz",
        "outputId": "9ef662df-04dc-4d39-9fbe-40926a039beb"
      },
      "execution_count": 156,
      "outputs": [
        {
          "output_type": "stream",
          "name": "stdout",
          "text": [
            "8.83 µs ± 90.5 ns per loop (mean ± std. dev. of 7 runs, 100000 loops each)\n"
          ]
        }
      ]
    },
    {
      "cell_type": "code",
      "source": [
        "# tar and untar in python"
      ],
      "metadata": {
        "id": "pj9cLNJPSFVU"
      },
      "execution_count": 157,
      "outputs": []
    },
    {
      "cell_type": "code",
      "source": [
        "import shutil"
      ],
      "metadata": {
        "id": "EIAVNF1PTbHN"
      },
      "execution_count": 158,
      "outputs": []
    },
    {
      "cell_type": "code",
      "source": [
        "pwd"
      ],
      "metadata": {
        "colab": {
          "base_uri": "https://localhost:8080/",
          "height": 35
        },
        "id": "sCGmvLfzTc3H",
        "outputId": "d7a1185c-3a48-4e8d-c1a5-5608965e76b9"
      },
      "execution_count": 159,
      "outputs": [
        {
          "output_type": "execute_result",
          "data": {
            "text/plain": [
              "'/content'"
            ],
            "application/vnd.google.colaboratory.intrinsic+json": {
              "type": "string"
            }
          },
          "metadata": {},
          "execution_count": 159
        }
      ]
    },
    {
      "cell_type": "code",
      "source": [
        "shutil.make_archive('python','tar','/content')"
      ],
      "metadata": {
        "colab": {
          "base_uri": "https://localhost:8080/",
          "height": 35
        },
        "id": "XR5HPWDKTjzf",
        "outputId": "daaa1e00-1f19-4dc9-e311-3f6eed6dfffd"
      },
      "execution_count": 160,
      "outputs": [
        {
          "output_type": "execute_result",
          "data": {
            "text/plain": [
              "'/content/python.tar'"
            ],
            "application/vnd.google.colaboratory.intrinsic+json": {
              "type": "string"
            }
          },
          "metadata": {},
          "execution_count": 160
        }
      ]
    },
    {
      "cell_type": "code",
      "source": [
        "ls -lrt"
      ],
      "metadata": {
        "colab": {
          "base_uri": "https://localhost:8080/"
        },
        "id": "uPu377bLTst9",
        "outputId": "d8f7a2f0-b054-48b2-9138-10a3d350fb68"
      },
      "execution_count": 161,
      "outputs": [
        {
          "output_type": "stream",
          "name": "stdout",
          "text": [
            "total 55564\n",
            "drwxr-xr-x 1 root root     4096 Aug 15 13:44 \u001b[0m\u001b[01;34msample_data\u001b[0m/\n",
            "-rw-r--r-- 1 root root 56893440 Aug 22 16:07 python.tar\n"
          ]
        }
      ]
    },
    {
      "cell_type": "code",
      "source": [
        "shutil.unpack_archive('python.tar','extracted_python','tar')"
      ],
      "metadata": {
        "id": "OxmfnAHGTv3U"
      },
      "execution_count": 163,
      "outputs": []
    },
    {
      "cell_type": "code",
      "source": [
        "ls -lrt"
      ],
      "metadata": {
        "colab": {
          "base_uri": "https://localhost:8080/"
        },
        "id": "a8jbaCLfUAzP",
        "outputId": "92e899a9-f2b3-44bd-ec0b-cd5ae232d69d"
      },
      "execution_count": 164,
      "outputs": [
        {
          "output_type": "stream",
          "name": "stdout",
          "text": [
            "total 55568\n",
            "drwxr-xr-x 1 root root     4096 Aug 15 13:44 \u001b[0m\u001b[01;34msample_data\u001b[0m/\n",
            "drwxr-xr-x 4 root root     4096 Aug 22 16:07 \u001b[01;34mextracted_python\u001b[0m/\n",
            "-rw-r--r-- 1 root root 56893440 Aug 22 16:07 python.tar\n"
          ]
        }
      ]
    },
    {
      "cell_type": "code",
      "source": [
        "cd extracted_python"
      ],
      "metadata": {
        "colab": {
          "base_uri": "https://localhost:8080/"
        },
        "id": "6B-ou5T4UJ3A",
        "outputId": "e8035b7f-93b6-4821-fb83-d3cc43b56f74"
      },
      "execution_count": 165,
      "outputs": [
        {
          "output_type": "stream",
          "name": "stdout",
          "text": [
            "/content/extracted_python\n"
          ]
        }
      ]
    },
    {
      "cell_type": "code",
      "source": [
        "ls -lrt"
      ],
      "metadata": {
        "colab": {
          "base_uri": "https://localhost:8080/"
        },
        "id": "ee32ftF4UMF_",
        "outputId": "e55443a6-95b6-4804-b93d-fc43e838db61"
      },
      "execution_count": 166,
      "outputs": [
        {
          "output_type": "stream",
          "name": "stdout",
          "text": [
            "total 4\n",
            "drwxr-xr-x 2 root root 4096 Aug 15 13:44 \u001b[0m\u001b[01;34msample_data\u001b[0m/\n"
          ]
        }
      ]
    },
    {
      "cell_type": "code",
      "source": [
        "cd ../"
      ],
      "metadata": {
        "colab": {
          "base_uri": "https://localhost:8080/"
        },
        "id": "x9LacctYUNCc",
        "outputId": "85643445-f5f7-4c10-d63c-aab51345fcb4"
      },
      "execution_count": 167,
      "outputs": [
        {
          "output_type": "stream",
          "name": "stdout",
          "text": [
            "/content\n"
          ]
        }
      ]
    },
    {
      "cell_type": "code",
      "source": [
        "ls -lrt"
      ],
      "metadata": {
        "colab": {
          "base_uri": "https://localhost:8080/"
        },
        "id": "eL92UD-CUPwY",
        "outputId": "055748fa-8da3-4cd7-ddd7-5028936e78ac"
      },
      "execution_count": 168,
      "outputs": [
        {
          "output_type": "stream",
          "name": "stdout",
          "text": [
            "total 55568\n",
            "drwxr-xr-x 1 root root     4096 Aug 15 13:44 \u001b[0m\u001b[01;34msample_data\u001b[0m/\n",
            "drwxr-xr-x 4 root root     4096 Aug 22 16:07 \u001b[01;34mextracted_python\u001b[0m/\n",
            "-rw-r--r-- 1 root root 56893440 Aug 22 16:07 python.tar\n"
          ]
        }
      ]
    },
    {
      "cell_type": "code",
      "source": [
        ""
      ],
      "metadata": {
        "id": "_dU6mYZbUQz-"
      },
      "execution_count": null,
      "outputs": []
    }
  ]
}