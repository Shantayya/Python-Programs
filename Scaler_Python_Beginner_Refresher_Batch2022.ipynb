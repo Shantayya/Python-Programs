{
  "nbformat": 4,
  "nbformat_minor": 0,
  "metadata": {
    "colab": {
      "provenance": [],
      "authorship_tag": "ABX9TyMIk4TZt16dSZzt2s23ODWF",
      "include_colab_link": true
    },
    "kernelspec": {
      "name": "python3",
      "display_name": "Python 3"
    },
    "language_info": {
      "name": "python"
    }
  },
  "cells": [
    {
      "cell_type": "markdown",
      "metadata": {
        "id": "view-in-github",
        "colab_type": "text"
      },
      "source": [
        "<a href=\"https://colab.research.google.com/github/Shantayya/Python-Projects/blob/main/Scaler_Python_Beginner_Refresher_Batch2022.ipynb\" target=\"_parent\"><img src=\"https://colab.research.google.com/assets/colab-badge.svg\" alt=\"Open In Colab\"/></a>"
      ]
    },
    {
      "cell_type": "code",
      "execution_count": null,
      "metadata": {
        "colab": {
          "base_uri": "https://localhost:8080/"
        },
        "id": "1rci4jIaMhbK",
        "outputId": "86c5d4c8-4ca8-43ca-b564-87a91d94215f"
      },
      "outputs": [
        {
          "output_type": "stream",
          "name": "stdout",
          "text": [
            "Hello World\n"
          ]
        }
      ],
      "source": [
        "print(\"Hello World\")"
      ]
    },
    {
      "cell_type": "code",
      "source": [
        "print('Hello World')"
      ],
      "metadata": {
        "colab": {
          "base_uri": "https://localhost:8080/"
        },
        "id": "QUW4xCI6MkdS",
        "outputId": "b63588b0-88a6-4299-e322-0246f2b12731"
      },
      "execution_count": null,
      "outputs": [
        {
          "output_type": "stream",
          "name": "stdout",
          "text": [
            "Hello World\n"
          ]
        }
      ]
    },
    {
      "cell_type": "code",
      "source": [
        "print(10+20)"
      ],
      "metadata": {
        "colab": {
          "base_uri": "https://localhost:8080/"
        },
        "id": "ADrOP7YBMpUI",
        "outputId": "8125653d-04ae-48be-b78c-089e2b4f9b04"
      },
      "execution_count": null,
      "outputs": [
        {
          "output_type": "stream",
          "name": "stdout",
          "text": [
            "30\n"
          ]
        }
      ]
    },
    {
      "cell_type": "code",
      "source": [
        "print('10+20')"
      ],
      "metadata": {
        "colab": {
          "base_uri": "https://localhost:8080/"
        },
        "id": "9_CEwuXOMrem",
        "outputId": "ebf8659d-1e61-45e9-867b-38876c640a56"
      },
      "execution_count": null,
      "outputs": [
        {
          "output_type": "stream",
          "name": "stdout",
          "text": [
            "10+20\n"
          ]
        }
      ]
    },
    {
      "cell_type": "code",
      "source": [
        " ## Comment"
      ],
      "metadata": {
        "id": "FN5kVIb7Mtpp"
      },
      "execution_count": null,
      "outputs": []
    },
    {
      "cell_type": "code",
      "source": [
        "a = 10.0\n",
        "print(type(a))"
      ],
      "metadata": {
        "colab": {
          "base_uri": "https://localhost:8080/"
        },
        "id": "ToZgJEoHOOQA",
        "outputId": "9b9526f1-ec11-4cf9-a044-09ad13fa9497"
      },
      "execution_count": null,
      "outputs": [
        {
          "output_type": "stream",
          "name": "stdout",
          "text": [
            "<class 'float'>\n"
          ]
        }
      ]
    },
    {
      "cell_type": "code",
      "source": [
        "print(int(a))"
      ],
      "metadata": {
        "colab": {
          "base_uri": "https://localhost:8080/"
        },
        "id": "3CxEdyUWOWBD",
        "outputId": "8edda203-9390-4285-d272-4fa57892c9b1"
      },
      "execution_count": null,
      "outputs": [
        {
          "output_type": "stream",
          "name": "stdout",
          "text": [
            "10\n"
          ]
        }
      ]
    },
    {
      "cell_type": "code",
      "source": [
        "print?"
      ],
      "metadata": {
        "id": "_mEknhclS02R"
      },
      "execution_count": null,
      "outputs": []
    },
    {
      "cell_type": "code",
      "source": [
        "# day1 \n",
        "# data types (int, float, string, boolean)\n",
        "# type casting\n",
        "# sep and end (in print syntax)\n",
        "# var \n",
        "# input()\n",
        "# day1 Assignment "
      ],
      "metadata": {
        "id": "z-HmMKABbV-4"
      },
      "execution_count": null,
      "outputs": []
    },
    {
      "cell_type": "code",
      "source": [
        "A = input(\"Please enter number A: \")\n",
        "B = input(\"Please neter number B: \")\n",
        "print(A,B, sep='')"
      ],
      "metadata": {
        "colab": {
          "base_uri": "https://localhost:8080/"
        },
        "id": "ruBXgYxqgvbf",
        "outputId": "b32bc138-79d2-47d5-801a-3227c2950650"
      },
      "execution_count": null,
      "outputs": [
        {
          "output_type": "stream",
          "name": "stdout",
          "text": [
            "Please enter number A: 10\n",
            " Please neter number B: 20\n",
            "1020\n"
          ]
        }
      ]
    },
    {
      "cell_type": "code",
      "source": [
        "A = input()\n",
        "B = input()\n",
        "print( A, \"says Hi to\", B)"
      ],
      "metadata": {
        "colab": {
          "base_uri": "https://localhost:8080/"
        },
        "id": "J3G6fu3_gwpV",
        "outputId": "8400598e-9e65-48a7-fa40-a9d1849e8b49"
      },
      "execution_count": null,
      "outputs": [
        {
          "output_type": "stream",
          "name": "stdout",
          "text": [
            "ram\n",
            "Shyam\n",
            "ram says Hi to Shyam\n"
          ]
        }
      ]
    },
    {
      "cell_type": "code",
      "source": [
        "A = input()\n",
        "print(\"Hello \", A)"
      ],
      "metadata": {
        "colab": {
          "base_uri": "https://localhost:8080/"
        },
        "id": "IHs3BnrPiwMc",
        "outputId": "ebe16165-fc3d-438b-d7b2-41bd4d53f14f"
      },
      "execution_count": null,
      "outputs": [
        {
          "output_type": "stream",
          "name": "stdout",
          "text": [
            "Ram\n",
            "Hello  Ram\n"
          ]
        }
      ]
    },
    {
      "cell_type": "code",
      "source": [
        "print('A','B', 'C', 'D', 'E',sep=\"\\n\")"
      ],
      "metadata": {
        "colab": {
          "base_uri": "https://localhost:8080/"
        },
        "id": "bpxiKSXtjfgV",
        "outputId": "34a73478-948e-414f-9c16-d46bca870986"
      },
      "execution_count": null,
      "outputs": [
        {
          "output_type": "stream",
          "name": "stdout",
          "text": [
            "A\n",
            "B\n",
            "C\n",
            "D\n",
            "E\n"
          ]
        }
      ]
    },
    {
      "cell_type": "code",
      "source": [
        "A = int(input(\"Provude time (in minutes), the lasagna has been in the oven\"))\n",
        "print(\"Lasagna needs\", 40-A, \"more minutes to bake\")"
      ],
      "metadata": {
        "colab": {
          "base_uri": "https://localhost:8080/"
        },
        "id": "yip-vYJzj0SD",
        "outputId": "15057b33-ee90-4613-d847-2a82de048042"
      },
      "execution_count": null,
      "outputs": [
        {
          "output_type": "stream",
          "name": "stdout",
          "text": [
            "Provude time (in minutes), the lasagna has been in the oven10\n",
            "Lasagna needs 30 more minutes to bake\n"
          ]
        }
      ]
    },
    {
      "cell_type": "code",
      "source": [
        "# Day2\n",
        "# Arithmatic operators (Add,sub,mul,div,mod, floor div (//), power (**))\n",
        "# int/float + bool = int/float\n",
        "# str + bool = error\n",
        "# str - str = error\n",
        "# str * int = str example: \"hello\" * 3 = hellohellohello\n",
        "# floor div => 3/2 = 1.5 so answer is 1  -> 3//2 =1\n",
        "\n",
        "# comparison operator(==, !=) can compare anything with anything.\n",
        "#  <, >, <=, >= str cannnot be compared with int using <, >, <=, >=\n",
        "#  and , or and not (unary) operator\n",
        "# not F = True, not true = False \n",
        "\n",
        "# conditional statement (if, else, elif)\n",
        "# operator hierarchy\n",
        "# (), **, (*,/,//,% left to right), (+,-), (==, !=), (<, <=, >, >==), not, and, or"
      ],
      "metadata": {
        "id": "PHYhi99msdkL"
      },
      "execution_count": null,
      "outputs": []
    },
    {
      "cell_type": "code",
      "source": [
        "def main():\n",
        "    # YOUR CODE GOES HERE\n",
        "    # Please take input and print output to standard input/output (stdin/stdout)\n",
        "    # E.g. 'input()/raw_input()' for input & 'print' for output\n",
        "    A = int(input())\n",
        "    B = int(input())\n",
        "    if (A > B):\n",
        "        print(A)\n",
        "    else:\n",
        "        print(B)\n",
        "\n",
        "    return 0\n",
        "\n",
        "if __name__ == '__main__':\n",
        "    main()\n"
      ],
      "metadata": {
        "colab": {
          "base_uri": "https://localhost:8080/"
        },
        "id": "9Wv4mGRdFgF3",
        "outputId": "12f4c3c5-9985-4413-ea7a-c6ea0ad187f1"
      },
      "execution_count": null,
      "outputs": [
        {
          "output_type": "stream",
          "name": "stdout",
          "text": [
            "10\n",
            "9\n",
            "10\n"
          ]
        }
      ]
    },
    {
      "cell_type": "code",
      "source": [
        "print(\"1\" == 1)"
      ],
      "metadata": {
        "colab": {
          "base_uri": "https://localhost:8080/"
        },
        "id": "DuDHSX46FgxD",
        "outputId": "b8dd5c91-dc0b-457c-b7b8-637ad20cb91c"
      },
      "execution_count": null,
      "outputs": [
        {
          "output_type": "stream",
          "name": "stdout",
          "text": [
            "False\n"
          ]
        }
      ]
    },
    {
      "cell_type": "code",
      "source": [
        "def main():\n",
        "    # YOUR CODE GOES HERE\n",
        "    # Please take input and print output to standard input/output (stdin/stdout)\n",
        "    # E.g. 'input()/raw_input()' for input & 'print' for output\n",
        "    A = eval(input())\n",
        "    value = 1\n",
        "    count = 1\n",
        "    while count <= 10:\n",
        "        value = A * count\n",
        "        print(A, \"*\", count, \"=\", value, sep=' ')\n",
        "        count += 1\n",
        "    return 0\n",
        "\n",
        "if __name__ == '__main__':\n",
        "    main()"
      ],
      "metadata": {
        "id": "NuAEdL2UJLem",
        "colab": {
          "base_uri": "https://localhost:8080/"
        },
        "outputId": "fe351d42-e5ba-48c5-efd3-a20dc783fcf7"
      },
      "execution_count": null,
      "outputs": [
        {
          "output_type": "stream",
          "name": "stdout",
          "text": [
            "6.5\n",
            "6.5 * 1 = 6.5\n",
            "6.5 * 2 = 13.0\n",
            "6.5 * 3 = 19.5\n",
            "6.5 * 4 = 26.0\n",
            "6.5 * 5 = 32.5\n",
            "6.5 * 6 = 39.0\n",
            "6.5 * 7 = 45.5\n",
            "6.5 * 8 = 52.0\n",
            "6.5 * 9 = 58.5\n",
            "6.5 * 10 = 65.0\n"
          ]
        }
      ]
    },
    {
      "cell_type": "code",
      "source": [
        "    # YOUR CODE GOES HERE\n",
        "    m1 = int(input())\n",
        "    m2 = int(input())\n",
        "    m3 = int(input())\n",
        "    m4 = int(input())\n",
        "    m5 = int(input())\n",
        "    per = 0.0\n",
        "    total = m1 + m2 + m3 + m4 + m5\n",
        "    per = int((total/500)*100)\n",
        "    if (per >= 90):\n",
        "        print(\"A\")\n",
        "    elif (per >= 80):\n",
        "        print(\"B\")\n",
        "    elif (per >= 70):\n",
        "        print(\"C\") \n",
        "    elif (per >= 60):\n",
        "        print(\"D\") \n",
        "    elif (per >=40):\n",
        "        print(\"E\")\n",
        "    elif (per < 40):\n",
        "        print(\"F\")\n",
        "    "
      ],
      "metadata": {
        "colab": {
          "base_uri": "https://localhost:8080/"
        },
        "id": "26bGhvVzOACO",
        "outputId": "b27d1b37-5e81-4d32-f537-9571abcf87a6"
      },
      "execution_count": null,
      "outputs": [
        {
          "output_type": "stream",
          "name": "stdout",
          "text": [
            "50\n",
            "60\n",
            "70\n",
            "80\n",
            "90\n",
            "C\n"
          ]
        }
      ]
    },
    {
      "cell_type": "code",
      "source": [
        "def main():\n",
        "    # YOUR CODE GOES HERE\n",
        "    # Please take input and print output to standard input/output (stdin/stdout)\n",
        "    # E.g. 'input()/raw_input()' for input & 'print' for output\n",
        "    A = (3+4) // 2+6\n",
        "    print(A)\n",
        "    return 0\n",
        "\n",
        "if __name__ == '__main__':\n",
        "    main()"
      ],
      "metadata": {
        "id": "-sXL79VHRauU",
        "colab": {
          "base_uri": "https://localhost:8080/"
        },
        "outputId": "9f494d40-a31e-49ab-8331-2c9bc20d19b0"
      },
      "execution_count": null,
      "outputs": [
        {
          "output_type": "stream",
          "name": "stdout",
          "text": [
            "9\n"
          ]
        }
      ]
    },
    {
      "cell_type": "code",
      "source": [
        "#Day3 control statement\n",
        "# while loop\n",
        "# eval funtion is used for dynamic typecasting"
      ],
      "metadata": {
        "id": "x7zM13LTXaS3"
      },
      "execution_count": null,
      "outputs": []
    },
    {
      "cell_type": "code",
      "source": [
        "import sys\n",
        "sys.version"
      ],
      "metadata": {
        "id": "FZTM8azMa1hT",
        "colab": {
          "base_uri": "https://localhost:8080/",
          "height": 35
        },
        "outputId": "f123ad3b-8f7b-4daa-8717-8b761bf7b6bd"
      },
      "execution_count": null,
      "outputs": [
        {
          "output_type": "execute_result",
          "data": {
            "text/plain": [
              "'3.7.15 (default, Oct 12 2022, 19:14:55) \\n[GCC 7.5.0]'"
            ],
            "application/vnd.google.colaboratory.intrinsic+json": {
              "type": "string"
            }
          },
          "metadata": {},
          "execution_count": 1
        }
      ]
    },
    {
      "cell_type": "code",
      "source": [
        "sys.builtin_module_names"
      ],
      "metadata": {
        "colab": {
          "base_uri": "https://localhost:8080/"
        },
        "id": "j3mSjIf9MNAi",
        "outputId": "017c2d41-c246-48b7-a546-076cd0fa5907"
      },
      "execution_count": null,
      "outputs": [
        {
          "output_type": "execute_result",
          "data": {
            "text/plain": [
              "('_abc',\n",
              " '_ast',\n",
              " '_bisect',\n",
              " '_blake2',\n",
              " '_codecs',\n",
              " '_collections',\n",
              " '_datetime',\n",
              " '_elementtree',\n",
              " '_functools',\n",
              " '_heapq',\n",
              " '_imp',\n",
              " '_io',\n",
              " '_locale',\n",
              " '_md5',\n",
              " '_operator',\n",
              " '_pickle',\n",
              " '_posixsubprocess',\n",
              " '_random',\n",
              " '_sha1',\n",
              " '_sha256',\n",
              " '_sha3',\n",
              " '_sha512',\n",
              " '_signal',\n",
              " '_socket',\n",
              " '_sre',\n",
              " '_stat',\n",
              " '_string',\n",
              " '_struct',\n",
              " '_symtable',\n",
              " '_thread',\n",
              " '_tracemalloc',\n",
              " '_warnings',\n",
              " '_weakref',\n",
              " 'array',\n",
              " 'atexit',\n",
              " 'binascii',\n",
              " 'builtins',\n",
              " 'cmath',\n",
              " 'errno',\n",
              " 'faulthandler',\n",
              " 'fcntl',\n",
              " 'gc',\n",
              " 'grp',\n",
              " 'itertools',\n",
              " 'marshal',\n",
              " 'math',\n",
              " 'posix',\n",
              " 'pwd',\n",
              " 'pyexpat',\n",
              " 'select',\n",
              " 'spwd',\n",
              " 'sys',\n",
              " 'syslog',\n",
              " 'time',\n",
              " 'unicodedata',\n",
              " 'xxsubtype',\n",
              " 'zipimport',\n",
              " 'zlib')"
            ]
          },
          "metadata": {},
          "execution_count": 6
        }
      ]
    },
    {
      "cell_type": "code",
      "source": [
        "import os\n",
        "print(os.name)"
      ],
      "metadata": {
        "colab": {
          "base_uri": "https://localhost:8080/"
        },
        "id": "60nObZ7fMR3n",
        "outputId": "43b43d67-52a5-4ece-b651-18fe01ba754c"
      },
      "execution_count": null,
      "outputs": [
        {
          "output_type": "stream",
          "name": "stdout",
          "text": [
            "posix\n"
          ]
        }
      ]
    },
    {
      "cell_type": "code",
      "source": [
        "os.mkdir(\"/content/shantayya\")"
      ],
      "metadata": {
        "colab": {
          "base_uri": "https://localhost:8080/",
          "height": 165
        },
        "id": "7C_gLhSuP4Xh",
        "outputId": "ca9f87cb-d343-431f-be66-7cbe0fb326a9"
      },
      "execution_count": null,
      "outputs": [
        {
          "output_type": "error",
          "ename": "FileExistsError",
          "evalue": "ignored",
          "traceback": [
            "\u001b[0;31m---------------------------------------------------------------------------\u001b[0m",
            "\u001b[0;31mFileExistsError\u001b[0m                           Traceback (most recent call last)",
            "\u001b[0;32m<ipython-input-17-bce54a1d0297>\u001b[0m in \u001b[0;36m<module>\u001b[0;34m\u001b[0m\n\u001b[0;32m----> 1\u001b[0;31m \u001b[0mos\u001b[0m\u001b[0;34m.\u001b[0m\u001b[0mmkdir\u001b[0m\u001b[0;34m(\u001b[0m\u001b[0;34m\"/content/shantayya\"\u001b[0m\u001b[0;34m)\u001b[0m\u001b[0;34m\u001b[0m\u001b[0;34m\u001b[0m\u001b[0m\n\u001b[0m",
            "\u001b[0;31mFileExistsError\u001b[0m: [Errno 17] File exists: '/content/shantayya'"
          ]
        }
      ]
    },
    {
      "cell_type": "code",
      "source": [
        "os.getcwd()"
      ],
      "metadata": {
        "colab": {
          "base_uri": "https://localhost:8080/",
          "height": 35
        },
        "id": "sftAU-6VQDpq",
        "outputId": "a3479218-f88a-432f-de73-a1c51c2c63b9"
      },
      "execution_count": null,
      "outputs": [
        {
          "output_type": "execute_result",
          "data": {
            "text/plain": [
              "'/'"
            ],
            "application/vnd.google.colaboratory.intrinsic+json": {
              "type": "string"
            }
          },
          "metadata": {},
          "execution_count": 16
        }
      ]
    },
    {
      "cell_type": "code",
      "source": [
        "os.chdir(\"..\")"
      ],
      "metadata": {
        "id": "qNz5Ps8TQF-1"
      },
      "execution_count": null,
      "outputs": []
    },
    {
      "cell_type": "code",
      "source": [
        "#day4 \n",
        "# ()- exlcusive []- inclusive\n",
        "# (0-5) mean 1,2,3,4  [1,5]- means 1,2,3,4,5\n",
        "# range(n) - returns numbers from 0 to n-1 example: range(5) -> 0,1,2,3,4\n",
        "# range(start, end) - returns a seq from start til end-1 with jump +1 example: range(1,5) -> 1,2,3,4\n",
        "# range(start,end,jump) -> returns a seq from start til end-1 with jump specified. example: range(2,10,2) -> 2,4,6,8\n",
        "# example: range(1,5,-1) -> does nothing\n",
        "# iterable: range, enumerate, list, set, disctionary etc. we need iterator to print iterables\n",
        "# iterables: a container of seq in python Iterator -> variable which holds current value\n",
        "\n",
        "# Note: range() is used for int only\n",
        "\n",
        "# for iterabtor in iterable:  example: for i in range(5): print(i, end=' ')\n",
        "# Homework: \n",
        "# 1. print the digit 469 in the same order\n",
        "# 2. print  * * * * *\n",
        "#           * * * *\n",
        "#           * * *\n",
        "#           * * \n",
        "#           *\n",
        "# 3. reverse staircase pattern\n",
        "#                *\n",
        "#              * *\n",
        "#            * * *\n",
        "#          * * * *\n",
        "#        * * * * *      \n",
        "# diff btween while and for loop\n",
        "# for loop              vs        while loop\n",
        "# not generic                     generic. can do many things as what for loop do. but vice versa is not possible\n",
        "# easy                            not that much easy\n",
        "# run for entire range             based on condition\n",
        "\n"
      ],
      "metadata": {
        "id": "mqquL6VkQKZ2"
      },
      "execution_count": null,
      "outputs": []
    },
    {
      "cell_type": "code",
      "source": [
        "for i in range(1,5):\n",
        "  if i%2 == 0:\n",
        "    pass    # pass is just a filler. wont do anything. if we write continue then it will skip the 2 and 4\n",
        "  print(i)"
      ],
      "metadata": {
        "colab": {
          "base_uri": "https://localhost:8080/"
        },
        "id": "503H0SskLaJQ",
        "outputId": "e471327a-b0d5-477b-be9f-205345675c5b"
      },
      "execution_count": null,
      "outputs": [
        {
          "output_type": "stream",
          "name": "stdout",
          "text": [
            "1\n",
            "2\n",
            "3\n",
            "4\n"
          ]
        }
      ]
    },
    {
      "cell_type": "code",
      "source": [
        "x = 2\n",
        "for i in range(0, 4):\n",
        "  if x%2:\n",
        "    x = x*2\n",
        "    print(x)\n",
        "  else:\n",
        "    x = x+1\n",
        "    print(x)"
      ],
      "metadata": {
        "colab": {
          "base_uri": "https://localhost:8080/"
        },
        "id": "Vd5XnP8LLh0p",
        "outputId": "f2952844-d270-48d4-a28d-25a8cc9d9030"
      },
      "execution_count": null,
      "outputs": [
        {
          "output_type": "stream",
          "name": "stdout",
          "text": [
            "3\n",
            "6\n",
            "7\n",
            "14\n"
          ]
        }
      ]
    },
    {
      "cell_type": "code",
      "source": [
        "x = 1\n",
        "for i in range(x):\n",
        "  x = x + 1\n",
        "  print(i, end=' ')"
      ],
      "metadata": {
        "colab": {
          "base_uri": "https://localhost:8080/"
        },
        "id": "BLXPV8mcjvhW",
        "outputId": "03f01630-af35-493e-fbaa-21f2684c878d"
      },
      "execution_count": null,
      "outputs": [
        {
          "output_type": "stream",
          "name": "stdout",
          "text": [
            "0 "
          ]
        }
      ]
    },
    {
      "cell_type": "code",
      "source": [
        " a = 0\n",
        " while True:\n",
        "   a = a + 5\n",
        "   a %= 5\n",
        "   a = a + 5\n",
        "   if a == 5:\n",
        "     break"
      ],
      "metadata": {
        "id": "4lebctI8mGl0"
      },
      "execution_count": null,
      "outputs": []
    },
    {
      "cell_type": "code",
      "source": [
        "row = int(input())\n",
        "col = int(input())\n",
        "\n",
        "for i in range(row, 0, -1):\n",
        "  for j in range(i):\n",
        "    print(\"*\", end=' ')\n",
        "  print()\n"
      ],
      "metadata": {
        "colab": {
          "base_uri": "https://localhost:8080/"
        },
        "id": "8vMi4TUBnf2J",
        "outputId": "1ed998bc-a28e-4295-bf29-7ddcfb98cab8"
      },
      "execution_count": null,
      "outputs": [
        {
          "output_type": "stream",
          "name": "stdout",
          "text": [
            "5\n",
            "5\n",
            "* * * * * \n",
            "* * * * \n",
            "* * * \n",
            "* * \n",
            "* \n"
          ]
        }
      ]
    },
    {
      "cell_type": "code",
      "source": [
        "row = int(input())\n",
        "col = int(input())\n",
        "\n",
        "for i in range(row):\n",
        "  for j in range(col-i):\n",
        "      print(' ',end=' ')\n",
        "  print('*')\n"
      ],
      "metadata": {
        "colab": {
          "base_uri": "https://localhost:8080/"
        },
        "id": "7Xi0DNcV08Br",
        "outputId": "cbe78cfe-567b-4755-bc72-fd4b679450c4"
      },
      "execution_count": null,
      "outputs": [
        {
          "output_type": "stream",
          "name": "stdout",
          "text": [
            "4\n",
            "4\n",
            "        *\n",
            "      *\n",
            "    *\n",
            "  *\n"
          ]
        }
      ]
    },
    {
      "cell_type": "code",
      "source": [
        "N = int(input())\n",
        "q = N//10\n",
        "N %= 10\n",
        "print(q, N, sep='')\n",
        "\n",
        "\n",
        "\n"
      ],
      "metadata": {
        "colab": {
          "base_uri": "https://localhost:8080/"
        },
        "id": "EHYNg6rKH8CA",
        "outputId": "5b56ad8b-0792-4cdf-d2d9-0f44ad70d41b"
      },
      "execution_count": null,
      "outputs": [
        {
          "output_type": "stream",
          "name": "stdout",
          "text": [
            "12345\n",
            "12345\n"
          ]
        }
      ]
    },
    {
      "cell_type": "code",
      "source": [
        "N = int(input())\n",
        "num = N\n",
        "count = 0\n",
        "while N > 0:\n",
        "  num = N % 10\n",
        "  N = N // 10\n",
        "  print(num,end='')\n",
        "  count += 1\n",
        "print('\\n',count)"
      ],
      "metadata": {
        "colab": {
          "base_uri": "https://localhost:8080/"
        },
        "id": "To2iwRyROKyc",
        "outputId": "2fcdce81-2077-422b-aadb-a7d8aafb188a"
      },
      "execution_count": null,
      "outputs": [
        {
          "output_type": "stream",
          "name": "stdout",
          "text": [
            "1234\n",
            "4321\n",
            " 4\n"
          ]
        }
      ]
    },
    {
      "cell_type": "code",
      "source": [
        "A = int(input())\n",
        "if (A%400 == 0):\n",
        "  print(\"leap\")\n",
        "elif (A%100 == 1) and (A%4 == 0):\n",
        "  print(\"leap\")\n",
        "else:\n",
        "  print(\"not\")"
      ],
      "metadata": {
        "colab": {
          "base_uri": "https://localhost:8080/"
        },
        "id": "uEYK3CbeOajs",
        "outputId": "b3fb3fbd-50e2-4fba-ebf7-367ba859383a"
      },
      "execution_count": null,
      "outputs": [
        {
          "output_type": "stream",
          "name": "stdout",
          "text": [
            "500\n",
            "not\n"
          ]
        }
      ]
    },
    {
      "cell_type": "code",
      "source": [
        " N = int(input())\n",
        " for i in range(1,N+1):\n",
        "     for j in range(1,i+1):\n",
        "        print(j,end=' ')\n",
        "     print()"
      ],
      "metadata": {
        "colab": {
          "base_uri": "https://localhost:8080/"
        },
        "id": "J6kz0Mm-ZlUw",
        "outputId": "873ec029-0e71-4229-9da1-cdcf9c61c300"
      },
      "execution_count": null,
      "outputs": [
        {
          "output_type": "stream",
          "name": "stdout",
          "text": [
            "50\n",
            "1 \n",
            "1 2 \n",
            "1 2 3 \n",
            "1 2 3 4 \n",
            "1 2 3 4 5 \n",
            "1 2 3 4 5 6 \n",
            "1 2 3 4 5 6 7 \n",
            "1 2 3 4 5 6 7 8 \n",
            "1 2 3 4 5 6 7 8 9 \n",
            "1 2 3 4 5 6 7 8 9 10 \n",
            "1 2 3 4 5 6 7 8 9 10 11 \n",
            "1 2 3 4 5 6 7 8 9 10 11 12 \n",
            "1 2 3 4 5 6 7 8 9 10 11 12 13 \n",
            "1 2 3 4 5 6 7 8 9 10 11 12 13 14 \n",
            "1 2 3 4 5 6 7 8 9 10 11 12 13 14 15 \n",
            "1 2 3 4 5 6 7 8 9 10 11 12 13 14 15 16 \n",
            "1 2 3 4 5 6 7 8 9 10 11 12 13 14 15 16 17 \n",
            "1 2 3 4 5 6 7 8 9 10 11 12 13 14 15 16 17 18 \n",
            "1 2 3 4 5 6 7 8 9 10 11 12 13 14 15 16 17 18 19 \n",
            "1 2 3 4 5 6 7 8 9 10 11 12 13 14 15 16 17 18 19 20 \n",
            "1 2 3 4 5 6 7 8 9 10 11 12 13 14 15 16 17 18 19 20 21 \n",
            "1 2 3 4 5 6 7 8 9 10 11 12 13 14 15 16 17 18 19 20 21 22 \n",
            "1 2 3 4 5 6 7 8 9 10 11 12 13 14 15 16 17 18 19 20 21 22 23 \n",
            "1 2 3 4 5 6 7 8 9 10 11 12 13 14 15 16 17 18 19 20 21 22 23 24 \n",
            "1 2 3 4 5 6 7 8 9 10 11 12 13 14 15 16 17 18 19 20 21 22 23 24 25 \n",
            "1 2 3 4 5 6 7 8 9 10 11 12 13 14 15 16 17 18 19 20 21 22 23 24 25 26 \n",
            "1 2 3 4 5 6 7 8 9 10 11 12 13 14 15 16 17 18 19 20 21 22 23 24 25 26 27 \n",
            "1 2 3 4 5 6 7 8 9 10 11 12 13 14 15 16 17 18 19 20 21 22 23 24 25 26 27 28 \n",
            "1 2 3 4 5 6 7 8 9 10 11 12 13 14 15 16 17 18 19 20 21 22 23 24 25 26 27 28 29 \n",
            "1 2 3 4 5 6 7 8 9 10 11 12 13 14 15 16 17 18 19 20 21 22 23 24 25 26 27 28 29 30 \n",
            "1 2 3 4 5 6 7 8 9 10 11 12 13 14 15 16 17 18 19 20 21 22 23 24 25 26 27 28 29 30 31 \n",
            "1 2 3 4 5 6 7 8 9 10 11 12 13 14 15 16 17 18 19 20 21 22 23 24 25 26 27 28 29 30 31 32 \n",
            "1 2 3 4 5 6 7 8 9 10 11 12 13 14 15 16 17 18 19 20 21 22 23 24 25 26 27 28 29 30 31 32 33 \n",
            "1 2 3 4 5 6 7 8 9 10 11 12 13 14 15 16 17 18 19 20 21 22 23 24 25 26 27 28 29 30 31 32 33 34 \n",
            "1 2 3 4 5 6 7 8 9 10 11 12 13 14 15 16 17 18 19 20 21 22 23 24 25 26 27 28 29 30 31 32 33 34 35 \n",
            "1 2 3 4 5 6 7 8 9 10 11 12 13 14 15 16 17 18 19 20 21 22 23 24 25 26 27 28 29 30 31 32 33 34 35 36 \n",
            "1 2 3 4 5 6 7 8 9 10 11 12 13 14 15 16 17 18 19 20 21 22 23 24 25 26 27 28 29 30 31 32 33 34 35 36 37 \n",
            "1 2 3 4 5 6 7 8 9 10 11 12 13 14 15 16 17 18 19 20 21 22 23 24 25 26 27 28 29 30 31 32 33 34 35 36 37 38 \n",
            "1 2 3 4 5 6 7 8 9 10 11 12 13 14 15 16 17 18 19 20 21 22 23 24 25 26 27 28 29 30 31 32 33 34 35 36 37 38 39 \n",
            "1 2 3 4 5 6 7 8 9 10 11 12 13 14 15 16 17 18 19 20 21 22 23 24 25 26 27 28 29 30 31 32 33 34 35 36 37 38 39 40 \n",
            "1 2 3 4 5 6 7 8 9 10 11 12 13 14 15 16 17 18 19 20 21 22 23 24 25 26 27 28 29 30 31 32 33 34 35 36 37 38 39 40 41 \n",
            "1 2 3 4 5 6 7 8 9 10 11 12 13 14 15 16 17 18 19 20 21 22 23 24 25 26 27 28 29 30 31 32 33 34 35 36 37 38 39 40 41 42 \n",
            "1 2 3 4 5 6 7 8 9 10 11 12 13 14 15 16 17 18 19 20 21 22 23 24 25 26 27 28 29 30 31 32 33 34 35 36 37 38 39 40 41 42 43 \n",
            "1 2 3 4 5 6 7 8 9 10 11 12 13 14 15 16 17 18 19 20 21 22 23 24 25 26 27 28 29 30 31 32 33 34 35 36 37 38 39 40 41 42 43 44 \n",
            "1 2 3 4 5 6 7 8 9 10 11 12 13 14 15 16 17 18 19 20 21 22 23 24 25 26 27 28 29 30 31 32 33 34 35 36 37 38 39 40 41 42 43 44 45 \n",
            "1 2 3 4 5 6 7 8 9 10 11 12 13 14 15 16 17 18 19 20 21 22 23 24 25 26 27 28 29 30 31 32 33 34 35 36 37 38 39 40 41 42 43 44 45 46 \n",
            "1 2 3 4 5 6 7 8 9 10 11 12 13 14 15 16 17 18 19 20 21 22 23 24 25 26 27 28 29 30 31 32 33 34 35 36 37 38 39 40 41 42 43 44 45 46 47 \n",
            "1 2 3 4 5 6 7 8 9 10 11 12 13 14 15 16 17 18 19 20 21 22 23 24 25 26 27 28 29 30 31 32 33 34 35 36 37 38 39 40 41 42 43 44 45 46 47 48 \n",
            "1 2 3 4 5 6 7 8 9 10 11 12 13 14 15 16 17 18 19 20 21 22 23 24 25 26 27 28 29 30 31 32 33 34 35 36 37 38 39 40 41 42 43 44 45 46 47 48 49 \n",
            "1 2 3 4 5 6 7 8 9 10 11 12 13 14 15 16 17 18 19 20 21 22 23 24 25 26 27 28 29 30 31 32 33 34 35 36 37 38 39 40 41 42 43 44 45 46 47 48 49 50 \n"
          ]
        }
      ]
    },
    {
      "cell_type": "code",
      "source": [
        "    N = int(input())\n",
        "    for i in range(N+1, 1, -1):\n",
        "        for j in range(1,i):\n",
        "            print(j,end=' ')\n",
        "        print()"
      ],
      "metadata": {
        "colab": {
          "base_uri": "https://localhost:8080/"
        },
        "id": "B8agKNXMdgtV",
        "outputId": "136367c0-d173-4f50-c6d4-93e375250a6a"
      },
      "execution_count": null,
      "outputs": [
        {
          "output_type": "stream",
          "name": "stdout",
          "text": [
            "4\n",
            "1 2 3 4 \n",
            "1 2 3 \n",
            "1 2 \n",
            "1 \n"
          ]
        }
      ]
    },
    {
      "cell_type": "code",
      "source": [
        "    N = int(input())\n",
        "    for j in range(N):\n",
        "        for i in range(N+1):\n",
        "           if i in range(N-j):\n",
        "             print(end=' ')\n",
        "           else:\n",
        "             print(\"*\",end='')\n",
        "        print()\n",
        "    "
      ],
      "metadata": {
        "id": "o7g2w3eBfBrn",
        "colab": {
          "base_uri": "https://localhost:8080/"
        },
        "outputId": "a8e54aa1-e953-477f-f146-82e4ba0f76d1"
      },
      "execution_count": null,
      "outputs": [
        {
          "output_type": "stream",
          "name": "stdout",
          "text": [
            "4\n",
            "    *\n",
            "   **\n",
            "  ***\n",
            " ****\n"
          ]
        }
      ]
    },
    {
      "cell_type": "code",
      "source": [
        "i=0\n",
        "while i<=5:\n",
        "     if i%2:\n",
        "        pass\n",
        "     else:\n",
        "        print(i, end=\" \")\n",
        "     i+=1"
      ],
      "metadata": {
        "colab": {
          "base_uri": "https://localhost:8080/"
        },
        "id": "fCEHZ0IH1phB",
        "outputId": "3a4ba72b-021d-4a8f-ddc2-392c005451e3"
      },
      "execution_count": null,
      "outputs": [
        {
          "output_type": "stream",
          "name": "stdout",
          "text": [
            "0 2 4 "
          ]
        }
      ]
    },
    {
      "cell_type": "code",
      "source": [
        "i=2\n",
        "if i==2:\n",
        "    i+=1\n",
        "for j in range(i):\n",
        "    i+=1\n",
        "    pass\n",
        "    break\n",
        "\n",
        "print(i)"
      ],
      "metadata": {
        "colab": {
          "base_uri": "https://localhost:8080/"
        },
        "id": "KEahOG6EBy4p",
        "outputId": "32a61d04-ce3c-4de3-ceba-55d352b0b778"
      },
      "execution_count": null,
      "outputs": [
        {
          "output_type": "stream",
          "name": "stdout",
          "text": [
            "6\n"
          ]
        }
      ]
    },
    {
      "cell_type": "code",
      "source": [
        "n=8\n",
        "while n>=0:\n",
        "   n -= 2\n",
        "   if n%2==0:\n",
        "       continue\n",
        "   print(n, end=\" \")\n",
        "#else:\n",
        "#   print(\"Exec\", end=\" \")"
      ],
      "metadata": {
        "id": "jqO6Q4maCdrc"
      },
      "execution_count": null,
      "outputs": []
    },
    {
      "cell_type": "code",
      "source": [
        "x = int(input())\n",
        "y = int(input())\n",
        "q, r = 0, 0\n",
        "\n",
        "while x>=y:\n",
        "    x-=y\n",
        "    q+=1\n",
        "print(q, x)\n"
      ],
      "metadata": {
        "colab": {
          "base_uri": "https://localhost:8080/"
        },
        "id": "_SCcDNVGDLuq",
        "outputId": "7b4254f6-6a00-48fc-9f00-5914c8f1fdcb"
      },
      "execution_count": null,
      "outputs": [
        {
          "output_type": "stream",
          "name": "stdout",
          "text": [
            "5\n",
            "2\n",
            "2 1\n"
          ]
        }
      ]
    },
    {
      "cell_type": "code",
      "source": [
        "i=0\n",
        "if i==0:\n",
        "   pass\n",
        "   print(i, end=\" \")\n",
        "i+=1\n",
        "print(i, end=\" \")\n"
      ],
      "metadata": {
        "colab": {
          "base_uri": "https://localhost:8080/"
        },
        "id": "_x1ttroE9OAJ",
        "outputId": "ce57bb7c-f7a1-4aca-be28-c8d627b7172a"
      },
      "execution_count": null,
      "outputs": [
        {
          "output_type": "stream",
          "name": "stdout",
          "text": [
            "0 1 "
          ]
        }
      ]
    },
    {
      "cell_type": "code",
      "source": [
        "    T = int(input())\n",
        "    for i in range(T):\n",
        "        count = 1\n",
        "        j = int(input())\n",
        "        while j >= 10:\n",
        "          j //= 10\n",
        "          count += 1\n",
        "          print(j)\n",
        "        print(\"count\", count)\n",
        "    "
      ],
      "metadata": {
        "colab": {
          "base_uri": "https://localhost:8080/"
        },
        "id": "sHPxN3o__P7q",
        "outputId": "c16c51c6-7f03-4a54-da5f-bedfbafdb2b9"
      },
      "execution_count": null,
      "outputs": [
        {
          "output_type": "stream",
          "name": "stdout",
          "text": [
            "1\n",
            "1212121\n",
            "121212\n",
            "12121\n",
            "1212\n",
            "121\n",
            "12\n",
            "1\n",
            "count 7\n"
          ]
        }
      ]
    },
    {
      "cell_type": "code",
      "source": [
        "    T = int(input())\n",
        "    for i in range(T):\n",
        "        sum = 0\n",
        "        I = int(input())\n",
        "        while I > 0:\n",
        "            r = I % 10\n",
        "            I //= 10\n",
        "            sum += r\n",
        "        print(sum)\n"
      ],
      "metadata": {
        "colab": {
          "base_uri": "https://localhost:8080/"
        },
        "id": "nSj6jqEAYlI4",
        "outputId": "6351349e-12ed-40f4-d774-ebd4777ae070"
      },
      "execution_count": null,
      "outputs": [
        {
          "output_type": "stream",
          "name": "stdout",
          "text": [
            "1\n",
            "15281\n",
            "17\n"
          ]
        }
      ]
    },
    {
      "cell_type": "code",
      "source": [
        "# day 5 functions\n",
        "# argument -> what is been passed while calling a function is called argument\n",
        "# parameter -> variable been used in function and which is used to store the value \n",
        "\n",
        "#Note: while passing the arrugment dev should be aware of order of passing parameter.\n",
        "# scope of varibale is limited to function only. outside when refernced it will throw error. \n",
        "# you can't have default argument before non-default argument example: def example(a,b,c=20,d) --> not allowed  def example(b,c,a=20)--> allowed\n",
        "# in above function parameter b,c -> non default argument and c=20 is default argument\n",
        "\n",
        "# while calling --> def example(a, b, c=10) --> ab are positional arguments where as example(10, b=50, c=50) --> here b and c are keyword arguments\n",
        "# here keyword argument can't come before positional argument.\n",
        "\n",
        "# *arg --> used to pass varble number of non-keyword argument to function. *arg non-ketword arguments are tuples.\n",
        "# **kwargs --> used to pass varibale number of keyword arguments to function. **kwargs which are keyword arguments are dict.\n",
        "# int are not allowed to pass as keys kwargs. they must be strings\n",
        "\n",
        "# function execution stops at return statement like break in for loop\n",
        "# 1. is_prime(n) or not with return statement\n",
        "\n"
      ],
      "metadata": {
        "id": "xy7cf7JXdeO0"
      },
      "execution_count": null,
      "outputs": []
    },
    {
      "cell_type": "code",
      "source": [
        "def call_name(name, age):\n",
        "  print(name, age)\n",
        "\n",
        "call_name(23,\"mohit\")"
      ],
      "metadata": {
        "colab": {
          "base_uri": "https://localhost:8080/"
        },
        "id": "1UychFkv5w2N",
        "outputId": "4bc620e7-0e07-4a46-e251-bd80a535e544"
      },
      "execution_count": null,
      "outputs": [
        {
          "output_type": "stream",
          "name": "stdout",
          "text": [
            "23 mohit\n"
          ]
        }
      ]
    },
    {
      "cell_type": "code",
      "source": [
        "def call_names(**kwargs):\n",
        "  for keys, values in kwargs.items():\n",
        "    print(keys,'=', values)\n",
        "\n",
        "call_names(age=29,name=\"Shantaya\")"
      ],
      "metadata": {
        "colab": {
          "base_uri": "https://localhost:8080/"
        },
        "id": "YPj0lSCRtWQw",
        "outputId": "22600e7a-b040-43c2-9d05-2d3ee6370ff0"
      },
      "execution_count": null,
      "outputs": [
        {
          "output_type": "stream",
          "name": "stdout",
          "text": [
            "age = 29\n",
            "name = Shantaya\n"
          ]
        }
      ]
    },
    {
      "cell_type": "code",
      "source": [
        "def convert(t):\n",
        "    return t*9/5 + 32\n",
        "\n",
        "print(convert(20))"
      ],
      "metadata": {
        "colab": {
          "base_uri": "https://localhost:8080/"
        },
        "id": "9Wk8aBFp533i",
        "outputId": "277eedf8-5c98-4391-aeb5-281d2af714d5"
      },
      "execution_count": null,
      "outputs": [
        {
          "output_type": "stream",
          "name": "stdout",
          "text": [
            "68.0\n"
          ]
        }
      ]
    },
    {
      "cell_type": "code",
      "source": [
        "def celsius_farhen(Celsius):\n",
        "    ans = Celsius*9/5 + 32\n",
        "    return round(ans,2)"
      ],
      "metadata": {
        "id": "qs4Z4vxT6-9v"
      },
      "execution_count": null,
      "outputs": []
    },
    {
      "cell_type": "code",
      "source": [
        "celsius_farhen(30)"
      ],
      "metadata": {
        "colab": {
          "base_uri": "https://localhost:8080/"
        },
        "id": "BYhyapir7oJd",
        "outputId": "84461343-1763-4ae1-bf1f-0af1d17a88b8"
      },
      "execution_count": null,
      "outputs": [
        {
          "output_type": "execute_result",
          "data": {
            "text/plain": [
              "86.0"
            ]
          },
          "metadata": {},
          "execution_count": 5
        }
      ]
    },
    {
      "cell_type": "code",
      "source": [
        "def simple_int(time,pa,ir):\n",
        "    ''' time, pa, ir represents the time in number of days, principal amount and rate of interest\n",
        "        Return the simple interest'''\n",
        "    ans = 0\n",
        "    # YOUR CODE GOES HERE\n",
        "    years = (time / 365) + (time % 365)\n",
        "    print(years)\n",
        "    SI = (pa * ir * years)/100\n",
        "    ans = SI + pa\n",
        "\n",
        "    return round(ans,2)"
      ],
      "metadata": {
        "id": "DXB5_bL17r7Y"
      },
      "execution_count": null,
      "outputs": []
    },
    {
      "cell_type": "code",
      "source": [
        "simple_int(365,9172,5.6)"
      ],
      "metadata": {
        "colab": {
          "base_uri": "https://localhost:8080/"
        },
        "id": "1OQYbHQP-cdL",
        "outputId": "3dff7ad4-0a2b-4715-8d97-3ccbabf87079"
      },
      "execution_count": null,
      "outputs": [
        {
          "output_type": "stream",
          "name": "stdout",
          "text": [
            "1.0\n"
          ]
        },
        {
          "output_type": "execute_result",
          "data": {
            "text/plain": [
              "9685.63"
            ]
          },
          "metadata": {},
          "execution_count": 16
        }
      ]
    },
    {
      "cell_type": "code",
      "source": [
        "def road_tax(price):\n",
        "    tax = None\n",
        "    # YOUR CODE GOES HERE\n",
        "    if price > 100000:\n",
        "      tax = price * (20/100)\n",
        "      return round(tax,1)\n",
        "    elif price > 75000 and price <= 100000:\n",
        "      tax = price * (15/100)\n",
        "      return round(tax,1)\n",
        "    elif price > 50000 and price <= 75000:\n",
        "      tax = price * (10/100)\n",
        "      return round(tax,1)\n",
        "    elif price <= 50000:\n",
        "      tax = price * (5/100)\n",
        "      return round(tax,1)\n",
        "      "
      ],
      "metadata": {
        "id": "Gz4eI0tY-jj_"
      },
      "execution_count": null,
      "outputs": []
    },
    {
      "cell_type": "code",
      "source": [
        "road_tax(25000)"
      ],
      "metadata": {
        "colab": {
          "base_uri": "https://localhost:8080/"
        },
        "id": "3mSZslOFAwGl",
        "outputId": "206f46c3-b4b5-4b2a-ce0d-6228023002cb"
      },
      "execution_count": null,
      "outputs": [
        {
          "output_type": "execute_result",
          "data": {
            "text/plain": [
              "1250.0"
            ]
          },
          "metadata": {},
          "execution_count": 18
        }
      ]
    },
    {
      "cell_type": "code",
      "source": [
        "def sequence(n):\n",
        "    '''input: n = A single integer for the range where n is inclusive\n",
        "       output: First Print from 1 to N and new line Print from N to 1'''\n",
        "    for i in range(1,n+1):\n",
        "        print(i, end=' ')\n",
        "    print()\n",
        "    print()\n",
        "    for j in range(n,0,-1):\n",
        "      print(i, end=' ')"
      ],
      "metadata": {
        "id": "n_rHJrxoA3ah"
      },
      "execution_count": null,
      "outputs": []
    },
    {
      "cell_type": "code",
      "source": [
        "sequence(5)"
      ],
      "metadata": {
        "colab": {
          "base_uri": "https://localhost:8080/"
        },
        "id": "24HNix7LCR0a",
        "outputId": "9f14e399-85a7-4b5f-d279-cfd00b887231"
      },
      "execution_count": null,
      "outputs": [
        {
          "output_type": "stream",
          "name": "stdout",
          "text": [
            "1 2 3 4 5 \n",
            "\n",
            "5 5 5 5 5 "
          ]
        }
      ]
    },
    {
      "cell_type": "code",
      "source": [
        "def is_prime(n):\n",
        "  for i in range(2,n):\n",
        "    if n%i == 0:\n",
        "      print(\"not prime\")\n",
        "      return 0\n",
        "    else:\n",
        "      print(\"prime\")\n",
        "      return 0"
      ],
      "metadata": {
        "id": "5dO5IV6NCUEf"
      },
      "execution_count": null,
      "outputs": []
    },
    {
      "cell_type": "code",
      "source": [
        "is_prime(91)"
      ],
      "metadata": {
        "colab": {
          "base_uri": "https://localhost:8080/"
        },
        "id": "M3kVLZUSCrJk",
        "outputId": "afa073bc-8573-4b5e-85b3-7c4f1fa721b8"
      },
      "execution_count": null,
      "outputs": [
        {
          "output_type": "stream",
          "name": "stdout",
          "text": [
            "prime\n"
          ]
        },
        {
          "output_type": "execute_result",
          "data": {
            "text/plain": [
              "0"
            ]
          },
          "metadata": {},
          "execution_count": 27
        }
      ]
    },
    {
      "cell_type": "code",
      "source": [
        "def swap(a,b):\n",
        "  print('a=', a,'b=', b)\n",
        "  a = a + b\n",
        "  b = a- b\n",
        "  a = a- b\n",
        "  print('a=', a, 'b=', b)"
      ],
      "metadata": {
        "id": "TK0Sl_MdDuUo"
      },
      "execution_count": null,
      "outputs": []
    },
    {
      "cell_type": "code",
      "source": [
        "swap(2,3)"
      ],
      "metadata": {
        "colab": {
          "base_uri": "https://localhost:8080/"
        },
        "id": "wYhj6gkFfO-w",
        "outputId": "7dc1cae7-1815-4ede-ca3f-f8ff3cc353ef"
      },
      "execution_count": null,
      "outputs": [
        {
          "output_type": "stream",
          "name": "stdout",
          "text": [
            "a= 2 b= 3\n",
            "a= 3 b= 2\n"
          ]
        }
      ]
    },
    {
      "cell_type": "code",
      "source": [
        "def armstrong(n):\n",
        "  count = 0\n",
        "  r, rem = 0, 0\n",
        "  sum = 0\n",
        "  num, number = n, n\n",
        "  while n > 0:\n",
        "    r = n % 10\n",
        "    n = n // 10\n",
        "    count += 1\n",
        "\n",
        "  while num > 0:\n",
        "    rem = num % 10\n",
        "    num = num // 10\n",
        "    sum += (rem**count)\n",
        "\n",
        "  if number == sum:\n",
        "    print(\"Armstrong\")\n",
        "  else:\n",
        "    print(\"Not Armstrong\")\n",
        "\n"
      ],
      "metadata": {
        "id": "v0ejQMzhfdik"
      },
      "execution_count": null,
      "outputs": []
    },
    {
      "cell_type": "code",
      "source": [
        "armstrong(153)"
      ],
      "metadata": {
        "colab": {
          "base_uri": "https://localhost:8080/"
        },
        "id": "M1ob1j8Sigyc",
        "outputId": "c9b53f7a-41d6-4d17-a2a1-46d4f3398c14"
      },
      "execution_count": null,
      "outputs": [
        {
          "output_type": "stream",
          "name": "stdout",
          "text": [
            "Armstrong\n"
          ]
        }
      ]
    },
    {
      "cell_type": "code",
      "source": [
        "def pattern(n):\n",
        "  for i in range(n):\n",
        "    for j in range(n):\n",
        "      if j == 0 or i == (n-1) or i == j:\n",
        "        print(\"*\", end='')\n",
        "      else:\n",
        "        print(end=\" \")\n",
        "    print()\n",
        "\n",
        "def ulta_pattern(n):\n",
        "  for i in range(n):\n",
        "    for j in range(n):\n",
        "      if i == 0 or j == (n-1) or i == j:\n",
        "        print(\"*\", end='')\n",
        "      else:\n",
        "        print(end=\" \")\n",
        "    print()\n",
        "   "
      ],
      "metadata": {
        "id": "T6ACwhDPijoV"
      },
      "execution_count": null,
      "outputs": []
    },
    {
      "cell_type": "code",
      "source": [
        "ulta_pattern(5)"
      ],
      "metadata": {
        "colab": {
          "base_uri": "https://localhost:8080/"
        },
        "id": "LBPHv7QDkse3",
        "outputId": "7ba8072b-80bb-4a12-80e8-32d22e05e345"
      },
      "execution_count": null,
      "outputs": [
        {
          "output_type": "stream",
          "name": "stdout",
          "text": [
            "*****\n",
            " *  *\n",
            "  * *\n",
            "   **\n",
            "    *\n"
          ]
        }
      ]
    },
    {
      "cell_type": "code",
      "source": [
        "def main():\n",
        "    # YOUR CODE GOES HERE\n",
        "    # Please take input and print output to standard input/output (stdin/stdout)\n",
        "    # E.g. 'input()/raw_input()' for input & 'print' for output\n",
        "    T = int(input())\n",
        "    last, first, j = 0, 0, 0\n",
        "    count = 0\n",
        "    for i in range(T):\n",
        "        j = int(input())\n",
        "        num = j\n",
        "        \n",
        "        while j > 0:\n",
        "          first = j % 10\n",
        "          j = j // 10\n",
        "          count += 1\n",
        "          break\n",
        "#        print(first)\n",
        "\n",
        "        while j > 0:\n",
        "          last = j % 10\n",
        "          j = j // 10\n",
        "          count += 1\n",
        "\n",
        "        if count == 1:\n",
        "          print(first, first, sep=' ')  \n",
        "        else:\n",
        "          print(last, first, sep=' ')      \n",
        "    return 0\n",
        "\n",
        "if __name__ == '__main__':\n",
        "    main()"
      ],
      "metadata": {
        "id": "Mm-Vq_8Dktzf",
        "colab": {
          "base_uri": "https://localhost:8080/"
        },
        "outputId": "8714d292-18a1-42e8-df1b-6fc510c849cc"
      },
      "execution_count": null,
      "outputs": [
        {
          "output_type": "stream",
          "name": "stdout",
          "text": [
            "1\n",
            "1\n",
            "1 1\n"
          ]
        }
      ]
    },
    {
      "cell_type": "code",
      "source": [
        "def main():\n",
        "    # YOUR CODE GOES HERE\n",
        "    # Please take input and print output to standard input/output (stdin/stdout)\n",
        "    # E.g. 'input()/raw_input()' for input & 'print' for output\n",
        "    T = int(input())\n",
        "    last, first, j = 0, 0, 0\n",
        "    for i in range(T):\n",
        "        j = int(input())\n",
        "        \n",
        "        while j > 0:\n",
        "            last = j % 10\n",
        "            j = j // 10\n",
        "            break\n",
        "        \n",
        "        while j > 0:\n",
        "            first = j % 10\n",
        "            j = j // 10\n",
        "\n",
        "        print(first, last, sep=' ')\n",
        "    return 0\n",
        "\n",
        "if __name__ == '__main__':\n",
        "    main()"
      ],
      "metadata": {
        "colab": {
          "base_uri": "https://localhost:8080/"
        },
        "id": "BPSs3lLrQ-sx",
        "outputId": "c6fd9b27-afc6-46ea-b574-4a021835185c"
      },
      "execution_count": null,
      "outputs": [
        {
          "output_type": "stream",
          "name": "stdout",
          "text": [
            "1\n",
            "29473\n",
            "2 3\n"
          ]
        }
      ]
    },
    {
      "cell_type": "code",
      "source": [
        "def main():\n",
        "    # YOUR CODE GOES HERE\n",
        "    # Please take input and print output to standard input/output (stdin/stdout)\n",
        "    # E.g. 'input()/raw_input()' for input & 'print' for output\n",
        "    T = int(input())\n",
        "    last, first, j = 0, 0, 0\n",
        "\n",
        "    for i in range(T):\n",
        "        count = 0\n",
        "        j = int(input())\n",
        "        \n",
        "        while j > 0:\n",
        "            last = j % 10\n",
        "            j = j // 10\n",
        "            count += 1\n",
        "            break\n",
        "        \n",
        "        while j > 0:\n",
        "            first = j % 10\n",
        "            j = j // 10\n",
        "            count += 1\n",
        "        \n",
        "        if count == 1:\n",
        "            print(last, last, sep=' ')\n",
        "        else:\n",
        "            print(first, last, sep=' ')\n",
        "    return 0\n",
        "\n",
        "if __name__ == '__main__':\n",
        "    main()"
      ],
      "metadata": {
        "colab": {
          "base_uri": "https://localhost:8080/"
        },
        "id": "XSwXR8dmVe8M",
        "outputId": "af3a64f3-163d-42db-9b94-359be553d17a"
      },
      "execution_count": null,
      "outputs": [
        {
          "output_type": "stream",
          "name": "stdout",
          "text": [
            "2\n",
            "1\n",
            "1 1\n",
            "2\n",
            "2 2\n"
          ]
        }
      ]
    },
    {
      "cell_type": "code",
      "source": [
        "class Solution:\n",
        "    def solve(self, A):\n",
        "        q, r, sum, = 0, 0, 0\n",
        "        count = 0\n",
        "        num, arm = A, A\n",
        "        while A > 0:\n",
        "            A = A // 10\n",
        "            count += 1\n",
        "        \n",
        "        while num > 0:\n",
        "            q = num % 10\n",
        "            num = num // 10\n",
        "            sum += (q**count)\n",
        "        \n",
        "        if sum == arm:\n",
        "            return 1\n",
        "        else:\n",
        "            return 0"
      ],
      "metadata": {
        "id": "a690i3FwXKz6"
      },
      "execution_count": null,
      "outputs": []
    },
    {
      "cell_type": "code",
      "source": [
        "obj = Solution()"
      ],
      "metadata": {
        "id": "tTsanlWOYuf1"
      },
      "execution_count": null,
      "outputs": []
    },
    {
      "cell_type": "code",
      "source": [
        "obj.solve(123)"
      ],
      "metadata": {
        "colab": {
          "base_uri": "https://localhost:8080/"
        },
        "id": "lNlfwvVEYxf1",
        "outputId": "09a62ceb-682d-4210-9a6d-329e8593850b"
      },
      "execution_count": null,
      "outputs": [
        {
          "output_type": "execute_result",
          "data": {
            "text/plain": [
              "0"
            ]
          },
          "metadata": {},
          "execution_count": 55
        }
      ]
    },
    {
      "cell_type": "code",
      "source": [
        "def ulta_pyramid(n):\n",
        "  for i in range(n, 0, -1):\n",
        "    space = (n+1) - i\n",
        "    for j in range(i):\n",
        "      print(\"*\", end=' ')\n",
        "    print()\n",
        "    for k in range(space):\n",
        "      print(end=' ')\n",
        "\n"
      ],
      "metadata": {
        "id": "xE8NoIeVYzuU"
      },
      "execution_count": null,
      "outputs": []
    },
    {
      "cell_type": "code",
      "source": [
        "ulta_pyramid(5)"
      ],
      "metadata": {
        "colab": {
          "base_uri": "https://localhost:8080/"
        },
        "id": "5-d1EJa7c9UN",
        "outputId": "61c07601-1853-49af-a1e7-1ab1fd68e231"
      },
      "execution_count": null,
      "outputs": [
        {
          "output_type": "stream",
          "name": "stdout",
          "text": [
            "* * * * * \n",
            " * * * * \n",
            "  * * * \n",
            "   * * \n",
            "    * \n",
            "     "
          ]
        }
      ]
    },
    {
      "cell_type": "code",
      "source": [
        "# day6 - List -> ordered collection of elements\n",
        "# indexing in list-> for a list with n elements we have n-1 index + index are always integers\n",
        "# index start with 0,1,2,3,...etc\n",
        "# python gives reverse index like -1(last element),-2,-3,....etc \n",
        "\n",
        "# reverse index-7    -6    -5    -4    -3    -2    -1\n",
        "#list           A     B     C     D     E     F     G\n",
        "# indexing      0     1     2     3     4     5     6\n",
        "\n",
        "# updating index in the list   students.append(\"Shantayya\") or students[2]=\"shan\"\n",
        "#iteration through list -> for index in range(0,7) -> print(index)"
      ],
      "metadata": {
        "id": "E0QFHZdWdAGg"
      },
      "execution_count": null,
      "outputs": []
    },
    {
      "cell_type": "code",
      "source": [
        "students = [\"Shan\", \"Shnkar\", \"Somnath\", \"Rahul\", \"Dayal\"]"
      ],
      "metadata": {
        "id": "I4kjBnFyYgyM"
      },
      "execution_count": null,
      "outputs": []
    },
    {
      "cell_type": "code",
      "source": [
        "students.pop()\n",
        "print(students)"
      ],
      "metadata": {
        "colab": {
          "base_uri": "https://localhost:8080/"
        },
        "id": "h5qHbw5GYoBm",
        "outputId": "c6db9d8f-0e4b-4d8f-8e04-93ed7b76cb0e"
      },
      "execution_count": null,
      "outputs": [
        {
          "output_type": "stream",
          "name": "stdout",
          "text": [
            "['Shan', 'Somnath', 'Rahul']\n"
          ]
        }
      ]
    },
    {
      "cell_type": "code",
      "source": [
        "students.append(\"Swami\")\n",
        "print(students)"
      ],
      "metadata": {
        "colab": {
          "base_uri": "https://localhost:8080/"
        },
        "id": "ZdMw9XyrYqRp",
        "outputId": "10833a2f-d30f-485c-aa42-5dd2eac79c45"
      },
      "execution_count": null,
      "outputs": [
        {
          "output_type": "stream",
          "name": "stdout",
          "text": [
            "['Shan', 'Somnath', 'Rahul', 'Swami', 'Swami']\n"
          ]
        }
      ]
    },
    {
      "cell_type": "code",
      "source": [
        "for i in students:\n",
        "  print(i)"
      ],
      "metadata": {
        "colab": {
          "base_uri": "https://localhost:8080/"
        },
        "id": "gzJD-yfKY5RO",
        "outputId": "abb69fb4-70e6-476e-cf64-9f5393729e06"
      },
      "execution_count": null,
      "outputs": [
        {
          "output_type": "stream",
          "name": "stdout",
          "text": [
            "Shan\n",
            "Somnath\n",
            "Rahul\n",
            "Swami\n"
          ]
        }
      ]
    },
    {
      "cell_type": "code",
      "source": [
        "# print names starting from first\n",
        "length = len(students)\n",
        "for i in range(length):\n",
        "  if i%2 != 0:\n",
        "    print(students[i])\n"
      ],
      "metadata": {
        "id": "wGI6uSyuZqTZ",
        "colab": {
          "base_uri": "https://localhost:8080/"
        },
        "outputId": "a912a293-0a71-4f57-f611-c52f9fa91efd"
      },
      "execution_count": null,
      "outputs": [
        {
          "output_type": "stream",
          "name": "stdout",
          "text": [
            "Somnath\n",
            "Swami\n"
          ]
        }
      ]
    },
    {
      "cell_type": "code",
      "source": [
        "# funtions in list\n",
        "# del list[index]\n",
        "# list.count(value) --> gives count of value repeated in list \n",
        "# len(), append(), insert(index,value,insertbefore), pop(default last), remove()--> it will remove value but wil not return anything + it always remove first value\n",
        "students.insert(4,\"somnshanlkar\")"
      ],
      "metadata": {
        "id": "35vlrb7lqqct"
      },
      "execution_count": null,
      "outputs": []
    },
    {
      "cell_type": "code",
      "source": [
        "print(students)"
      ],
      "metadata": {
        "colab": {
          "base_uri": "https://localhost:8080/"
        },
        "id": "Fq2OFTdFF3r1",
        "outputId": "ec6aaf64-288a-4c6c-bfa0-4de9deb9f2b8"
      },
      "execution_count": null,
      "outputs": [
        {
          "output_type": "stream",
          "name": "stdout",
          "text": [
            "['Shan', 'Somnath', 'Rahul', 'Swami', 'somnshanlkar', 'Swami']\n"
          ]
        }
      ]
    },
    {
      "cell_type": "code",
      "source": [
        "#if we put index which does not exist then it wil insert after last index which is before given index\n",
        "#for example:  we have index 0,1,2,3,4,5 in students if we do students.insert(100,\"last\") --> then it will insert after 5th index which is before 100\n",
        "students.insert(100,\"last\") \n",
        "print(students)\n",
        "students.insert(-100,\"first\")   #--> -1 shows first index from right\n",
        "print(students)"
      ],
      "metadata": {
        "colab": {
          "base_uri": "https://localhost:8080/"
        },
        "id": "0iiXWFanF5Jb",
        "outputId": "8c7e986d-58b0-48d3-f1de-d7fc65411ea6"
      },
      "execution_count": null,
      "outputs": [
        {
          "output_type": "stream",
          "name": "stdout",
          "text": [
            "['Shan', 'Somnath', 'Rahul', 'Swami', 'somnshanlkar', 'Swami', 'last', 'first', 'last', 'last']\n",
            "['first', 'Shan', 'Somnath', 'Rahul', 'Swami', 'somnshanlkar', 'Swami', 'last', 'first', 'last', 'last']\n"
          ]
        }
      ]
    },
    {
      "cell_type": "code",
      "source": [
        "# reverse() -> does not take any argument or return anything but reverses the whole list\n",
        "students.reverse()\n",
        "print(students)"
      ],
      "metadata": {
        "colab": {
          "base_uri": "https://localhost:8080/"
        },
        "id": "oYRZhbFZGc27",
        "outputId": "2163bf49-b3fe-4538-b492-23ccedf7ea6f"
      },
      "execution_count": null,
      "outputs": [
        {
          "output_type": "stream",
          "name": "stdout",
          "text": [
            "['last', 'last', 'first', 'last', 'Swami', 'somnshanlkar', 'Swami', 'Rahul', 'Somnath', 'Shan', 'first']\n"
          ]
        }
      ]
    },
    {
      "cell_type": "code",
      "source": [
        "# + operator -> used to merge the list or join two lists\n",
        "staff = [\"teacher\", \"peaun\", \"cleaner\", \"headmaster\"]\n",
        "college = students + staff\n",
        "print(college)"
      ],
      "metadata": {
        "colab": {
          "base_uri": "https://localhost:8080/"
        },
        "id": "BgHkQURWJj_w",
        "outputId": "0b59bbb7-5b12-411a-8a01-4ac3424a33a8"
      },
      "execution_count": null,
      "outputs": [
        {
          "output_type": "stream",
          "name": "stdout",
          "text": [
            "['last', 'last', 'first', 'last', 'Swami', 'somnshanlkar', 'Swami', 'Rahul', 'Somnath', 'Shan', 'first', 'teacher', 'peaun', 'cleaner', 'headmaster']\n"
          ]
        }
      ]
    },
    {
      "cell_type": "code",
      "source": [
        "# extend() --> used to add nw list to existing one\n",
        "students.extend(staff)\n",
        "print(students)"
      ],
      "metadata": {
        "colab": {
          "base_uri": "https://localhost:8080/"
        },
        "id": "iZ6ni5L3KFwq",
        "outputId": "2ade0428-e4fa-4802-8619-6c09cd3d4184"
      },
      "execution_count": null,
      "outputs": [
        {
          "output_type": "stream",
          "name": "stdout",
          "text": [
            "['last', 'last', 'first', 'last', 'Swami', 'somnshanlkar', 'Swami', 'Rahul', 'Somnath', 'Shan', 'first', 'teacher', 'peaun', 'cleaner', 'headmaster']\n"
          ]
        }
      ]
    },
    {
      "cell_type": "code",
      "source": [
        "# in operator --> return bool value if value exists in list\n",
        "print(\"shan\" in students)  # python is case sensitive language so shan != Shan\n",
        "print(\"Shan\" in students)"
      ],
      "metadata": {
        "colab": {
          "base_uri": "https://localhost:8080/"
        },
        "id": "_Nrx0kyDKm2D",
        "outputId": "755701b6-e006-4c83-d436-84a5201fbf6b"
      },
      "execution_count": null,
      "outputs": [
        {
          "output_type": "stream",
          "name": "stdout",
          "text": [
            "False\n",
            "True\n"
          ]
        }
      ]
    },
    {
      "cell_type": "code",
      "source": [
        "# split(seperator) --> used to split words from sentence and returns as list\n",
        "sentence = \"This is Shantayya from Pune\"\n",
        "words = sentence.split(\" \")\n",
        "print(*words)"
      ],
      "metadata": {
        "colab": {
          "base_uri": "https://localhost:8080/"
        },
        "id": "pAnrVbVvLDp6",
        "outputId": "a5a0ea6b-a30a-4102-f73d-158b0e4cdf0c"
      },
      "execution_count": null,
      "outputs": [
        {
          "output_type": "stream",
          "name": "stdout",
          "text": [
            "This is Shantayya from Pune\n"
          ]
        }
      ]
    },
    {
      "cell_type": "code",
      "source": [
        "# how to take list as input 1. we can use for loop 2. we can use split function and then print list\n",
        "name = []\n",
        "for i in range(5):\n",
        "  name.append(input())\n",
        "print(name)"
      ],
      "metadata": {
        "colab": {
          "base_uri": "https://localhost:8080/"
        },
        "id": "h9JufOL1L3gO",
        "outputId": "ab99afc4-3f2a-44e6-baa8-e70690d9ff0b"
      },
      "execution_count": null,
      "outputs": [
        {
          "output_type": "stream",
          "name": "stdout",
          "text": [
            "1\n",
            "shantayya\n",
            "swami\n",
            "shankar\n",
            "somnath\n",
            "['1', 'shantayya', 'swami', 'shankar', 'somnath']\n"
          ]
        }
      ]
    },
    {
      "cell_type": "code",
      "source": [
        "name = input()\n",
        "name = names.split(\",\")\n",
        "print(name)"
      ],
      "metadata": {
        "colab": {
          "base_uri": "https://localhost:8080/"
        },
        "id": "Jle6OQRLMyMq",
        "outputId": "9ce3c483-4ccf-4cd0-ee89-a8a7e40176be"
      },
      "execution_count": null,
      "outputs": [
        {
          "output_type": "stream",
          "name": "stdout",
          "text": [
            "shantayya,sonnath,som,shankar\n",
            "['shnatayya', 'shankar', 'somnath', 'swami']\n"
          ]
        }
      ]
    },
    {
      "cell_type": "code",
      "source": [
        "def calculate_sum(input_list):\n",
        "    # Write your code here, no need to take input\n",
        "    # Input argument: input_list\n",
        "    # Return: sum of elements in input_list\n",
        "\n",
        "    sum = 0\n",
        "    A = []\n",
        "    for i in input_list:\n",
        "        A.append(int(i))\n",
        "    \n",
        "    for i in A:\n",
        "      sum += i\n",
        "    print(sum)\n"
      ],
      "metadata": {
        "id": "pid-kyN5NEPd"
      },
      "execution_count": null,
      "outputs": []
    },
    {
      "cell_type": "code",
      "source": [
        "calculate_sum(input().split(\" \"))"
      ],
      "metadata": {
        "colab": {
          "base_uri": "https://localhost:8080/"
        },
        "id": "EIgn7nzPzjK6",
        "outputId": "469e2ba7-1039-4f78-ae05-8b5e27c768ea"
      },
      "execution_count": null,
      "outputs": [
        {
          "output_type": "stream",
          "name": "stdout",
          "text": [
            "1 2 3 4\n",
            "10\n"
          ]
        }
      ]
    },
    {
      "cell_type": "code",
      "source": [
        "def main():\n",
        "    # YOUR CODE GOES HERE\n",
        "    # Please take input and print output to standard input/output (stdin/stdout)\n",
        "    # E.g. 'input()/raw_input()' for input & 'print' for output\n",
        "\n",
        "    A = int(input())\n",
        "    array = list(map(int, input().split()[:A]))\n",
        "    \n",
        "#    for i in range(len(array)):\n",
        "#       array[i] = int(array[i])\n",
        "    \n",
        "    index = int(input())\n",
        "    array.pop(index-1)\n",
        "#    [print(i, end=' ') for i in array]\n",
        "    print(array)\n",
        "\n",
        "    return 0\n",
        "\n",
        "if __name__ == '__main__':\n",
        "    main()"
      ],
      "metadata": {
        "id": "b9l4u1n7z3Ut",
        "colab": {
          "base_uri": "https://localhost:8080/"
        },
        "outputId": "190c6ef1-e3e1-4192-fd01-0494f11ffbcc"
      },
      "execution_count": null,
      "outputs": [
        {
          "output_type": "stream",
          "name": "stdout",
          "text": [
            "4\n",
            "20 100 300 \n",
            "2\n",
            "[20, 300]\n"
          ]
        }
      ]
    },
    {
      "cell_type": "code",
      "source": [
        "def main():\n",
        "    # YOUR CODE GOES HERE\n",
        "    # Please take input and print output to standard input/output (stdin/stdout)\n",
        "    # E.g. 'input()/raw_input()' for input & 'print' for output\n",
        "    array = input().split(\" \")\n",
        "    x = int(input())\n",
        "    y = int(input())\n",
        "\n",
        "    array.insert(y,x)\n",
        "    print(array)\n",
        "    return 0\n",
        "\n",
        "if __name__ == '__main__':\n",
        "    main()"
      ],
      "metadata": {
        "colab": {
          "base_uri": "https://localhost:8080/"
        },
        "id": "pzEZh2IU5tpu",
        "outputId": "b5be48f5-9334-4b95-9d3b-8670de39c762"
      },
      "execution_count": null,
      "outputs": [
        {
          "output_type": "stream",
          "name": "stdout",
          "text": [
            "1 2 3 4 5\n",
            "6\n",
            "5\n",
            "['1', '2', '3', '4', '5', 6]\n"
          ]
        }
      ]
    },
    {
      "cell_type": "code",
      "source": [
        "def main():\n",
        "    # YOUR CODE GOES HERE\n",
        "    # Please take input and print output to standard input/output (stdin/stdout)\n",
        "    # E.g. 'input()/raw_input()' for input & 'print' for output\n",
        "    A = list(int(i) for i in input().split())\n",
        "    A.reverse()\n",
        "    #[print(i,end=' ') for i in A]\n",
        "    print(*A)\n",
        "    return 0\n",
        "\n",
        "if __name__ == '__main__':\n",
        "    main()"
      ],
      "metadata": {
        "colab": {
          "base_uri": "https://localhost:8080/"
        },
        "id": "5Ev_SN_u8sKu",
        "outputId": "bf4a0e24-9b41-47bf-be56-ba3d592ad4de"
      },
      "execution_count": null,
      "outputs": [
        {
          "output_type": "stream",
          "name": "stdout",
          "text": [
            "100 200 300 400 500 600 90\n",
            "90 600 500 400 300 200 100\n"
          ]
        }
      ]
    },
    {
      "cell_type": "code",
      "source": [
        "def first_multiple(ls,x):\n",
        "    ans = -1\n",
        "    ''' input:ls-List of elements and x-indicates the integer\n",
        "         output:Return ans from the list that is divisible by x'''\n",
        "    is_multiple = False\n",
        "    # YOUR CODE GOES HERE\n",
        "    for i in ls:\n",
        "      if i%x == 0:\n",
        "        is_multiple = True\n",
        "        break\n",
        "    \n",
        "    if is_multiple == True:\n",
        "      print(i)\n",
        "    else:\n",
        "      return ans\n",
        "\n",
        "        \n"
      ],
      "metadata": {
        "id": "MmJGQTfg9ucL"
      },
      "execution_count": null,
      "outputs": []
    },
    {
      "cell_type": "code",
      "source": [
        "A = [1, 2, 4, 5, 6]\n",
        "x = 4\n",
        "first_multiple(A, x)"
      ],
      "metadata": {
        "colab": {
          "base_uri": "https://localhost:8080/"
        },
        "id": "Znyq1xc8_EKE",
        "outputId": "35130f08-21b7-425e-f782-b6a6276aadf4"
      },
      "execution_count": null,
      "outputs": [
        {
          "output_type": "stream",
          "name": "stdout",
          "text": [
            "4\n"
          ]
        }
      ]
    },
    {
      "cell_type": "code",
      "source": [
        "x = [1, 2]\n",
        "y = [2, 3]\n",
        "\n",
        "for i in x:\n",
        "    for j in y:\n",
        "        print(i, j, end= \" \")"
      ],
      "metadata": {
        "colab": {
          "base_uri": "https://localhost:8080/"
        },
        "id": "bvfiKh_J_NkZ",
        "outputId": "83573591-7f76-4c4f-a971-014b9a06857d"
      },
      "execution_count": null,
      "outputs": [
        {
          "output_type": "stream",
          "name": "stdout",
          "text": [
            "1 2 1 3 2 2 2 3 "
          ]
        }
      ]
    },
    {
      "cell_type": "code",
      "source": [
        "# day 7 list-II\n",
        "# for -else or while-else\n",
        "# use list.index(val) --> to print index at which number is found -> returns the fist occuance of value"
      ],
      "metadata": {
        "id": "xHxLXh-YBPLk"
      },
      "execution_count": null,
      "outputs": []
    },
    {
      "cell_type": "code",
      "source": [
        "# check given item exists in list\n",
        "A = int(input())\n",
        "array = [1, 2, 3, 4]\n",
        "\n",
        "if A in array:\n",
        "    print(\"found at\",array.index(A))\n",
        "else:\n",
        "    print(\"Not Found\")"
      ],
      "metadata": {
        "colab": {
          "base_uri": "https://localhost:8080/"
        },
        "id": "XHbhDkdC9jDo",
        "outputId": "8b2e4c92-7335-4e69-9b9b-59524920512a"
      },
      "execution_count": null,
      "outputs": [
        {
          "output_type": "stream",
          "name": "stdout",
          "text": [
            "4\n",
            "found at 3\n"
          ]
        }
      ]
    },
    {
      "cell_type": "code",
      "source": [
        "A = int(input())\n",
        "array = (int(i) for i in input().split())\n",
        "found = False\n",
        "for item in array:\n",
        "  if A is item:\n",
        "    print(\"Found\")\n",
        "    found = True\n",
        "    break\n",
        "if (not found):\n",
        "  print(\"Not found\")\n"
      ],
      "metadata": {
        "colab": {
          "base_uri": "https://localhost:8080/"
        },
        "id": "0D8Rd0Eq-FT4",
        "outputId": "7a15da6f-1582-42f3-9393-82b3dee9b4cc"
      },
      "execution_count": null,
      "outputs": [
        {
          "output_type": "stream",
          "name": "stdout",
          "text": [
            "2\n",
            "1 2 3 4\n",
            "Found\n"
          ]
        }
      ]
    },
    {
      "cell_type": "code",
      "source": [
        "# enumerate function: works like range function however it accepts index, iterable\n",
        "A = int(input())\n",
        "array = (int(i) for i in input().split())\n",
        "\n",
        "for index, marks in enumerate(array):\n",
        "  if marks == A:\n",
        "    print(\"found at\", index)\n",
        "    break\n",
        "else:\n",
        "  print(\"Not Found\")\n"
      ],
      "metadata": {
        "colab": {
          "base_uri": "https://localhost:8080/"
        },
        "id": "rseBm56Q_AbF",
        "outputId": "534e732e-a9e0-43c6-939f-597e76a40f6b"
      },
      "execution_count": null,
      "outputs": [
        {
          "output_type": "stream",
          "name": "stdout",
          "text": [
            "2\n",
            "1 2 3 4 5\n",
            "found at 1\n"
          ]
        }
      ]
    },
    {
      "cell_type": "code",
      "source": [
        "# built in functions max(iterable or variables) min(iterables), sum(iterbales) --> does not work with empty list\n",
        "Array = (int(i) for i in input().split())\n",
        "print(max(Array))"
      ],
      "metadata": {
        "colab": {
          "base_uri": "https://localhost:8080/"
        },
        "id": "4K28yFr-Fohs",
        "outputId": "f8eef970-3f77-4154-c119-7cc5a9945785"
      },
      "execution_count": null,
      "outputs": [
        {
          "output_type": "stream",
          "name": "stdout",
          "text": [
            "1 2 3 4 100 900 8190\n",
            "8190\n"
          ]
        }
      ]
    },
    {
      "cell_type": "code",
      "source": [
        "# sliciing -> sub array or sb sequence list[start:end] --> default values are start-> 0, end-1-> len(list), jump -> +1 and end is exlusive\n",
        "# example: list [1,2,3,4]\n",
        "# list[1:3] --> [2,3]  --> slicing always returns list []\n",
        "# note: slicing never includes -ve to +ve or +ve to -ve   --> list[-1,4] "
      ],
      "metadata": {
        "id": "Okmlbv6QLHWY"
      },
      "execution_count": null,
      "outputs": []
    },
    {
      "cell_type": "code",
      "source": [
        "slicing = [1,2,3,4,5]\n",
        "print(slicing[-1:2])   #--> if start is -ve and end - +ve then we will convern in eaither -ve or +ve so converting -1 index to +ve it will be 4\n",
        "\n",
        "# +ve index     0  1   2   3   4\n",
        "# list          1  2   3   4   5\n",
        "#-ve index     -5 -4  -3  -2  -1"
      ],
      "metadata": {
        "colab": {
          "base_uri": "https://localhost:8080/"
        },
        "id": "U4kPPJpj4wss",
        "outputId": "0254c76a-7734-4b65-b520-07e57e9afe01"
      },
      "execution_count": null,
      "outputs": [
        {
          "output_type": "stream",
          "name": "stdout",
          "text": [
            "[]\n"
          ]
        }
      ]
    },
    {
      "cell_type": "code",
      "source": [
        "print(slicing[-50:200])  #--> whenever start is too low (start<-len(list)), slicing start with 0 and when end is too high then slicing goes till len or end-1 only."
      ],
      "metadata": {
        "colab": {
          "base_uri": "https://localhost:8080/"
        },
        "id": "fVGHF7jd450L",
        "outputId": "a8ca4ba4-98d8-45dd-8bc2-26cd117c25ed"
      },
      "execution_count": null,
      "outputs": [
        {
          "output_type": "stream",
          "name": "stdout",
          "text": [
            "[1, 2, 3, 4, 5]\n"
          ]
        }
      ]
    },
    {
      "cell_type": "code",
      "source": [
        "# slicing[::-1] --> whenever jump is -ve  and start and end is not given then slicing starts from right to left --> special reverse case\n",
        "print(slicing[::-1])"
      ],
      "metadata": {
        "colab": {
          "base_uri": "https://localhost:8080/"
        },
        "id": "6Erdwpq_5AEs",
        "outputId": "c59b88e2-eace-4232-f497-9e77c6533720"
      },
      "execution_count": null,
      "outputs": [
        {
          "output_type": "stream",
          "name": "stdout",
          "text": [
            "[5, 4, 3, 2, 1]\n"
          ]
        }
      ]
    },
    {
      "cell_type": "code",
      "source": [
        "#assignment : right shift an array \n",
        "shift = [1,2,3,4,5]\n",
        "a = shift.pop(0)\n",
        "shift.append(a)\n",
        "print(shift)"
      ],
      "metadata": {
        "colab": {
          "base_uri": "https://localhost:8080/"
        },
        "id": "sg5kOUoB_is7",
        "outputId": "42a79b2d-35ad-41dd-8cec-7d28c42b305a"
      },
      "execution_count": null,
      "outputs": [
        {
          "output_type": "stream",
          "name": "stdout",
          "text": [
            "[2, 3, 4, 5, 1]\n"
          ]
        }
      ]
    },
    {
      "cell_type": "code",
      "source": [
        "array = [1,2,1,3,2]\n",
        "print(array[1:] + array[0:1])"
      ],
      "metadata": {
        "colab": {
          "base_uri": "https://localhost:8080/"
        },
        "id": "dfi4_w8JBdmJ",
        "outputId": "8df963d3-0f8f-4b41-b041-0c2dd36dc964"
      },
      "execution_count": null,
      "outputs": [
        {
          "output_type": "stream",
          "name": "stdout",
          "text": [
            "[2, 1, 3, 2, 1]\n"
          ]
        }
      ]
    },
    {
      "cell_type": "code",
      "source": [
        "def main():\n",
        "    # YOUR CODE GOES HERE\n",
        "    # Please take input and print output to standard input/output (stdin/stdout)\n",
        "    # E.g. 'input()/raw_input()' for input & 'print' for output\n",
        "\n",
        "    N = list(map(int,input().split()))\n",
        "    N.pop(0)\n",
        "    print(max(N), min(N), sep=' ')\n",
        "    return 0\n",
        "\n",
        "if __name__ == '__main__':\n",
        "    main()"
      ],
      "metadata": {
        "colab": {
          "base_uri": "https://localhost:8080/"
        },
        "id": "Isk4q1ckBzVH",
        "outputId": "da8fb6c5-5502-4ca0-8d1d-82bb99736d7b"
      },
      "execution_count": null,
      "outputs": [
        {
          "output_type": "stream",
          "name": "stdout",
          "text": [
            "1000 461 503 925 377 559 119 46 260 381 100 268 123 794 514 590 941 116 242 973 319 325 725 569 46 550 897 608 527 727 932 25 539 434 301 915 344 419 961 603 799 312 223 273 106 88 863 398 556 456 370 874 780 446 794 825 996 43 784 522 769 715 898 659 501 198 574 844 969 886 799 767 549 373 40 6 460 254 404 15 709 125 240 840 571 34 16 566 76 799 439 196 514 336 854 366 885 779 209 853 664 7 972 213 379 363 570 191 616 973 205 676 98 445 515 20 830 530 585 905 680 375 100 545 62 305 910 946 84 471 151 99 477 122 311 208 484 233 398 99 205 954 774 654 750 640 673 579 521 609 483 200 983 934 97 44 591 6 342 674 476 492 772 305 613 435 864 448 667 613 546 223 566 671 877 316 310 549 246 830 510 81 381 492 14 477 888 604 835 581 629 310 72 401 966 36 835 829 483 853 441 380 75 359 50 303 26 711 852 271 892 713 351 624 204 717 101 443 672 935 23 301 596 446 53 562 833 239 742 667 91 535 46 165 245 447 468 270 509 671 892 400 383 243 24 938 311 476 733 982 762 107 634 357 553 686 270 737 924\n",
            "996 6\n"
          ]
        }
      ]
    },
    {
      "cell_type": "code",
      "source": [],
      "metadata": {
        "id": "rnQNgi0hFylQ"
      },
      "execution_count": null,
      "outputs": []
    },
    {
      "cell_type": "code",
      "source": [
        "def main():\n",
        "    # YOUR CODE GOES HERE\n",
        "    # Please take input and print output to standard input/output (stdin/stdout)\n",
        "    # E.g. 'input()/raw_input()' for input & 'print' for output\n",
        "    N = int(input())\n",
        "    array = list(map(int, input().split()[:N]))\n",
        "    last = array.pop()\n",
        "    array.insert(0,last)   \n",
        "    print(array) \n",
        "    return 0\n",
        "\n",
        "if __name__ == '__main__':\n",
        "    main()"
      ],
      "metadata": {
        "colab": {
          "base_uri": "https://localhost:8080/"
        },
        "id": "4FdBShjfGgdf",
        "outputId": "a32fc714-a880-4500-d66c-a08d6f6f958d"
      },
      "execution_count": null,
      "outputs": [
        {
          "output_type": "stream",
          "name": "stdout",
          "text": [
            "5\n",
            "1 2 3 4 5 6\n",
            "[5, 1, 2, 3, 4]\n"
          ]
        }
      ]
    },
    {
      "cell_type": "code",
      "source": [
        "languages=['C' , 'C++' ,'R', 'Python' , 'Java', 'Scala']\n",
        "# del languages[-2]\n",
        "languages.pop(4)\n",
        "print(languages)"
      ],
      "metadata": {
        "colab": {
          "base_uri": "https://localhost:8080/"
        },
        "id": "plSG8I1JK5HG",
        "outputId": "3bc3d395-cbe4-4df6-88c9-a5891c8e945d"
      },
      "execution_count": null,
      "outputs": [
        {
          "output_type": "stream",
          "name": "stdout",
          "text": [
            "['C', 'C++', 'R', 'Python', 'Scala']\n"
          ]
        }
      ]
    },
    {
      "cell_type": "code",
      "source": [
        "word = \"Scaler Data Science Course\"\n",
        "word_list = list(word)\n",
        "print(word_list)\n",
        "print(word_list[1:3])"
      ],
      "metadata": {
        "colab": {
          "base_uri": "https://localhost:8080/"
        },
        "id": "4s1vs-25MR9i",
        "outputId": "1801c8dd-1071-4c4f-e9e1-d1f94bfd1dd8"
      },
      "execution_count": null,
      "outputs": [
        {
          "output_type": "stream",
          "name": "stdout",
          "text": [
            "['S', 'c', 'a', 'l', 'e', 'r', ' ', 'D', 'a', 't', 'a', ' ', 'S', 'c', 'i', 'e', 'n', 'c', 'e', ' ', 'C', 'o', 'u', 'r', 's', 'e']\n",
            "['c', 'a']\n"
          ]
        }
      ]
    },
    {
      "cell_type": "code",
      "source": [
        "def main():\n",
        "    # YOUR CODE GOES HERE\n",
        "    # Please take input and print output to standard input/output (stdin/stdout)\n",
        "    # E.g. 'input()/raw_input()' for input & 'print' for output\n",
        "    T = int(input())\n",
        "    while T > 0:\n",
        "      N = int(input())\n",
        "      array = list(map(int,input().split()[:N]))\n",
        "      B = int(input())\n",
        "      for i in range(N):\n",
        "        if array[i] == B:\n",
        "            print(\"1\")\n",
        "            break\n",
        "      else:\n",
        "        print(\"0\")\n",
        "      T -= 1\n",
        "\n",
        "if __name__ == '__main__':\n",
        "    main()"
      ],
      "metadata": {
        "colab": {
          "base_uri": "https://localhost:8080/"
        },
        "id": "q4uOP51MNdJy",
        "outputId": "3c570503-9ff9-45aa-cb97-33e6beb48d3c"
      },
      "execution_count": null,
      "outputs": [
        {
          "output_type": "stream",
          "name": "stdout",
          "text": [
            "2\n",
            "5\n",
            "1 2 3 4 5\n",
            "1\n",
            "1\n",
            "3\n",
            "1 2 3 4 \n",
            "6\n",
            "0\n",
            "0\n",
            "0\n"
          ]
        }
      ]
    },
    {
      "cell_type": "code",
      "source": [
        "    def solve(A):\n",
        "        maxx = max(A)\n",
        "        second_large = 0\n",
        "        if len(A) == 1:\n",
        "          return -1\n",
        "        for i in range(len(A)):\n",
        "           if A[i] < maxx and A[i] > second_large:\n",
        "                second_large = A[i]\n",
        "        if second_large != 0:\n",
        "          return second_large\n"
      ],
      "metadata": {
        "id": "jOO0_6dOPGIm"
      },
      "execution_count": null,
      "outputs": []
    },
    {
      "cell_type": "code",
      "source": [
        "A = [ 81705, 56002, 87239, 11815, 31420, 38036, 62002, 69224, 67185, 75478, 42577, 79358 ]\n",
        "B = [2]\n",
        "solve(A)"
      ],
      "metadata": {
        "colab": {
          "base_uri": "https://localhost:8080/"
        },
        "id": "WPZGbcY6YXIh",
        "outputId": "dfc73f61-4a65-4491-a90b-8ca96163b8f5"
      },
      "execution_count": null,
      "outputs": [
        {
          "output_type": "execute_result",
          "data": {
            "text/plain": [
              "81705"
            ]
          },
          "metadata": {},
          "execution_count": 85
        }
      ]
    },
    {
      "cell_type": "code",
      "source": [
        "# day 8: nested list\n",
        "maths = [1,2,3,4,5]\n",
        "english = [9,7,6,5,4]\n",
        "cs = [2,1,2,1,3]\n",
        "subjects = [maths, english, cs] # which means\n",
        "#           stu0, stu1, stu2, stu3, stu4\n",
        "subjects = [[1,   2,    3], \n",
        "            [9,   7,    6], #marks\n",
        "            [2,   1,    2]] # -- which is 2D list\n",
        "# to access marks of sudent 2 in maths subjects[0][2]\n",
        "# no_rows = len(subjects)\n",
        "# no_col = len(subjects[0])\n"
      ],
      "metadata": {
        "id": "FlO4cr2mYbxC"
      },
      "execution_count": null,
      "outputs": []
    },
    {
      "cell_type": "code",
      "source": [
        "#row major form\n",
        "# print row wise 1st row----> 2nd row -------> 3rd row---------->\n",
        "for row in range(len(subjects)):\n",
        "  for col in range(len(subjects[row])):\n",
        "    print(subjects[row][col], end=' ')\n",
        "  print()"
      ],
      "metadata": {
        "colab": {
          "base_uri": "https://localhost:8080/"
        },
        "id": "JCKX0JTFKo78",
        "outputId": "8f1b527b-e226-475a-e8ef-8263b70b430c"
      },
      "execution_count": null,
      "outputs": [
        {
          "output_type": "stream",
          "name": "stdout",
          "text": [
            "1 2 3 4 5 \n",
            "9 7 6 5 4 \n",
            "2 1 2 1 3 \n"
          ]
        }
      ]
    },
    {
      "cell_type": "code",
      "source": [
        "#col major form print col wise\n",
        "for col in range(len(subjects[0])):\n",
        "  for row in range(len(subjects)):\n",
        "    print(subjects[row][col], end=' ')\n",
        "  print()"
      ],
      "metadata": {
        "colab": {
          "base_uri": "https://localhost:8080/"
        },
        "id": "0EKkGsfIPHBc",
        "outputId": "89a3ff00-da6e-467d-df9a-7552ac68af66"
      },
      "execution_count": null,
      "outputs": [
        {
          "output_type": "stream",
          "name": "stdout",
          "text": [
            "1 9 2 \n",
            "2 7 1 \n",
            "3 6 2 \n",
            "4 5 1 \n",
            "5 4 3 \n"
          ]
        }
      ]
    },
    {
      "cell_type": "code",
      "source": [
        "# taking input as nested list\n",
        "def take_input_list():\n",
        "  array = list(map(int,input().split()))\n",
        "  return array\n",
        "\n",
        "lst = []\n",
        "row = int(input())\n",
        "for i in range(row):\n",
        "  lst.append(take_input_list())\n",
        "print(lst)"
      ],
      "metadata": {
        "colab": {
          "base_uri": "https://localhost:8080/"
        },
        "id": "2a9lOfUEP1iu",
        "outputId": "92d2f297-7b09-48f5-b332-6e3434ef0e82"
      },
      "execution_count": null,
      "outputs": [
        {
          "output_type": "stream",
          "name": "stdout",
          "text": [
            "5\n",
            "1 2 3 4 5\n",
            "21 3 4 56 100\n",
            "100 2003 400 500 400\n",
            "21 21 1 2 3\n",
            "9 8 7 5 4 2\n",
            "[[1, 2, 3, 4, 5], [21, 3, 4, 56, 100], [100, 2003, 400, 500, 400], [21, 21, 1, 2, 3], [9, 8, 7, 5, 4, 2]]\n"
          ]
        }
      ]
    },
    {
      "cell_type": "code",
      "source": [
        "#row wise sum\n",
        "sum_list = []\n",
        "for col in range(len(subjects[0])):\n",
        "  sum = 0\n",
        "  for row in range(len(subjects)):\n",
        "    print(subjects[row][col], end=' ')\n",
        "    sum += subjects[row][col]\n",
        "  sum_list.append(sum)\n",
        "  print()\n",
        "print(sum_list)"
      ],
      "metadata": {
        "colab": {
          "base_uri": "https://localhost:8080/"
        },
        "id": "p9v-CPL_UmCa",
        "outputId": "fc9f1834-357f-4547-f0d9-d462cccbc961"
      },
      "execution_count": null,
      "outputs": [
        {
          "output_type": "stream",
          "name": "stdout",
          "text": [
            "1 9 2 \n",
            "2 7 1 \n",
            "3 6 2 \n",
            "[12, 10, 11]\n"
          ]
        }
      ]
    },
    {
      "cell_type": "code",
      "source": [
        "# col wise sum  -> assignment\n",
        "row_sum = []\n",
        "\n",
        "for row in range(len(subjects)):\n",
        "  sum = 0\n",
        "  for col in range(len(subjects[row])):\n",
        "    print(subjects[row][col], end=' ')\n",
        "    sum += subjects[row][col]\n",
        "  row_sum.append(sum)\n",
        "  print()\n",
        "print(row_sum)"
      ],
      "metadata": {
        "colab": {
          "base_uri": "https://localhost:8080/"
        },
        "id": "ONfdeOGJWiNt",
        "outputId": "e3f43eae-42bd-4fec-a750-079b653a3bd8"
      },
      "execution_count": null,
      "outputs": [
        {
          "output_type": "stream",
          "name": "stdout",
          "text": [
            "1 2 3 \n",
            "9 7 6 \n",
            "2 1 2 \n",
            "[6, 22, 5]\n"
          ]
        }
      ]
    },
    {
      "cell_type": "code",
      "source": [
        "\n",
        "\n",
        "# Assignment\n",
        "# calculate max rowwise, col wise and max of matrix\n"
      ],
      "metadata": {
        "id": "euws9wwGXJRi"
      },
      "execution_count": null,
      "outputs": []
    },
    {
      "cell_type": "code",
      "source": [
        "# 2D matrix addition \n",
        "A = [[1,2], [3,4]]\n",
        "B = [[4,5], [6,7]]\n",
        "row = len(A)\n",
        "col = len(A[0])\n",
        "C = []\n",
        "for r in range(row):\n",
        "  temp = []\n",
        "  for c in range(col):\n",
        "    temp.append(A[r][c] + B[r][c])\n",
        "  C.append(temp)\n",
        "print(C)"
      ],
      "metadata": {
        "colab": {
          "base_uri": "https://localhost:8080/"
        },
        "id": "yW7Nps2xaRRC",
        "outputId": "4babdf32-0d75-4cf7-d90b-2a7796c42d07"
      },
      "execution_count": null,
      "outputs": [
        {
          "output_type": "stream",
          "name": "stdout",
          "text": [
            "[[5, 7], [9, 11]]\n"
          ]
        }
      ]
    },
    {
      "cell_type": "code",
      "source": [
        "# 2D matrix transpose \n",
        "A = [\n",
        "  [30, 25, 55, 45, 100, 80, 42],\n",
        "  [90, 97, 34, 71, 60, 61, 89],\n",
        "  [6, 98, 61, 83, 8, 89, 45],\n",
        "  [26, 64, 16, 67, 85, 35, 37],\n",
        "  [38, 84, 43, 67, 60, 97, 63],\n",
        "  [60, 28, 5, 1, 76, 90, 23],\n",
        "  [36, 50, 11, 41, 99, 23, 75],\n",
        "  [58, 11, 19, 83, 74, 34, 2],\n",
        "  [11, 21, 38, 100, 56, 80, 19],\n",
        "  [16, 28, 81, 27, 8, 37, 79] ]\n",
        "\n",
        "C = []\n",
        "for c in range(len(A[0])):\n",
        "  temp = []\n",
        "  for r in range(len(A)):\n",
        "    temp.append(A[r][c])\n",
        "  C.append(temp)\n",
        "print(*C)\n"
      ],
      "metadata": {
        "colab": {
          "base_uri": "https://localhost:8080/"
        },
        "id": "rYxdXoAea42v",
        "outputId": "146fd1cf-9eab-453d-bc26-b36a8d782f90"
      },
      "execution_count": null,
      "outputs": [
        {
          "output_type": "stream",
          "name": "stdout",
          "text": [
            "[30, 90, 6, 26, 38, 60, 36, 58, 11, 16] [25, 97, 98, 64, 84, 28, 50, 11, 21, 28] [55, 34, 61, 16, 43, 5, 11, 19, 38, 81] [45, 71, 83, 67, 67, 1, 41, 83, 100, 27] [100, 60, 8, 85, 60, 76, 99, 74, 56, 8] [80, 61, 89, 35, 97, 90, 23, 34, 80, 37] [42, 89, 45, 37, 63, 23, 75, 2, 19, 79]\n"
          ]
        }
      ]
    },
    {
      "cell_type": "code",
      "source": [],
      "metadata": {
        "id": "5xLHPyj69ysO"
      },
      "execution_count": null,
      "outputs": []
    },
    {
      "cell_type": "code",
      "source": [
        "# row sum\n",
        "def solve(A):\n",
        "     sum_list = []\n",
        "     for r in range(len(A)):\n",
        "        sum = 0\n",
        "        for c in range(len(A[r])):\n",
        "            sum += A[r][c]\n",
        "        sum_list.append(sum)\n",
        "        print()\n",
        " #    [print(i,end=' ') for i in sum_list]\n",
        "     print(sum_list)\n",
        "     \n"
      ],
      "metadata": {
        "id": "jximZVmlsMPT"
      },
      "execution_count": null,
      "outputs": []
    },
    {
      "cell_type": "code",
      "source": [
        "A = [\n",
        "  [689, 456, 460, 792, 186, 351, 237, 365, 832, 276, 469, 625, 517, 39, 156, 175, 753, 717, 172, 624, 945, 707, 411, 714, 72, 98, 491, 190, 593, 956, 754, 282, 412, 214, 75, 598, 917, 664, 963, 749, 940, 785, 726, 809, 824, 883, 336, 929, 952, 508, 905, 249, 568, 668, 963],\n",
        "  [992, 767, 806, 182, 712, 763, 289, 995, 527, 503, 422, 478, 421, 86, 793, 522, 378, 578, 249, 187, 754, 484, 876, 35, 436, 384, 940, 686, 304, 609, 1, 297, 728, 160, 831, 792, 923, 120, 787, 802, 624, 209, 632, 397, 647, 426, 271, 25, 356, 520, 565, 463, 4, 441, 498],\n",
        "  [793, 177, 791, 479, 834, 752, 832, 131, 832, 992, 314, 624, 267, 435, 764, 422, 411, 973, 54, 160, 973, 480, 431, 350, 189, 304, 915, 4, 660, 708, 502, 453, 238, 645, 284, 72, 749, 117, 555, 581, 461, 869, 558, 729, 656, 322, 151, 419, 647, 205, 931, 620, 38, 363, 971],\n",
        "  [579, 19, 238, 583, 679, 947, 437, 133, 537, 83, 769, 609, 184, 238, 164, 766, 700, 385, 324, 429, 394, 998, 932, 813, 645, 489, 745, 266, 879, 460, 589, 810, 479, 827, 393, 158, 126, 183, 643, 663, 618, 765, 624, 802, 3, 788, 920, 703, 526, 596, 484, 920, 594, 768, 733],\n",
        "  [240, 258, 830, 858, 489, 642, 799, 300, 121, 626, 45, 632, 105, 580, 627, 120, 198, 392, 745, 1, 748, 885, 921, 451, 411, 870, 288, 331, 464, 56, 65, 56, 666, 247, 266, 508, 890, 65, 160, 363, 692, 557, 347, 149, 138, 327, 269, 336, 71, 14, 689, 819, 900, 963, 623],\n",
        "  [311, 833, 911, 995, 297, 319, 412, 706, 338, 659, 972, 198, 901, 38, 358, 617, 82, 915, 964, 231, 53, 291, 852, 742, 363, 219, 431, 534, 119, 394, 157, 782, 579, 420, 777, 877, 92, 541, 935, 782, 201, 907, 980, 454, 945, 690, 71, 27, 957, 388, 610, 363, 31, 463, 105],\n",
        "  [394, 682, 888, 281, 153, 283, 438, 287, 862, 859, 417, 91, 303, 958, 26, 85, 511, 286, 65, 966, 231, 107, 389, 611, 64, 777, 573, 427, 809, 36, 884, 555, 70, 773, 836, 575, 56, 275, 863, 270, 486, 632, 714, 789, 590, 92, 874, 102, 378, 291, 420, 610, 750, 809, 573],\n",
        "  [814, 587, 146, 594, 748, 535, 478, 303, 957, 251, 492, 533, 659, 767, 748, 930, 605, 380, 996, 746, 322, 88, 972, 776, 467, 615, 196, 429, 365, 358, 2, 179, 297, 500, 773, 45, 387, 252, 700, 345, 855, 192, 230, 515, 311, 978, 797, 916, 710, 793, 14, 384, 233, 986, 161],\n",
        "  [52, 601, 709, 481, 966, 67, 835, 498, 716, 688, 271, 761, 75, 875, 814, 420, 83, 6, 650, 598, 670, 980, 747, 938, 42, 892, 953, 427, 125, 939, 588, 178, 541, 649, 11, 859, 717, 847, 357, 433, 535, 981, 547, 610, 208, 361, 383, 291, 719, 385, 241, 389, 718, 988, 328],\n",
        "  [760, 880, 281, 187, 358, 572, 127, 888, 465, 777, 899, 325, 846, 746, 682, 631, 633, 15, 178, 596, 224, 891, 331, 867, 611, 716, 109, 352, 434, 449, 680, 547, 330, 313, 86, 40, 886, 566, 928, 351, 343, 827, 28, 189, 926, 711, 172, 559, 78, 351, 507, 302, 242, 838, 522],\n",
        "  [205, 555, 631, 558, 341, 80, 590, 240, 762, 256, 327, 154, 142, 893, 82, 845, 588, 910, 874, 129, 188, 937, 301, 99, 15, 652, 607, 670, 247, 445, 192, 804, 352, 175, 362, 46, 607, 305, 638, 370, 561, 965, 524, 703, 210, 959, 900, 150, 221, 126, 279, 409, 63, 581, 508],\n",
        "  [431, 585, 115, 453, 184, 913, 997, 989, 617, 524, 703, 15, 131, 8, 654, 853, 569, 971, 378, 624, 182, 689, 877, 332, 910, 3, 964, 319, 419, 897, 179, 202, 834, 647, 655, 19, 912, 4, 360, 529, 528, 63, 545, 11, 424, 551, 865, 993, 522, 595, 970, 56, 284, 847, 389],\n",
        "  [194, 850, 705, 865, 621, 602, 44, 823, 436, 691, 830, 807, 603, 834, 167, 485, 714, 583, 382, 726, 7, 933, 591, 352, 455, 538, 322, 512, 822, 521, 253, 368, 372, 958, 233, 345, 912, 629, 169, 348, 673, 999, 156, 628, 186, 675, 113, 252, 258, 495, 978, 265, 780, 921, 970],\n",
        "  [236, 811, 292, 100, 633, 814, 705, 1, 538, 15, 586, 883, 927, 216, 404, 627, 889, 404, 135, 517, 942, 811, 983, 194, 421, 830, 525, 39, 611, 798, 9, 199, 610, 653, 651, 243, 467, 356, 597, 357, 723, 183, 593, 650, 751, 997, 277, 992, 753, 765, 862, 695, 576, 845, 242],\n",
        "  [997, 675, 767, 36, 638, 565, 397, 189, 175, 51, 840, 771, 870, 548, 368, 580, 271, 903, 173, 921, 655, 522, 551, 647, 628, 316, 861, 323, 244, 706, 565, 593, 734, 684, 982, 372, 250, 379, 562, 777, 782, 754, 548, 653, 303, 916, 233, 574, 172, 758, 848, 179, 280, 751, 178],\n",
        "  [908, 419, 40, 584, 663, 746, 501, 608, 480, 186, 590, 205, 788, 322, 119, 565, 104, 873, 114, 109, 176, 382, 342, 751, 906, 100, 951, 85, 733, 702, 264, 641, 473, 304, 577, 488, 50, 79, 96, 883, 617, 39, 440, 405, 361, 559, 322, 817, 432, 788, 927, 609, 171, 621, 712],\n",
        "  [429, 722, 15, 515, 455, 717, 779, 448, 190, 83, 26, 678, 485, 457, 126, 720, 74, 165, 160, 831, 878, 719, 153, 48, 152, 942, 327, 113, 465, 948, 177, 894, 22, 192, 409, 829, 261, 540, 278, 803, 975, 656, 833, 461, 465, 959, 181, 539, 477, 694, 722, 707, 413, 875, 107],\n",
        "  [917, 169, 434, 382, 986, 383, 559, 881, 405, 103, 642, 235, 364, 535, 865, 167, 510, 873, 352, 323, 338, 664, 505, 229, 141, 199, 951, 200, 964, 178, 308, 882, 348, 94, 264, 334, 477, 176, 567, 235, 279, 210, 822, 996, 97, 687, 163, 607, 912, 868, 931, 250, 532, 788, 479],\n",
        "  [25, 339, 430, 225, 303, 608, 885, 537, 308, 980, 154, 643, 457, 682, 210, 44, 961, 772, 866, 957, 869, 905, 473, 829, 817, 341, 760, 419, 225, 548, 898, 250, 239, 680, 475, 894, 641, 361, 432, 949, 693, 938, 944, 502, 620, 507, 547, 933, 279, 765, 243, 501, 671, 68, 330],\n",
        "  [840, 409, 442, 260, 986, 342, 510, 236, 581, 191, 711, 475, 184, 424, 259, 133, 117, 549, 430, 620, 169, 937, 519, 455, 568, 284, 698, 69, 307, 766, 751, 500, 527, 193, 112, 513, 887, 622, 101, 468, 165, 164, 296, 349, 589, 555, 835, 58, 457, 265, 30, 626, 202, 901, 433],\n",
        "  [770, 186, 483, 192, 845, 249, 295, 345, 128, 489, 457, 993, 376, 432, 94, 197, 597, 259, 493, 299, 200, 400, 134, 610, 857, 399, 993, 836, 953, 894, 621, 75, 432, 105, 619, 630, 706, 915, 975, 835, 756, 785, 180, 132, 217, 275, 681, 166, 886, 526, 465, 438, 927, 599, 48],\n",
        "  [136, 350, 393, 324, 655, 288, 946, 83, 72, 51, 702, 702, 757, 617, 678, 944, 373, 815, 477, 858, 384, 104, 891, 902, 990, 418, 368, 428, 345, 319, 828, 833, 22, 222, 158, 29, 862, 456, 112, 934, 859, 167, 637, 616, 136, 667, 913, 862, 834, 390, 72, 218, 494, 963, 120],\n",
        "  [836, 381, 840, 616, 78, 512, 444, 912, 886, 18, 422, 915, 880, 230, 380, 167, 89, 547, 804, 57, 683, 471, 970, 545, 305, 712, 617, 875, 558, 933, 347, 394, 314, 540, 362, 393, 52, 159, 657, 290, 177, 431, 205, 410, 661, 937, 577, 750, 484, 733, 807, 520, 204, 130, 417],\n",
        "  [861, 194, 387, 88, 753, 320, 435, 499, 634, 975, 862, 379, 379, 21, 388, 669, 550, 819, 227, 312, 832, 164, 889, 934, 1, 974, 742, 873, 178, 224, 290, 391, 418, 677, 831, 523, 349, 267, 23, 336, 594, 237, 715, 326, 258, 456, 347, 160, 275, 926, 473, 460, 443, 714, 394],\n",
        "  [796, 689, 488, 669, 219, 712, 311, 963, 483, 341, 794, 6, 690, 61, 29, 26, 8, 618, 94, 686, 876, 550, 33, 389, 177, 312, 862, 637, 755, 928, 384, 551, 617, 872, 572, 189, 937, 883, 152, 420, 224, 946, 426, 915, 360, 808, 293, 720, 426, 387, 406, 655, 289, 791, 396],\n",
        "  [467, 103, 610, 456, 210, 538, 840, 113, 508, 65, 685, 697, 2, 569, 849, 422, 793, 795, 200, 60, 507, 360, 706, 227, 139, 445, 633, 794, 735, 425, 542, 554, 880, 152, 10, 443, 690, 203, 556, 198, 268, 242, 895, 270, 811, 96, 44, 956, 892, 244, 369, 751, 605, 75, 979],\n",
        "  [744, 872, 612, 890, 607, 389, 432, 161, 622, 584, 524, 65, 626, 727, 621, 825, 347, 863, 72, 617, 26, 169, 13, 335, 413, 257, 56, 516, 214, 483, 495, 310, 355, 108, 200, 963, 849, 984, 476, 823, 920, 352, 888, 547, 79, 862, 724, 778, 77, 148, 747, 104, 669, 760, 791],\n",
        "  [434, 370, 847, 951, 584, 330, 446, 895, 37, 906, 447, 352, 756, 432, 829, 931, 352, 181, 820, 251, 613, 682, 975, 391, 759, 124, 491, 215, 793, 251, 6, 228, 621, 205, 179, 558, 887, 625, 805, 925, 884, 252, 277, 640, 36, 458, 923, 389, 992, 743, 992, 957, 777, 968, 700],\n",
        "  [889, 444, 191, 104, 237, 795, 463, 817, 416, 20, 996, 326, 908, 974, 131, 185, 858, 384, 814, 850, 420, 625, 773, 161, 617, 869, 154, 574, 646, 474, 274, 535, 918, 818, 992, 155, 613, 455, 973, 381, 827, 321, 708, 735, 647, 839, 272, 505, 575, 87, 707, 996, 64, 833, 509],\n",
        "  [681, 702, 663, 607, 700, 137, 233, 588, 55, 51, 580, 563, 16, 387, 888, 398, 214, 209, 106, 302, 857, 945, 574, 714, 521, 13, 422, 869, 77, 255, 378, 110, 309, 394, 69, 9, 883, 303, 597, 939, 706, 529, 854, 723, 916, 742, 121, 131, 303, 579, 785, 160, 876, 711, 227],\n",
        "  [749, 725, 649, 618, 154, 256, 349, 617, 917, 743, 38, 926, 626, 341, 876, 917, 400, 405, 123, 475, 674, 865, 948, 805, 169, 527, 942, 681, 403, 653, 908, 153, 730, 909, 123, 885, 517, 472, 854, 434, 567, 892, 713, 546, 586, 941, 463, 338, 346, 939, 813, 20, 804, 113, 177],\n",
        "  [325, 640, 471, 359, 395, 125, 267, 900, 855, 529, 376, 92, 46, 200, 946, 833, 768, 191, 898, 314, 777, 839, 129, 115, 537, 68, 280, 910, 225, 393, 439, 550, 385, 911, 261, 132, 36, 881, 385, 891, 410, 761, 336, 808, 961, 282, 993, 81, 473, 891, 395, 602, 730, 877, 69],\n",
        "  [620, 297, 349, 530, 522, 94, 969, 425, 479, 880, 686, 964, 268, 567, 349, 512, 329, 462, 848, 490, 423, 482, 483, 857, 308, 375, 604, 910, 457, 481, 332, 429, 779, 681, 959, 653, 128, 281, 78, 959, 161, 765, 923, 782, 684, 272, 294, 366, 86, 494, 856, 510, 976, 339, 719],\n",
        "  [284, 66, 323, 547, 876, 805, 879, 305, 936, 912, 617, 589, 392, 898, 20, 352, 59, 137, 275, 193, 821, 900, 487, 187, 986, 981, 43, 848, 310, 735, 567, 946, 801, 891, 493, 29, 48, 724, 335, 336, 989, 952, 925, 381, 202, 297, 85, 261, 434, 361, 455, 256, 613, 294, 795],\n",
        "  [951, 628, 191, 800, 938, 926, 719, 884, 79, 962, 730, 461, 362, 806, 148, 698, 147, 452, 976, 881, 654, 273, 966, 267, 708, 679, 722, 316, 292, 369, 463, 596, 997, 654, 748, 287, 932, 467, 171, 12, 782, 253, 473, 144, 60, 621, 195, 559, 425, 523, 440, 79, 148, 407, 346],\n",
        "  [208, 86, 421, 524, 731, 790, 988, 327, 139, 994, 427, 426, 927, 894, 949, 939, 28, 203, 764, 525, 615, 737, 72, 526, 162, 595, 967, 241, 743, 374, 939, 952, 812, 360, 828, 895, 150, 168, 574, 641, 163, 1, 67, 90, 248, 369, 381, 276, 924, 145, 153, 891, 234, 225, 417],\n",
        "  [748, 820, 384, 341, 916, 110, 280, 868, 275, 993, 48, 170, 143, 217, 745, 137, 380, 746, 556, 470, 346, 925, 851, 623, 849, 348, 776, 92, 934, 354, 510, 34, 174, 246, 375, 442, 357, 7, 662, 632, 0, 711, 154, 496, 928, 899, 633, 660, 998, 189, 130, 344, 467, 333, 319],\n",
        "  [668, 33, 448, 761, 967, 802, 623, 1, 328, 869, 728, 123, 226, 735, 785, 210, 88, 496, 717, 584, 776, 968, 569, 436, 966, 758, 918, 663, 577, 251, 334, 246, 284, 782, 7, 603, 936, 630, 956, 617, 851, 36, 740, 430, 124, 877, 640, 212, 726, 709, 148, 502, 678, 717, 291],\n",
        "  [996, 827, 209, 11, 405, 813, 346, 651, 449, 480, 10, 53, 769, 992, 361, 386, 843, 398, 478, 273, 522, 355, 266, 734, 81, 975, 882, 936, 653, 599, 227, 2, 778, 788, 13, 183, 601, 359, 834, 51, 840, 196, 456, 609, 188, 817, 347, 384, 215, 177, 657, 89, 532, 275, 823],\n",
        "  [966, 251, 57, 254, 256, 8, 481, 258, 787, 269, 272, 970, 223, 631, 157, 274, 823, 705, 730, 784, 894, 899, 483, 630, 467, 660, 287, 556, 545, 563, 380, 863, 166, 789, 117, 774, 798, 950, 33, 937, 571, 657, 259, 794, 640, 416, 68, 464, 122, 150, 600, 368, 50, 84, 998],\n",
        "  [517, 96, 637, 73, 641, 552, 805, 856, 70, 947, 973, 845, 97, 923, 878, 34, 495, 887, 293, 289, 527, 62, 710, 991, 536, 212, 944, 904, 614, 380, 254, 131, 476, 243, 557, 470, 148, 714, 326, 218, 13, 652, 63, 110, 575, 293, 496, 422, 180, 790, 64, 60, 204, 126, 51],\n",
        "  [740, 338, 347, 996, 953, 727, 250, 436, 556, 845, 345, 26, 993, 60, 704, 212, 425, 356, 627, 536, 932, 273, 32, 706, 805, 174, 770, 865, 378, 248, 269, 118, 587, 616, 114, 540, 696, 716, 328, 252, 914, 674, 278, 907, 86, 982, 471, 511, 691, 451, 399, 623, 724, 432, 681],\n",
        "  [881, 958, 804, 747, 337, 52, 16, 455, 639, 984, 922, 531, 680, 990, 212, 284, 904, 886, 914, 164, 324, 897, 987, 835, 588, 438, 235, 563, 514, 19, 596, 748, 977, 400, 495, 666, 453, 863, 474, 444, 847, 396, 328, 880, 738, 540, 164, 643, 778, 431, 159, 102, 328, 146, 937],\n",
        "  [268, 937, 524, 183, 803, 895, 131, 551, 225, 532, 46, 891, 337, 261, 365, 133, 461, 761, 461, 693, 852, 353, 209, 495, 131, 640, 6, 233, 968, 504, 523, 588, 441, 399, 123, 597, 295, 255, 148, 520, 139, 547, 411, 476, 808, 777, 609, 621, 890, 423, 314, 742, 776, 524, 589],\n",
        "  [908, 164, 947, 493, 485, 452, 16, 425, 245, 416, 549, 842, 63, 156, 991, 935, 647, 890, 346, 123, 50, 475, 84, 672, 718, 507, 986, 812, 636, 862, 402, 896, 27, 701, 389, 512, 153, 758, 289, 399, 526, 190, 593, 589, 346, 936, 524, 345, 826, 222, 468, 229, 698, 905, 901],\n",
        "  [768, 764, 239, 580, 400, 102, 334, 648, 481, 36, 38, 345, 541, 796, 634, 292, 674, 825, 886, 263, 523, 822, 787, 869, 1, 361, 689, 230, 411, 946, 483, 179, 711, 74, 760, 463, 528, 446, 112, 9, 482, 502, 706, 24, 650, 693, 668, 324, 870, 554, 587, 393, 729, 726, 614],\n",
        "  [730, 439, 656, 312, 851, 602, 795, 30, 665, 869, 142, 481, 750, 589, 945, 759, 423, 447, 818, 799, 449, 511, 468, 773, 381, 374, 712, 126, 103, 790, 93, 833, 229, 74]\n",
        "]\n",
        "solve(A)"
      ],
      "metadata": {
        "colab": {
          "base_uri": "https://localhost:8080/"
        },
        "id": "1SWuNM2jEMzl",
        "outputId": "7030a0e0-e01c-4c5d-9895-2275d4e4344b"
      },
      "execution_count": null,
      "outputs": [
        {
          "output_type": "stream",
          "name": "stdout",
          "text": [
            "\n",
            "\n",
            "\n",
            "\n",
            "\n",
            "\n",
            "\n",
            "\n",
            "\n",
            "\n",
            "\n",
            "\n",
            "\n",
            "\n",
            "\n",
            "\n",
            "\n",
            "\n",
            "\n",
            "\n",
            "\n",
            "\n",
            "\n",
            "\n",
            "\n",
            "\n",
            "\n",
            "\n",
            "\n",
            "\n",
            "\n",
            "\n",
            "\n",
            "\n",
            "\n",
            "\n",
            "\n",
            "\n",
            "\n",
            "\n",
            "\n",
            "\n",
            "\n",
            "\n",
            "\n",
            "\n",
            "\n",
            "[30741, 27677, 28187, 30139, 24213, 28189, 26126, 28412, 29743, 27152, 24333, 28290, 29951, 29933, 30015, 25727, 26289, 26760, 30932, 24070, 27449, 27774, 27634, 26446, 27821, 25678, 27691, 31472, 30854, 25681, 31814, 27343, 29526, 28233, 28767, 27225, 26145, 30150, 26194, 27188, 24424, 28715, 31293, 26384, 28719, 27572, 18018]\n"
          ]
        }
      ]
    },
    {
      "cell_type": "code",
      "source": [
        "# matri diagonal sum\n",
        "class Solution:\n",
        "    def solve(self, A):\n",
        "      summ = 0\n",
        "      for i in range(len(A)):\n",
        "        for j in range(len(A[0])):\n",
        "          if i == j:\n",
        "            summ += A[i][j]\n",
        "      print(summ)"
      ],
      "metadata": {
        "id": "sLC622vzESco"
      },
      "execution_count": null,
      "outputs": []
    },
    {
      "cell_type": "code",
      "source": [
        "A =[\n",
        "  [33, -92, 58, -54, 90, -79, 37, 54, -46],\n",
        "  [76, 75, -100, 83, 24, -3, -96, -67, -91],\n",
        "  [-34, 54, 26, -51, 33, 63, -10, 87, 27],\n",
        "  [-54, 53, 70, 47, 9, 88, 44, 17, -93],\n",
        "  [85, 81, 64, -98, 78, -67, -3, 54, 82],\n",
        "  [-29, -98, 80, 40, -41, 12, 62, 52, -29],\n",
        "  [27, 17, -66, -68, -83, 87, -10, -82, -91],\n",
        "  [-20, 50, -47, -54, 44, -64, 49, 12, -2],\n",
        "  [-56, -18, 23, 86, -5, -28, -42, 18, 93]\n",
        "]\n",
        "\n",
        "obj = Solution()\n",
        "obj.solve(A)"
      ],
      "metadata": {
        "colab": {
          "base_uri": "https://localhost:8080/"
        },
        "id": "81iB-wXnWLdG",
        "outputId": "d8a491b0-119a-4cdc-eca6-c9ea6e191fce"
      },
      "execution_count": null,
      "outputs": [
        {
          "output_type": "stream",
          "name": "stdout",
          "text": [
            "366\n"
          ]
        }
      ]
    },
    {
      "cell_type": "code",
      "source": [
        "# matrix scaler product\n",
        "class Solution:\n",
        "    def solve(self, A, B):\n",
        "      for i in range(len(A)):\n",
        "        for j in range(len(A[i])):\n",
        "            A[i][j] *= B\n",
        "        return A"
      ],
      "metadata": {
        "id": "VvtEfbWIWZ0F"
      },
      "execution_count": null,
      "outputs": []
    },
    {
      "cell_type": "code",
      "source": [
        "A = [[1, 2, 3],[4, 5, 6],[7, 8, 9]]\n",
        "B = 2 \n",
        "obj = Solution()\n",
        "obj.solve(A,B)"
      ],
      "metadata": {
        "colab": {
          "base_uri": "https://localhost:8080/"
        },
        "id": "z9Aq95ZevgOV",
        "outputId": "e96287af-26f2-453c-fcfa-9b668a21b5c6"
      },
      "execution_count": null,
      "outputs": [
        {
          "output_type": "stream",
          "name": "stdout",
          "text": [
            "\n",
            "\n",
            "\n",
            "2 4 6 8 10 12 14 16 18\n"
          ]
        }
      ]
    },
    {
      "cell_type": "code",
      "source": [
        "# col sum\n",
        "class Solution:\n",
        "    # @param A : integer\n",
        "    # @param B : integer\n",
        "    # @param C : list of list of integers\n",
        "    # @return a list of integers\n",
        "    def solve(self, A, B, C):\n",
        "        sum_list = []\n",
        "        for c in range(B):\n",
        "            sum = 0\n",
        "            for r in range(A):\n",
        "                sum += C[r][c]\n",
        "            sum_list.append(sum)\n",
        "            print()\n",
        "        print(*sum_list)\n",
        "\n"
      ],
      "metadata": {
        "id": "DqTF7FbHvpfL"
      },
      "execution_count": null,
      "outputs": []
    },
    {
      "cell_type": "code",
      "source": [
        "A = 8\n",
        "B = 1\n",
        "C =[\n",
        "  [20],\n",
        "  [14],\n",
        "  [19],\n",
        "  [19],\n",
        "  [7],\n",
        "  [15],\n",
        "  [4],\n",
        "  [17]\n",
        "]\n",
        "\n",
        "obj = Solution()\n",
        "obj.solve(A,B,C)"
      ],
      "metadata": {
        "colab": {
          "base_uri": "https://localhost:8080/"
        },
        "id": "_2pwtVwX0lmy",
        "outputId": "17a58d4c-2e2b-4c1d-97ce-3cec92c711a9"
      },
      "execution_count": null,
      "outputs": [
        {
          "output_type": "stream",
          "name": "stdout",
          "text": [
            "\n",
            "115\n"
          ]
        }
      ]
    },
    {
      "cell_type": "code",
      "source": [
        "# check matrix same or not \n",
        "class Solution:\n",
        "    # @param A : list of list of integers\n",
        "    # @param B : list of list of integers\n",
        "    # @return an integer\n",
        "    def solve(self, A, B):\n",
        "        is_same = True\n",
        "        if len(A) != len(B)  and len(A[0]) != len(B[0]):\n",
        "            is_same = False\n",
        "        else:\n",
        "            for i in range(len(A)):\n",
        "                for j in range(len(A[i])):\n",
        "                    if A[i][j] == B[i][j]:\n",
        "                        continue\n",
        "                    else:\n",
        "                        is_same = False\n",
        "                        break\n",
        "\n",
        "        if not is_same:\n",
        "            return 0\n",
        "        else:\n",
        "            return 1"
      ],
      "metadata": {
        "id": "rFULEIei0v-Q"
      },
      "execution_count": null,
      "outputs": []
    },
    {
      "cell_type": "code",
      "source": [
        "A = [[1, 2, 3],[4, 5, 6],[7, 8, 9]]\n",
        "B = [[1, 2, 3],[4, 5, 6],[7, 8, 9]]\n",
        "obj = Solution()\n",
        "obj.solve(A,B)"
      ],
      "metadata": {
        "colab": {
          "base_uri": "https://localhost:8080/"
        },
        "id": "--IE7LQl29Io",
        "outputId": "309f1612-330e-4d88-e1d1-ba70b1fc2e61"
      },
      "execution_count": null,
      "outputs": [
        {
          "output_type": "execute_result",
          "data": {
            "text/plain": [
              "1"
            ]
          },
          "metadata": {},
          "execution_count": 5
        }
      ]
    },
    {
      "cell_type": "code",
      "source": [
        "# matrix substration\n",
        "class Solution:\n",
        "    # @param A : list of list of integers\n",
        "    # @param B : list of list of integers\n",
        "    # @return a list of list of integers\n",
        "    def solve(self, A, B):\n",
        "        sub_list = []\n",
        "        for i in range(len(A)):\n",
        "            temp = []\n",
        "            for j in range(len(A[i])):\n",
        "                temp.append(A[i][j]-B[i][j])\n",
        "            sub_list.append(temp)\n",
        "            print()\n",
        "            \n",
        "        return(sub_list)"
      ],
      "metadata": {
        "id": "h-5nxOJA3HUR"
      },
      "execution_count": null,
      "outputs": []
    },
    {
      "cell_type": "code",
      "source": [
        "A =  [[1, 2, 3], \n",
        "      [4, 5, 6], \n",
        "      [7, 8, 9]]\n",
        "\n",
        "B =  [[9, 8, 7], \n",
        "      [6, 5, 4], \n",
        "      [3, 2, 1]]\n",
        "obj = Solution()\n",
        "obj.solve(A,B)"
      ],
      "metadata": {
        "colab": {
          "base_uri": "https://localhost:8080/"
        },
        "id": "cMS8Xzta4ANS",
        "outputId": "912bb64c-834e-4a98-e3bd-02fff8cd6900"
      },
      "execution_count": null,
      "outputs": [
        {
          "output_type": "stream",
          "name": "stdout",
          "text": [
            "\n",
            "\n",
            "\n"
          ]
        },
        {
          "output_type": "execute_result",
          "data": {
            "text/plain": [
              "[[-8, -6, -4], [-2, 0, 2], [4, 6, 8]]"
            ]
          },
          "metadata": {},
          "execution_count": 13
        }
      ]
    },
    {
      "cell_type": "code",
      "source": [
        "# col wave form\n",
        "def take_input():\n",
        "    array = list(map(int,input().split()))\n",
        "    return array\n",
        "\n",
        "def main():\n",
        "    # YOUR CODE GOES HERE\n",
        "    # Please take input and print output to standard input/output (stdin/stdout)\n",
        "    # E.g. 'input()/raw_input()' for input & 'print' for output\n",
        "    N = int(input())\n",
        "    A = []\n",
        "    wave = []\n",
        "    for i in range(N):\n",
        "        A.append(take_input())\n",
        "    \n",
        "#    print(*A,sep=' ')\n",
        "    for c in range(len(A[0])):\n",
        "      temp = []\n",
        "      if c%2 == 0:\n",
        "        for r in range(len(A)):\n",
        "          temp.append(A[r][c])\n",
        "        wave.append(temp)\n",
        "        print()\n",
        "      else:\n",
        "        for r in range(len(A)-1,-1,-1):\n",
        "          temp.append(A[r][c])\n",
        "        wave.append(temp)\n",
        "        print()\n",
        "    [print(i,end=' ')for i in wave] \n",
        "\n",
        "if __name__ == '__main__':\n",
        "    main()"
      ],
      "metadata": {
        "colab": {
          "base_uri": "https://localhost:8080/"
        },
        "id": "Wvxq3G6q4LNb",
        "outputId": "5e1411e7-4ac3-4e81-9b05-784fe83ebb46"
      },
      "execution_count": null,
      "outputs": [
        {
          "output_type": "stream",
          "name": "stdout",
          "text": [
            "3\n",
            "1 2 3\n",
            "4 5 6\n",
            "7  9 7\n",
            "\n",
            "\n",
            "\n",
            "[1, 4, 7] [9, 5, 2] [3, 6, 7] "
          ]
        }
      ]
    },
    {
      "cell_type": "code",
      "source": [
        "# row wave form\n",
        "def take_input():\n",
        "    array = list(map(int,input().split()))\n",
        "    return array\n",
        "\n",
        "def main():\n",
        "    # YOUR CODE GOES HERE\n",
        "    # Please take input and print output to standard input/output (stdin/stdout)\n",
        "    # E.g. 'input()/raw_input()' for input & 'print' for output\n",
        "    N = int(input())\n",
        "    mat = []\n",
        "    wave = []\n",
        "    for i in range(N):\n",
        "        mat.append(take_input())\n",
        "\n",
        "    for i in range(len(mat)):\n",
        "      temp = []\n",
        "      if i%2 == 0:\n",
        "        for c in range(len(mat[i])):\n",
        "          temp.append(mat[i][c])\n",
        "        wave.append(temp)\n",
        "        \n",
        "      else:\n",
        "        for c in range(len(mat[i])-1,-1,-1):\n",
        "          temp.append(mat[i][c])\n",
        "        wave.append(temp)\n",
        "\n",
        "    print(*wave)\n",
        "\n",
        "if __name__ == '__main__':\n",
        "    main()"
      ],
      "metadata": {
        "id": "NmLW9_jm72Z8",
        "colab": {
          "base_uri": "https://localhost:8080/"
        },
        "outputId": "6f01be54-f96b-4d0c-83ce-ec77ea1d573f"
      },
      "execution_count": null,
      "outputs": [
        {
          "output_type": "stream",
          "name": "stdout",
          "text": [
            "3\n",
            "1 2 3\n",
            "2 3 4\n",
            "3 4 5\n",
            "[1, 2, 3] [4, 3, 2] [3, 4, 5]\n"
          ]
        }
      ]
    },
    {
      "cell_type": "code",
      "source": [
        "class Solution:\n",
        "    # @param A : list of list of integers\n",
        "    # @return a list of integers\n",
        "    def solve(self, A):\n",
        "        r = A.pop(0)\n",
        "        c = A.pop(0)\n",
        "        max_list = []\n",
        "\n",
        "        for i in range(r*c):\n",
        "           temp.append(A[i])\n",
        "        \n",
        "        print(*max_list)\n"
      ],
      "metadata": {
        "id": "HgOdW3Z56dFe"
      },
      "execution_count": null,
      "outputs": []
    },
    {
      "cell_type": "code",
      "source": [
        "A = [2, 2, 1, 2, 1, 3]\n",
        "obj = Solution()\n",
        "obj.solve(A)"
      ],
      "metadata": {
        "colab": {
          "base_uri": "https://localhost:8080/"
        },
        "id": "mZO6bQfeA731",
        "outputId": "1b5d7c14-5bee-4330-f061-231bf59a3989"
      },
      "execution_count": null,
      "outputs": [
        {
          "output_type": "stream",
          "name": "stdout",
          "text": [
            "\n",
            "\n",
            "\n",
            "\n",
            "1 2 1 3\n"
          ]
        }
      ]
    },
    {
      "cell_type": "code",
      "source": [
        "# Day 10\n",
        "# tuples and strings \n",
        "# tuples - are collection of heterogenous data\n",
        "# tuples are immetable  + tuples are also iterables\n",
        "# declaring a tuple: A = (\"Shan\", 13, True) or use tuple keyword --> tuple() or a = 1,2,3 --> parenthesis are optional\n",
        "# example: a = (123) --> makes a is int so to make single value as tuple we need a = (123,)"
      ],
      "metadata": {
        "id": "I924jqUTBUEq"
      },
      "execution_count": null,
      "outputs": []
    },
    {
      "cell_type": "code",
      "source": [
        "# indexing/reverse index/slicing tuple -> same as list\n",
        "#a = (1,2,3,4)\n",
        "a = 1,2,3,4\n",
        "print(a)\n",
        "\n",
        "# updating tuple\n",
        "#a[0]= 2 --> error\n",
        "print(a[0])\n",
        "\n",
        "#we can convert list to tuple and vise versa\n",
        "print(list(a))\n",
        "A = [1,2,3,4]\n",
        "print(tuple(A))"
      ],
      "metadata": {
        "colab": {
          "base_uri": "https://localhost:8080/"
        },
        "id": "vzewCuWID3-G",
        "outputId": "bcd79c5e-48a9-4d89-80ad-8f1d8cd81b2b"
      },
      "execution_count": null,
      "outputs": [
        {
          "output_type": "stream",
          "name": "stdout",
          "text": [
            "(1, 2, 3, 4)\n",
            "1\n",
            "[1, 2, 3, 4]\n",
            "(1, 2, 3, 4)\n"
          ]
        }
      ]
    },
    {
      "cell_type": "code",
      "source": [
        "print(*A)"
      ],
      "metadata": {
        "colab": {
          "base_uri": "https://localhost:8080/"
        },
        "id": "VhkP7n_vEH9H",
        "outputId": "5dde0218-248a-4a72-eaab-4ff76919b016"
      },
      "execution_count": null,
      "outputs": [
        {
          "output_type": "stream",
          "name": "stdout",
          "text": [
            "1 2 3 4\n"
          ]
        }
      ]
    },
    {
      "cell_type": "code",
      "source": [
        "# tuples are also called as sudo immetable becasue we can update list inside tuple \n",
        "A = (1,\"Shantayya\", [1,2,3,4])\n",
        "A[2].append(2)\n",
        "print(*A[:len(A)-1],*A[2])"
      ],
      "metadata": {
        "colab": {
          "base_uri": "https://localhost:8080/"
        },
        "id": "8PDiVlRZFyHs",
        "outputId": "efa2adbf-ec20-4144-a2ce-f824e838d8ac"
      },
      "execution_count": null,
      "outputs": [
        {
          "output_type": "stream",
          "name": "stdout",
          "text": [
            "1 Shantayya 1 2 3 4 2\n"
          ]
        }
      ]
    },
    {
      "cell_type": "code",
      "source": [
        "B = tuple(range(0,100,2))\n",
        "print(B)"
      ],
      "metadata": {
        "colab": {
          "base_uri": "https://localhost:8080/"
        },
        "id": "ieAjE0sZGWmb",
        "outputId": "1eede7b3-117f-4d6b-bfcf-c332247b6e25"
      },
      "execution_count": null,
      "outputs": [
        {
          "output_type": "stream",
          "name": "stdout",
          "text": [
            "(0, 2, 4, 6, 8, 10, 12, 14, 16, 18, 20, 22, 24, 26, 28, 30, 32, 34, 36, 38, 40, 42, 44, 46, 48, 50, 52, 54, 56, 58, 60, 62, 64, 66, 68, 70, 72, 74, 76, 78, 80, 82, 84, 86, 88, 90, 92, 94, 96, 98)\n"
          ]
        }
      ]
    },
    {
      "cell_type": "code",
      "source": [
        "# strings --> ordered collection of characters [A-Z,a-z,0-9, special char, space]\n",
        "# how computer stores number --> 0 and 1  --> due to ASCII mapping  \n",
        "# ASCII --> american standerd code for information and interchange \n",
        "#A-Z --> 65-90\n",
        "#a-z --> 97-122\n",
        "#0-9 --> 48-57\n",
        "#ord (ordinal) and chr are used to check ASCII character and their respective numbers\n",
        "ord(\"A\")\n",
        "chr(166)"
      ],
      "metadata": {
        "colab": {
          "base_uri": "https://localhost:8080/",
          "height": 35
        },
        "id": "OlupSRAaGzj9",
        "outputId": "b6c83b8c-d15d-4ef5-e267-54c09a811d90"
      },
      "execution_count": null,
      "outputs": [
        {
          "output_type": "execute_result",
          "data": {
            "text/plain": [
              "'¦'"
            ],
            "application/vnd.google.colaboratory.intrinsic+json": {
              "type": "string"
            }
          },
          "metadata": {},
          "execution_count": 27
        }
      ]
    },
    {
      "cell_type": "code",
      "source": [
        "# string operations\n",
        "# + --> use for concatination + strings are also iterables\n",
        "#inbuilt string funtions\n",
        "# string.capotalize(), .count(char/string),.title(), .replace('old','new',count--) so if we want to replace single char then .replace(a,e,1)"
      ],
      "metadata": {
        "id": "fCHPN_vfJzh7"
      },
      "execution_count": null,
      "outputs": []
    },
    {
      "cell_type": "code",
      "source": [
        "A = \"Shantayya Swami hello world\"\n",
        "A.replace('a','e',1)"
      ],
      "metadata": {
        "colab": {
          "base_uri": "https://localhost:8080/",
          "height": 35
        },
        "id": "VwIT1OcrS15q",
        "outputId": "1605d964-2bb3-45c0-ef1b-5917dfe39db7"
      },
      "execution_count": null,
      "outputs": [
        {
          "output_type": "execute_result",
          "data": {
            "text/plain": [
              "'Shentayya Swami hello world'"
            ],
            "application/vnd.google.colaboratory.intrinsic+json": {
              "type": "string"
            }
          },
          "metadata": {},
          "execution_count": 35
        }
      ]
    },
    {
      "cell_type": "code",
      "source": [
        "# split(), maxsplit\n",
        "A.split(maxsplit=1)"
      ],
      "metadata": {
        "colab": {
          "base_uri": "https://localhost:8080/"
        },
        "id": "Tmpyd05pS8D4",
        "outputId": "ff13e0f2-baa5-4221-82dd-ba567fd46cf3"
      },
      "execution_count": null,
      "outputs": [
        {
          "output_type": "execute_result",
          "data": {
            "text/plain": [
              "['Shantayya', 'Swami hello world']"
            ]
          },
          "metadata": {},
          "execution_count": 36
        }
      ]
    },
    {
      "cell_type": "code",
      "source": [
        " name = \"Scaler Academy\"\n",
        " for c in name:\n",
        "   print(c,end=' ')"
      ],
      "metadata": {
        "colab": {
          "base_uri": "https://localhost:8080/"
        },
        "id": "ORYd4kyzTnrx",
        "outputId": "1377021b-0911-454a-cc20-e4ef399c9a66"
      },
      "execution_count": null,
      "outputs": [
        {
          "output_type": "stream",
          "name": "stdout",
          "text": [
            "S c a l e r   A c a d e m y "
          ]
        }
      ]
    },
    {
      "cell_type": "code",
      "source": [
        "# assignment for palindrome\n",
        "a = input()\n",
        "if a == a[::-1]:\n",
        "  print(\"1\")\n",
        "else:\n",
        "  print(\"0\")"
      ],
      "metadata": {
        "colab": {
          "base_uri": "https://localhost:8080/"
        },
        "id": "_6EVA7aAWdfk",
        "outputId": "07ccd405-f2b4-4a8c-9bdc-f8a91befdd57"
      },
      "execution_count": null,
      "outputs": [
        {
          "output_type": "stream",
          "name": "stdout",
          "text": [
            "aba\n",
            "1\n"
          ]
        }
      ]
    },
    {
      "cell_type": "code",
      "source": [
        "#formattted string\n",
        "a = \"shantayya\"\n",
        "b = [1,2,3]\n",
        "print(f\"Name:{a} list={b}\")\n",
        "#or \n",
        "print(\"Name:{} list={}\".format(a,b))\n",
        "#or\n",
        "print(\"Name:{a} list={b}\".format(a=a,b=b))"
      ],
      "metadata": {
        "colab": {
          "base_uri": "https://localhost:8080/"
        },
        "id": "aFJ67dYjXIEj",
        "outputId": "cbaf07e5-5dcb-4517-f9fc-3629f8059b48"
      },
      "execution_count": null,
      "outputs": [
        {
          "output_type": "stream",
          "name": "stdout",
          "text": [
            "Name:shantayya list=[1, 2, 3]\n",
            "Name:shantayya list=[1, 2, 3]\n",
            "Name:shantayya list=[1, 2, 3]\n"
          ]
        }
      ]
    },
    {
      "cell_type": "code",
      "source": [
        "elements = (10, 20, 30, 40, 50, 60, 70, 80)\n",
        "print(elements[2:5], elements[:4], elements[3:100])"
      ],
      "metadata": {
        "colab": {
          "base_uri": "https://localhost:8080/"
        },
        "id": "I241ycMOZB99",
        "outputId": "9664884b-e048-4b1d-b80b-8efc9e0ae333"
      },
      "execution_count": null,
      "outputs": [
        {
          "output_type": "stream",
          "name": "stdout",
          "text": [
            "(30, 40, 50) (10, 20, 30, 40) (40, 50, 60, 70, 80)\n"
          ]
        }
      ]
    },
    {
      "cell_type": "code",
      "source": [
        "tuple1 = (\"orange\")\n",
        "print(type(tuple1))"
      ],
      "metadata": {
        "colab": {
          "base_uri": "https://localhost:8080/"
        },
        "id": "FLkZYp7fdg-l",
        "outputId": "89128811-690b-47c9-9d2a-e8758efe16c2"
      },
      "execution_count": null,
      "outputs": [
        {
          "output_type": "stream",
          "name": "stdout",
          "text": [
            "<class 'str'>\n"
          ]
        }
      ]
    },
    {
      "cell_type": "code",
      "source": [
        "# issue with print function is that it returns none type. \n",
        "def get_index(tup, elem):\n",
        "  for index, value in enumerate(tup):\n",
        "     if elem == value:\n",
        "          return (index+1)\n",
        "  else:\n",
        "          return -1"
      ],
      "metadata": {
        "id": "7mZIU5RDeZAb"
      },
      "execution_count": null,
      "outputs": []
    },
    {
      "cell_type": "code",
      "source": [
        "elem = (10,20,30,40,50,60,70,80,90)\n",
        "B = 30\n",
        "get_index(elem,B)\n"
      ],
      "metadata": {
        "colab": {
          "base_uri": "https://localhost:8080/"
        },
        "id": "__Jfx986gLd1",
        "outputId": "a33544e8-ba3e-479a-d799-d6331a3402d1"
      },
      "execution_count": null,
      "outputs": [
        {
          "output_type": "execute_result",
          "data": {
            "text/plain": [
              "3"
            ]
          },
          "metadata": {},
          "execution_count": 16
        }
      ]
    },
    {
      "cell_type": "code",
      "source": [
        "str1 = 'Welcome'\n",
        "print (str1[:6] + ' to Hollywood')"
      ],
      "metadata": {
        "id": "9xKLgDzdgRaW",
        "colab": {
          "base_uri": "https://localhost:8080/"
        },
        "outputId": "52d70af3-4d84-4614-bc05-f6254bd02b8c"
      },
      "execution_count": null,
      "outputs": [
        {
          "output_type": "stream",
          "name": "stdout",
          "text": [
            "Welcom to Hollywood\n"
          ]
        }
      ]
    },
    {
      "cell_type": "code",
      "source": [
        "input_string = \"shentayyee seami\"\n",
        "input_string.split('e', maxsplit=2)\n",
        "input_string.split('e', 2)"
      ],
      "metadata": {
        "id": "UitzUCvtwe_t",
        "colab": {
          "base_uri": "https://localhost:8080/"
        },
        "outputId": "983feac7-ffb1-4980-dc67-cbb2ad095427"
      },
      "execution_count": null,
      "outputs": [
        {
          "output_type": "execute_result",
          "data": {
            "text/plain": [
              "['sh', 'ntayy', 'e seami']"
            ]
          },
          "metadata": {},
          "execution_count": 81
        }
      ]
    },
    {
      "cell_type": "code",
      "source": [
        "list1=[2,12,45,6,8,32,17,6]\n",
        "if(6 in list1):\n",
        "     print('Element exists')\n",
        "\n",
        "e_count = list1.count(6)   \n",
        "print(e_count)       #Use shift+tab to adjust the indentation of the statements of if-else block. It shouldn't give indentation error.\n",
        "if e_count > 0:\n",
        "    print(\"Yes, 6 exists in list\")\n",
        "else:\n",
        "    print(\"No, 6 does not exists in list\")"
      ],
      "metadata": {
        "colab": {
          "base_uri": "https://localhost:8080/"
        },
        "id": "CRo5Lqqp6KN6",
        "outputId": "f32d3136-6c23-42e0-e9a4-dd7bdd82f15f"
      },
      "execution_count": null,
      "outputs": [
        {
          "output_type": "stream",
          "name": "stdout",
          "text": [
            "Element exists\n",
            "2\n",
            "Yes, 6 exists in list\n"
          ]
        }
      ]
    },
    {
      "cell_type": "code",
      "source": [
        "#day 11 string II\n",
        "#calculate the count of Upper case letters in string"
      ],
      "metadata": {
        "id": "Nw7R6pg66ugj"
      },
      "execution_count": null,
      "outputs": []
    },
    {
      "cell_type": "code",
      "source": [
        "s = input()\n",
        "count = 0\n",
        "for ch in s:\n",
        "  if ord(ch) >= ord('A') and ord(ch) <= ord('Z'):\n",
        "    count += 1\n",
        "print(count)"
      ],
      "metadata": {
        "colab": {
          "base_uri": "https://localhost:8080/"
        },
        "id": "gUrf6elC3xtl",
        "outputId": "ddf95eab-c935-49cc-db24-bee675319936"
      },
      "execution_count": null,
      "outputs": [
        {
          "output_type": "stream",
          "name": "stdout",
          "text": [
            "ShantaYYA SWAmi\n",
            "7\n"
          ]
        }
      ]
    },
    {
      "cell_type": "code",
      "source": [
        "# join function() --> workd only with strings \n",
        "# A = ['1',2,'3']   (' '.join(A)) --> will fail because A is not string iterable \n",
        "A = [\"a\",\"b\",\"c\"]\n",
        "(\"-\".join(A))\n",
        "(\".\".join(\"Shantayya\"))\n",
        "(\".\".join(range(10)))   #--> error due to int range"
      ],
      "metadata": {
        "colab": {
          "base_uri": "https://localhost:8080/",
          "height": 200
        },
        "id": "-l9TYfdD4Aks",
        "outputId": "64c1a9e1-acdc-4de8-edd5-955e0b912d6d"
      },
      "execution_count": null,
      "outputs": [
        {
          "output_type": "error",
          "ename": "TypeError",
          "evalue": "ignored",
          "traceback": [
            "\u001b[0;31m---------------------------------------------------------------------------\u001b[0m",
            "\u001b[0;31mTypeError\u001b[0m                                 Traceback (most recent call last)",
            "\u001b[0;32m<ipython-input-8-fd46de8efebf>\u001b[0m in \u001b[0;36m<module>\u001b[0;34m\u001b[0m\n\u001b[1;32m      4\u001b[0m \u001b[0;34m(\u001b[0m\u001b[0;34m\"-\"\u001b[0m\u001b[0;34m.\u001b[0m\u001b[0mjoin\u001b[0m\u001b[0;34m(\u001b[0m\u001b[0mA\u001b[0m\u001b[0;34m)\u001b[0m\u001b[0;34m)\u001b[0m\u001b[0;34m\u001b[0m\u001b[0;34m\u001b[0m\u001b[0m\n\u001b[1;32m      5\u001b[0m \u001b[0;34m(\u001b[0m\u001b[0;34m\".\"\u001b[0m\u001b[0;34m.\u001b[0m\u001b[0mjoin\u001b[0m\u001b[0;34m(\u001b[0m\u001b[0;34m\"Shantayya\"\u001b[0m\u001b[0;34m)\u001b[0m\u001b[0;34m)\u001b[0m\u001b[0;34m\u001b[0m\u001b[0;34m\u001b[0m\u001b[0m\n\u001b[0;32m----> 6\u001b[0;31m \u001b[0;34m(\u001b[0m\u001b[0;34m\".\"\u001b[0m\u001b[0;34m.\u001b[0m\u001b[0mjoin\u001b[0m\u001b[0;34m(\u001b[0m\u001b[0mrange\u001b[0m\u001b[0;34m(\u001b[0m\u001b[0mA\u001b[0m\u001b[0;34m)\u001b[0m\u001b[0;34m)\u001b[0m\u001b[0;34m)\u001b[0m   \u001b[0;31m#--> error due to int range\u001b[0m\u001b[0;34m\u001b[0m\u001b[0;34m\u001b[0m\u001b[0m\n\u001b[0m",
            "\u001b[0;31mTypeError\u001b[0m: 'list' object cannot be interpreted as an integer"
          ]
        }
      ]
    },
    {
      "cell_type": "code",
      "source": [
        "\"_\".join(['Shantayya'])  ---> because itrable has single value there wont be _ in result"
      ],
      "metadata": {
        "colab": {
          "base_uri": "https://localhost:8080/",
          "height": 35
        },
        "id": "Dc6o9YJW5Bjk",
        "outputId": "2a6b4f91-b0c8-407a-8e9a-9a2744423318"
      },
      "execution_count": null,
      "outputs": [
        {
          "output_type": "execute_result",
          "data": {
            "text/plain": [
              "'Shantayya'"
            ],
            "application/vnd.google.colaboratory.intrinsic+json": {
              "type": "string"
            }
          },
          "metadata": {},
          "execution_count": 11
        }
      ]
    },
    {
      "cell_type": "code",
      "source": [
        "# upper and lower function()\n",
        "\"Abc\".upper()\n",
        "\"abc123\".upper()\n",
        "\" \".upper()\n",
        "\"AbC\".lower()\n",
        "\"ABCa123\".lower()\n",
        "\" \".lower()\n"
      ],
      "metadata": {
        "colab": {
          "base_uri": "https://localhost:8080/",
          "height": 35
        },
        "id": "j6EHVu845kc3",
        "outputId": "fa1a70b5-9a6f-424f-f269-40a1feeddb10"
      },
      "execution_count": null,
      "outputs": [
        {
          "output_type": "execute_result",
          "data": {
            "text/plain": [
              "' '"
            ],
            "application/vnd.google.colaboratory.intrinsic+json": {
              "type": "string"
            }
          },
          "metadata": {},
          "execution_count": 17
        }
      ]
    },
    {
      "cell_type": "code",
      "source": [
        "#isupper()  and islower() --> takes an argument and returns bool\n",
        "\"ABC\".isupper()\n",
        "\"anc\".islower()"
      ],
      "metadata": {
        "colab": {
          "base_uri": "https://localhost:8080/"
        },
        "id": "OixxHPwn7FK6",
        "outputId": "f2225fd5-4959-4173-975a-01f3c5187988"
      },
      "execution_count": null,
      "outputs": [
        {
          "output_type": "execute_result",
          "data": {
            "text/plain": [
              "True"
            ]
          },
          "metadata": {},
          "execution_count": 21
        }
      ]
    },
    {
      "cell_type": "code",
      "source": [
        "\"abc123\".isupper()\n",
        "\"ABC\".islower()"
      ],
      "metadata": {
        "colab": {
          "base_uri": "https://localhost:8080/"
        },
        "id": "ycFrQYwF7xTu",
        "outputId": "89fbf523-e1e0-4ebf-ad93-bdfe25a8d05e"
      },
      "execution_count": null,
      "outputs": [
        {
          "output_type": "execute_result",
          "data": {
            "text/plain": [
              "False"
            ]
          },
          "metadata": {},
          "execution_count": 22
        }
      ]
    },
    {
      "cell_type": "code",
      "source": [
        "\"ABC123\".isupper()\n",
        "\"abc123\".islower()"
      ],
      "metadata": {
        "colab": {
          "base_uri": "https://localhost:8080/"
        },
        "id": "xeUw3IoS70O5",
        "outputId": "f8132313-1fd6-421b-d0c0-07d9214aea84"
      },
      "execution_count": null,
      "outputs": [
        {
          "output_type": "execute_result",
          "data": {
            "text/plain": [
              "True"
            ]
          },
          "metadata": {},
          "execution_count": 23
        }
      ]
    },
    {
      "cell_type": "code",
      "source": [
        "\" \".isupper()\n",
        "\"123\".islower()"
      ],
      "metadata": {
        "colab": {
          "base_uri": "https://localhost:8080/"
        },
        "id": "f67E9lNZ74_J",
        "outputId": "84be4104-8a54-4d70-9f7e-4e1c7ce2ce94"
      },
      "execution_count": null,
      "outputs": [
        {
          "output_type": "execute_result",
          "data": {
            "text/plain": [
              "False"
            ]
          },
          "metadata": {},
          "execution_count": 24
        }
      ]
    },
    {
      "cell_type": "code",
      "source": [
        "# isalpha() --> checks whether entire string alphabet or not and returns bool\n",
        "# isdigit() --> checks whether entire string digit or nor and returns bool\n",
        "\"a1bc\".isalpha()\n",
        "\"123c\".isdigit()\n"
      ],
      "metadata": {
        "colab": {
          "base_uri": "https://localhost:8080/"
        },
        "id": "T7XXVtl08Mi3",
        "outputId": "6942741f-6da9-4558-c53b-281f5ba9dd17"
      },
      "execution_count": null,
      "outputs": [
        {
          "output_type": "execute_result",
          "data": {
            "text/plain": [
              "False"
            ]
          },
          "metadata": {},
          "execution_count": 47
        }
      ]
    },
    {
      "cell_type": "code",
      "source": [
        "\"anc \".isalpha()   #--> because of space after c\n",
        "\"12.2\".isdigit()   #--> because . is not digit"
      ],
      "metadata": {
        "colab": {
          "base_uri": "https://localhost:8080/"
        },
        "id": "l07ag91581PV",
        "outputId": "7c90eea7-a808-4692-816e-b110126aacfb"
      },
      "execution_count": null,
      "outputs": [
        {
          "output_type": "execute_result",
          "data": {
            "text/plain": [
              "False"
            ]
          },
          "metadata": {},
          "execution_count": 28
        }
      ]
    },
    {
      "cell_type": "code",
      "source": [
        "# isalnum() --> checks whether string is alphabet or number or combination of both and returns bool\n",
        "\"123aln\".isalnum()"
      ],
      "metadata": {
        "colab": {
          "base_uri": "https://localhost:8080/"
        },
        "id": "2xntkVAq84vR",
        "outputId": "c1a51828-6323-4d53-805d-e5b36f864546"
      },
      "execution_count": null,
      "outputs": [
        {
          "output_type": "execute_result",
          "data": {
            "text/plain": [
              "True"
            ]
          },
          "metadata": {},
          "execution_count": 29
        }
      ]
    },
    {
      "cell_type": "code",
      "source": [
        "\"abc\".isalnum()\n",
        "\"123\".isalnum()"
      ],
      "metadata": {
        "colab": {
          "base_uri": "https://localhost:8080/"
        },
        "id": "1tfUTU1S9xI3",
        "outputId": "e4a81971-c47e-469f-c813-f2ba7767349e"
      },
      "execution_count": null,
      "outputs": [
        {
          "output_type": "execute_result",
          "data": {
            "text/plain": [
              "True"
            ]
          },
          "metadata": {},
          "execution_count": 32
        }
      ]
    },
    {
      "cell_type": "code",
      "source": [
        "#endwith() --> takes an argument and returns true if main string ends with given argument\n",
        "# startswith() --> takes an argument and returns true if main string starts with given argument\n",
        "\"Shantayya\".endswith('yya')\n",
        "\"shantayya\".startswith(\"sh\")   #--> s and S not equal"
      ],
      "metadata": {
        "colab": {
          "base_uri": "https://localhost:8080/"
        },
        "id": "10PvLFQH9z9H",
        "outputId": "11dc3e20-f2f3-418b-952d-9a76163a77a1"
      },
      "execution_count": null,
      "outputs": [
        {
          "output_type": "execute_result",
          "data": {
            "text/plain": [
              "True"
            ]
          },
          "metadata": {},
          "execution_count": 40
        }
      ]
    },
    {
      "cell_type": "code",
      "source": [
        "\"123a\".endswith(\"3ing\")\n",
        "\"123a\".startswith(\"a\")"
      ],
      "metadata": {
        "colab": {
          "base_uri": "https://localhost:8080/"
        },
        "id": "-j8n90R9-Wu1",
        "outputId": "12e80bcb-69fc-478e-c0ce-cc4e7c2622bb"
      },
      "execution_count": null,
      "outputs": [
        {
          "output_type": "execute_result",
          "data": {
            "text/plain": [
              "False"
            ]
          },
          "metadata": {},
          "execution_count": 43
        }
      ]
    },
    {
      "cell_type": "code",
      "source": [
        "\"Shantayya\".endswith(\"\")\n",
        "\"swami\".startswith(\"\")"
      ],
      "metadata": {
        "colab": {
          "base_uri": "https://localhost:8080/"
        },
        "id": "3Hu-4BYw-f-A",
        "outputId": "ae0c4ba3-0882-4b9c-9684-8a5be19c972f"
      },
      "execution_count": null,
      "outputs": [
        {
          "output_type": "execute_result",
          "data": {
            "text/plain": [
              "True"
            ]
          },
          "metadata": {},
          "execution_count": 44
        }
      ]
    },
    {
      "cell_type": "code",
      "source": [
        "# in operator --> check if left string is subset of right string. it returns bool\n",
        "\"shan\" in \"Shantayya\""
      ],
      "metadata": {
        "colab": {
          "base_uri": "https://localhost:8080/"
        },
        "id": "pLieswAG-nFg",
        "outputId": "ae8246f9-97aa-4035-bfc6-45ad9c0fc3fe"
      },
      "execution_count": null,
      "outputs": [
        {
          "output_type": "execute_result",
          "data": {
            "text/plain": [
              "False"
            ]
          },
          "metadata": {},
          "execution_count": 45
        }
      ]
    },
    {
      "cell_type": "code",
      "source": [
        "\"ya\" in \"Shantayya\""
      ],
      "metadata": {
        "colab": {
          "base_uri": "https://localhost:8080/"
        },
        "id": "rzt8VuqP_eXE",
        "outputId": "b8ef08d6-4823-4c56-9bb3-ea48c2233601"
      },
      "execution_count": null,
      "outputs": [
        {
          "output_type": "execute_result",
          "data": {
            "text/plain": [
              "True"
            ]
          },
          "metadata": {},
          "execution_count": 46
        }
      ]
    },
    {
      "cell_type": "code",
      "source": [
        "# pattern printing using string \n",
        "n = int(input())\n",
        "for i in range(n):\n",
        "  print(\" \"*(n-i) + \"* \"*i)\n",
        "\n",
        "# observation\n",
        "#1. \"* \" always comes together\n",
        "#2. number of \"* \" is equla to row number\n",
        "#3. number of spaces are equal to (n-row number)"
      ],
      "metadata": {
        "colab": {
          "base_uri": "https://localhost:8080/"
        },
        "id": "Yi9jiYRS_k5J",
        "outputId": "54547908-8810-4d9a-8215-b21925893101"
      },
      "execution_count": null,
      "outputs": [
        {
          "output_type": "stream",
          "name": "stdout",
          "text": [
            "5\n",
            "     \n",
            "    * \n",
            "   * * \n",
            "  * * * \n",
            " * * * * \n"
          ]
        }
      ]
    },
    {
      "cell_type": "code",
      "source": [
        "n = int(input())\n",
        "for i in range(n,0,-1):\n",
        "  print(\" \"*(n-i) + \"* \"*i)\n"
      ],
      "metadata": {
        "colab": {
          "base_uri": "https://localhost:8080/"
        },
        "id": "bXsGXH_vD0Ma",
        "outputId": "2a297c4b-642d-4bac-ca9b-e6611ee49ec1"
      },
      "execution_count": null,
      "outputs": [
        {
          "output_type": "stream",
          "name": "stdout",
          "text": [
            "10\n",
            "* * * * * * * * * * \n",
            " * * * * * * * * * \n",
            "  * * * * * * * * \n",
            "   * * * * * * * \n",
            "    * * * * * * \n",
            "     * * * * * \n",
            "      * * * * \n",
            "       * * * \n",
            "        * * \n",
            "         * \n"
          ]
        }
      ]
    },
    {
      "cell_type": "code",
      "source": [
        "# list comparison --> always compare first value of both strings whichever is greater that list is greater. if both first values are equal then move to second value and compare "
      ],
      "metadata": {
        "id": "_jo4xYmlEQTN"
      },
      "execution_count": null,
      "outputs": []
    },
    {
      "cell_type": "code",
      "source": [
        "list1 = [1,2,3] \n",
        "list2 = [3,2,1]\n",
        "list1 < list2\n"
      ],
      "metadata": {
        "colab": {
          "base_uri": "https://localhost:8080/"
        },
        "id": "8OII2FqGF0jx",
        "outputId": "bd04228d-b40d-4423-ac72-99b82ea7e3f0"
      },
      "execution_count": null,
      "outputs": [
        {
          "output_type": "execute_result",
          "data": {
            "text/plain": [
              "True"
            ]
          },
          "metadata": {},
          "execution_count": 58
        }
      ]
    },
    {
      "cell_type": "code",
      "source": [
        "# string comparison --> we will compare strings based on ordinal/ASCII value \n",
        "\"abc\" > \"ABC\""
      ],
      "metadata": {
        "colab": {
          "base_uri": "https://localhost:8080/"
        },
        "id": "41llr4JPF3-I",
        "outputId": "36466241-aea2-4ee1-f5ae-806bf11eca21"
      },
      "execution_count": null,
      "outputs": [
        {
          "output_type": "execute_result",
          "data": {
            "text/plain": [
              "True"
            ]
          },
          "metadata": {},
          "execution_count": 59
        }
      ]
    },
    {
      "cell_type": "code",
      "source": [
        "\"asnhcabdha\" > \"dsa\""
      ],
      "metadata": {
        "colab": {
          "base_uri": "https://localhost:8080/"
        },
        "id": "FYKsXaSOGet4",
        "outputId": "3772b273-6744-4439-ab3e-fb3b5ba0b65f"
      },
      "execution_count": null,
      "outputs": [
        {
          "output_type": "execute_result",
          "data": {
            "text/plain": [
              "False"
            ]
          },
          "metadata": {},
          "execution_count": 61
        }
      ]
    },
    {
      "cell_type": "code",
      "source": [
        "# list comprehension\n",
        "#list1 = [ item for iterator in iterable]\n",
        "list1 = [i**2 for i in range(1,100,2)]\n",
        "print(list1)"
      ],
      "metadata": {
        "colab": {
          "base_uri": "https://localhost:8080/"
        },
        "id": "8rXEBhlLGu-0",
        "outputId": "71d7298b-9adc-4927-9777-26fa8e35f8b2"
      },
      "execution_count": null,
      "outputs": [
        {
          "output_type": "stream",
          "name": "stdout",
          "text": [
            "[1, 9, 25, 49, 81, 121, 169, 225, 289, 361, 441, 529, 625, 729, 841, 961, 1089, 1225, 1369, 1521, 1681, 1849, 2025, 2209, 2401, 2601, 2809, 3025, 3249, 3481, 3721, 3969, 4225, 4489, 4761, 5041, 5329, 5625, 5929, 6241, 6561, 6889, 7225, 7569, 7921, 8281, 8649, 9025, 9409, 9801]\n"
          ]
        }
      ]
    },
    {
      "cell_type": "code",
      "source": [
        "list1 = [i for i in range(100) if (i%5 == 0) and (i%3 == 0)]\n",
        "print(list1)"
      ],
      "metadata": {
        "colab": {
          "base_uri": "https://localhost:8080/"
        },
        "id": "HGmxriqVHXXq",
        "outputId": "999650eb-300c-46bf-ce4f-9ea57d9ad830"
      },
      "execution_count": null,
      "outputs": [
        {
          "output_type": "stream",
          "name": "stdout",
          "text": [
            "[0, 15, 30, 45, 60, 75, 90]\n"
          ]
        }
      ]
    },
    {
      "cell_type": "code",
      "source": [
        "a = \"Random String\"\n",
        "b = a\n",
        "c = str(a)\n",
        "d = a[:]\n",
        "e = \"Rand\"+\"\"+\"om Str\"+\"\"+\"ing\"\n",
        "print(b,c,d,e)"
      ],
      "metadata": {
        "colab": {
          "base_uri": "https://localhost:8080/"
        },
        "id": "fazIkkDDIWF0",
        "outputId": "bb7347d6-f45c-4b5b-e563-4e902ebf793f"
      },
      "execution_count": null,
      "outputs": [
        {
          "output_type": "stream",
          "name": "stdout",
          "text": [
            "Random String Random String Random String Random String\n"
          ]
        }
      ]
    },
    {
      "cell_type": "code",
      "source": [
        "words= ['goOd','mORNing','HOW','are','yoU','todAy']\n",
        "\n",
        "def upper_char(words):\n",
        "  output=[]\n",
        "  for i in range(len(words)):\n",
        "      if words[i][2].isupper() == True:\n",
        "        output.append(words[i])\n",
        "  return output\n",
        "upper_char(words)\n"
      ],
      "metadata": {
        "colab": {
          "base_uri": "https://localhost:8080/"
        },
        "id": "b6Zeoj1EQN04",
        "outputId": "6d272b5a-7628-4d52-8908-b9239c594954"
      },
      "execution_count": null,
      "outputs": [
        {
          "output_type": "execute_result",
          "data": {
            "text/plain": [
              "['goOd', 'mORNing', 'HOW', 'yoU']"
            ]
          },
          "metadata": {},
          "execution_count": 72
        }
      ]
    },
    {
      "cell_type": "code",
      "source": [
        "word = \"Scaler Academy\"\n",
        "n = len(word)\n",
        "word1 = word.upper()\n",
        "word2 = word.lower()\n",
        "\n",
        "converted_word = \"\"\n",
        "\n",
        "for i in range(n):\n",
        "     if i % 2 == 0:\n",
        "          converted_word += word2[i]\n",
        "     else:\n",
        "          converted_word += word1[i]\n",
        "print(converted_word)"
      ],
      "metadata": {
        "colab": {
          "base_uri": "https://localhost:8080/"
        },
        "id": "ZjKVzHDFQ2ig",
        "outputId": "e8cd935f-3ea6-4919-efb6-65ed4192f1ba"
      },
      "execution_count": null,
      "outputs": [
        {
          "output_type": "stream",
          "name": "stdout",
          "text": [
            "sCaLeR AcAdEmY\n"
          ]
        }
      ]
    },
    {
      "cell_type": "code",
      "source": [
        "a = 'hello'\n",
        "b = a\n",
        "a = 'yello'\n",
        "\n",
        "print(b)\n",
        "print(a)"
      ],
      "metadata": {
        "colab": {
          "base_uri": "https://localhost:8080/"
        },
        "id": "jMkLT-bFRoxV",
        "outputId": "ac5db213-265c-4a10-f364-e08942ed4f1a"
      },
      "execution_count": null,
      "outputs": [
        {
          "output_type": "stream",
          "name": "stdout",
          "text": [
            "hello\n",
            "yello\n"
          ]
        }
      ]
    },
    {
      "cell_type": "code",
      "source": [
        "s = \"My PO Box number is 310\"\n",
        "print(s.isalnum())"
      ],
      "metadata": {
        "colab": {
          "base_uri": "https://localhost:8080/"
        },
        "id": "nyAKEJWwSA4o",
        "outputId": "4aa068c2-60b5-46de-f424-a25e7f586702"
      },
      "execution_count": null,
      "outputs": [
        {
          "output_type": "stream",
          "name": "stdout",
          "text": [
            "False\n"
          ]
        }
      ]
    },
    {
      "cell_type": "code",
      "source": [
        "print(s.islower())"
      ],
      "metadata": {
        "colab": {
          "base_uri": "https://localhost:8080/"
        },
        "id": "go7ooW5e7zls",
        "outputId": "707222c0-b272-4d19-f082-f774fbd33b07"
      },
      "execution_count": null,
      "outputs": [
        {
          "output_type": "stream",
          "name": "stdout",
          "text": [
            "False\n"
          ]
        }
      ]
    },
    {
      "cell_type": "code",
      "source": [
        "print(s.startswith(\"My P\"))"
      ],
      "metadata": {
        "colab": {
          "base_uri": "https://localhost:8080/"
        },
        "id": "uVzXtUcw74oa",
        "outputId": "7734234b-32c8-4edf-8ff5-89ea704764ee"
      },
      "execution_count": null,
      "outputs": [
        {
          "output_type": "stream",
          "name": "stdout",
          "text": [
            "True\n"
          ]
        }
      ]
    },
    {
      "cell_type": "code",
      "source": [
        "print(s.isspace())"
      ],
      "metadata": {
        "colab": {
          "base_uri": "https://localhost:8080/"
        },
        "id": "h6FnMxX07-QA",
        "outputId": "d51523e9-a028-4176-bcbe-7e2d01a5b113"
      },
      "execution_count": null,
      "outputs": [
        {
          "output_type": "stream",
          "name": "stdout",
          "text": [
            "False\n"
          ]
        }
      ]
    },
    {
      "cell_type": "code",
      "source": [
        "s = \"hello\"\n",
        "print(s[0:9])\n",
        "print(s[::-1])"
      ],
      "metadata": {
        "colab": {
          "base_uri": "https://localhost:8080/"
        },
        "id": "EeRTVAXf8CeW",
        "outputId": "ee8353d7-83c0-471c-d70a-e11b6aca6495"
      },
      "execution_count": null,
      "outputs": [
        {
          "output_type": "stream",
          "name": "stdout",
          "text": [
            "hello\n",
            "olleh\n"
          ]
        }
      ]
    },
    {
      "cell_type": "code",
      "source": [
        "str1 = \"quick brown fox word!\"\n",
        "print(str1[12:15], str1[:5], str1[-5:-1], str1[8:110], str1[-4:])"
      ],
      "metadata": {
        "colab": {
          "base_uri": "https://localhost:8080/"
        },
        "id": "bjjK8scK8TJb",
        "outputId": "6ed31a69-1596-48ee-b4b7-d46090ffdee7"
      },
      "execution_count": null,
      "outputs": [
        {
          "output_type": "stream",
          "name": "stdout",
          "text": [
            "fox quick word own fox word! ord!\n"
          ]
        }
      ]
    },
    {
      "cell_type": "code",
      "source": [],
      "metadata": {
        "id": "DC6Ed1DN8rmg",
        "colab": {
          "base_uri": "https://localhost:8080/",
          "height": 200
        },
        "outputId": "b44713a4-4425-4146-a7c7-02a1d4d0b701"
      },
      "execution_count": null,
      "outputs": [
        {
          "output_type": "error",
          "ename": "AttributeError",
          "evalue": "ignored",
          "traceback": [
            "\u001b[0;31m---------------------------------------------------------------------------\u001b[0m",
            "\u001b[0;31mAttributeError\u001b[0m                            Traceback (most recent call last)",
            "\u001b[0;32m<ipython-input-1-7afb3ea14ade>\u001b[0m in \u001b[0;36m<module>\u001b[0;34m\u001b[0m\n\u001b[1;32m      1\u001b[0m \u001b[0ma\u001b[0m \u001b[0;34m=\u001b[0m \u001b[0;36m123\u001b[0m\u001b[0;34m\u001b[0m\u001b[0;34m\u001b[0m\u001b[0m\n\u001b[0;32m----> 2\u001b[0;31m \u001b[0;32mif\u001b[0m \u001b[0ma\u001b[0m\u001b[0;34m.\u001b[0m\u001b[0misdigit\u001b[0m\u001b[0;34m(\u001b[0m\u001b[0;34m)\u001b[0m\u001b[0;34m:\u001b[0m\u001b[0;34m\u001b[0m\u001b[0;34m\u001b[0m\u001b[0m\n\u001b[0m\u001b[1;32m      3\u001b[0m   \u001b[0mprint\u001b[0m\u001b[0;34m(\u001b[0m\u001b[0;32mTrue\u001b[0m\u001b[0;34m)\u001b[0m\u001b[0;34m\u001b[0m\u001b[0;34m\u001b[0m\u001b[0m\n",
            "\u001b[0;31mAttributeError\u001b[0m: 'int' object has no attribute 'isdigit'"
          ]
        }
      ]
    },
    {
      "cell_type": "code",
      "source": [
        "# day 12 - sets and Dictionary\n",
        "# dictionaris are set of key-value pairs\n",
        "# dictionary {\n",
        "#         key1: value,\n",
        "#         key2: value,\n",
        "#         :\n",
        "# }\n",
        "# Dict key and value are heterogenous. Key cannot be mutable (sets, list and dict)\n",
        "# key should be unique\n",
        "#empty dictionary: a = {} or a = dict()\n",
        "\n",
        "#indexing \n",
        "#dict does not have int indexing because dect are unordered \n",
        "# get function() --> gets values based on key passed in get function. a.get(key1)\n",
        "\n",
        "nicknames = {'Shantayya': 'Bala', 'Aakar': 'Golu', 'Anya': 'Dalton', 'Jitesh': 'Sonya', 'kooldip': 'Muchhad'}\n",
        "nicknames.get('Shantayya','deafult value') #--> get function returns default value provided in function if key does not have any value or none\n",
        "nicknames.get('Sanket')\n",
        "print(nicknames['Aakar'])"
      ],
      "metadata": {
        "id": "iNkQ4v2DNuIT",
        "colab": {
          "base_uri": "https://localhost:8080/"
        },
        "outputId": "1aa9521e-968d-45d3-9b23-dce52bdbee7c"
      },
      "execution_count": null,
      "outputs": [
        {
          "output_type": "stream",
          "name": "stdout",
          "text": [
            "Golu\n"
          ]
        }
      ]
    },
    {
      "cell_type": "code",
      "source": [
        "# inserting value in dict\n",
        "nicknames['amar'] = 'Chokya' #or nicknames.add('amar') = 'Chokya'\n",
        "print(nicknames)\n"
      ],
      "metadata": {
        "colab": {
          "base_uri": "https://localhost:8080/"
        },
        "id": "WS_CxNoWLou1",
        "outputId": "c43bc645-4261-42d2-a5a5-f829154f88a1"
      },
      "execution_count": null,
      "outputs": [
        {
          "output_type": "stream",
          "name": "stdout",
          "text": [
            "{'Shantayya': 'kalu', 'Aakar': 'Golu', 'Anya': 'Dalton', 'Jitesh': 'Sonya', 'kooldip': 'Muchhad', 'amar': 'Chokya'}\n"
          ]
        }
      ]
    },
    {
      "cell_type": "code",
      "source": [
        "# updating dict\n",
        "nicknames['Shantayya'] = 'kalu'   #--> dict key value can be overriden \n",
        "#or\n",
        "nicknames.update({\"amar\": 'Chokeshwar'})"
      ],
      "metadata": {
        "id": "XCPtTyLEOxk6"
      },
      "execution_count": null,
      "outputs": []
    },
    {
      "cell_type": "code",
      "source": [
        "# deleting value from dict\n",
        "removal = nicknames.pop('Shantayya')\n",
        "print(removal)"
      ],
      "metadata": {
        "colab": {
          "base_uri": "https://localhost:8080/"
        },
        "id": "T8uk-BNOPpUC",
        "outputId": "98dd8c6a-5554-4261-d116-fc3cf1aebe06"
      },
      "execution_count": null,
      "outputs": [
        {
          "output_type": "stream",
          "name": "stdout",
          "text": [
            "kalu\n"
          ]
        }
      ]
    },
    {
      "cell_type": "code",
      "source": [
        "#iterating through dict\n",
        "# get keys --> nicknames.keys() --> return all the keys as iterable\n",
        "# get values --> nicknames.value() --> return all values as iterable\n",
        "\n",
        "print(\"Name ----> Nickname\")\n",
        "for key in nicknames.keys():\n",
        "  print(key,\"-->\",nicknames[key])"
      ],
      "metadata": {
        "colab": {
          "base_uri": "https://localhost:8080/"
        },
        "id": "ufEFEnNkQf5p",
        "outputId": "e2a28a94-92c3-4b77-fbf6-f76cff1828ff"
      },
      "execution_count": null,
      "outputs": [
        {
          "output_type": "stream",
          "name": "stdout",
          "text": [
            "Name ----> Nickname\n",
            "Aakar --> Golu\n",
            "Anya --> Dalton\n",
            "Jitesh --> Sonya\n",
            "kooldip --> Muchhad\n",
            "amar --> Chokya\n"
          ]
        }
      ]
    },
    {
      "cell_type": "code",
      "source": [
        "for key,value in nicknames.items():      # get key, value pair --> using nicknames.item()\n",
        "  print(key,\"-->\", value)"
      ],
      "metadata": {
        "colab": {
          "base_uri": "https://localhost:8080/"
        },
        "id": "zf3jufmbRWJE",
        "outputId": "3ca79103-1c76-42db-a075-b934b6f13685"
      },
      "execution_count": null,
      "outputs": [
        {
          "output_type": "stream",
          "name": "stdout",
          "text": [
            "Aakar --> Golu\n",
            "Anya --> Dalton\n",
            "Jitesh --> Sonya\n",
            "kooldip --> Muchhad\n",
            "amar --> Chokya\n"
          ]
        }
      ]
    },
    {
      "cell_type": "code",
      "source": [
        "len(nicknames)\n",
        "print(*nicknames.items())"
      ],
      "metadata": {
        "colab": {
          "base_uri": "https://localhost:8080/"
        },
        "id": "9O16W0RRRk6u",
        "outputId": "b0d6b630-e082-4ed6-e898-d7cc2eb3617a"
      },
      "execution_count": null,
      "outputs": [
        {
          "output_type": "stream",
          "name": "stdout",
          "text": [
            "('Aakar', 'Golu') ('Anya', 'Dalton') ('Jitesh', 'Sonya') ('kooldip', 'Muchhad') ('amar', 'Chokeshwar') ('Shantayya', 'kalu')\n"
          ]
        }
      ]
    },
    {
      "cell_type": "code",
      "source": [
        "# problem statement : count number of uniue char in string\n",
        "n = input()\n",
        "dic = {}\n",
        "for ch in n:\n",
        "  if ch in dic:\n",
        "    dic[ch] += 1\n",
        "  else:\n",
        "    dic[ch] = 1\n",
        "print(dic)"
      ],
      "metadata": {
        "colab": {
          "base_uri": "https://localhost:8080/"
        },
        "id": "WxHPbi_GXGD0",
        "outputId": "09b0550f-9ecf-4b5f-d4d4-03d5564ca553"
      },
      "execution_count": null,
      "outputs": [
        {
          "output_type": "stream",
          "name": "stdout",
          "text": [
            "Shantayya Swami\n",
            "{'S': 2, 'h': 1, 'a': 4, 'n': 1, 't': 1, 'y': 2, ' ': 1, 'w': 1, 'm': 1, 'i': 1}\n"
          ]
        }
      ]
    },
    {
      "cell_type": "code",
      "source": [
        "#sets: unordered collection of unique data\n",
        "#sets does not store list,tuples dictionary\n",
        "\n",
        "fruits = {'banana','apple', 'tomato'}\n",
        "#set = set() #--> empty set decalaration \n",
        "\n",
        "# we dont index or get value in set using indexing \n",
        "#inserting in set\n",
        "fruits.add('pinaple')\n",
        "\n",
        "#updating set  --> does not update set , just adds multiple values in set\n",
        "fruits.update('jackfruit')\n",
        "print(fruits)\n",
        "\n",
        "#removing value from set\n",
        "fruits.remove('banana')\n",
        "print(fruits)"
      ],
      "metadata": {
        "colab": {
          "base_uri": "https://localhost:8080/"
        },
        "id": "3wemVuLOZUJ2",
        "outputId": "b20b4393-f0bd-4e85-f2f5-0e430e76c99a"
      },
      "execution_count": null,
      "outputs": [
        {
          "output_type": "stream",
          "name": "stdout",
          "text": [
            "{'apple', 'pinaple', 'j', 'a', 'c', 'f', 't', 'banana', 'k', 'r', 'i', 'u', 'tomato'}\n",
            "{'apple', 'pinaple', 'j', 'a', 'c', 'f', 't', 'k', 'r', 'i', 'u', 'tomato'}\n"
          ]
        }
      ]
    },
    {
      "cell_type": "code",
      "source": [
        "for fruit in fruits:\n",
        "   print(fruit)"
      ],
      "metadata": {
        "colab": {
          "base_uri": "https://localhost:8080/"
        },
        "id": "BzJC_LK2bIxg",
        "outputId": "befa3398-7386-41e5-be2e-dfa05abdd94a"
      },
      "execution_count": null,
      "outputs": [
        {
          "output_type": "stream",
          "name": "stdout",
          "text": [
            "pinaple\n",
            "j\n",
            "a\n",
            "c\n",
            "f\n",
            "t\n",
            "k\n",
            "r\n",
            "i\n",
            "u\n",
            "tomato\n"
          ]
        }
      ]
    },
    {
      "cell_type": "code",
      "source": [
        "# add multiple values in set\n",
        "a = ['peech', 'grape', 'gava']\n",
        "fruits.update(a)\n",
        "print(fruits)"
      ],
      "metadata": {
        "colab": {
          "base_uri": "https://localhost:8080/"
        },
        "id": "wrRCmr3jcrqK",
        "outputId": "4390b837-7af5-4d92-d940-872f8dfbc5a4"
      },
      "execution_count": null,
      "outputs": [
        {
          "output_type": "stream",
          "name": "stdout",
          "text": [
            "{'pinaple', 'grape', 'j', 'a', 'c', 'f', 't', 'peech', 'k', 'r', 'i', 'u', 'gava', 'tomato'}\n"
          ]
        }
      ]
    },
    {
      "cell_type": "code",
      "source": [
        "#set operations \n",
        "# A U B --> combination of A and B values. only uniue values\n",
        "# A ∩ B --> only common things between A and B\n",
        "# A - B --> things from A but not from B\n",
        "# B - A --> things from B but not from A\n",
        "\n",
        "A = {1,2,3,4}\n",
        "B = {3,6,7,8}\n",
        "A.intersection(B)\n",
        "A.union(B)\n",
        "A.difference(B)\n",
        "A - B\n"
      ],
      "metadata": {
        "colab": {
          "base_uri": "https://localhost:8080/"
        },
        "id": "3k-hm1AgdiK3",
        "outputId": "0f07c631-5fe7-4e35-e3fd-70d0a88cdcc4"
      },
      "execution_count": null,
      "outputs": [
        {
          "output_type": "execute_result",
          "data": {
            "text/plain": [
              "{1, 2, 4}"
            ]
          },
          "metadata": {},
          "execution_count": 46
        }
      ]
    },
    {
      "cell_type": "code",
      "source": [
        "# given a sentence print count of unique words\n",
        "# develop FLAMES game --> scrap commaon char from both names and then count remainng letters from both names so print the word when count == char length from FLAMES"
      ],
      "metadata": {
        "id": "uKw-e30Lfsgc"
      },
      "execution_count": null,
      "outputs": []
    },
    {
      "cell_type": "code",
      "source": [
        "bbt = {'Sheldon': 1, 'Leonard': 2}\n",
        "bbt.update({'Penny': 2})\n",
        "print(bbt)"
      ],
      "metadata": {
        "colab": {
          "base_uri": "https://localhost:8080/"
        },
        "id": "KUwgrbn3yRRm",
        "outputId": "b5ce5f6f-d8a0-477c-f27d-e32dd74f7487"
      },
      "execution_count": null,
      "outputs": [
        {
          "output_type": "stream",
          "name": "stdout",
          "text": [
            "{'Sheldon': 1, 'Leonard': 2, 'Penny': 2}\n"
          ]
        }
      ]
    },
    {
      "cell_type": "code",
      "source": [
        "freshers = {\n",
        "    'student1': {'name': 'yash', 'salary': 7500},\n",
        "    'student2': {'name': 'heet', 'salary': 8000},\n",
        "    'student3': {'name':'smit', 'salary': 6500}\n",
        "}"
      ],
      "metadata": {
        "id": "nQsad6NZyR1o"
      },
      "execution_count": null,
      "outputs": []
    },
    {
      "cell_type": "code",
      "source": [
        "freshers['student3']['salary'] = 8500\n",
        "print(freshers)"
      ],
      "metadata": {
        "colab": {
          "base_uri": "https://localhost:8080/"
        },
        "id": "dh8E_2XVynyB",
        "outputId": "ab73c77c-f6d8-4904-8faf-dc635d20e20f"
      },
      "execution_count": null,
      "outputs": [
        {
          "output_type": "stream",
          "name": "stdout",
          "text": [
            "{'student1': {'name': 'yash', 'salary': 7500}, 'student2': {'name': 'heet', 'salary': 8000}, 'student3': {'name': 'smit', 'salary': 8500}}\n"
          ]
        }
      ]
    },
    {
      "cell_type": "code",
      "source": [
        "dict1 = {'age': 35, 'name': 'abc', 'salary': 45000}\n",
        "\n",
        "val = dict1['age']\n",
        "\n",
        "if val in dict1:\n",
        "    print('This is a member of the dictionary')\n",
        "else:\n",
        "    print('This is not a member of the dictionary')"
      ],
      "metadata": {
        "colab": {
          "base_uri": "https://localhost:8080/"
        },
        "id": "qHOKBZZLyucV",
        "outputId": "15aac307-8dcc-455d-ccf1-e0841bc3387e"
      },
      "execution_count": null,
      "outputs": [
        {
          "output_type": "stream",
          "name": "stdout",
          "text": [
            "This is not a member of the dictionary\n"
          ]
        }
      ]
    },
    {
      "cell_type": "code",
      "source": [
        "set1 = {1, 2, 4}\n",
        "set2 = {4, 5, 6}\n",
        "print(len(set1 + set2))"
      ],
      "metadata": {
        "colab": {
          "base_uri": "https://localhost:8080/",
          "height": 200
        },
        "id": "VeziCuqHy8ge",
        "outputId": "a6bf2e33-4c38-4bf1-f5e4-4e34c123c886"
      },
      "execution_count": null,
      "outputs": [
        {
          "output_type": "error",
          "ename": "TypeError",
          "evalue": "ignored",
          "traceback": [
            "\u001b[0;31m---------------------------------------------------------------------------\u001b[0m",
            "\u001b[0;31mTypeError\u001b[0m                                 Traceback (most recent call last)",
            "\u001b[0;32m<ipython-input-6-4c6e8866538b>\u001b[0m in \u001b[0;36m<module>\u001b[0;34m\u001b[0m\n\u001b[1;32m      1\u001b[0m \u001b[0mset1\u001b[0m \u001b[0;34m=\u001b[0m \u001b[0;34m{\u001b[0m\u001b[0;36m1\u001b[0m\u001b[0;34m,\u001b[0m \u001b[0;36m2\u001b[0m\u001b[0;34m,\u001b[0m \u001b[0;36m4\u001b[0m\u001b[0;34m}\u001b[0m\u001b[0;34m\u001b[0m\u001b[0;34m\u001b[0m\u001b[0m\n\u001b[1;32m      2\u001b[0m \u001b[0mset2\u001b[0m \u001b[0;34m=\u001b[0m \u001b[0;34m{\u001b[0m\u001b[0;36m4\u001b[0m\u001b[0;34m,\u001b[0m \u001b[0;36m5\u001b[0m\u001b[0;34m,\u001b[0m \u001b[0;36m6\u001b[0m\u001b[0;34m}\u001b[0m\u001b[0;34m\u001b[0m\u001b[0;34m\u001b[0m\u001b[0m\n\u001b[0;32m----> 3\u001b[0;31m \u001b[0mprint\u001b[0m\u001b[0;34m(\u001b[0m\u001b[0mlen\u001b[0m\u001b[0;34m(\u001b[0m\u001b[0mset1\u001b[0m \u001b[0;34m+\u001b[0m \u001b[0mset2\u001b[0m\u001b[0;34m)\u001b[0m\u001b[0;34m)\u001b[0m\u001b[0;34m\u001b[0m\u001b[0;34m\u001b[0m\u001b[0m\n\u001b[0m",
            "\u001b[0;31mTypeError\u001b[0m: unsupported operand type(s) for +: 'set' and 'set'"
          ]
        }
      ]
    },
    {
      "cell_type": "code",
      "source": [
        "a={'Aurn', 'Nikhil', 'Seeta'}\n",
        "a.update(\"Arun\")\n",
        "print(a)"
      ],
      "metadata": {
        "colab": {
          "base_uri": "https://localhost:8080/"
        },
        "id": "23n0-j7ozGLW",
        "outputId": "7bbc1744-c3b1-4c6d-f43d-838f8b9e1506"
      },
      "execution_count": null,
      "outputs": [
        {
          "output_type": "stream",
          "name": "stdout",
          "text": [
            "{'n', 'A', 'Nikhil', 'Aurn', 'Seeta', 'u', 'r'}\n"
          ]
        }
      ]
    },
    {
      "cell_type": "code",
      "source": [
        "def set_operation(sent1,sent2):\n",
        "    ''' input:sent1,sent2-two sentences taken as inputs\n",
        "         output:return the sum of length of unique words.'''\n",
        "    \n",
        "    dict_sent1 = {}\n",
        "    dict_sent2 = {}\n",
        "    for str1 in sent1.split():\n",
        "        if str not in dict_sent1:\n",
        "            dict_sent1[str1] = 1\n",
        "        else:\n",
        "          continue\n",
        "\n",
        "    print(dict_sent1)\n",
        "\n",
        "    for str2 in sent2.split():\n",
        "        if str2 not in dict_sent2:\n",
        "            dict_sent2[str2] = 1\n",
        "        else:\n",
        "            continue\n",
        "    print(dict_sent2)\n",
        "    \n",
        "    sum = 0 \n",
        "    for key in dict_sent1.keys():\n",
        "        sum += dict_sent1[key]\n",
        "\n",
        "    for key in dict_sent2.keys():\n",
        "        sum += dict_sent2[key]\n",
        "    \n",
        "    return sum\n",
        "    # YOUR CODE GOES HERE\n"
      ],
      "metadata": {
        "id": "tyGI8AXTzT7e"
      },
      "execution_count": null,
      "outputs": []
    },
    {
      "cell_type": "code",
      "source": [
        "sent1 = \"in data analysis we use data and process it further to create better interpreted data\"\n",
        "sent2 = \"more and more data will be passively collected\"\n",
        "set_operation(sent1,sent2)"
      ],
      "metadata": {
        "colab": {
          "base_uri": "https://localhost:8080/"
        },
        "id": "i1YIwSIS8R8G",
        "outputId": "845e2084-f873-4832-9e75-fdc3e0ca1c63"
      },
      "execution_count": null,
      "outputs": [
        {
          "output_type": "stream",
          "name": "stdout",
          "text": [
            "{'in': 1, 'data': 1, 'analysis': 1, 'we': 1, 'use': 1, 'and': 1, 'process': 1, 'it': 1, 'further': 1, 'to': 1, 'create': 1, 'better': 1, 'interpreted': 1}\n",
            "{'more': 1, 'and': 1, 'data': 1, 'will': 1, 'be': 1, 'passively': 1, 'collected': 1}\n"
          ]
        },
        {
          "output_type": "execute_result",
          "data": {
            "text/plain": [
              "20"
            ]
          },
          "metadata": {},
          "execution_count": 2
        }
      ]
    },
    {
      "cell_type": "code",
      "source": [
        "a ={101,102,103}\n",
        "b=a.copy()\n",
        "b.add(104)"
      ],
      "metadata": {
        "id": "oM4jXQ_c8qBA"
      },
      "execution_count": null,
      "outputs": []
    },
    {
      "cell_type": "code",
      "source": [
        "print(b)"
      ],
      "metadata": {
        "colab": {
          "base_uri": "https://localhost:8080/"
        },
        "id": "YbqyjD5d_1_f",
        "outputId": "f91b70c8-0331-41ca-cce7-c7e3753e2cb3"
      },
      "execution_count": null,
      "outputs": [
        {
          "output_type": "stream",
          "name": "stdout",
          "text": [
            "{104, 101, 102, 103}\n"
          ]
        }
      ]
    },
    {
      "cell_type": "code",
      "source": [
        "d1 = {1: 50, 2: 50}\n",
        "d2 = {3: 500, 4: 50}\n",
        "print(d1 is d2)"
      ],
      "metadata": {
        "colab": {
          "base_uri": "https://localhost:8080/"
        },
        "id": "H4fcBRLe_33A",
        "outputId": "5e2ab196-8b4d-48d7-ad21-afb339d05946"
      },
      "execution_count": null,
      "outputs": [
        {
          "output_type": "stream",
          "name": "stdout",
          "text": [
            "False\n"
          ]
        }
      ]
    },
    {
      "cell_type": "code",
      "source": [
        "abc = {}\n",
        "abc[1] = 1\n",
        "abc['1'] = 2\n",
        "abc[1] = abc[1] + 1\n",
        "print(abc)"
      ],
      "metadata": {
        "colab": {
          "base_uri": "https://localhost:8080/"
        },
        "id": "MeZiFnlwAJq-",
        "outputId": "9b0314a6-2a10-471e-a13a-ad3bc9d65790"
      },
      "execution_count": null,
      "outputs": [
        {
          "output_type": "stream",
          "name": "stdout",
          "text": [
            "{1: 2, '1': 2}\n"
          ]
        }
      ]
    },
    {
      "cell_type": "code",
      "source": [
        "def main():\n",
        "    # YOUR CODE GOES HERE\n",
        "    # Please take input and print output to standard input/output (stdin/stdout)\n",
        "    # E.g. 'input()/raw_input()' for input & 'print' for output\n",
        "    array = input().split()\n",
        "    array.pop(0)\n",
        "    print(max(array), min(array))\n",
        "\n",
        "if __name__ == '__main__':\n",
        "    main()"
      ],
      "metadata": {
        "id": "ynJZkHLKAkmi",
        "colab": {
          "base_uri": "https://localhost:8080/"
        },
        "outputId": "54e04e03-0c6b-4834-9d7d-ac843fe43128"
      },
      "execution_count": null,
      "outputs": [
        {
          "output_type": "stream",
          "name": "stdout",
          "text": [
            "5 1 2 3 4 5\n",
            "5 1\n"
          ]
        }
      ]
    },
    {
      "cell_type": "code",
      "source": [
        "from collections import Counter\n",
        "def FLAMES(b,g):\n",
        "  try:\n",
        "    bcount = dict(Counter(b))\n",
        "    gcount = dict(Counter(g))\n",
        "    # print(bcount, gcount)\n",
        "    \n",
        "\n",
        "    bdif = dict(bcount.items() - gcount.items())\n",
        "    gdif = dict(gcount.items() - bcount.items())\n",
        "    # print(bdif, gdif)\n",
        "\n",
        "    for key in bdif:\n",
        "      if key in gdif and bdif[key] > gdif[key]:\n",
        "        bdif[key] = bdif[key] - gdif[key]\n",
        "        del gdif[key]\n",
        "\n",
        "    # print(bdif, gdif)\n",
        "    sum = 0\n",
        "    for keys, values in bdif.items():\n",
        "       sum += values\n",
        "    \n",
        "    for keys, values in gdif.items():\n",
        "      sum += values\n",
        "    \n",
        "    print(f\"Total count of unique char in both names:{sum}\")\n",
        "\n",
        "    rank = sum%6\n",
        "    # print(rank)\n",
        "\n",
        "    # match rank:\n",
        "    #   case 0:\n",
        "    #     return \"Both are Frinds\"\n",
        "    #   case 1:\n",
        "    #     return \"Both are in Love\"\n",
        "    #   case 2:\n",
        "    #     return \"Both has affair\"\n",
        "    #   case 3: \n",
        "    #     return \"Both are getting Married\"\n",
        "    #   case 4:\n",
        "    #     return \"Both are Enemy\"\n",
        "    #   case 5: \n",
        "    #     return \"both are siblings\"\n",
        "    if rank == 0:\n",
        "       return \"both are siblings\"\n",
        "    elif rank == 1:\n",
        "       return \"Both are Friends\"\n",
        "    elif rank == 2:\n",
        "       return \"Both are in Love\"\n",
        "    elif rank == 3:\n",
        "       return \"Both has affair\"\n",
        "    elif rank == 4:\n",
        "       return \"Both are getting Married\"\n",
        "    elif rank == 5:\n",
        "       return \"Both are Enemy\"\n",
        "  except Exception as e:\n",
        "    print(e)"
      ],
      "metadata": {
        "id": "W921s1xQYzql"
      },
      "execution_count": null,
      "outputs": []
    },
    {
      "cell_type": "code",
      "source": [
        "FLAMES('Shantayya', 'Akshata')"
      ],
      "metadata": {
        "colab": {
          "base_uri": "https://localhost:8080/",
          "height": 53
        },
        "id": "ppAZ9qEHU769",
        "outputId": "99c8ee05-b83f-46c6-9bb0-e323e8598f63"
      },
      "execution_count": null,
      "outputs": [
        {
          "output_type": "stream",
          "name": "stdout",
          "text": [
            "Total count of unique char in both names:8\n"
          ]
        },
        {
          "output_type": "execute_result",
          "data": {
            "text/plain": [
              "'Both are in Love'"
            ],
            "application/vnd.google.colaboratory.intrinsic+json": {
              "type": "string"
            }
          },
          "metadata": {},
          "execution_count": 47
        }
      ]
    },
    {
      "cell_type": "code",
      "source": [
        "#practice quations: swap the case\n",
        "def swap_case(s):\n",
        "    swap = []\n",
        "    for ch in s:\n",
        "        if ord(ch) > ord('A') and ord(ch) < ord('Z'):\n",
        "            swap.append(ch.lower())\n",
        "        elif ord(ch) > ord('a') and ord(ch) < ord('z'):\n",
        "            swap.append(ch.upper())\n",
        "        else:\n",
        "            swap.append(ch)\n",
        "#    array = ''.join(swap)\n",
        "    return (''.join(swap))\n"
      ],
      "metadata": {
        "id": "Tb0cOUI7U_Ue"
      },
      "execution_count": null,
      "outputs": []
    },
    {
      "cell_type": "code",
      "source": [
        "swap_case(\"HackerRank.com presents 'Pythonist 2'.\")"
      ],
      "metadata": {
        "colab": {
          "base_uri": "https://localhost:8080/",
          "height": 35
        },
        "id": "m92yhvkuCPfy",
        "outputId": "00991cfa-ac0a-4f54-caee-279e392515b3"
      },
      "execution_count": null,
      "outputs": [
        {
          "output_type": "execute_result",
          "data": {
            "text/plain": [
              "\"haCKERraNK.COM PRESENTS 'pYTHONIST 2'.\""
            ],
            "application/vnd.google.colaboratory.intrinsic+json": {
              "type": "string"
            }
          },
          "metadata": {},
          "execution_count": 3
        }
      ]
    },
    {
      "cell_type": "code",
      "source": [],
      "metadata": {
        "colab": {
          "base_uri": "https://localhost:8080/"
        },
        "id": "ab-ExMR7CXqH",
        "outputId": "f5b5da3c-9cbf-4e79-eb35-59f3ca4f8ea2"
      },
      "execution_count": null,
      "outputs": [
        {
          "output_type": "stream",
          "name": "stdout",
          "text": [
            "hackerrank.com presents pythonist 2'."
          ]
        }
      ]
    },
    {
      "cell_type": "code",
      "source": [
        "#Range sum query"
      ],
      "metadata": {
        "id": "CXkQZ5nfCqgz"
      },
      "execution_count": null,
      "outputs": []
    },
    {
      "cell_type": "code",
      "source": [
        "    def rangeSum(A, B):\n",
        "        ps = [0]*len(A)\n",
        "        ps[0] = A[0]\n",
        "\n",
        "        for i in range(1,len(A)):\n",
        "            ps[i] = ps[i-1] + A[i]\n",
        "        \n",
        "        print(ps)\n",
        "        summ = [0]*len(B)\n",
        "        for j in range(len(B)):\n",
        "            if B[j][0] == 0:\n",
        "                summ[j] = ps[B[j][1]]\n",
        "            else:\n",
        "                summ[j] = ps[B[j][1]] - ps[B[j][0]-1]\n",
        "        return summ\n",
        "            "
      ],
      "metadata": {
        "id": "sIlK0wadVIBE"
      },
      "execution_count": null,
      "outputs": []
    },
    {
      "cell_type": "code",
      "source": [
        "A = [1, 2, 3, 4, 5]\n",
        "B = [[0, 3],[1, 2]]\n",
        "rangeSum(A,B)"
      ],
      "metadata": {
        "colab": {
          "base_uri": "https://localhost:8080/"
        },
        "id": "6zurw6GyVK2j",
        "outputId": "1149eb5e-e08c-4a93-e22d-0ee278f9df75"
      },
      "execution_count": null,
      "outputs": [
        {
          "output_type": "stream",
          "name": "stdout",
          "text": [
            "[1, 3, 6, 10, 15]\n"
          ]
        },
        {
          "output_type": "execute_result",
          "data": {
            "text/plain": [
              "[10, 5]"
            ]
          },
          "metadata": {},
          "execution_count": 17
        }
      ]
    },
    {
      "cell_type": "code",
      "source": [
        "#equilibrium of index of array"
      ],
      "metadata": {
        "id": "Qq-NcAJwVSXk"
      },
      "execution_count": null,
      "outputs": []
    },
    {
      "cell_type": "code",
      "source": [
        "    def EquiIndex(A):\n",
        "        ps = [0]*len(A)\n",
        "        ps[0] = A[0]\n",
        "        for i in range(1,len(A)):\n",
        "            ps[i] = ps[i-1] + A[i]\n",
        "        \n",
        "        print(ps)\n",
        "        count = 0\n",
        "        left = [0]*len(A)\n",
        "        right = [0]*len(A)\n",
        "        \n",
        "        for j in range(len(A)):\n",
        "            if j == 0:\n",
        "                left[j] = 0\n",
        "            else:\n",
        "                left[j] = ps[j-1]\n",
        "            \n",
        "            if j == len(A)-1:\n",
        "                right[j] = 0\n",
        "            else:\n",
        "                right[j] = ps[len(A)-1] - ps[j]\n",
        "            \n",
        "            if left[j] == right[j]:\n",
        "                count += 1\n",
        "        \n",
        "        print(left, right, sep='\\n')\n",
        "        if count == 0:\n",
        "            return -1\n",
        "        else:\n",
        "            return count"
      ],
      "metadata": {
        "id": "aBoNBV1ufplp"
      },
      "execution_count": null,
      "outputs": []
    },
    {
      "cell_type": "code",
      "source": [
        "A=[-7, 1, 5, 2, -4, 3, 0]\n",
        "EquiIndex(A)"
      ],
      "metadata": {
        "colab": {
          "base_uri": "https://localhost:8080/"
        },
        "id": "ivSMVx7wfsbW",
        "outputId": "acfb8ee8-734d-4d7b-fb37-68ea75c58035"
      },
      "execution_count": null,
      "outputs": [
        {
          "output_type": "stream",
          "name": "stdout",
          "text": [
            "[-7, -6, -1, 1, -3, 0, 0]\n",
            "[0, -7, -6, -1, 1, -3, 0]\n",
            "[7, 6, 1, -1, 3, 0, 0]\n"
          ]
        },
        {
          "output_type": "execute_result",
          "data": {
            "text/plain": [
              "2"
            ]
          },
          "metadata": {},
          "execution_count": 41
        }
      ]
    },
    {
      "cell_type": "code",
      "source": [
        "A = [1, 2, 3, 7, 1, 2, 3]\n",
        "EquiIndex(A)"
      ],
      "metadata": {
        "colab": {
          "base_uri": "https://localhost:8080/"
        },
        "id": "FCnj1JFdfuhA",
        "outputId": "c84bf663-b79e-42b6-bc70-033717766cd7"
      },
      "execution_count": null,
      "outputs": [
        {
          "output_type": "stream",
          "name": "stdout",
          "text": [
            "[1, 3, 6, 13, 14, 16, 19]\n",
            "[0, 1, 3, 6, 13, 14, 16]\n",
            "[18, 16, 13, 6, 5, 3, 0]\n"
          ]
        },
        {
          "output_type": "execute_result",
          "data": {
            "text/plain": [
              "1"
            ]
          },
          "metadata": {},
          "execution_count": 42
        }
      ]
    },
    {
      "cell_type": "code",
      "source": [
        "#Even numbers in range"
      ],
      "metadata": {
        "id": "UvXimT-thEy5"
      },
      "execution_count": null,
      "outputs": []
    },
    {
      "cell_type": "code",
      "source": [
        "def EvenRange(A, B):\n",
        "        ps = [0]*len(A)\n",
        "        ps [0] = A[0]%2\n",
        "        if len(A)>1:\n",
        "          for i in range(len(A)):\n",
        "            ps[i] = ps[i-1] + A[i]%2\n",
        "        \n",
        "        even = [0]*len(B)\n",
        "        odd = 0\n",
        "        print(ps)\n",
        "        for j in range(len(B)):\n",
        "            if B[j][0] == 0:\n",
        "                odd = ps[B[j][1]]\n",
        "                even[j] = (B[j][1]-B[j][0]+1)-odd\n",
        "            else:\n",
        "                odd = ps[B[j][1]] - ps[B[j][0]-1]\n",
        "                even[j] = (B[j][1]-B[j][0]+1)-odd\n",
        "        \n",
        "        return even\n"
      ],
      "metadata": {
        "id": "i0EB0GS05YbE"
      },
      "execution_count": null,
      "outputs": []
    },
    {
      "cell_type": "code",
      "source": [
        "A = [ 6, 3, 3, 6, 7, 8, 7, 3, 7 ]\n",
        "B = [ [2, 6], [4, 7], [6, 7] ]\n",
        "EvenRange(A,B)\n"
      ],
      "metadata": {
        "colab": {
          "base_uri": "https://localhost:8080/"
        },
        "id": "-Ouj9Wu55fLF",
        "outputId": "7552f592-b1c1-4213-85ca-56f591a2c73b"
      },
      "execution_count": null,
      "outputs": [
        {
          "output_type": "stream",
          "name": "stdout",
          "text": [
            "[0, 1, 2, 2, 3, 3, 4, 5, 6]\n"
          ]
        },
        {
          "output_type": "execute_result",
          "data": {
            "text/plain": [
              "[2, 1, 0]"
            ]
          },
          "metadata": {},
          "execution_count": 65
        }
      ]
    },
    {
      "cell_type": "code",
      "source": [
        "A = [ 3 ]\n",
        "B = [ [0, 0],[0, 0],[0, 0],[0, 0],[0, 0],[0, 0],[0, 0]]\n",
        "EvenRange(A,B)"
      ],
      "metadata": {
        "colab": {
          "base_uri": "https://localhost:8080/"
        },
        "id": "958GxO0F5ra3",
        "outputId": "73879729-b97c-4546-a8ca-2f8bdf6170c0"
      },
      "execution_count": null,
      "outputs": [
        {
          "output_type": "stream",
          "name": "stdout",
          "text": [
            "[1]\n"
          ]
        },
        {
          "output_type": "execute_result",
          "data": {
            "text/plain": [
              "[0, 0, 0, 0, 0, 0, 0]"
            ]
          },
          "metadata": {},
          "execution_count": 68
        }
      ]
    },
    {
      "cell_type": "code",
      "source": [
        "# special subsequences \"AG\""
      ],
      "metadata": {
        "id": "Id6aUPwrArjJ"
      },
      "execution_count": null,
      "outputs": []
    },
    {
      "cell_type": "code",
      "source": [
        "   def subseq(A):\n",
        "        count, ans = 0,0\n",
        "        for i in A[::-1]:\n",
        "            if i == 'G':\n",
        "                count += 1\n",
        "            if i == 'A':\n",
        "                ans += count\n",
        "        return ans"
      ],
      "metadata": {
        "id": "tsKs6oysXK70"
      },
      "execution_count": null,
      "outputs": []
    },
    {
      "cell_type": "code",
      "source": [
        "A = \"GUGPUAGAFQBMPYAGGAAOALAELGGGAOGLGEGZ\"\n",
        "subseq(A)"
      ],
      "metadata": {
        "colab": {
          "base_uri": "https://localhost:8080/"
        },
        "id": "VoT_52ZZXOko",
        "outputId": "878c33c7-f5ba-4020-836b-0e3a82309d92"
      },
      "execution_count": null,
      "outputs": [
        {
          "output_type": "execute_result",
          "data": {
            "text/plain": [
              "52"
            ]
          },
          "metadata": {},
          "execution_count": 11
        }
      ]
    },
    {
      "cell_type": "code",
      "source": [
        "print(A[::-1])"
      ],
      "metadata": {
        "colab": {
          "base_uri": "https://localhost:8080/"
        },
        "id": "lDgCY5XfXTk1",
        "outputId": "c4c484b7-e9a0-4ddd-ff35-91607e0e341a"
      },
      "execution_count": null,
      "outputs": [
        {
          "output_type": "stream",
          "name": "stdout",
          "text": [
            "ZGEGLGOAGGGLEALAOAAGGAYPMBQFAGAUPGUG\n"
          ]
        }
      ]
    },
    {
      "cell_type": "code",
      "source": [
        "C = \"GUGPUAGAFQBMPYAGGAAOALAELGGGAOGLGEGZ\"\n",
        "for i in C[::-1]:\n",
        "  print(i,end=' ')"
      ],
      "metadata": {
        "colab": {
          "base_uri": "https://localhost:8080/"
        },
        "id": "SOBw1jzzXZMU",
        "outputId": "3dfeb67d-a89a-458e-fc63-a11283e7497f"
      },
      "execution_count": null,
      "outputs": [
        {
          "output_type": "stream",
          "name": "stdout",
          "text": [
            "Z G E G L G O A G G G L E A L A O A A G G A Y P M B Q F A G A U P G U G "
          ]
        }
      ]
    },
    {
      "cell_type": "code",
      "source": [
        "\n",
        "    def Calleader(A):\n",
        "        leaderarray = []\n",
        "        leader = A[len(A)-1]\n",
        "        leaderarray.append(leader)\n",
        "        for i in range(len(A)-2,0,-1):\n",
        "            if A[i] > leader:\n",
        "                leader = A[i]\n",
        "                leaderarray.append(leader)\n",
        "        return leaderarray"
      ],
      "metadata": {
        "id": "xAKQaiGehiJa"
      },
      "execution_count": null,
      "outputs": []
    },
    {
      "cell_type": "code",
      "source": [
        "A = [16, 17, 4, 3, 5, 2]\n",
        "Calleader(A)"
      ],
      "metadata": {
        "colab": {
          "base_uri": "https://localhost:8080/"
        },
        "id": "NraFyMFcpnnP",
        "outputId": "426372f2-4656-440d-e7bf-7e2ce9717f9e"
      },
      "execution_count": null,
      "outputs": [
        {
          "output_type": "execute_result",
          "data": {
            "text/plain": [
              "[2, 5, 17]"
            ]
          },
          "metadata": {},
          "execution_count": 28
        }
      ]
    },
    {
      "cell_type": "code",
      "source": [
        "    #substring\n",
        "    def subString(A):\n",
        "        count = 0\n",
        "        upprA = A.upper()\n",
        "\n",
        "        for i in range(len(upprA)):\n",
        "          if upprA[i] in ('A','E','I','O','U'):\n",
        "            count += (len(upprA)-1)-i+1\n",
        "        return count%10003\n"
      ],
      "metadata": {
        "id": "BrWNe4PJpszx"
      },
      "execution_count": null,
      "outputs": []
    },
    {
      "cell_type": "code",
      "source": [
        "A = \"umTyAFwhrLqQXbWnXSn\"\n",
        "subString(A)"
      ],
      "metadata": {
        "colab": {
          "base_uri": "https://localhost:8080/"
        },
        "id": "HZ70fgwxzn2B",
        "outputId": "d26e8218-14f5-4957-e238-c8f0b1b28259"
      },
      "execution_count": null,
      "outputs": [
        {
          "output_type": "execute_result",
          "data": {
            "text/plain": [
              "34"
            ]
          },
          "metadata": {},
          "execution_count": 6
        }
      ]
    },
    {
      "cell_type": "code",
      "source": [
        "#maxpofit\n",
        "def maxProfit(A):\n",
        "       profit = 0\n",
        "       if len(A) <= 1:\n",
        "           return profit\n",
        "       buy = A[0]\n",
        "\n",
        "       for i in range(1,len(A)):\n",
        "            if buy > A[i]:\n",
        "               buy = A[i]\n",
        "            elif A[i] - buy > profit:\n",
        "                profit = A[i] - buy\n",
        "       return profit\n"
      ],
      "metadata": {
        "id": "ZCeMiH8f15v_"
      },
      "execution_count": 4,
      "outputs": []
    },
    {
      "cell_type": "code",
      "source": [
        "A = [ 7551982, 8124939, 4023780, 7868369, 4412570, 2542961, 7380261, 1164290, 7781065, 1164599, 2563492, 5354415, 4994454, 2627136, 5933501, 668219, 1821804, 7818378, 33654, 4167689, 8652323, 5750640, 9822437, 3466466, 554089, 6168826, 335687, 2466661, 8511732, 6288553, 2905889, 7747975, 3744045, 1545003, 1008624, 8041203, 7176125, 4321092, 714053, 7200073, 166697, 7814651, 3090485, 8318668, 6600364, 3352620, 2430137, 7685821, 1442555, 828955, 6540266, 5305436, 116568, 1883410, 7975347, 9629015, 4735259, 6559041, 1832532, 5840170, 6983732, 5886179, 1496505, 7241412, 144558, 9462840, 8579314, 2488436, 9677478, 7589124, 5636642, 2440601, 1767332, 2399786, 6299635, 8534665, 1367339, 805592, 5572668, 6990026, 8465261, 4808596, 7641452, 8464860, 3170126, 7403200, 6932907, 3776122, 1313688, 3992189, 2382116, 3886952, 349816, 1596435, 7353742, 9964868, 9882224, 3818546, 3885458, 1200559, 3910256, 7949895, 463872, 6392805, 9513226, 3427933, 3470571, 6225817, 552452, 5567651, 6414423, 6701681, 4725847, 894529, 8046603, 426263, 5280891, 9197661, 9764507, 1740413, 9530261, 9163599, 7561587, 5848442, 7312422, 4794268, 5793465, 5039382, 5147388, 7346933, 4697363, 6436473, 5159752, 2207985, 8256403, 8958858, 6099618, 2172252, 3063342, 4324166, 3919237, 8985768, 2703255, 2386343, 3064166, 247762, 7271683, 1812487, 7163753, 4635382, 449426, 2561592, 3746615, 8741199, 6696192, 606265, 5374062, 3065308, 6918398, 2956279, 8949324, 2804580, 3421479, 7846658, 8895839, 8277589, 1262596, 451779, 9972218, 6378556, 4216958, 7127258, 8593578, 326883, 4737513, 6578257, 7582654, 8675499, 9038961, 7902676, 8874020, 5513073, 631930, 912719, 8394492, 1508363, 455175, 9215635, 6813970, 2021710, 5673212, 184474, 4511247, 4653238, 2218883, 9669544, 295018, 3694660, 1709444, 4019025, 5047809, 45740, 1035395, 8159408, 1557286, 1304144, 6496263, 2094202, 9945315, 1905585, 1143081, 6994125, 9609830, 1077628, 3488222, 6299366, 7187139, 3883908, 7077292, 3210807, 7328762, 7695314, 1138834, 7689433, 5083719, 202831, 8138452, 5495064, 7543763, 1597085, 5429837, 8455839, 6925605, 6600884, 3571512, 3422637, 8911245, 3700762, 2338168, 6830853, 2539094, 490627, 2294717, 497349, 8297867, 7299269, 4769134, 285033, 4335917, 9908413, 152868, 2658658, 3525848, 1884044, 4953877, 8660374, 8989154, 888731, 7217408, 2614940, 7990455, 9779818, 1441488, 9605891, 4518756, 3705442, 9331226, 404585, 9011202, 7355000, 7461968, 6512552, 2689841, 2873446, 256454, 1068037, 8786859, 2323599, 3332506, 2361155, 7476810, 5605915, 5950352, 6491737, 8696129, 4637800, 4207476, 9334774, 840248, 9159149, 5201180, 7211332, 3135016, 8524857, 4566111, 7697488, 1833291, 7227481, 8289951, 2389102, 9102789, 8585135, 1869227, 4082835, 8447466, 4985240, 4176179 ]\n",
        "maxProfit(A)\n"
      ],
      "metadata": {
        "colab": {
          "base_uri": "https://localhost:8080/"
        },
        "id": "GeKxg0yla5Q2",
        "outputId": "2b1b1090-e13a-4c91-d3fd-09910c91622b"
      },
      "execution_count": 5,
      "outputs": [
        {
          "output_type": "execute_result",
          "data": {
            "text/plain": [
              "9938564"
            ]
          },
          "metadata": {},
          "execution_count": 5
        }
      ]
    },
    {
      "cell_type": "code",
      "source": [
        "B = [ 4194445, 5755801, 2855639, 4681951, 642183, 9606207, 6539770, 2929563, 2371075, 2065991, 4734767, 3035028, 9844237, 9859030, 5366228, 7126800, 3093826, 2064333, 4794134, 6009455, 1554282, 1141024, 9008908, 5564577, 5670584, 3701388, 305389, 9988838, 7607445, 8689404, 4606240, 721493, 8358372, 7969247, 2005188, 9381407, 9640526, 1257732, 3128856, 5674956, 7212588, 5699639, 3391536, 9223297, 303612, 246025, 4664705, 5533721, 1254106, 6723049, 7092956, 9115027, 4029515, 8682821, 3075505, 2455402, 8685967, 7823073, 8138079, 5223844, 7204268, 8388370, 4932424, 1163737, 5251626, 5026560, 5050075, 444693, 8416089, 6533127, 8849938, 9195466, 6912747, 318446, 2255659, 1324379, 1091239, 7558075, 9314612, 7170906, 3222755, 3626629, 184898, 4602309, 1596067, 2979905, 5350257, 2919884, 9904801, 722970, 8136001, 1391045, 6414844, 2205953, 4755182, 2798289, 5134693, 9826047, 432014, 6805799, 6827969, 7032606, 4696237, 5731657, 2733376, 4768391, 2782129, 4632527, 4485247, 9064703, 3372660, 9420437, 4193640, 2612882, 2867493, 8068152, 3907859, 124864, 5942858, 5168681, 5242568, 474474, 8675032, 1368145, 5358739, 4107643, 1657155, 9175880, 8535311, 8277280, 7462655, 5984330, 7676367, 498783, 9495820, 3076391, 3546466, 3806366, 1312460, 652185, 9729605, 2472157, 913603, 78321, 7611113, 6599149, 4055264, 8831043, 2431665, 6773353, 262124, 8150637, 3198010, 9990139, 811941, 7829764, 5725450, 223476, 4615776, 9894103, 5906398, 906269, 3967342, 1543460, 4301996, 1787414, 8254232, 1789655, 4230800, 5969792, 905489, 3258010, 9454136, 4249389, 6467504, 6519664, 4001349, 5026632, 5014202, 6667981, 3817855, 5034444, 6930070, 1349637, 1035425, 9252606, 6607642, 2524617, 1006652, 3528601, 2690079, 9721966, 4199938, 5762348, 128435, 4118901, 6892353, 2989545, 666501, 5888056, 8654317, 4248490, 762635, 5111086, 5764247, 1866872, 4293692, 9257206, 6891118, 6087668, 941907, 8810109, 6646582, 3630739, 446420, 351840, 4011717, 3143139, 7749114, 6392659, 9048202, 7016084, 2382421, 4446109, 8485561, 5782000, 3949229, 5221723, 8561121, 9303285, 1543066, 6108565, 2722519, 7758442, 6163843, 2755475, 1023498, 5443927, 312752, 9196009, 3221496, 2914945, 2653161, 4489388, 1959263, 5623432, 9971827, 3785009, 7319090, 7630374, 5217607, 8044924, 8769872, 8185537, 1597610, 7814177, 1029537, 7567770, 2258460, 5576548, 482655, 2612813, 3224455, 2585241, 1092094, 9877649, 7498080, 5699558, 2951043, 6086409, 9542232, 661452, 5836164, 4345098, 8307895, 6637498, 6272548, 6046123, 3646645, 774039, 2892326, 8990224, 7423970, 1974660, 2915143, 3225108, 7089874, 6573037, 562334, 4269980, 489996, 1186345, 8226531, 816581, 768322, 8850738, 4660865, 816794, 6128349, 9412437, 8816780, 8379353, 3537553, 4864852, 5573468, 79518, 6575334, 7596536, 6889113, 9602795, 6640332, 2332107, 6535110, 7488014, 9995147, 3170250, 5091560, 1360125, 7509497, 1121503, 7358828, 4794661, 7027205, 3332651, 9573810, 4093855, 7576965, 2998873, 7914729, 1092664, 1802541, 8724368, 558214, 2857902, 2716188, 2003935, 7168482, 6012254, 3643378, 6074238, 6647950, 6389831, 5109285, 866253, 381182, 1164871, 6275734, 1373355, 7017631, 5325732, 255703, 8151488, 9133852, 5909110, 3275900, 6061125, 475435, 3611189, 2999139, 4638073, 8973840, 2561265, 3769187, 6653732, 8312926, 8824383, 1472759, 4821429, 1483913, 862658, 5331434, 5223163, 9257756, 1027441, 4445934, 8306958, 9852026, 203971, 5610515, 9554829, 2882366, 5159575, 5463819, 2912256, 1762629, 2822314, 1863502, 3884780, 3574742, 8568504, 1253111, 503241, 6109333, 7496262, 7489733, 4319399, 9349740, 3945259, 8884655, 7607110, 8608523, 4386536, 9292660, 9617100, 5400748, 5880352, 8878708, 4242669, 7471856, 7150688, 9502486, 3485539, 2421557, 1965130, 7403648, 8796538, 6717060, 259999, 6321534, 2791184, 4094667, 4931963, 1782625, 497135, 931841, 7789116, 9062312, 1314376, 4186203, 2781984, 6351555, 6433207, 5584677, 6332921, 1563685, 1553136, 2297922, 8427601, 1826430, 3253257, 1884767, 5263589, 7242437, 4136563, 2669239, 4890360, 7994097, 3243588, 3024004, 6227582, 4667341, 5951200, 7625344, 5601489, 525262, 9273359, 6532814, 5958471, 4875336, 1980311, 2047533, 1693741, 5059206, 1441267, 8561945, 9413927, 267932, 9767893, 5708235, 8490874, 5875232, 4514791, 122809, 8169308, 5485225, 1258832, 6423197, 7401453, 63428, 6242952, 3935999, 5627757, 7677399, 7549112, 7071403, 1269499, 6408877, 4263892, 2386645, 2142089, 9680907, 8958646, 787007, 7100373, 3563871, 9002573, 369222, 2707131, 9279796, 2847105, 7396262, 8662258, 2403065, 8174614, 5792694, 6292058, 3741998, 2806982, 9193909, 4390354, 5450971, 9800176, 9442318, 848643, 3667121, 6013064, 7078994, 864441, 2124755, 987795, 3904413, 4436411, 3207605, 4372015, 400985, 3196209, 8094432, 1053017, 710448, 349168, 6789123, 7444730, 3441905, 3933247, 6882550, 6867729, 9164628, 165786, 716556, 1109737, 3671507, 6671443, 1236642, 1664765, 9329820, 5442137, 6931445, 3808660, 2034565, 8492007, 1031792, 2348823, 7364453, 4999931, 4322960, 8340199, 639089, 135093, 4657084, 8368461, 8517539, 6231696, 8261869, 8247731, 7867767, 7266041, 6158750, 7335486, 8035170, 4269642, 7393800, 7019543, 4434206, 3330723, 6580929, 4449142, 8067766, 3682033, 3698348, 3067274, 9752295, 1121939, 7713186, 1157402, 2462787, 8355113, 3140410, 3159795, 1928352, 5335266, 5919865, 505504, 2750149, 2786405, 2165156, 7275716, 2443565, 7820731, 3257234, 3943777, 3295474, 173055, 6809788, 6093159, 264240, 3204306, 9165393, 6552803, 8654172, 2492684, 2467027, 126724, 6043336, 3988090, 1145326, 9919194, 4786559, 1544896, 9566382, 6783344, 9457825, 8712145, 5598821, 2627075, 7848949, 4073282, 5164981, 5966346, 4412603, 7695179, 9612711, 3863295, 6957529, 7419982, 7950638, 9746913, 8971977, 6977344, 7509979 ]\n",
        "maxProfit(B)"
      ],
      "metadata": {
        "id": "_hVxAcsKbpOL",
        "colab": {
          "base_uri": "https://localhost:8080/"
        },
        "outputId": "d41463ac-75c0-4f8a-cb95-bd0defbfa7e2"
      },
      "execution_count": 12,
      "outputs": [
        {
          "output_type": "execute_result",
          "data": {
            "text/plain": [
              "9931719"
            ]
          },
          "metadata": {},
          "execution_count": 12
        }
      ]
    },
    {
      "cell_type": "code",
      "source": [
        "C = [8,8,8,8,8]\n",
        "maxProfit(C)"
      ],
      "metadata": {
        "colab": {
          "base_uri": "https://localhost:8080/"
        },
        "id": "cr38a82bdcEd",
        "outputId": "9430434e-b496-4785-9440-e1d5b76efeab"
      },
      "execution_count": 13,
      "outputs": [
        {
          "output_type": "execute_result",
          "data": {
            "text/plain": [
              "0"
            ]
          },
          "metadata": {},
          "execution_count": 13
        }
      ]
    },
    {
      "cell_type": "code",
      "source": [
        "A = [ 654, 50, 694, 750, 712, 275, 736, 146, 279, 816, 707, 396, 406, 589, 370, 742, 840, 290, 505, 23, 249, 447, 618, 80, 968, 189, 600, 662, 91, 604, 575, 689, 72, 196, 475, 198, 850, 844, 361, 419, 617, 911, 268, 628, 408, 404, 477, 921, 478, 806, 204, 637, 403, 911, 589, 529, 867, 584, 768, 257, 437, 380, 698, 452, 368, 97, 977, 582, 775, 103 ]\n",
        "length = len(A)\n",
        "half = len(A)//2\n",
        "print(length, half)\n",
        "print(A[0], A[(len(A)//2)-1], A[len(A)//2], A[len(A)-1])\n",
        "\n",
        "for i in range(len(A)):\n",
        "  print(i, \"-->\", A[i])\n",
        "B = [A[i] for i in range(len(A)-1,-1,-1)]\n",
        "print(B)"
      ],
      "metadata": {
        "colab": {
          "base_uri": "https://localhost:8080/"
        },
        "id": "5hg1UDgUd-ky",
        "outputId": "0016d26b-243e-4888-ee3f-c8b30624e840"
      },
      "execution_count": 30,
      "outputs": [
        {
          "output_type": "stream",
          "name": "stdout",
          "text": [
            "70 35\n",
            "654 475 198 103\n",
            "0 --> 654\n",
            "1 --> 50\n",
            "2 --> 694\n",
            "3 --> 750\n",
            "4 --> 712\n",
            "5 --> 275\n",
            "6 --> 736\n",
            "7 --> 146\n",
            "8 --> 279\n",
            "9 --> 816\n",
            "10 --> 707\n",
            "11 --> 396\n",
            "12 --> 406\n",
            "13 --> 589\n",
            "14 --> 370\n",
            "15 --> 742\n",
            "16 --> 840\n",
            "17 --> 290\n",
            "18 --> 505\n",
            "19 --> 23\n",
            "20 --> 249\n",
            "21 --> 447\n",
            "22 --> 618\n",
            "23 --> 80\n",
            "24 --> 968\n",
            "25 --> 189\n",
            "26 --> 600\n",
            "27 --> 662\n",
            "28 --> 91\n",
            "29 --> 604\n",
            "30 --> 575\n",
            "31 --> 689\n",
            "32 --> 72\n",
            "33 --> 196\n",
            "34 --> 475\n",
            "35 --> 198\n",
            "36 --> 850\n",
            "37 --> 844\n",
            "38 --> 361\n",
            "39 --> 419\n",
            "40 --> 617\n",
            "41 --> 911\n",
            "42 --> 268\n",
            "43 --> 628\n",
            "44 --> 408\n",
            "45 --> 404\n",
            "46 --> 477\n",
            "47 --> 921\n",
            "48 --> 478\n",
            "49 --> 806\n",
            "50 --> 204\n",
            "51 --> 637\n",
            "52 --> 403\n",
            "53 --> 911\n",
            "54 --> 589\n",
            "55 --> 529\n",
            "56 --> 867\n",
            "57 --> 584\n",
            "58 --> 768\n",
            "59 --> 257\n",
            "60 --> 437\n",
            "61 --> 380\n",
            "62 --> 698\n",
            "63 --> 452\n",
            "64 --> 368\n",
            "65 --> 97\n",
            "66 --> 977\n",
            "67 --> 582\n",
            "68 --> 775\n",
            "69 --> 103\n",
            "[103, 775, 582, 977, 97, 368, 452, 698, 380, 437, 257, 768, 584, 867, 529, 589, 911, 403, 637, 204, 806, 478, 921, 477, 404, 408, 628, 268, 911, 617, 419, 361, 844, 850, 198, 475, 196, 72, 689, 575, 604, 91, 662, 600, 189, 968, 80, 618, 447, 249, 23, 505, 290, 840, 742, 370, 589, 406, 396, 707, 816, 279, 146, 736, 275, 712, 750, 694, 50, 654]\n"
          ]
        }
      ]
    },
    {
      "cell_type": "code",
      "source": [
        "#find maxsum by picking value from both sides fo array\n",
        "def findMax(A, B):\n",
        "        # case1: all B elements from left\n",
        "\n",
        "        sum1, finalSum = 0,-10**9\n",
        "        for i in range(B):\n",
        "            sum1 += A[i]\n",
        "        \n",
        "        print(sum1)\n",
        "        Back = B - 1\n",
        "        print(Back)\n",
        "        finalSum = max(finalSum,sum1)\n",
        "        for j in range(len(A)-1,len(A)-B-1,-1):\n",
        "            sum1 = sum1 - A[Back]\n",
        "            sum1 += A[j]\n",
        "            finalSum = max(finalSum,sum1)\n",
        "            Back -= 1\n",
        "        return finalSum"
      ],
      "metadata": {
        "id": "JZ4Q1nreoYbE"
      },
      "execution_count": 50,
      "outputs": []
    },
    {
      "cell_type": "code",
      "source": [
        "A = [ -969, -948, 350, 150, -59, 724, 966, 430, 107, -809, -993, 337, 457, -713, 753, -617, -55, -91, -791, 758, -779, -412, -578, -54, 506, 30, -587, 168, -100, -409, -238, 655, 410, -641, 624, -463, 548, -517, 595, -959, 602, -650, -709, -164, 374, 20, -404, -979, 348, 199, 668, -516, -719, -266, -947, 999, -582, 938, -100, 788, -873, -533, 728, -107, -352, -517, 807, -579, -690, -383, -187, 514, -691, 616, -65, 451, -400, 249, -481, 556, -202, -697, -776, 8, 844, -391, -11, -298, 195, -515, 93, -657, -477, 587 ]\n",
        "B = 81\n",
        "findMax(A,B)"
      ],
      "metadata": {
        "colab": {
          "base_uri": "https://localhost:8080/"
        },
        "id": "fXyIyEnuV_ou",
        "outputId": "165ef15f-9591-4904-c0bf-39f72220ba7b"
      },
      "execution_count": 51,
      "outputs": [
        {
          "output_type": "stream",
          "name": "stdout",
          "text": [
            "-6453\n",
            "80\n"
          ]
        },
        {
          "output_type": "execute_result",
          "data": {
            "text/plain": [
              "-5453"
            ]
          },
          "metadata": {},
          "execution_count": 51
        }
      ]
    },
    {
      "cell_type": "code",
      "source": [
        "#evenSubarray\n",
        "def EvenArray(A):\n",
        "        \n",
        "        i = 0\n",
        "        j = len(A)\n",
        "        if j%2 == 0 and A[i]%2 == 0 and A[j-1]%2 == 0:\n",
        "             return \"YES\"            \n",
        "        else:   \n",
        "             return \"NO\"\n",
        "            "
      ],
      "metadata": {
        "id": "t9bgWKk4WIXG"
      },
      "execution_count": 4,
      "outputs": []
    },
    {
      "cell_type": "code",
      "source": [
        "A = [ 654, 50, 694, 750, 712, 275, 736, 146, 279, 816, 707, 396, 406, 589, 370, 742, 840, 290, 505, 23, 249, 447, 618, 80, 968, 189, 600, 662, 91, 604, 575, 689, 72, 196, 475, 198, 850, 844, 361, 419, 617, 911, 268, 628, 408, 404, 477, 921, 478, 806, 204, 637, 403, 911, 589, 529, 867, 584, 768, 257, 437, 380, 698, 452, 368, 97, 977, 582, 775, 103 ]\n",
        "EvenArray(A)"
      ],
      "metadata": {
        "colab": {
          "base_uri": "https://localhost:8080/",
          "height": 35
        },
        "id": "4y7OLeEndUK3",
        "outputId": "a862fe96-d169-47d0-c03a-340a0b2895be"
      },
      "execution_count": 5,
      "outputs": [
        {
          "output_type": "execute_result",
          "data": {
            "text/plain": [
              "'NO'"
            ],
            "application/vnd.google.colaboratory.intrinsic+json": {
              "type": "string"
            }
          },
          "metadata": {},
          "execution_count": 5
        }
      ]
    },
    {
      "cell_type": "code",
      "source": [
        "# #Bulbs :\n",
        "# A wire connects N light bulbs.\n",
        "\n",
        "# Each bulb has a switch associated with it; however, due to faulty wiring, a switch also changes the state of all the bulbs to the right of the current bulb.\n",
        "\n",
        "# Given an initial state of all bulbs, find the minimum number of switches you have to press to turn on all the bulbs.\n",
        "\n",
        "# You can press the same switch multiple times.\n",
        "\n",
        "# # Note: 0 represents the bulb is off and 1 represents the bulb is on."
      ],
      "metadata": {
        "id": "mDAYbjjFdexV"
      },
      "execution_count": 6,
      "outputs": []
    },
    {
      "cell_type": "code",
      "source": [
        "def bulbs(A):\n",
        "\t\tcount = 0\n",
        "\t\tfor i in range(len(A)):\n",
        "\t\t\tif A[i] == 0:\n",
        "\t\t\t\tcount += 1\n",
        "\t\t\t\tfor j in range(i,len(A)):\n",
        "\t\t\t\t\tif A[j] == 0:\n",
        "\t\t\t\t\t\tA[j] = 1\n",
        "\t\t\t\t\telse:\n",
        "\t\t\t\t\t\tA[j] = 0\n",
        "\t\treturn count"
      ],
      "metadata": {
        "id": "g9rCYIEM5-8C"
      },
      "execution_count": 9,
      "outputs": []
    },
    {
      "cell_type": "code",
      "source": [
        "A = [0, 1, 0, 1]\n",
        "bulbs(A)"
      ],
      "metadata": {
        "colab": {
          "base_uri": "https://localhost:8080/"
        },
        "id": "ck1ngB0w6CNx",
        "outputId": "92123f42-918c-4021-e4cf-6e6d4ef3d51a"
      },
      "execution_count": 10,
      "outputs": [
        {
          "output_type": "execute_result",
          "data": {
            "text/plain": [
              "4"
            ]
          },
          "metadata": {},
          "execution_count": 10
        }
      ]
    },
    {
      "cell_type": "code",
      "source": [
        "def bulbs1(A):\n",
        "\tcount = 0\n",
        "\tfor i in range(len(A)):\n",
        "        if A[i] == 1 and count%2 == 0:\n",
        "          continue\n",
        "        elif A[i] == 1 and count%2 != 0:\n",
        "          count += 1\n",
        "        elif A[i] == 0 and count%2 == 0:\n",
        "          count += 1\n",
        "        else:\n",
        "          continue\n",
        "\treturn count\n"
      ],
      "metadata": {
        "colab": {
          "base_uri": "https://localhost:8080/",
          "height": 130
        },
        "id": "Y54i-QY96N_G",
        "outputId": "20bbf267-0282-41ef-ea18-467b87fcce5f"
      },
      "execution_count": 27,
      "outputs": [
        {
          "output_type": "error",
          "ename": "TabError",
          "evalue": "ignored",
          "traceback": [
            "\u001b[0;36m  File \u001b[0;32m\"<ipython-input-27-580d6c0e2b97>\"\u001b[0;36m, line \u001b[0;32m4\u001b[0m\n\u001b[0;31m    if A[i] == 1 and count%2 == 0:\u001b[0m\n\u001b[0m                                  ^\u001b[0m\n\u001b[0;31mTabError\u001b[0m\u001b[0;31m:\u001b[0m inconsistent use of tabs and spaces in indentation\n"
          ]
        }
      ]
    },
    {
      "cell_type": "code",
      "source": [
        "A = [0, 1, 0, 1]\n",
        "bulbs1(A)"
      ],
      "metadata": {
        "colab": {
          "base_uri": "https://localhost:8080/"
        },
        "id": "u6YXRCVJ9evV",
        "outputId": "7224a1f2-8c1b-43ee-93e0-2e1a0f212907"
      },
      "execution_count": 15,
      "outputs": [
        {
          "output_type": "execute_result",
          "data": {
            "text/plain": [
              "4"
            ]
          },
          "metadata": {},
          "execution_count": 15
        }
      ]
    },
    {
      "cell_type": "code",
      "source": [],
      "metadata": {
        "id": "XuK9__i69iSZ"
      },
      "execution_count": null,
      "outputs": []
    }
  ]
}