{
  "nbformat": 4,
  "nbformat_minor": 0,
  "metadata": {
    "colab": {
      "provenance": [],
      "authorship_tag": "ABX9TyOeV1x4ByyhabOznYxDGOhg",
      "include_colab_link": true
    },
    "kernelspec": {
      "name": "python3",
      "display_name": "Python 3"
    },
    "language_info": {
      "name": "python"
    }
  },
  "cells": [
    {
      "cell_type": "markdown",
      "metadata": {
        "id": "view-in-github",
        "colab_type": "text"
      },
      "source": [
        "<a href=\"https://colab.research.google.com/github/Shantayya/Python-Projects/blob/main/Scaler_Python_Beginner_Refresher_Batch2022.ipynb\" target=\"_parent\"><img src=\"https://colab.research.google.com/assets/colab-badge.svg\" alt=\"Open In Colab\"/></a>"
      ]
    },
    {
      "cell_type": "code",
      "execution_count": null,
      "metadata": {
        "colab": {
          "base_uri": "https://localhost:8080/"
        },
        "id": "1rci4jIaMhbK",
        "outputId": "86c5d4c8-4ca8-43ca-b564-87a91d94215f"
      },
      "outputs": [
        {
          "output_type": "stream",
          "name": "stdout",
          "text": [
            "Hello World\n"
          ]
        }
      ],
      "source": [
        "print(\"Hello World\")"
      ]
    },
    {
      "cell_type": "code",
      "source": [
        "print('Hello World')"
      ],
      "metadata": {
        "colab": {
          "base_uri": "https://localhost:8080/"
        },
        "id": "QUW4xCI6MkdS",
        "outputId": "b63588b0-88a6-4299-e322-0246f2b12731"
      },
      "execution_count": null,
      "outputs": [
        {
          "output_type": "stream",
          "name": "stdout",
          "text": [
            "Hello World\n"
          ]
        }
      ]
    },
    {
      "cell_type": "code",
      "source": [
        "print(10+20)"
      ],
      "metadata": {
        "colab": {
          "base_uri": "https://localhost:8080/"
        },
        "id": "ADrOP7YBMpUI",
        "outputId": "8125653d-04ae-48be-b78c-089e2b4f9b04"
      },
      "execution_count": null,
      "outputs": [
        {
          "output_type": "stream",
          "name": "stdout",
          "text": [
            "30\n"
          ]
        }
      ]
    },
    {
      "cell_type": "code",
      "source": [
        "print('10+20')"
      ],
      "metadata": {
        "colab": {
          "base_uri": "https://localhost:8080/"
        },
        "id": "9_CEwuXOMrem",
        "outputId": "ebf8659d-1e61-45e9-867b-38876c640a56"
      },
      "execution_count": null,
      "outputs": [
        {
          "output_type": "stream",
          "name": "stdout",
          "text": [
            "10+20\n"
          ]
        }
      ]
    },
    {
      "cell_type": "code",
      "source": [
        " ## Comment"
      ],
      "metadata": {
        "id": "FN5kVIb7Mtpp"
      },
      "execution_count": null,
      "outputs": []
    },
    {
      "cell_type": "code",
      "source": [
        "a = 10.0\n",
        "print(type(int(a)))"
      ],
      "metadata": {
        "colab": {
          "base_uri": "https://localhost:8080/"
        },
        "id": "ToZgJEoHOOQA",
        "outputId": "86ff288a-eeef-4f0a-b4a1-bed757e568ea"
      },
      "execution_count": null,
      "outputs": [
        {
          "output_type": "stream",
          "name": "stdout",
          "text": [
            "<class 'int'>\n"
          ]
        }
      ]
    },
    {
      "cell_type": "code",
      "source": [
        "print(int(a))"
      ],
      "metadata": {
        "colab": {
          "base_uri": "https://localhost:8080/"
        },
        "id": "3CxEdyUWOWBD",
        "outputId": "8edda203-9390-4285-d272-4fa57892c9b1"
      },
      "execution_count": null,
      "outputs": [
        {
          "output_type": "stream",
          "name": "stdout",
          "text": [
            "10\n"
          ]
        }
      ]
    },
    {
      "cell_type": "code",
      "source": [
        "print?"
      ],
      "metadata": {
        "id": "_mEknhclS02R"
      },
      "execution_count": null,
      "outputs": []
    },
    {
      "cell_type": "code",
      "source": [
        "# day1 \n",
        "# data types (int, float, string, boolean)\n",
        "# type casting\n",
        "# sep and end (in print syntax)\n",
        "# var \n",
        "# input()\n",
        "# day1 Assignment "
      ],
      "metadata": {
        "id": "z-HmMKABbV-4"
      },
      "execution_count": null,
      "outputs": []
    },
    {
      "cell_type": "code",
      "source": [
        "A = input(\"Please enter number A: \")\n",
        "B = input(\"Please neter number B: \")\n",
        "print(A,B, sep='')"
      ],
      "metadata": {
        "colab": {
          "base_uri": "https://localhost:8080/"
        },
        "id": "ruBXgYxqgvbf",
        "outputId": "b32bc138-79d2-47d5-801a-3227c2950650"
      },
      "execution_count": null,
      "outputs": [
        {
          "output_type": "stream",
          "name": "stdout",
          "text": [
            "Please enter number A: 10\n",
            " Please neter number B: 20\n",
            "1020\n"
          ]
        }
      ]
    },
    {
      "cell_type": "code",
      "source": [
        "A = input()\n",
        "B = input()\n",
        "print( A, \"says Hi to\", B)"
      ],
      "metadata": {
        "colab": {
          "base_uri": "https://localhost:8080/"
        },
        "id": "J3G6fu3_gwpV",
        "outputId": "8400598e-9e65-48a7-fa40-a9d1849e8b49"
      },
      "execution_count": null,
      "outputs": [
        {
          "output_type": "stream",
          "name": "stdout",
          "text": [
            "ram\n",
            "Shyam\n",
            "ram says Hi to Shyam\n"
          ]
        }
      ]
    },
    {
      "cell_type": "code",
      "source": [
        "A = input()\n",
        "print(\"Hello \", A)"
      ],
      "metadata": {
        "colab": {
          "base_uri": "https://localhost:8080/"
        },
        "id": "IHs3BnrPiwMc",
        "outputId": "ebe16165-fc3d-438b-d7b2-41bd4d53f14f"
      },
      "execution_count": null,
      "outputs": [
        {
          "output_type": "stream",
          "name": "stdout",
          "text": [
            "Ram\n",
            "Hello  Ram\n"
          ]
        }
      ]
    },
    {
      "cell_type": "code",
      "source": [
        "print('A','B', 'C', 'D', 'E',sep=\"\\n\")"
      ],
      "metadata": {
        "colab": {
          "base_uri": "https://localhost:8080/"
        },
        "id": "bpxiKSXtjfgV",
        "outputId": "34a73478-948e-414f-9c16-d46bca870986"
      },
      "execution_count": null,
      "outputs": [
        {
          "output_type": "stream",
          "name": "stdout",
          "text": [
            "A\n",
            "B\n",
            "C\n",
            "D\n",
            "E\n"
          ]
        }
      ]
    },
    {
      "cell_type": "code",
      "source": [
        "A = int(input(\"Provude time (in minutes), the lasagna has been in the oven\"))\n",
        "print(\"Lasagna needs\", 40-A, \"more minutes to bake\")"
      ],
      "metadata": {
        "colab": {
          "base_uri": "https://localhost:8080/"
        },
        "id": "yip-vYJzj0SD",
        "outputId": "15057b33-ee90-4613-d847-2a82de048042"
      },
      "execution_count": null,
      "outputs": [
        {
          "output_type": "stream",
          "name": "stdout",
          "text": [
            "Provude time (in minutes), the lasagna has been in the oven10\n",
            "Lasagna needs 30 more minutes to bake\n"
          ]
        }
      ]
    },
    {
      "cell_type": "code",
      "source": [
        "# Day2\n",
        "# Arithmatic operators (Add,sub,mul,div,mod, floor div (//), power (**))\n",
        "# int/float + bool = int/float\n",
        "# str + bool = error\n",
        "# str - str = error\n",
        "# str * int = str example: \"hello\" * 3 = hellohellohello\n",
        "# floor div => 3/2 = 1.5 so answer is 1  -> 3//2 =1\n",
        "\n",
        "# comparison operator(==, !=) can compare anything with anything.\n",
        "#  <, >, <=, >= str cannnot be compared with int using <, >, <=, >=\n",
        "#  and , or and not (unary) operator\n",
        "# not F = True, not true = False \n",
        "\n",
        "# conditional statement (if, else, elif)\n",
        "# operator hierarchy\n",
        "# (), **, (*,/,//,% left to right), (+,-), (==, !=), (<, <=, >, >==), not, and, or"
      ],
      "metadata": {
        "id": "PHYhi99msdkL"
      },
      "execution_count": null,
      "outputs": []
    },
    {
      "cell_type": "code",
      "source": [
        "def main():\n",
        "    # YOUR CODE GOES HERE\n",
        "    # Please take input and print output to standard input/output (stdin/stdout)\n",
        "    # E.g. 'input()/raw_input()' for input & 'print' for output\n",
        "    A = int(input())\n",
        "    B = int(input())\n",
        "    if (A > B):\n",
        "        print(A)\n",
        "    else:\n",
        "        print(B)\n",
        "\n",
        "    return 0\n",
        "\n",
        "if __name__ == '__main__':\n",
        "    main()\n"
      ],
      "metadata": {
        "colab": {
          "base_uri": "https://localhost:8080/"
        },
        "id": "9Wv4mGRdFgF3",
        "outputId": "12f4c3c5-9985-4413-ea7a-c6ea0ad187f1"
      },
      "execution_count": null,
      "outputs": [
        {
          "output_type": "stream",
          "name": "stdout",
          "text": [
            "10\n",
            "9\n",
            "10\n"
          ]
        }
      ]
    },
    {
      "cell_type": "code",
      "source": [
        "print(\"1\" == 1)"
      ],
      "metadata": {
        "colab": {
          "base_uri": "https://localhost:8080/"
        },
        "id": "DuDHSX46FgxD",
        "outputId": "b8dd5c91-dc0b-457c-b7b8-637ad20cb91c"
      },
      "execution_count": null,
      "outputs": [
        {
          "output_type": "stream",
          "name": "stdout",
          "text": [
            "False\n"
          ]
        }
      ]
    },
    {
      "cell_type": "code",
      "source": [
        "def main():\n",
        "    # YOUR CODE GOES HERE\n",
        "    # Please take input and print output to standard input/output (stdin/stdout)\n",
        "    # E.g. 'input()/raw_input()' for input & 'print' for output\n",
        "    A = eval(input())\n",
        "    value = 1\n",
        "    count = 1\n",
        "    while count <= 10:\n",
        "        value = A * count\n",
        "        print(A, \"*\", count, \"=\", value, sep=' ')\n",
        "        count += 1\n",
        "    return 0\n",
        "\n",
        "if __name__ == '__main__':\n",
        "    main()"
      ],
      "metadata": {
        "id": "NuAEdL2UJLem",
        "colab": {
          "base_uri": "https://localhost:8080/"
        },
        "outputId": "fe351d42-e5ba-48c5-efd3-a20dc783fcf7"
      },
      "execution_count": null,
      "outputs": [
        {
          "output_type": "stream",
          "name": "stdout",
          "text": [
            "6.5\n",
            "6.5 * 1 = 6.5\n",
            "6.5 * 2 = 13.0\n",
            "6.5 * 3 = 19.5\n",
            "6.5 * 4 = 26.0\n",
            "6.5 * 5 = 32.5\n",
            "6.5 * 6 = 39.0\n",
            "6.5 * 7 = 45.5\n",
            "6.5 * 8 = 52.0\n",
            "6.5 * 9 = 58.5\n",
            "6.5 * 10 = 65.0\n"
          ]
        }
      ]
    },
    {
      "cell_type": "code",
      "source": [
        "    # YOUR CODE GOES HERE\n",
        "    m1 = int(input())\n",
        "    m2 = int(input())\n",
        "    m3 = int(input())\n",
        "    m4 = int(input())\n",
        "    m5 = int(input())\n",
        "    per = 0.0\n",
        "    total = m1 + m2 + m3 + m4 + m5\n",
        "    per = int((total/500)*100)\n",
        "    if (per >= 90):\n",
        "        print(\"A\")\n",
        "    elif (per >= 80):\n",
        "        print(\"B\")\n",
        "    elif (per >= 70):\n",
        "        print(\"C\") \n",
        "    elif (per >= 60):\n",
        "        print(\"D\") \n",
        "    elif (per >=40):\n",
        "        print(\"E\")\n",
        "    elif (per < 40):\n",
        "        print(\"F\")\n",
        "    "
      ],
      "metadata": {
        "colab": {
          "base_uri": "https://localhost:8080/"
        },
        "id": "26bGhvVzOACO",
        "outputId": "b27d1b37-5e81-4d32-f537-9571abcf87a6"
      },
      "execution_count": null,
      "outputs": [
        {
          "output_type": "stream",
          "name": "stdout",
          "text": [
            "50\n",
            "60\n",
            "70\n",
            "80\n",
            "90\n",
            "C\n"
          ]
        }
      ]
    },
    {
      "cell_type": "code",
      "source": [
        "def main():\n",
        "    # YOUR CODE GOES HERE\n",
        "    # Please take input and print output to standard input/output (stdin/stdout)\n",
        "    # E.g. 'input()/raw_input()' for input & 'print' for output\n",
        "    A = (3+4) // 2+6\n",
        "    print(A)\n",
        "    return 0\n",
        "\n",
        "if __name__ == '__main__':\n",
        "    main()"
      ],
      "metadata": {
        "id": "-sXL79VHRauU",
        "colab": {
          "base_uri": "https://localhost:8080/"
        },
        "outputId": "9f494d40-a31e-49ab-8331-2c9bc20d19b0"
      },
      "execution_count": null,
      "outputs": [
        {
          "output_type": "stream",
          "name": "stdout",
          "text": [
            "9\n"
          ]
        }
      ]
    },
    {
      "cell_type": "code",
      "source": [
        "#Day3 control statement\n",
        "# while loop\n",
        "# eval funtion is used for dynamic typecasting"
      ],
      "metadata": {
        "id": "x7zM13LTXaS3"
      },
      "execution_count": null,
      "outputs": []
    },
    {
      "cell_type": "code",
      "source": [
        "import sys\n",
        "sys.version"
      ],
      "metadata": {
        "id": "FZTM8azMa1hT",
        "colab": {
          "base_uri": "https://localhost:8080/",
          "height": 35
        },
        "outputId": "f123ad3b-8f7b-4daa-8717-8b761bf7b6bd"
      },
      "execution_count": null,
      "outputs": [
        {
          "output_type": "execute_result",
          "data": {
            "text/plain": [
              "'3.7.15 (default, Oct 12 2022, 19:14:55) \\n[GCC 7.5.0]'"
            ],
            "application/vnd.google.colaboratory.intrinsic+json": {
              "type": "string"
            }
          },
          "metadata": {},
          "execution_count": 1
        }
      ]
    },
    {
      "cell_type": "code",
      "source": [
        "sys.builtin_module_names"
      ],
      "metadata": {
        "colab": {
          "base_uri": "https://localhost:8080/"
        },
        "id": "j3mSjIf9MNAi",
        "outputId": "017c2d41-c246-48b7-a546-076cd0fa5907"
      },
      "execution_count": null,
      "outputs": [
        {
          "output_type": "execute_result",
          "data": {
            "text/plain": [
              "('_abc',\n",
              " '_ast',\n",
              " '_bisect',\n",
              " '_blake2',\n",
              " '_codecs',\n",
              " '_collections',\n",
              " '_datetime',\n",
              " '_elementtree',\n",
              " '_functools',\n",
              " '_heapq',\n",
              " '_imp',\n",
              " '_io',\n",
              " '_locale',\n",
              " '_md5',\n",
              " '_operator',\n",
              " '_pickle',\n",
              " '_posixsubprocess',\n",
              " '_random',\n",
              " '_sha1',\n",
              " '_sha256',\n",
              " '_sha3',\n",
              " '_sha512',\n",
              " '_signal',\n",
              " '_socket',\n",
              " '_sre',\n",
              " '_stat',\n",
              " '_string',\n",
              " '_struct',\n",
              " '_symtable',\n",
              " '_thread',\n",
              " '_tracemalloc',\n",
              " '_warnings',\n",
              " '_weakref',\n",
              " 'array',\n",
              " 'atexit',\n",
              " 'binascii',\n",
              " 'builtins',\n",
              " 'cmath',\n",
              " 'errno',\n",
              " 'faulthandler',\n",
              " 'fcntl',\n",
              " 'gc',\n",
              " 'grp',\n",
              " 'itertools',\n",
              " 'marshal',\n",
              " 'math',\n",
              " 'posix',\n",
              " 'pwd',\n",
              " 'pyexpat',\n",
              " 'select',\n",
              " 'spwd',\n",
              " 'sys',\n",
              " 'syslog',\n",
              " 'time',\n",
              " 'unicodedata',\n",
              " 'xxsubtype',\n",
              " 'zipimport',\n",
              " 'zlib')"
            ]
          },
          "metadata": {},
          "execution_count": 6
        }
      ]
    },
    {
      "cell_type": "code",
      "source": [
        "import os\n",
        "print(os.name)"
      ],
      "metadata": {
        "colab": {
          "base_uri": "https://localhost:8080/"
        },
        "id": "60nObZ7fMR3n",
        "outputId": "43b43d67-52a5-4ece-b651-18fe01ba754c"
      },
      "execution_count": null,
      "outputs": [
        {
          "output_type": "stream",
          "name": "stdout",
          "text": [
            "posix\n"
          ]
        }
      ]
    },
    {
      "cell_type": "code",
      "source": [
        "os.mkdir(\"/content/shantayya\")"
      ],
      "metadata": {
        "colab": {
          "base_uri": "https://localhost:8080/",
          "height": 165
        },
        "id": "7C_gLhSuP4Xh",
        "outputId": "ca9f87cb-d343-431f-be66-7cbe0fb326a9"
      },
      "execution_count": null,
      "outputs": [
        {
          "output_type": "error",
          "ename": "FileExistsError",
          "evalue": "ignored",
          "traceback": [
            "\u001b[0;31m---------------------------------------------------------------------------\u001b[0m",
            "\u001b[0;31mFileExistsError\u001b[0m                           Traceback (most recent call last)",
            "\u001b[0;32m<ipython-input-17-bce54a1d0297>\u001b[0m in \u001b[0;36m<module>\u001b[0;34m\u001b[0m\n\u001b[0;32m----> 1\u001b[0;31m \u001b[0mos\u001b[0m\u001b[0;34m.\u001b[0m\u001b[0mmkdir\u001b[0m\u001b[0;34m(\u001b[0m\u001b[0;34m\"/content/shantayya\"\u001b[0m\u001b[0;34m)\u001b[0m\u001b[0;34m\u001b[0m\u001b[0;34m\u001b[0m\u001b[0m\n\u001b[0m",
            "\u001b[0;31mFileExistsError\u001b[0m: [Errno 17] File exists: '/content/shantayya'"
          ]
        }
      ]
    },
    {
      "cell_type": "code",
      "source": [
        "os.getcwd()"
      ],
      "metadata": {
        "colab": {
          "base_uri": "https://localhost:8080/",
          "height": 35
        },
        "id": "sftAU-6VQDpq",
        "outputId": "a3479218-f88a-432f-de73-a1c51c2c63b9"
      },
      "execution_count": null,
      "outputs": [
        {
          "output_type": "execute_result",
          "data": {
            "text/plain": [
              "'/'"
            ],
            "application/vnd.google.colaboratory.intrinsic+json": {
              "type": "string"
            }
          },
          "metadata": {},
          "execution_count": 16
        }
      ]
    },
    {
      "cell_type": "code",
      "source": [
        "os.chdir(\"..\")"
      ],
      "metadata": {
        "id": "qNz5Ps8TQF-1"
      },
      "execution_count": null,
      "outputs": []
    },
    {
      "cell_type": "code",
      "source": [
        "#day4 \n",
        "# ()- exlcusive []- inclusive\n",
        "# (0-5) mean 1,2,3,4  [1,5]- means 1,2,3,4,5\n",
        "# range(n) - returns numbers from 0 to n-1 example: range(5) -> 0,1,2,3,4\n",
        "# range(start, end) - returns a seq from start til end-1 with jump +1 example: range(1,5) -> 1,2,3,4\n",
        "# range(start,end,jump) -> returns a seq from start til end-1 with jump specified. example: range(2,10,2) -> 2,4,6,8\n",
        "# example: range(1,5,-1) -> does nothing\n",
        "# iterable: range, enumerate, list, set, disctionary etc. we need iterator to print iterables\n",
        "# iterables: a container of seq in python Iterator -> variable which holds current value\n",
        "\n",
        "# Note: range() is used for int only\n",
        "\n",
        "# for iterabtor in iterable:  example: for i in range(5): print(i, end=' ')\n",
        "# Homework: \n",
        "# 1. print the digit 469 in the same order\n",
        "# 2. print  * * * * *\n",
        "#           * * * *\n",
        "#           * * *\n",
        "#           * * \n",
        "#           *\n",
        "# 3. reverse staircase pattern\n",
        "#                *\n",
        "#              * *\n",
        "#            * * *\n",
        "#          * * * *\n",
        "#        * * * * *      \n",
        "# diff btween while and for loop\n",
        "# for loop              vs        while loop\n",
        "# not generic                     generic. can do many things as what for loop do. but vice versa is not possible\n",
        "# easy                            not that much easy\n",
        "# run for entire range             based on condition\n",
        "\n"
      ],
      "metadata": {
        "id": "mqquL6VkQKZ2"
      },
      "execution_count": null,
      "outputs": []
    },
    {
      "cell_type": "code",
      "source": [
        "for i in range(1,5):\n",
        "  if i%2 == 0:\n",
        "    pass    # pass is just a filler. wont do anything. if we write continue then it will skip the 2 and 4\n",
        "  print(i)"
      ],
      "metadata": {
        "colab": {
          "base_uri": "https://localhost:8080/"
        },
        "id": "503H0SskLaJQ",
        "outputId": "e471327a-b0d5-477b-be9f-205345675c5b"
      },
      "execution_count": null,
      "outputs": [
        {
          "output_type": "stream",
          "name": "stdout",
          "text": [
            "1\n",
            "2\n",
            "3\n",
            "4\n"
          ]
        }
      ]
    },
    {
      "cell_type": "code",
      "source": [
        "x = 2\n",
        "for i in range(0, 4):\n",
        "  if x%2:\n",
        "    x = x*2\n",
        "    print(x)\n",
        "  else:\n",
        "    x = x+1\n",
        "    print(x)"
      ],
      "metadata": {
        "colab": {
          "base_uri": "https://localhost:8080/"
        },
        "id": "Vd5XnP8LLh0p",
        "outputId": "f2952844-d270-48d4-a28d-25a8cc9d9030"
      },
      "execution_count": null,
      "outputs": [
        {
          "output_type": "stream",
          "name": "stdout",
          "text": [
            "3\n",
            "6\n",
            "7\n",
            "14\n"
          ]
        }
      ]
    },
    {
      "cell_type": "code",
      "source": [
        "x = 1\n",
        "for i in range(x):\n",
        "  x = x + 1\n",
        "  print(i, end=' ')"
      ],
      "metadata": {
        "colab": {
          "base_uri": "https://localhost:8080/"
        },
        "id": "BLXPV8mcjvhW",
        "outputId": "03f01630-af35-493e-fbaa-21f2684c878d"
      },
      "execution_count": null,
      "outputs": [
        {
          "output_type": "stream",
          "name": "stdout",
          "text": [
            "0 "
          ]
        }
      ]
    },
    {
      "cell_type": "code",
      "source": [
        " a = 0\n",
        " while True:\n",
        "   a = a + 5\n",
        "   a %= 5\n",
        "   a = a + 5\n",
        "   if a == 5:\n",
        "     break"
      ],
      "metadata": {
        "id": "4lebctI8mGl0"
      },
      "execution_count": null,
      "outputs": []
    },
    {
      "cell_type": "code",
      "source": [
        "row = int(input())\n",
        "col = int(input())\n",
        "\n",
        "for i in range(row, 0, -1):\n",
        "  for j in range(i):\n",
        "    print(\"*\", end=' ')\n",
        "  print()\n"
      ],
      "metadata": {
        "colab": {
          "base_uri": "https://localhost:8080/"
        },
        "id": "8vMi4TUBnf2J",
        "outputId": "1ed998bc-a28e-4295-bf29-7ddcfb98cab8"
      },
      "execution_count": null,
      "outputs": [
        {
          "output_type": "stream",
          "name": "stdout",
          "text": [
            "5\n",
            "5\n",
            "* * * * * \n",
            "* * * * \n",
            "* * * \n",
            "* * \n",
            "* \n"
          ]
        }
      ]
    },
    {
      "cell_type": "code",
      "source": [
        "row = int(input())\n",
        "col = int(input())\n",
        "\n",
        "for i in range(row):\n",
        "  for j in range(col-i):\n",
        "      print(' ',end=' ')\n",
        "  print('*')\n"
      ],
      "metadata": {
        "colab": {
          "base_uri": "https://localhost:8080/"
        },
        "id": "7Xi0DNcV08Br",
        "outputId": "46651e59-42ce-4488-c109-eb0be41e0628"
      },
      "execution_count": null,
      "outputs": [
        {
          "output_type": "stream",
          "name": "stdout",
          "text": [
            "2\n",
            "2\n",
            "    *\n",
            "  *\n"
          ]
        }
      ]
    },
    {
      "cell_type": "code",
      "source": [
        "N = int(input())\n",
        "q = N//10\n",
        "N %= 10\n",
        "print(q, N, sep='')\n",
        "\n",
        "\n",
        "\n"
      ],
      "metadata": {
        "colab": {
          "base_uri": "https://localhost:8080/"
        },
        "id": "EHYNg6rKH8CA",
        "outputId": "5b56ad8b-0792-4cdf-d2d9-0f44ad70d41b"
      },
      "execution_count": null,
      "outputs": [
        {
          "output_type": "stream",
          "name": "stdout",
          "text": [
            "12345\n",
            "12345\n"
          ]
        }
      ]
    },
    {
      "cell_type": "code",
      "source": [
        "N = int(input())\n",
        "num = N\n",
        "count = 0\n",
        "while N > 0:\n",
        "  num = N % 10\n",
        "  N = N // 10\n",
        "  print(num,end='')\n",
        "  count += 1\n",
        "print('\\n',count)"
      ],
      "metadata": {
        "colab": {
          "base_uri": "https://localhost:8080/"
        },
        "id": "To2iwRyROKyc",
        "outputId": "2fcdce81-2077-422b-aadb-a7d8aafb188a"
      },
      "execution_count": null,
      "outputs": [
        {
          "output_type": "stream",
          "name": "stdout",
          "text": [
            "1234\n",
            "4321\n",
            " 4\n"
          ]
        }
      ]
    },
    {
      "cell_type": "code",
      "source": [
        "A = int(input())\n",
        "if (A%400 == 0):\n",
        "  print(\"leap\")\n",
        "elif (A%100 == 1) and (A%4 == 0):\n",
        "  print(\"leap\")\n",
        "else:\n",
        "  print(\"not\")"
      ],
      "metadata": {
        "colab": {
          "base_uri": "https://localhost:8080/"
        },
        "id": "uEYK3CbeOajs",
        "outputId": "b3fb3fbd-50e2-4fba-ebf7-367ba859383a"
      },
      "execution_count": null,
      "outputs": [
        {
          "output_type": "stream",
          "name": "stdout",
          "text": [
            "500\n",
            "not\n"
          ]
        }
      ]
    },
    {
      "cell_type": "code",
      "source": [
        " N = int(input())\n",
        " for i in range(1,N+1):\n",
        "     for j in range(1,i+1):\n",
        "        print(j,end=' ')\n",
        "     print()"
      ],
      "metadata": {
        "colab": {
          "base_uri": "https://localhost:8080/"
        },
        "id": "J6kz0Mm-ZlUw",
        "outputId": "873ec029-0e71-4229-9da1-cdcf9c61c300"
      },
      "execution_count": null,
      "outputs": [
        {
          "output_type": "stream",
          "name": "stdout",
          "text": [
            "50\n",
            "1 \n",
            "1 2 \n",
            "1 2 3 \n",
            "1 2 3 4 \n",
            "1 2 3 4 5 \n",
            "1 2 3 4 5 6 \n",
            "1 2 3 4 5 6 7 \n",
            "1 2 3 4 5 6 7 8 \n",
            "1 2 3 4 5 6 7 8 9 \n",
            "1 2 3 4 5 6 7 8 9 10 \n",
            "1 2 3 4 5 6 7 8 9 10 11 \n",
            "1 2 3 4 5 6 7 8 9 10 11 12 \n",
            "1 2 3 4 5 6 7 8 9 10 11 12 13 \n",
            "1 2 3 4 5 6 7 8 9 10 11 12 13 14 \n",
            "1 2 3 4 5 6 7 8 9 10 11 12 13 14 15 \n",
            "1 2 3 4 5 6 7 8 9 10 11 12 13 14 15 16 \n",
            "1 2 3 4 5 6 7 8 9 10 11 12 13 14 15 16 17 \n",
            "1 2 3 4 5 6 7 8 9 10 11 12 13 14 15 16 17 18 \n",
            "1 2 3 4 5 6 7 8 9 10 11 12 13 14 15 16 17 18 19 \n",
            "1 2 3 4 5 6 7 8 9 10 11 12 13 14 15 16 17 18 19 20 \n",
            "1 2 3 4 5 6 7 8 9 10 11 12 13 14 15 16 17 18 19 20 21 \n",
            "1 2 3 4 5 6 7 8 9 10 11 12 13 14 15 16 17 18 19 20 21 22 \n",
            "1 2 3 4 5 6 7 8 9 10 11 12 13 14 15 16 17 18 19 20 21 22 23 \n",
            "1 2 3 4 5 6 7 8 9 10 11 12 13 14 15 16 17 18 19 20 21 22 23 24 \n",
            "1 2 3 4 5 6 7 8 9 10 11 12 13 14 15 16 17 18 19 20 21 22 23 24 25 \n",
            "1 2 3 4 5 6 7 8 9 10 11 12 13 14 15 16 17 18 19 20 21 22 23 24 25 26 \n",
            "1 2 3 4 5 6 7 8 9 10 11 12 13 14 15 16 17 18 19 20 21 22 23 24 25 26 27 \n",
            "1 2 3 4 5 6 7 8 9 10 11 12 13 14 15 16 17 18 19 20 21 22 23 24 25 26 27 28 \n",
            "1 2 3 4 5 6 7 8 9 10 11 12 13 14 15 16 17 18 19 20 21 22 23 24 25 26 27 28 29 \n",
            "1 2 3 4 5 6 7 8 9 10 11 12 13 14 15 16 17 18 19 20 21 22 23 24 25 26 27 28 29 30 \n",
            "1 2 3 4 5 6 7 8 9 10 11 12 13 14 15 16 17 18 19 20 21 22 23 24 25 26 27 28 29 30 31 \n",
            "1 2 3 4 5 6 7 8 9 10 11 12 13 14 15 16 17 18 19 20 21 22 23 24 25 26 27 28 29 30 31 32 \n",
            "1 2 3 4 5 6 7 8 9 10 11 12 13 14 15 16 17 18 19 20 21 22 23 24 25 26 27 28 29 30 31 32 33 \n",
            "1 2 3 4 5 6 7 8 9 10 11 12 13 14 15 16 17 18 19 20 21 22 23 24 25 26 27 28 29 30 31 32 33 34 \n",
            "1 2 3 4 5 6 7 8 9 10 11 12 13 14 15 16 17 18 19 20 21 22 23 24 25 26 27 28 29 30 31 32 33 34 35 \n",
            "1 2 3 4 5 6 7 8 9 10 11 12 13 14 15 16 17 18 19 20 21 22 23 24 25 26 27 28 29 30 31 32 33 34 35 36 \n",
            "1 2 3 4 5 6 7 8 9 10 11 12 13 14 15 16 17 18 19 20 21 22 23 24 25 26 27 28 29 30 31 32 33 34 35 36 37 \n",
            "1 2 3 4 5 6 7 8 9 10 11 12 13 14 15 16 17 18 19 20 21 22 23 24 25 26 27 28 29 30 31 32 33 34 35 36 37 38 \n",
            "1 2 3 4 5 6 7 8 9 10 11 12 13 14 15 16 17 18 19 20 21 22 23 24 25 26 27 28 29 30 31 32 33 34 35 36 37 38 39 \n",
            "1 2 3 4 5 6 7 8 9 10 11 12 13 14 15 16 17 18 19 20 21 22 23 24 25 26 27 28 29 30 31 32 33 34 35 36 37 38 39 40 \n",
            "1 2 3 4 5 6 7 8 9 10 11 12 13 14 15 16 17 18 19 20 21 22 23 24 25 26 27 28 29 30 31 32 33 34 35 36 37 38 39 40 41 \n",
            "1 2 3 4 5 6 7 8 9 10 11 12 13 14 15 16 17 18 19 20 21 22 23 24 25 26 27 28 29 30 31 32 33 34 35 36 37 38 39 40 41 42 \n",
            "1 2 3 4 5 6 7 8 9 10 11 12 13 14 15 16 17 18 19 20 21 22 23 24 25 26 27 28 29 30 31 32 33 34 35 36 37 38 39 40 41 42 43 \n",
            "1 2 3 4 5 6 7 8 9 10 11 12 13 14 15 16 17 18 19 20 21 22 23 24 25 26 27 28 29 30 31 32 33 34 35 36 37 38 39 40 41 42 43 44 \n",
            "1 2 3 4 5 6 7 8 9 10 11 12 13 14 15 16 17 18 19 20 21 22 23 24 25 26 27 28 29 30 31 32 33 34 35 36 37 38 39 40 41 42 43 44 45 \n",
            "1 2 3 4 5 6 7 8 9 10 11 12 13 14 15 16 17 18 19 20 21 22 23 24 25 26 27 28 29 30 31 32 33 34 35 36 37 38 39 40 41 42 43 44 45 46 \n",
            "1 2 3 4 5 6 7 8 9 10 11 12 13 14 15 16 17 18 19 20 21 22 23 24 25 26 27 28 29 30 31 32 33 34 35 36 37 38 39 40 41 42 43 44 45 46 47 \n",
            "1 2 3 4 5 6 7 8 9 10 11 12 13 14 15 16 17 18 19 20 21 22 23 24 25 26 27 28 29 30 31 32 33 34 35 36 37 38 39 40 41 42 43 44 45 46 47 48 \n",
            "1 2 3 4 5 6 7 8 9 10 11 12 13 14 15 16 17 18 19 20 21 22 23 24 25 26 27 28 29 30 31 32 33 34 35 36 37 38 39 40 41 42 43 44 45 46 47 48 49 \n",
            "1 2 3 4 5 6 7 8 9 10 11 12 13 14 15 16 17 18 19 20 21 22 23 24 25 26 27 28 29 30 31 32 33 34 35 36 37 38 39 40 41 42 43 44 45 46 47 48 49 50 \n"
          ]
        }
      ]
    },
    {
      "cell_type": "code",
      "source": [
        "    N = int(input())\n",
        "    for i in range(N+1, 1, -1):\n",
        "        for j in range(1,i):\n",
        "            print(j,end=' ')\n",
        "        print()"
      ],
      "metadata": {
        "colab": {
          "base_uri": "https://localhost:8080/"
        },
        "id": "B8agKNXMdgtV",
        "outputId": "136367c0-d173-4f50-c6d4-93e375250a6a"
      },
      "execution_count": null,
      "outputs": [
        {
          "output_type": "stream",
          "name": "stdout",
          "text": [
            "4\n",
            "1 2 3 4 \n",
            "1 2 3 \n",
            "1 2 \n",
            "1 \n"
          ]
        }
      ]
    },
    {
      "cell_type": "code",
      "source": [
        "    N = int(input())\n",
        "    for j in range(N):\n",
        "        for i in range(N+1):\n",
        "           if i in range(N-j):\n",
        "             print(end=' ')\n",
        "           else:\n",
        "             print(\"*\",end='')\n",
        "        print()\n",
        "    "
      ],
      "metadata": {
        "id": "o7g2w3eBfBrn",
        "colab": {
          "base_uri": "https://localhost:8080/"
        },
        "outputId": "a8e54aa1-e953-477f-f146-82e4ba0f76d1"
      },
      "execution_count": null,
      "outputs": [
        {
          "output_type": "stream",
          "name": "stdout",
          "text": [
            "4\n",
            "    *\n",
            "   **\n",
            "  ***\n",
            " ****\n"
          ]
        }
      ]
    },
    {
      "cell_type": "code",
      "source": [
        "i=0\n",
        "while i<=5:\n",
        "     if i%2:\n",
        "        pass\n",
        "     else:\n",
        "        print(i, end=\" \")\n",
        "     i+=1"
      ],
      "metadata": {
        "colab": {
          "base_uri": "https://localhost:8080/"
        },
        "id": "fCEHZ0IH1phB",
        "outputId": "3a4ba72b-021d-4a8f-ddc2-392c005451e3"
      },
      "execution_count": null,
      "outputs": [
        {
          "output_type": "stream",
          "name": "stdout",
          "text": [
            "0 2 4 "
          ]
        }
      ]
    },
    {
      "cell_type": "code",
      "source": [
        "i=2\n",
        "if i==2:\n",
        "    i+=1\n",
        "for j in range(i):\n",
        "    i+=1\n",
        "    pass\n",
        "    break\n",
        "\n",
        "print(i)"
      ],
      "metadata": {
        "colab": {
          "base_uri": "https://localhost:8080/"
        },
        "id": "KEahOG6EBy4p",
        "outputId": "32a61d04-ce3c-4de3-ceba-55d352b0b778"
      },
      "execution_count": null,
      "outputs": [
        {
          "output_type": "stream",
          "name": "stdout",
          "text": [
            "6\n"
          ]
        }
      ]
    },
    {
      "cell_type": "code",
      "source": [
        "n=8\n",
        "while n>=0:\n",
        "   n -= 2\n",
        "   if n%2==0:\n",
        "       continue\n",
        "   print(n, end=\" \")\n",
        "#else:\n",
        "#   print(\"Exec\", end=\" \")"
      ],
      "metadata": {
        "id": "jqO6Q4maCdrc"
      },
      "execution_count": null,
      "outputs": []
    },
    {
      "cell_type": "code",
      "source": [
        "x = int(input())\n",
        "y = int(input())\n",
        "q, r = 0, 0\n",
        "\n",
        "while x>=y:\n",
        "    x-=y\n",
        "    q+=1\n",
        "print(q, x)\n"
      ],
      "metadata": {
        "colab": {
          "base_uri": "https://localhost:8080/"
        },
        "id": "_SCcDNVGDLuq",
        "outputId": "7b4254f6-6a00-48fc-9f00-5914c8f1fdcb"
      },
      "execution_count": null,
      "outputs": [
        {
          "output_type": "stream",
          "name": "stdout",
          "text": [
            "5\n",
            "2\n",
            "2 1\n"
          ]
        }
      ]
    },
    {
      "cell_type": "code",
      "source": [
        "i=0\n",
        "if i==0:\n",
        "   pass\n",
        "   print(i, end=\" \")\n",
        "i+=1\n",
        "print(i, end=\" \")\n"
      ],
      "metadata": {
        "colab": {
          "base_uri": "https://localhost:8080/"
        },
        "id": "_x1ttroE9OAJ",
        "outputId": "ce57bb7c-f7a1-4aca-be28-c8d627b7172a"
      },
      "execution_count": null,
      "outputs": [
        {
          "output_type": "stream",
          "name": "stdout",
          "text": [
            "0 1 "
          ]
        }
      ]
    },
    {
      "cell_type": "code",
      "source": [
        "    T = int(input())\n",
        "    for i in range(T):\n",
        "        count = 1\n",
        "        j = int(input())\n",
        "        while j >= 10:\n",
        "          j //= 10\n",
        "          count += 1\n",
        "        print(\"count\", count)\n",
        "    "
      ],
      "metadata": {
        "colab": {
          "base_uri": "https://localhost:8080/"
        },
        "id": "sHPxN3o__P7q",
        "outputId": "cd295d09-3686-43d9-850a-1b5c59be2845"
      },
      "execution_count": null,
      "outputs": [
        {
          "output_type": "stream",
          "name": "stdout",
          "text": [
            "2\n",
            "555502\n",
            "count 6\n",
            "555502\n",
            "count 6\n"
          ]
        }
      ]
    },
    {
      "cell_type": "code",
      "source": [
        "    T = int(input())\n",
        "    for i in range(T):\n",
        "        sum = 0\n",
        "        I = int(input())\n",
        "        while I > 0:\n",
        "            r = I % 10\n",
        "            I //= 10\n",
        "            sum += r\n",
        "        print(sum)\n"
      ],
      "metadata": {
        "colab": {
          "base_uri": "https://localhost:8080/"
        },
        "id": "nSj6jqEAYlI4",
        "outputId": "6351349e-12ed-40f4-d774-ebd4777ae070"
      },
      "execution_count": null,
      "outputs": [
        {
          "output_type": "stream",
          "name": "stdout",
          "text": [
            "1\n",
            "15281\n",
            "17\n"
          ]
        }
      ]
    },
    {
      "cell_type": "code",
      "source": [
        "# day 5 functions\n",
        "# argument -> what is been passed while calling a function is called argument\n",
        "# parameter -> variable been used in function and which is used to store the value \n",
        "\n",
        "#Note: while passing the arrugment dev should be aware of order of passing parameter.\n",
        "# scope of varibale is limited to function only. outside when refernced it will throw error. \n",
        "# you can't have default argument before non-default argument example: def example(a,b,c=20,d) --> not allowed  def example(b,c,a=20)--> allowed\n",
        "# in above function parameter b,c -> non default argument and c=20 is default argument\n",
        "\n",
        "# while calling --> def example(a, b, c=10) --> abc are positional arguments where as example(10, b=50, c=50) --> here b and c are keyword arguments\n",
        "# here keyword argument can't come before positional argument.\n",
        "\n",
        "# function execution stops at return statement like break in for loop\n",
        "# 1. is_prime(n) or not with return statement\n",
        "\n"
      ],
      "metadata": {
        "id": "xy7cf7JXdeO0"
      },
      "execution_count": 1,
      "outputs": []
    },
    {
      "cell_type": "code",
      "source": [
        "def call_name(name, age):\n",
        "  print(name, age)\n",
        "\n",
        "call_name(23,\"mohit\")"
      ],
      "metadata": {
        "colab": {
          "base_uri": "https://localhost:8080/"
        },
        "id": "1UychFkv5w2N",
        "outputId": "4bc620e7-0e07-4a46-e251-bd80a535e544"
      },
      "execution_count": 2,
      "outputs": [
        {
          "output_type": "stream",
          "name": "stdout",
          "text": [
            "23 mohit\n"
          ]
        }
      ]
    },
    {
      "cell_type": "code",
      "source": [
        "def convert(t):\n",
        "    return t*9/5 + 32\n",
        "\n",
        "print(convert(20))"
      ],
      "metadata": {
        "colab": {
          "base_uri": "https://localhost:8080/"
        },
        "id": "9Wk8aBFp533i",
        "outputId": "277eedf8-5c98-4391-aeb5-281d2af714d5"
      },
      "execution_count": 3,
      "outputs": [
        {
          "output_type": "stream",
          "name": "stdout",
          "text": [
            "68.0\n"
          ]
        }
      ]
    },
    {
      "cell_type": "code",
      "source": [
        "def celsius_farhen(Celsius):\n",
        "    ans = Celsius*9/5 + 32\n",
        "    return round(ans,2)"
      ],
      "metadata": {
        "id": "qs4Z4vxT6-9v"
      },
      "execution_count": 6,
      "outputs": []
    },
    {
      "cell_type": "code",
      "source": [
        "celsius_farhen(30)"
      ],
      "metadata": {
        "colab": {
          "base_uri": "https://localhost:8080/"
        },
        "id": "BYhyapir7oJd",
        "outputId": "84461343-1763-4ae1-bf1f-0af1d17a88b8"
      },
      "execution_count": 5,
      "outputs": [
        {
          "output_type": "execute_result",
          "data": {
            "text/plain": [
              "86.0"
            ]
          },
          "metadata": {},
          "execution_count": 5
        }
      ]
    },
    {
      "cell_type": "code",
      "source": [
        "def simple_int(time,pa,ir):\n",
        "    ''' time, pa, ir represents the time in number of days, principal amount and rate of interest\n",
        "        Return the simple interest'''\n",
        "    ans = 0\n",
        "    # YOUR CODE GOES HERE\n",
        "    years = (time / 365) + (time % 365)\n",
        "    print(years)\n",
        "    SI = (pa * ir * years)/100\n",
        "    ans = SI + pa\n",
        "\n",
        "    return round(ans,2)"
      ],
      "metadata": {
        "id": "DXB5_bL17r7Y"
      },
      "execution_count": 15,
      "outputs": []
    },
    {
      "cell_type": "code",
      "source": [
        "simple_int(365,9172,5.6)"
      ],
      "metadata": {
        "colab": {
          "base_uri": "https://localhost:8080/"
        },
        "id": "1OQYbHQP-cdL",
        "outputId": "3dff7ad4-0a2b-4715-8d97-3ccbabf87079"
      },
      "execution_count": 16,
      "outputs": [
        {
          "output_type": "stream",
          "name": "stdout",
          "text": [
            "1.0\n"
          ]
        },
        {
          "output_type": "execute_result",
          "data": {
            "text/plain": [
              "9685.63"
            ]
          },
          "metadata": {},
          "execution_count": 16
        }
      ]
    },
    {
      "cell_type": "code",
      "source": [
        "def road_tax(price):\n",
        "    tax = None\n",
        "    # YOUR CODE GOES HERE\n",
        "    if price > 100000:\n",
        "      tax = price * (20/100)\n",
        "      return round(tax,1)\n",
        "    elif price > 75000 and price <= 100000:\n",
        "      tax = price * (15/100)\n",
        "      return round(tax,1)\n",
        "    elif price > 50000 and price <= 75000:\n",
        "      tax = price * (10/100)\n",
        "      return round(tax,1)\n",
        "    elif price <= 50000:\n",
        "      tax = price * (5/100)\n",
        "      return round(tax,1)\n",
        "      "
      ],
      "metadata": {
        "id": "Gz4eI0tY-jj_"
      },
      "execution_count": 17,
      "outputs": []
    },
    {
      "cell_type": "code",
      "source": [
        "road_tax(25000)"
      ],
      "metadata": {
        "colab": {
          "base_uri": "https://localhost:8080/"
        },
        "id": "3mSZslOFAwGl",
        "outputId": "206f46c3-b4b5-4b2a-ce0d-6228023002cb"
      },
      "execution_count": 18,
      "outputs": [
        {
          "output_type": "execute_result",
          "data": {
            "text/plain": [
              "1250.0"
            ]
          },
          "metadata": {},
          "execution_count": 18
        }
      ]
    },
    {
      "cell_type": "code",
      "source": [
        "def sequence(n):\n",
        "    '''input: n = A single integer for the range where n is inclusive\n",
        "       output: First Print from 1 to N and new line Print from N to 1'''\n",
        "    for i in range(1,n+1):\n",
        "        print(i, end=' ')\n",
        "    print()\n",
        "    print()\n",
        "    for j in range(n,0,-1):\n",
        "      print(i, end=' ')"
      ],
      "metadata": {
        "id": "n_rHJrxoA3ah"
      },
      "execution_count": 19,
      "outputs": []
    },
    {
      "cell_type": "code",
      "source": [
        "sequence(5)"
      ],
      "metadata": {
        "colab": {
          "base_uri": "https://localhost:8080/"
        },
        "id": "24HNix7LCR0a",
        "outputId": "9f14e399-85a7-4b5f-d279-cfd00b887231"
      },
      "execution_count": 20,
      "outputs": [
        {
          "output_type": "stream",
          "name": "stdout",
          "text": [
            "1 2 3 4 5 \n",
            "\n",
            "5 5 5 5 5 "
          ]
        }
      ]
    },
    {
      "cell_type": "code",
      "source": [
        "def is_prime(n):\n",
        "  for i in range(2,n):\n",
        "    if n%i == 0:\n",
        "      print(\"not prime\")\n",
        "      return 0\n",
        "    else:\n",
        "      print(\"prime\")\n",
        "      return 0"
      ],
      "metadata": {
        "id": "5dO5IV6NCUEf"
      },
      "execution_count": 25,
      "outputs": []
    },
    {
      "cell_type": "code",
      "source": [
        "is_prime(91)"
      ],
      "metadata": {
        "colab": {
          "base_uri": "https://localhost:8080/"
        },
        "id": "M3kVLZUSCrJk",
        "outputId": "afa073bc-8573-4b5e-85b3-7c4f1fa721b8"
      },
      "execution_count": 27,
      "outputs": [
        {
          "output_type": "stream",
          "name": "stdout",
          "text": [
            "prime\n"
          ]
        },
        {
          "output_type": "execute_result",
          "data": {
            "text/plain": [
              "0"
            ]
          },
          "metadata": {},
          "execution_count": 27
        }
      ]
    },
    {
      "cell_type": "code",
      "source": [
        "def swap(a,b):\n",
        "  print('a=', a,'b=', b)\n",
        "  a = a + b\n",
        "  b = a- b\n",
        "  a = a- b\n",
        "  print('a=', a, 'b=', b)"
      ],
      "metadata": {
        "id": "TK0Sl_MdDuUo"
      },
      "execution_count": 29,
      "outputs": []
    },
    {
      "cell_type": "code",
      "source": [
        "swap(2,3)"
      ],
      "metadata": {
        "colab": {
          "base_uri": "https://localhost:8080/"
        },
        "id": "wYhj6gkFfO-w",
        "outputId": "7dc1cae7-1815-4ede-ca3f-f8ff3cc353ef"
      },
      "execution_count": 30,
      "outputs": [
        {
          "output_type": "stream",
          "name": "stdout",
          "text": [
            "a= 2 b= 3\n",
            "a= 3 b= 2\n"
          ]
        }
      ]
    },
    {
      "cell_type": "code",
      "source": [
        "def armstrong(n):\n",
        "  count = 0\n",
        "  r, rem = 0, 0\n",
        "  sum = 0\n",
        "  num, number = n, n\n",
        "  while n > 0:\n",
        "    r = n % 10\n",
        "    n = n // 10\n",
        "    count += 1\n",
        "\n",
        "  while num > 0:\n",
        "    rem = num % 10\n",
        "    num = num // 10\n",
        "    sum += (rem**count)\n",
        "\n",
        "  if number == sum:\n",
        "    print(\"Armstrong\")\n",
        "  else:\n",
        "    print(\"Not Armstrong\")\n",
        "\n"
      ],
      "metadata": {
        "id": "v0ejQMzhfdik"
      },
      "execution_count": 59,
      "outputs": []
    },
    {
      "cell_type": "code",
      "source": [
        "armstrong(153)"
      ],
      "metadata": {
        "colab": {
          "base_uri": "https://localhost:8080/"
        },
        "id": "M1ob1j8Sigyc",
        "outputId": "1e8a2e61-a5e1-4ad9-b5ca-c04ac61e67ac"
      },
      "execution_count": 60,
      "outputs": [
        {
          "output_type": "stream",
          "name": "stdout",
          "text": [
            "Armstrong\n"
          ]
        }
      ]
    },
    {
      "cell_type": "code",
      "source": [
        "def pattern(n):\n",
        "  for i in range(n):\n",
        "    if i <= 1 or i == n-1:\n",
        "      for j in range(i+1):\n",
        "          print(\"*\",end=' ')\n",
        "      print()\n",
        "    else:\n",
        "      for j in range(i+1):\n",
        "        if j == 0:\n",
        "          print(\"*\", end=' ')\n",
        "        else:\n",
        "          print(end=' ')\n",
        "      print()\n",
        "   "
      ],
      "metadata": {
        "id": "T6ACwhDPijoV"
      },
      "execution_count": 171,
      "outputs": []
    },
    {
      "cell_type": "code",
      "source": [
        "pattern(5)"
      ],
      "metadata": {
        "colab": {
          "base_uri": "https://localhost:8080/"
        },
        "id": "LBPHv7QDkse3",
        "outputId": "98e34f4d-46ce-48bd-f8b9-9154e0741aa4"
      },
      "execution_count": 172,
      "outputs": [
        {
          "output_type": "stream",
          "name": "stdout",
          "text": [
            "* \n",
            "* * \n",
            "*   \n",
            "*    \n",
            "* * * * * \n"
          ]
        }
      ]
    },
    {
      "cell_type": "code",
      "source": [],
      "metadata": {
        "id": "Mm-Vq_8Dktzf"
      },
      "execution_count": null,
      "outputs": []
    }
  ]
}