{
  "nbformat": 4,
  "nbformat_minor": 0,
  "metadata": {
    "colab": {
      "name": "SampleCode.py",
      "provenance": [],
      "collapsed_sections": [],
      "authorship_tag": "ABX9TyOSU9NDGPZq0y+BpnnCLsFh",
      "include_colab_link": true
    },
    "kernelspec": {
      "name": "python3",
      "display_name": "Python 3"
    },
    "language_info": {
      "name": "python"
    }
  },
  "cells": [
    {
      "cell_type": "markdown",
      "metadata": {
        "id": "view-in-github",
        "colab_type": "text"
      },
      "source": [
        "<a href=\"https://colab.research.google.com/github/shantayya/Python/blob/main/SampleCode_py.ipynb\" target=\"_parent\"><img src=\"https://colab.research.google.com/assets/colab-badge.svg\" alt=\"Open In Colab\"/></a>"
      ]
    },
    {
      "cell_type": "code",
      "execution_count": null,
      "metadata": {
        "colab": {
          "base_uri": "https://localhost:8080/"
        },
        "id": "OhmlpzDAMm90",
        "outputId": "f5daabd9-340a-4a40-d4a9-bff44891a238"
      },
      "outputs": [
        {
          "output_type": "execute_result",
          "data": {
            "text/plain": [
              "3"
            ]
          },
          "metadata": {},
          "execution_count": 1
        }
      ],
      "source": [
        "1+2"
      ]
    },
    {
      "cell_type": "code",
      "source": [
        "4/2"
      ],
      "metadata": {
        "colab": {
          "base_uri": "https://localhost:8080/"
        },
        "id": "ANNZGPEuMqpU",
        "outputId": "0defc406-1299-4936-f277-a247a80e5479"
      },
      "execution_count": null,
      "outputs": [
        {
          "output_type": "execute_result",
          "data": {
            "text/plain": [
              "2.0"
            ]
          },
          "metadata": {},
          "execution_count": 2
        }
      ]
    },
    {
      "cell_type": "code",
      "source": [
        "3%3"
      ],
      "metadata": {
        "colab": {
          "base_uri": "https://localhost:8080/"
        },
        "id": "jc9AW9stMv4R",
        "outputId": "4b09d333-bf14-4b1f-8bbc-debaefad5b8c"
      },
      "execution_count": null,
      "outputs": [
        {
          "output_type": "execute_result",
          "data": {
            "text/plain": [
              "0"
            ]
          },
          "metadata": {},
          "execution_count": 3
        }
      ]
    },
    {
      "cell_type": "code",
      "source": [
        "a=\"shantayya\"\n",
        "a"
      ],
      "metadata": {
        "colab": {
          "base_uri": "https://localhost:8080/",
          "height": 35
        },
        "id": "572XWuNUMyYl",
        "outputId": "5081436a-b108-49ca-dd6c-b48b5a502fd2"
      },
      "execution_count": null,
      "outputs": [
        {
          "output_type": "execute_result",
          "data": {
            "text/plain": [
              "'shantayya'"
            ],
            "application/vnd.google.colaboratory.intrinsic+json": {
              "type": "string"
            }
          },
          "metadata": {},
          "execution_count": 7
        }
      ]
    },
    {
      "cell_type": "code",
      "source": [
        "b=10\n",
        "b"
      ],
      "metadata": {
        "colab": {
          "base_uri": "https://localhost:8080/"
        },
        "id": "HfcKhyFcM33J",
        "outputId": "f5c85075-d219-4bc5-849e-0eff61adf300"
      },
      "execution_count": null,
      "outputs": [
        {
          "output_type": "execute_result",
          "data": {
            "text/plain": [
              "10"
            ]
          },
          "metadata": {},
          "execution_count": 11
        }
      ]
    },
    {
      "cell_type": "code",
      "source": [
        "b = b + b\n",
        "b"
      ],
      "metadata": {
        "colab": {
          "base_uri": "https://localhost:8080/"
        },
        "id": "DSFdn7sFNBKy",
        "outputId": "94a04a6d-3277-4cea-f749-4d16950620de"
      },
      "execution_count": null,
      "outputs": [
        {
          "output_type": "execute_result",
          "data": {
            "text/plain": [
              "20"
            ]
          },
          "metadata": {},
          "execution_count": 12
        }
      ]
    },
    {
      "cell_type": "code",
      "source": [
        "type(b)"
      ],
      "metadata": {
        "colab": {
          "base_uri": "https://localhost:8080/"
        },
        "id": "b40zPVXqNjke",
        "outputId": "1ba6ec72-e40e-4e7f-f1fc-8ed29f529245"
      },
      "execution_count": null,
      "outputs": [
        {
          "output_type": "execute_result",
          "data": {
            "text/plain": [
              "int"
            ]
          },
          "metadata": {},
          "execution_count": 13
        }
      ]
    },
    {
      "cell_type": "code",
      "source": [
        "income = 10000\n",
        "tax = 0.1\n",
        "gross = income * tax"
      ],
      "metadata": {
        "id": "337Y4Cg_OqNW"
      },
      "execution_count": null,
      "outputs": []
    },
    {
      "cell_type": "code",
      "source": [
        "gross"
      ],
      "metadata": {
        "colab": {
          "base_uri": "https://localhost:8080/"
        },
        "id": "vx9bQNeePBBc",
        "outputId": "b90b63a9-325b-4d10-bdbb-eeaa7f90159e"
      },
      "execution_count": null,
      "outputs": [
        {
          "output_type": "execute_result",
          "data": {
            "text/plain": [
              "1000.0"
            ]
          },
          "metadata": {},
          "execution_count": 15
        }
      ]
    },
    {
      "cell_type": "code",
      "source": [
        "tax"
      ],
      "metadata": {
        "colab": {
          "base_uri": "https://localhost:8080/"
        },
        "id": "TE4nW742PCG4",
        "outputId": "a3b2dcca-234c-45d7-ea5d-e9a3824a76b3"
      },
      "execution_count": null,
      "outputs": [
        {
          "output_type": "execute_result",
          "data": {
            "text/plain": [
              "0.1"
            ]
          },
          "metadata": {},
          "execution_count": 16
        }
      ]
    },
    {
      "cell_type": "code",
      "source": [
        "print(\"hello world\")"
      ],
      "metadata": {
        "colab": {
          "base_uri": "https://localhost:8080/"
        },
        "id": "jRbjZ2r-PGr6",
        "outputId": "bcf1f8cf-0502-4d1d-e996-302a8cefce54"
      },
      "execution_count": null,
      "outputs": [
        {
          "output_type": "stream",
          "name": "stdout",
          "text": [
            "hello world\n"
          ]
        }
      ]
    },
    {
      "cell_type": "code",
      "source": [
        "len(\"hello world\")"
      ],
      "metadata": {
        "colab": {
          "base_uri": "https://localhost:8080/"
        },
        "id": "Sm5QYEN-Pywh",
        "outputId": "753837c2-9cd1-454c-8ae7-f22dcb21370d"
      },
      "execution_count": null,
      "outputs": [
        {
          "output_type": "execute_result",
          "data": {
            "text/plain": [
              "11"
            ]
          },
          "metadata": {},
          "execution_count": 18
        }
      ]
    },
    {
      "cell_type": "code",
      "source": [
        "name=\"shantayya\"\n",
        "print(name[1])"
      ],
      "metadata": {
        "colab": {
          "base_uri": "https://localhost:8080/"
        },
        "id": "OF5UxixyP1GM",
        "outputId": "4c2db3f1-d5e5-4248-a6e3-54fa92ba0016"
      },
      "execution_count": null,
      "outputs": [
        {
          "output_type": "stream",
          "name": "stdout",
          "text": [
            "h\n"
          ]
        }
      ]
    },
    {
      "cell_type": "code",
      "source": [
        "print(name[-2])"
      ],
      "metadata": {
        "colab": {
          "base_uri": "https://localhost:8080/"
        },
        "id": "nKJWRS-OQDyR",
        "outputId": "cb83f2dd-940b-4d27-efa5-e3bac51577b2"
      },
      "execution_count": null,
      "outputs": [
        {
          "output_type": "stream",
          "name": "stdout",
          "text": [
            "y\n"
          ]
        }
      ]
    },
    {
      "cell_type": "code",
      "source": [
        "name[2:7]"
      ],
      "metadata": {
        "colab": {
          "base_uri": "https://localhost:8080/",
          "height": 35
        },
        "id": "Ij99i7dhQJ6a",
        "outputId": "8794c485-1580-45e6-fb78-efe1c0ffaf71"
      },
      "execution_count": null,
      "outputs": [
        {
          "output_type": "execute_result",
          "data": {
            "text/plain": [
              "'antay'"
            ],
            "application/vnd.google.colaboratory.intrinsic+json": {
              "type": "string"
            }
          },
          "metadata": {},
          "execution_count": 22
        }
      ]
    },
    {
      "cell_type": "code",
      "source": [
        "name[::3]"
      ],
      "metadata": {
        "colab": {
          "base_uri": "https://localhost:8080/",
          "height": 35
        },
        "id": "yoXBn0ibQsUv",
        "outputId": "b176d144-11bf-4c1e-ae39-2ee84cce25da"
      },
      "execution_count": null,
      "outputs": [
        {
          "output_type": "execute_result",
          "data": {
            "text/plain": [
              "'sny'"
            ],
            "application/vnd.google.colaboratory.intrinsic+json": {
              "type": "string"
            }
          },
          "metadata": {},
          "execution_count": 23
        }
      ]
    },
    {
      "cell_type": "code",
      "source": [
        "last_name=name[1:]\n",
        "'M' + last_name"
      ],
      "metadata": {
        "colab": {
          "base_uri": "https://localhost:8080/",
          "height": 35
        },
        "id": "8yyU6gZFQ0Kk",
        "outputId": "f3ef7cf3-59f3-4dc3-af95-8037986c939d"
      },
      "execution_count": null,
      "outputs": [
        {
          "output_type": "execute_result",
          "data": {
            "text/plain": [
              "'Mhantayya'"
            ],
            "application/vnd.google.colaboratory.intrinsic+json": {
              "type": "string"
            }
          },
          "metadata": {},
          "execution_count": 24
        }
      ]
    },
    {
      "cell_type": "code",
      "source": [
        "uname=name.upper()\n",
        "uname"
      ],
      "metadata": {
        "colab": {
          "base_uri": "https://localhost:8080/",
          "height": 35
        },
        "id": "Tp2fahD6RYwd",
        "outputId": "be016733-4e70-432d-c10b-a7c27e6904c7"
      },
      "execution_count": null,
      "outputs": [
        {
          "output_type": "execute_result",
          "data": {
            "text/plain": [
              "'SHANTAYYA'"
            ],
            "application/vnd.google.colaboratory.intrinsic+json": {
              "type": "string"
            }
          },
          "metadata": {},
          "execution_count": 27
        }
      ]
    },
    {
      "cell_type": "code",
      "source": [
        "print(\"The {}\".format('fox'))"
      ],
      "metadata": {
        "colab": {
          "base_uri": "https://localhost:8080/"
        },
        "id": "V_h0zbOLR1LK",
        "outputId": "d4f5d502-3f07-4acf-b6e6-c249e932a503"
      },
      "execution_count": null,
      "outputs": [
        {
          "output_type": "stream",
          "name": "stdout",
          "text": [
            "The fox\n"
          ]
        }
      ]
    },
    {
      "cell_type": "code",
      "source": [
        "print(f'Hello, This is {uname}')"
      ],
      "metadata": {
        "colab": {
          "base_uri": "https://localhost:8080/"
        },
        "id": "bptAAHf2TBxp",
        "outputId": "c766cb87-609e-43f0-d30c-dc6586b00a86"
      },
      "execution_count": null,
      "outputs": [
        {
          "output_type": "stream",
          "name": "stdout",
          "text": [
            "Hello, This is SHANTAYYA\n"
          ]
        }
      ]
    },
    {
      "cell_type": "code",
      "source": [
        "print('Hello, This is {}'.format(name))"
      ],
      "metadata": {
        "colab": {
          "base_uri": "https://localhost:8080/"
        },
        "id": "rdNGOWRjUmff",
        "outputId": "7e5cab35-952b-4d31-857b-1bc6b7f4e773"
      },
      "execution_count": null,
      "outputs": [
        {
          "output_type": "stream",
          "name": "stdout",
          "text": [
            "Hello, This is shantayya\n"
          ]
        }
      ]
    },
    {
      "cell_type": "code",
      "source": [
        "mylist=['shantayya','one', 'two']\n",
        "mylist"
      ],
      "metadata": {
        "colab": {
          "base_uri": "https://localhost:8080/"
        },
        "id": "2ISgyCTwUsWA",
        "outputId": "6e2b668e-132a-46a8-f9e0-8d63bea8690c"
      },
      "execution_count": null,
      "outputs": [
        {
          "output_type": "execute_result",
          "data": {
            "text/plain": [
              "['shantayya', 'one', 'two']"
            ]
          },
          "metadata": {},
          "execution_count": 44
        }
      ]
    },
    {
      "cell_type": "code",
      "source": [
        "mylist.pop()\n",
        "mylist"
      ],
      "metadata": {
        "colab": {
          "base_uri": "https://localhost:8080/"
        },
        "id": "-WBT7qTHV6u_",
        "outputId": "8eb5ccc7-97d0-474c-f8d9-c069e2a8a2d8"
      },
      "execution_count": null,
      "outputs": [
        {
          "output_type": "execute_result",
          "data": {
            "text/plain": [
              "['shantayya', 'one']"
            ]
          },
          "metadata": {},
          "execution_count": 45
        }
      ]
    },
    {
      "cell_type": "code",
      "source": [
        "mylist.append('Thnaks')\n",
        "mylist"
      ],
      "metadata": {
        "colab": {
          "base_uri": "https://localhost:8080/"
        },
        "id": "O7I0rwQbWDo6",
        "outputId": "1d5ed67d-c0a4-4902-dd84-0526f54b5ef8"
      },
      "execution_count": null,
      "outputs": [
        {
          "output_type": "execute_result",
          "data": {
            "text/plain": [
              "['shantayya', 'one', 'Thnaks']"
            ]
          },
          "metadata": {},
          "execution_count": 47
        }
      ]
    },
    {
      "cell_type": "code",
      "source": [
        "fruits={'apple':100, 'banana':[200,400,600], 'greps':200}\n",
        "fruits['banana'][2]"
      ],
      "metadata": {
        "colab": {
          "base_uri": "https://localhost:8080/"
        },
        "id": "nYGEtujAWIfR",
        "outputId": "46b013b5-5c06-4ee2-c203-cf91813a9c7d"
      },
      "execution_count": null,
      "outputs": [
        {
          "output_type": "execute_result",
          "data": {
            "text/plain": [
              "600"
            ]
          },
          "metadata": {},
          "execution_count": 59
        }
      ]
    },
    {
      "cell_type": "code",
      "source": [
        "fruits.values()"
      ],
      "metadata": {
        "colab": {
          "base_uri": "https://localhost:8080/"
        },
        "id": "arRK1Fa5XnzI",
        "outputId": "4ce88619-d612-4281-b4be-18ebc57cf031"
      },
      "execution_count": null,
      "outputs": [
        {
          "output_type": "execute_result",
          "data": {
            "text/plain": [
              "dict_values([100, [200, 400, 600], 200])"
            ]
          },
          "metadata": {},
          "execution_count": 60
        }
      ]
    },
    {
      "cell_type": "code",
      "source": [
        "mylist"
      ],
      "metadata": {
        "colab": {
          "base_uri": "https://localhost:8080/"
        },
        "id": "SJ7B-8mUZX4V",
        "outputId": "1917b876-f542-450b-f0ca-67d3b4d52f9f"
      },
      "execution_count": null,
      "outputs": [
        {
          "output_type": "execute_result",
          "data": {
            "text/plain": [
              "['shantayya', 'one', 'Thnaks']"
            ]
          },
          "metadata": {},
          "execution_count": 62
        }
      ]
    },
    {
      "cell_type": "code",
      "source": [
        "mylist[0]='Shankar'\n",
        "mylist"
      ],
      "metadata": {
        "colab": {
          "base_uri": "https://localhost:8080/"
        },
        "id": "dqytNt57Z1sS",
        "outputId": "b1c1e03b-d332-42e2-f016-08cbb55e4a28"
      },
      "execution_count": null,
      "outputs": [
        {
          "output_type": "execute_result",
          "data": {
            "text/plain": [
              "['Shankar', 'one', 'Thnaks']"
            ]
          },
          "metadata": {},
          "execution_count": 63
        }
      ]
    },
    {
      "cell_type": "code",
      "source": [
        "t=(1, 2, 'shantayya')\n",
        "t"
      ],
      "metadata": {
        "colab": {
          "base_uri": "https://localhost:8080/"
        },
        "id": "dbOIyHuiZ9MU",
        "outputId": "d000b1e6-0165-454b-d302-0c7f8d02441b"
      },
      "execution_count": null,
      "outputs": [
        {
          "output_type": "execute_result",
          "data": {
            "text/plain": [
              "(1, 2, 'shantayya')"
            ]
          },
          "metadata": {},
          "execution_count": 64
        }
      ]
    },
    {
      "cell_type": "code",
      "source": [
        "sett= set()\n",
        "sett"
      ],
      "metadata": {
        "colab": {
          "base_uri": "https://localhost:8080/"
        },
        "id": "G8aYRYhXaA7W",
        "outputId": "ad8b187b-23ec-421a-d09c-d3cb66a1b06c"
      },
      "execution_count": null,
      "outputs": [
        {
          "output_type": "execute_result",
          "data": {
            "text/plain": [
              "set()"
            ]
          },
          "metadata": {},
          "execution_count": 67
        }
      ]
    },
    {
      "cell_type": "code",
      "source": [
        "sett.add(1)\n",
        "sett"
      ],
      "metadata": {
        "colab": {
          "base_uri": "https://localhost:8080/"
        },
        "id": "K5v3MPxaaEWH",
        "outputId": "94782e9d-b7f0-4c55-931c-dc98f9541b9b"
      },
      "execution_count": null,
      "outputs": [
        {
          "output_type": "execute_result",
          "data": {
            "text/plain": [
              "{1}"
            ]
          },
          "metadata": {},
          "execution_count": 68
        }
      ]
    },
    {
      "cell_type": "code",
      "source": [
        "sett.add(t)\n",
        "sett"
      ],
      "metadata": {
        "colab": {
          "base_uri": "https://localhost:8080/"
        },
        "id": "z6WH7g1vautN",
        "outputId": "992b7920-51b1-44ed-f587-109fccc8cc93"
      },
      "execution_count": null,
      "outputs": [
        {
          "output_type": "execute_result",
          "data": {
            "text/plain": [
              "{(1, 2, 'shantayya'), 1}"
            ]
          },
          "metadata": {},
          "execution_count": 72
        }
      ]
    },
    {
      "cell_type": "code",
      "source": [
        "1 == 2"
      ],
      "metadata": {
        "colab": {
          "base_uri": "https://localhost:8080/"
        },
        "id": "HjoD79qAayUA",
        "outputId": "5c8150dc-b4f6-4de3-9fb3-f588a601d8c3"
      },
      "execution_count": null,
      "outputs": [
        {
          "output_type": "execute_result",
          "data": {
            "text/plain": [
              "False"
            ]
          },
          "metadata": {},
          "execution_count": 73
        }
      ]
    },
    {
      "cell_type": "code",
      "source": [
        "type(True)"
      ],
      "metadata": {
        "colab": {
          "base_uri": "https://localhost:8080/"
        },
        "id": "NkD1OuwMbS6T",
        "outputId": "51aabe0a-8d30-444f-fba8-37f976b1d554"
      },
      "execution_count": null,
      "outputs": [
        {
          "output_type": "execute_result",
          "data": {
            "text/plain": [
              "bool"
            ]
          },
          "metadata": {},
          "execution_count": 76
        }
      ]
    },
    {
      "cell_type": "code",
      "source": [
        "pwd"
      ],
      "metadata": {
        "colab": {
          "base_uri": "https://localhost:8080/",
          "height": 35
        },
        "id": "5510_g7FbWwU",
        "outputId": "4cd79787-b15a-485e-d939-51740d9204f0"
      },
      "execution_count": null,
      "outputs": [
        {
          "output_type": "execute_result",
          "data": {
            "text/plain": [
              "'/content'"
            ],
            "application/vnd.google.colaboratory.intrinsic+json": {
              "type": "string"
            }
          },
          "metadata": {},
          "execution_count": 77
        }
      ]
    },
    {
      "cell_type": "code",
      "source": [
        "%%writefile file.txt\n",
        "Hey, this is shantayya \n",
        "Stays in Pune\n",
        "Am a dscipline fello."
      ],
      "metadata": {
        "colab": {
          "base_uri": "https://localhost:8080/"
        },
        "id": "wbNWTX9S3OAJ",
        "outputId": "ed49179c-0ddf-452f-d819-79ffcda1a9df"
      },
      "execution_count": null,
      "outputs": [
        {
          "output_type": "stream",
          "name": "stdout",
          "text": [
            "Overwriting file.txt\n"
          ]
        }
      ]
    },
    {
      "cell_type": "code",
      "source": [
        "myfile= open('file.txt')"
      ],
      "metadata": {
        "id": "Dt1nntjD3oi5"
      },
      "execution_count": null,
      "outputs": []
    },
    {
      "cell_type": "code",
      "source": [
        "myfile.read()"
      ],
      "metadata": {
        "colab": {
          "base_uri": "https://localhost:8080/",
          "height": 35
        },
        "id": "ok_j67jh3tJa",
        "outputId": "17f68fc3-7ea9-467d-edb6-feb0b57a8646"
      },
      "execution_count": null,
      "outputs": [
        {
          "output_type": "execute_result",
          "data": {
            "text/plain": [
              "'Hey, this is shantayya \\nStays in Pune\\nAm a dscipline fello.\\n'"
            ],
            "application/vnd.google.colaboratory.intrinsic+json": {
              "type": "string"
            }
          },
          "metadata": {},
          "execution_count": 80
        }
      ]
    },
    {
      "cell_type": "code",
      "source": [
        "myfile.read()"
      ],
      "metadata": {
        "colab": {
          "base_uri": "https://localhost:8080/",
          "height": 35
        },
        "id": "Rmmn7QjY3vSt",
        "outputId": "0b96198f-f6f1-4ae2-c883-0c98268c1568"
      },
      "execution_count": null,
      "outputs": [
        {
          "output_type": "execute_result",
          "data": {
            "text/plain": [
              "'Hey, this is shantayya \\nStays in Pune\\nAm a dscipline fello.\\n'"
            ],
            "application/vnd.google.colaboratory.intrinsic+json": {
              "type": "string"
            }
          },
          "metadata": {},
          "execution_count": 83
        }
      ]
    },
    {
      "cell_type": "code",
      "source": [
        "myfile.seek(0)"
      ],
      "metadata": {
        "colab": {
          "base_uri": "https://localhost:8080/"
        },
        "id": "RcmN54ZP30Om",
        "outputId": "198ddf52-ce3a-4717-e194-e06572379ffc"
      },
      "execution_count": null,
      "outputs": [
        {
          "output_type": "execute_result",
          "data": {
            "text/plain": [
              "0"
            ]
          },
          "metadata": {},
          "execution_count": 85
        }
      ]
    },
    {
      "cell_type": "code",
      "source": [
        "myfile.readlines()"
      ],
      "metadata": {
        "colab": {
          "base_uri": "https://localhost:8080/"
        },
        "id": "YFW28WPb34HI",
        "outputId": "1545beaa-5f55-4426-f859-d0e570347950"
      },
      "execution_count": null,
      "outputs": [
        {
          "output_type": "execute_result",
          "data": {
            "text/plain": [
              "['Hey, this is shantayya \\n', 'Stays in Pune\\n', 'Am a dscipline fello.\\n']"
            ]
          },
          "metadata": {},
          "execution_count": 86
        }
      ]
    },
    {
      "cell_type": "code",
      "source": [
        "myfile.readlines()"
      ],
      "metadata": {
        "colab": {
          "base_uri": "https://localhost:8080/"
        },
        "id": "uiiXhlCb4W90",
        "outputId": "996c4a3d-8c4f-490a-9eb8-e8783222c005"
      },
      "execution_count": null,
      "outputs": [
        {
          "output_type": "execute_result",
          "data": {
            "text/plain": [
              "[]"
            ]
          },
          "metadata": {},
          "execution_count": 87
        }
      ]
    },
    {
      "cell_type": "code",
      "source": [
        "myfile.close()"
      ],
      "metadata": {
        "id": "b0cK6B9u4g6Z"
      },
      "execution_count": null,
      "outputs": []
    },
    {
      "cell_type": "code",
      "source": [
        "with open('file.txt') as f:\n",
        "  print(f.read())"
      ],
      "metadata": {
        "colab": {
          "base_uri": "https://localhost:8080/"
        },
        "id": "KgSQ8Fhu4my9",
        "outputId": "7ce6680c-99dc-46fe-c891-eea324862ae4"
      },
      "execution_count": null,
      "outputs": [
        {
          "output_type": "stream",
          "name": "stdout",
          "text": [
            "Hey, this is shantayya \n",
            "Stays in Pune\n",
            "Am a dscipline fello.\n",
            "Adding line\n"
          ]
        }
      ]
    },
    {
      "cell_type": "code",
      "source": [
        "with open('file.txt',mode='r') as f:\n",
        "  print(f.read())\n"
      ],
      "metadata": {
        "colab": {
          "base_uri": "https://localhost:8080/"
        },
        "id": "q3wyyNo353-M",
        "outputId": "950821e1-3f0a-4d99-ebdf-513e2981dca5"
      },
      "execution_count": null,
      "outputs": [
        {
          "output_type": "stream",
          "name": "stdout",
          "text": [
            "Hey, this is shantayya \n",
            "Stays in Pune\n",
            "Am a dscipline fello.\n",
            "Adding line\n"
          ]
        }
      ]
    },
    {
      "cell_type": "code",
      "source": [
        "100+25/100"
      ],
      "metadata": {
        "colab": {
          "base_uri": "https://localhost:8080/"
        },
        "id": "Z1cVwyY96Bgn",
        "outputId": "ab778118-30e7-44cc-c0c4-03802fbdf698"
      },
      "execution_count": null,
      "outputs": [
        {
          "output_type": "execute_result",
          "data": {
            "text/plain": [
              "100.25"
            ]
          },
          "metadata": {},
          "execution_count": 106
        }
      ]
    },
    {
      "cell_type": "code",
      "source": [
        "4*(6+5)"
      ],
      "metadata": {
        "colab": {
          "base_uri": "https://localhost:8080/"
        },
        "id": "yitcLk_n9FgD",
        "outputId": "45595900-7ba5-40ad-d1ad-8777eb8f94b8"
      },
      "execution_count": null,
      "outputs": [
        {
          "output_type": "execute_result",
          "data": {
            "text/plain": [
              "44"
            ]
          },
          "metadata": {},
          "execution_count": 107
        }
      ]
    },
    {
      "cell_type": "code",
      "source": [
        "4*6+5"
      ],
      "metadata": {
        "colab": {
          "base_uri": "https://localhost:8080/"
        },
        "id": "_RSMnWRy9aoP",
        "outputId": "17b3d328-2e77-4da4-d2a0-7e857f5717e1"
      },
      "execution_count": null,
      "outputs": [
        {
          "output_type": "execute_result",
          "data": {
            "text/plain": [
              "29"
            ]
          },
          "metadata": {},
          "execution_count": 108
        }
      ]
    },
    {
      "cell_type": "code",
      "source": [
        "4+6*5"
      ],
      "metadata": {
        "colab": {
          "base_uri": "https://localhost:8080/"
        },
        "id": "nXy9iwYs9dzS",
        "outputId": "751e784f-8578-4f75-d027-4be391860c6d"
      },
      "execution_count": null,
      "outputs": [
        {
          "output_type": "execute_result",
          "data": {
            "text/plain": [
              "34"
            ]
          },
          "metadata": {},
          "execution_count": 109
        }
      ]
    },
    {
      "cell_type": "code",
      "source": [
        "type(3+1.5+5)"
      ],
      "metadata": {
        "colab": {
          "base_uri": "https://localhost:8080/"
        },
        "id": "raqmLgMy9hJ3",
        "outputId": "b7aab84b-8028-44e9-ede1-2af3b107d18e"
      },
      "execution_count": null,
      "outputs": [
        {
          "output_type": "execute_result",
          "data": {
            "text/plain": [
              "float"
            ]
          },
          "metadata": {},
          "execution_count": 110
        }
      ]
    },
    {
      "cell_type": "code",
      "source": [
        ""
      ],
      "metadata": {
        "colab": {
          "base_uri": "https://localhost:8080/"
        },
        "id": "K3xh8gsE9pBr",
        "outputId": "65420708-fe86-4ee0-abc1-cd46c4b30b4c"
      },
      "execution_count": null,
      "outputs": [
        {
          "output_type": "execute_result",
          "data": {
            "text/plain": [
              "4"
            ]
          },
          "metadata": {},
          "execution_count": 114
        }
      ]
    },
    {
      "cell_type": "code",
      "source": [
        "3*3"
      ],
      "metadata": {
        "colab": {
          "base_uri": "https://localhost:8080/"
        },
        "id": "OysmmtDm9uKy",
        "outputId": "4cca855f-84a1-414c-e106-d715e522ca52"
      },
      "execution_count": null,
      "outputs": [
        {
          "output_type": "execute_result",
          "data": {
            "text/plain": [
              "9"
            ]
          },
          "metadata": {},
          "execution_count": 113
        }
      ]
    },
    {
      "cell_type": "code",
      "source": [
        "s='hello'\n",
        "print(s[::-1])"
      ],
      "metadata": {
        "colab": {
          "base_uri": "https://localhost:8080/"
        },
        "id": "oVISKoKP9wGq",
        "outputId": "19db4b77-cab1-4c3b-b798-ee0c1c6dcf30"
      },
      "execution_count": null,
      "outputs": [
        {
          "output_type": "stream",
          "name": "stdout",
          "text": [
            "olleh\n"
          ]
        }
      ]
    },
    {
      "cell_type": "code",
      "source": [
        "list3=[1,2,[3,4,'hello']]\n",
        "list3"
      ],
      "metadata": {
        "colab": {
          "base_uri": "https://localhost:8080/"
        },
        "id": "NkiXK_p5_UsC",
        "outputId": "1c43b991-20ba-4d76-af3c-256cf36c7c4d"
      },
      "execution_count": null,
      "outputs": [
        {
          "output_type": "execute_result",
          "data": {
            "text/plain": [
              "[1, 2, [3, 4, 'hello']]"
            ]
          },
          "metadata": {},
          "execution_count": 174
        }
      ]
    },
    {
      "cell_type": "code",
      "source": [
        "list3[2][2]"
      ],
      "metadata": {
        "colab": {
          "base_uri": "https://localhost:8080/",
          "height": 35
        },
        "id": "NiaMOyAK_-il",
        "outputId": "706f1b88-ff22-4c31-f75b-a54140ee7cf5"
      },
      "execution_count": null,
      "outputs": [
        {
          "output_type": "execute_result",
          "data": {
            "text/plain": [
              "'hello'"
            ],
            "application/vnd.google.colaboratory.intrinsic+json": {
              "type": "string"
            }
          },
          "metadata": {},
          "execution_count": 181
        }
      ]
    },
    {
      "cell_type": "code",
      "source": [
        "list3"
      ],
      "metadata": {
        "colab": {
          "base_uri": "https://localhost:8080/"
        },
        "id": "P23DkHjnA8QO",
        "outputId": "7ffad7bf-348f-4b39-9e59-02f15f9d90ea"
      },
      "execution_count": null,
      "outputs": [
        {
          "output_type": "execute_result",
          "data": {
            "text/plain": [
              "[1, 2, 'good', 'good', [3, 4, 'hello'], 'goodbye']"
            ]
          },
          "metadata": {},
          "execution_count": 157
        }
      ]
    },
    {
      "cell_type": "code",
      "source": [
        "list3[2][2]=['goodbye']\n",
        "list3"
      ],
      "metadata": {
        "colab": {
          "base_uri": "https://localhost:8080/"
        },
        "id": "VRX11Xg3BMJW",
        "outputId": "352efa31-eb09-440e-a2b0-58201f11bad5"
      },
      "execution_count": null,
      "outputs": [
        {
          "output_type": "execute_result",
          "data": {
            "text/plain": [
              "[1, 2, [3, 4, ['goodbye']]]"
            ]
          },
          "metadata": {},
          "execution_count": 183
        }
      ]
    },
    {
      "cell_type": "code",
      "source": [
        "list3"
      ],
      "metadata": {
        "colab": {
          "base_uri": "https://localhost:8080/"
        },
        "id": "0Z0Y8GQRBYKt",
        "outputId": "a000aaee-f869-40d9-840c-f771b2286b84"
      },
      "execution_count": null,
      "outputs": [
        {
          "output_type": "execute_result",
          "data": {
            "text/plain": [
              "[1, 2, 4, 5, 10]"
            ]
          },
          "metadata": {},
          "execution_count": 173
        }
      ]
    },
    {
      "cell_type": "code",
      "source": [
        "list3=[1,2,5,10,4]\n",
        "list3.sort()\n",
        "list3"
      ],
      "metadata": {
        "colab": {
          "base_uri": "https://localhost:8080/"
        },
        "id": "jVJV2jt0CFyw",
        "outputId": "3d4e5fdc-9ab0-418e-cc5a-cf374cb985cd"
      },
      "execution_count": null,
      "outputs": [
        {
          "output_type": "execute_result",
          "data": {
            "text/plain": [
              "[1, 2, 4, 5, 10]"
            ]
          },
          "metadata": {},
          "execution_count": 160
        }
      ]
    },
    {
      "cell_type": "code",
      "source": [
        "d={'sample_key':'hello'}\n",
        "d['sample_key']"
      ],
      "metadata": {
        "colab": {
          "base_uri": "https://localhost:8080/",
          "height": 35
        },
        "id": "NN5rINiECqeh",
        "outputId": "ae553498-1769-496d-e76b-2579c377a5e0"
      },
      "execution_count": null,
      "outputs": [
        {
          "output_type": "execute_result",
          "data": {
            "text/plain": [
              "'hello'"
            ],
            "application/vnd.google.colaboratory.intrinsic+json": {
              "type": "string"
            }
          },
          "metadata": {},
          "execution_count": 187
        }
      ]
    },
    {
      "cell_type": "code",
      "source": [
        "4 ** 0.5"
      ],
      "metadata": {
        "colab": {
          "base_uri": "https://localhost:8080/"
        },
        "id": "9BWltUrtC52c",
        "outputId": "2f0bb33d-fbf2-4522-a2d3-b9d34c77d850"
      },
      "execution_count": null,
      "outputs": [
        {
          "output_type": "execute_result",
          "data": {
            "text/plain": [
              "2.0"
            ]
          },
          "metadata": {},
          "execution_count": 169
        }
      ]
    },
    {
      "cell_type": "code",
      "source": [
        "9 ** 0.5"
      ],
      "metadata": {
        "colab": {
          "base_uri": "https://localhost:8080/"
        },
        "id": "uvc5qIedEQbL",
        "outputId": "9d81b6a5-6927-4f56-fda4-86e1de07f03c"
      },
      "execution_count": null,
      "outputs": [
        {
          "output_type": "execute_result",
          "data": {
            "text/plain": [
              "3.0"
            ]
          },
          "metadata": {},
          "execution_count": 170
        }
      ]
    },
    {
      "cell_type": "code",
      "source": [
        "9 ** 2"
      ],
      "metadata": {
        "colab": {
          "base_uri": "https://localhost:8080/"
        },
        "id": "rw1-o0DyETtW",
        "outputId": "8cf49afb-7030-4443-8fc6-3e5eb8392fb0"
      },
      "execution_count": null,
      "outputs": [
        {
          "output_type": "execute_result",
          "data": {
            "text/plain": [
              "81"
            ]
          },
          "metadata": {},
          "execution_count": 171
        }
      ]
    },
    {
      "cell_type": "code",
      "source": [
        "d = {'k1': {'k2':'hello'}}\n",
        "d"
      ],
      "metadata": {
        "colab": {
          "base_uri": "https://localhost:8080/"
        },
        "id": "l1teOO8KEW6f",
        "outputId": "d4eb7e88-dd15-491b-a917-d42a07dad2fa"
      },
      "execution_count": null,
      "outputs": [
        {
          "output_type": "execute_result",
          "data": {
            "text/plain": [
              "{'k1': {'k2': 'hello'}}"
            ]
          },
          "metadata": {},
          "execution_count": 203
        }
      ]
    },
    {
      "cell_type": "code",
      "source": [
        "d['k1']['k2']"
      ],
      "metadata": {
        "colab": {
          "base_uri": "https://localhost:8080/",
          "height": 35
        },
        "id": "xzAGRX_mF45F",
        "outputId": "731b587f-9ba8-44b1-c1c5-5e0f53cdc2c7"
      },
      "execution_count": null,
      "outputs": [
        {
          "output_type": "execute_result",
          "data": {
            "text/plain": [
              "'hello'"
            ],
            "application/vnd.google.colaboratory.intrinsic+json": {
              "type": "string"
            }
          },
          "metadata": {},
          "execution_count": 190
        }
      ]
    },
    {
      "cell_type": "code",
      "source": [
        "d = {'k1':[{'nest_key':['this is deep',['hello']]}]}"
      ],
      "metadata": {
        "id": "B11bi5V1F8sI"
      },
      "execution_count": null,
      "outputs": []
    },
    {
      "cell_type": "code",
      "source": [
        "d['k1'][0]['nest_key'][1]"
      ],
      "metadata": {
        "colab": {
          "base_uri": "https://localhost:8080/"
        },
        "id": "aZ18al0BGNou",
        "outputId": "a3b70575-7896-478d-e3b6-e224a29d5611"
      },
      "execution_count": null,
      "outputs": [
        {
          "output_type": "execute_result",
          "data": {
            "text/plain": [
              "['hello']"
            ]
          },
          "metadata": {},
          "execution_count": 211
        }
      ]
    },
    {
      "cell_type": "code",
      "source": [
        "\n",
        "d = {'k1':[1,2,{'k2':['this is tricky',{'tough':[1,2,['hello']]}]}]}"
      ],
      "metadata": {
        "id": "7QpgfrowGjyU"
      },
      "execution_count": null,
      "outputs": []
    },
    {
      "cell_type": "code",
      "source": [
        "d['k1'][2]['k2'][1]['tough'][2]"
      ],
      "metadata": {
        "colab": {
          "base_uri": "https://localhost:8080/"
        },
        "id": "KkbMjEapIHL8",
        "outputId": "1722fcd8-52b7-42f8-9593-b47055e21dc2"
      },
      "execution_count": null,
      "outputs": [
        {
          "output_type": "execute_result",
          "data": {
            "text/plain": [
              "['hello']"
            ]
          },
          "metadata": {},
          "execution_count": 213
        }
      ]
    },
    {
      "cell_type": "code",
      "source": [
        "1 <2 >3"
      ],
      "metadata": {
        "colab": {
          "base_uri": "https://localhost:8080/"
        },
        "id": "6UxiWfR1IiJk",
        "outputId": "3b903e1a-631e-4f96-aa4d-921bb83142a4"
      },
      "execution_count": null,
      "outputs": [
        {
          "output_type": "execute_result",
          "data": {
            "text/plain": [
              "False"
            ]
          },
          "metadata": {},
          "execution_count": 214
        }
      ]
    },
    {
      "cell_type": "code",
      "source": [
        "not 1<2>3"
      ],
      "metadata": {
        "colab": {
          "base_uri": "https://localhost:8080/"
        },
        "id": "pXLp8-FfMvbt",
        "outputId": "47f60806-e672-4ef8-f1f7-e2ad4f1e1cbe"
      },
      "execution_count": null,
      "outputs": [
        {
          "output_type": "execute_result",
          "data": {
            "text/plain": [
              "True"
            ]
          },
          "metadata": {},
          "execution_count": 215
        }
      ]
    },
    {
      "cell_type": "code",
      "source": [
        "if 3>1:\n",
        "  print('3 is big')\n",
        "else:\n",
        "    print('1 is small')"
      ],
      "metadata": {
        "colab": {
          "base_uri": "https://localhost:8080/"
        },
        "id": "7Yf0V951Ne5D",
        "outputId": "32e7a8f7-7e9c-4f4c-bb83-61c7ebc26c22"
      },
      "execution_count": null,
      "outputs": [
        {
          "output_type": "stream",
          "name": "stdout",
          "text": [
            "3 is big\n"
          ]
        }
      ]
    },
    {
      "cell_type": "code",
      "source": [
        "sum=0\n",
        "for i in range(1, 11):\n",
        "  sum=sum+i\n",
        "print(sum)"
      ],
      "metadata": {
        "colab": {
          "base_uri": "https://localhost:8080/"
        },
        "id": "7hzzXuLiOLwA",
        "outputId": "22452489-658e-47ea-8b9e-8c9a6eddde99"
      },
      "execution_count": null,
      "outputs": [
        {
          "output_type": "stream",
          "name": "stdout",
          "text": [
            "55\n"
          ]
        }
      ]
    },
    {
      "cell_type": "code",
      "source": [
        "mylist=[(1,2), (3,4)]\n",
        "for key,values in mylist:\n",
        "  print(values)"
      ],
      "metadata": {
        "colab": {
          "base_uri": "https://localhost:8080/"
        },
        "id": "Q4Sdfg-rQ_Qj",
        "outputId": "c611956a-32af-42ef-d10f-e598d6fa6bd9"
      },
      "execution_count": null,
      "outputs": [
        {
          "output_type": "stream",
          "name": "stdout",
          "text": [
            "2\n",
            "4\n"
          ]
        }
      ]
    },
    {
      "cell_type": "code",
      "source": [
        "d={'1':'Shantayya', '2':'Rahul', '3':'Sngram'}\n",
        "for key,values in d.items():\n",
        "   print(values)"
      ],
      "metadata": {
        "colab": {
          "base_uri": "https://localhost:8080/"
        },
        "id": "UttS06n5YE9w",
        "outputId": "ae546766-673d-4611-9f15-cbfdce71517f"
      },
      "execution_count": null,
      "outputs": [
        {
          "output_type": "stream",
          "name": "stdout",
          "text": [
            "Shantayya\n",
            "Rahul\n",
            "Sngram\n"
          ]
        }
      ]
    },
    {
      "cell_type": "code",
      "source": [
        "for i in range(1,11,2):\n",
        "   print(f'{i} is sum number')\n"
      ],
      "metadata": {
        "colab": {
          "base_uri": "https://localhost:8080/"
        },
        "id": "4vSUcOvJYfA2",
        "outputId": "6d1dc5a9-c7b2-4ba9-f232-970c17ed9572"
      },
      "execution_count": null,
      "outputs": [
        {
          "output_type": "stream",
          "name": "stdout",
          "text": [
            "1 is sum number\n",
            "3 is sum number\n",
            "5 is sum number\n",
            "7 is sum number\n",
            "9 is sum number\n"
          ]
        }
      ]
    },
    {
      "cell_type": "code",
      "source": [
        "seq= range(1,11)\n",
        "min(seq)\n",
        "max(seq)"
      ],
      "metadata": {
        "colab": {
          "base_uri": "https://localhost:8080/"
        },
        "id": "mVsHyx8ZaqwC",
        "outputId": "1fb82543-9cac-46d7-aa69-e0eb1f19e45e"
      },
      "execution_count": null,
      "outputs": [
        {
          "output_type": "execute_result",
          "data": {
            "text/plain": [
              "10"
            ]
          },
          "metadata": {},
          "execution_count": 253
        }
      ]
    },
    {
      "cell_type": "code",
      "source": [
        "from random import randint"
      ],
      "metadata": {
        "id": "WE_mpS-4ckae"
      },
      "execution_count": null,
      "outputs": []
    },
    {
      "cell_type": "code",
      "source": [
        "randint(1,100)"
      ],
      "metadata": {
        "colab": {
          "base_uri": "https://localhost:8080/"
        },
        "id": "gByikJbCdCqn",
        "outputId": "39e69b66-a4fb-4180-ee35-79eb9d7dfbcc"
      },
      "execution_count": null,
      "outputs": [
        {
          "output_type": "execute_result",
          "data": {
            "text/plain": [
              "19"
            ]
          },
          "metadata": {},
          "execution_count": 258
        }
      ]
    },
    {
      "cell_type": "code",
      "source": [
        "input('what is your name?')"
      ],
      "metadata": {
        "colab": {
          "base_uri": "https://localhost:8080/",
          "height": 53
        },
        "id": "slK2_YtPdFQl",
        "outputId": "e35a0d09-3543-40cf-ffc0-e23c41bea3e5"
      },
      "execution_count": null,
      "outputs": [
        {
          "name": "stdout",
          "output_type": "stream",
          "text": [
            "what is your name?shantayya\n"
          ]
        },
        {
          "output_type": "execute_result",
          "data": {
            "text/plain": [
              "'shantayya'"
            ],
            "application/vnd.google.colaboratory.intrinsic+json": {
              "type": "string"
            }
          },
          "metadata": {},
          "execution_count": 259
        }
      ]
    },
    {
      "cell_type": "code",
      "source": [
        "far=[(9/5)*cel +32 for cel in range(91,100) ]\n",
        "print(far)\n"
      ],
      "metadata": {
        "colab": {
          "base_uri": "https://localhost:8080/"
        },
        "id": "NvIe4yt2ded5",
        "outputId": "c87babdd-a949-4055-f147-5088d63f8642"
      },
      "execution_count": null,
      "outputs": [
        {
          "output_type": "stream",
          "name": "stdout",
          "text": [
            "[195.8, 197.6, 199.4, 201.20000000000002, 203.0, 204.8, 206.6, 208.4, 210.20000000000002]\n"
          ]
        }
      ]
    },
    {
      "cell_type": "code",
      "source": [
        "st = 'Print only the words that start with s in this sentence'\n",
        "st\n",
        "for i in st.split():\n",
        "  if i[0].lower() == 's':\n",
        "    print(f'{i}')"
      ],
      "metadata": {
        "colab": {
          "base_uri": "https://localhost:8080/"
        },
        "id": "RaPoY21Fdg66",
        "outputId": "6b126df5-37ff-4ee5-9dc4-db15dfbe420a"
      },
      "execution_count": null,
      "outputs": [
        {
          "output_type": "stream",
          "name": "stdout",
          "text": [
            "start\n",
            "s\n",
            "sentence\n"
          ]
        }
      ]
    },
    {
      "cell_type": "code",
      "source": [
        "div3= [num for num in range(1,50) if num%3 == 0]\n",
        "print(div3)"
      ],
      "metadata": {
        "colab": {
          "base_uri": "https://localhost:8080/"
        },
        "id": "cMY3sh8LwaNi",
        "outputId": "fbca4d8e-903c-4b3b-c367-f6377a3355b3"
      },
      "execution_count": null,
      "outputs": [
        {
          "output_type": "stream",
          "name": "stdout",
          "text": [
            "[3, 6, 9, 12, 15, 18, 21, 24, 27, 30, 33, 36, 39, 42, 45, 48]\n"
          ]
        }
      ]
    },
    {
      "cell_type": "code",
      "source": [
        "st = 'Print every word in this sentence that has an even number of letters'\n",
        "len(st)"
      ],
      "metadata": {
        "colab": {
          "base_uri": "https://localhost:8080/"
        },
        "id": "mX1UrH7DxBi_",
        "outputId": "840ba3f2-3971-4022-ab7e-af3b9375ef82"
      },
      "execution_count": null,
      "outputs": [
        {
          "output_type": "execute_result",
          "data": {
            "text/plain": [
              "68"
            ]
          },
          "metadata": {},
          "execution_count": 16
        }
      ]
    },
    {
      "cell_type": "code",
      "source": [
        "for num in range(1, 100):\n",
        "  if num%3 == 0:\n",
        "    print('Fizz')\n",
        "  elif num%5 == 0:\n",
        "    print('Buzz')\n",
        "  elif num%3 ==0 and num%5 ==0:\n",
        "    print('FizzBuzz')\n",
        "  else:\n",
        "   print(f'{num}')\n"
      ],
      "metadata": {
        "colab": {
          "base_uri": "https://localhost:8080/"
        },
        "id": "uNxZrxWCxq-V",
        "outputId": "fd3acd80-56d1-4845-aa6e-d7aa072ff670"
      },
      "execution_count": null,
      "outputs": [
        {
          "output_type": "stream",
          "name": "stdout",
          "text": [
            "1\n",
            "2\n",
            "Fizz\n",
            "4\n",
            "Buzz\n",
            "Fizz\n",
            "7\n",
            "8\n",
            "Fizz\n",
            "Buzz\n",
            "11\n",
            "Fizz\n",
            "13\n",
            "14\n",
            "Fizz\n",
            "16\n",
            "17\n",
            "Fizz\n",
            "19\n",
            "Buzz\n",
            "Fizz\n",
            "22\n",
            "23\n",
            "Fizz\n",
            "Buzz\n",
            "26\n",
            "Fizz\n",
            "28\n",
            "29\n",
            "Fizz\n",
            "31\n",
            "32\n",
            "Fizz\n",
            "34\n",
            "Buzz\n",
            "Fizz\n",
            "37\n",
            "38\n",
            "Fizz\n",
            "Buzz\n",
            "41\n",
            "Fizz\n",
            "43\n",
            "44\n",
            "Fizz\n",
            "46\n",
            "47\n",
            "Fizz\n",
            "49\n",
            "Buzz\n",
            "Fizz\n",
            "52\n",
            "53\n",
            "Fizz\n",
            "Buzz\n",
            "56\n",
            "Fizz\n",
            "58\n",
            "59\n",
            "Fizz\n",
            "61\n",
            "62\n",
            "Fizz\n",
            "64\n",
            "Buzz\n",
            "Fizz\n",
            "67\n",
            "68\n",
            "Fizz\n",
            "Buzz\n",
            "71\n",
            "Fizz\n",
            "73\n",
            "74\n",
            "Fizz\n",
            "76\n",
            "77\n",
            "Fizz\n",
            "79\n",
            "Buzz\n",
            "Fizz\n",
            "82\n",
            "83\n",
            "Fizz\n",
            "Buzz\n",
            "86\n",
            "Fizz\n",
            "88\n",
            "89\n",
            "Fizz\n",
            "91\n",
            "92\n",
            "Fizz\n",
            "94\n",
            "Buzz\n",
            "Fizz\n",
            "97\n",
            "98\n",
            "Fizz\n"
          ]
        }
      ]
    },
    {
      "cell_type": "code",
      "source": [
        "def say_hello(name):\n",
        "  print(f'Hello {name}')\n",
        "\n",
        "  \n"
      ],
      "metadata": {
        "id": "ortyz7JNyN2s"
      },
      "execution_count": null,
      "outputs": []
    },
    {
      "cell_type": "code",
      "source": [
        "say_hello('shantayya')"
      ],
      "metadata": {
        "colab": {
          "base_uri": "https://localhost:8080/"
        },
        "id": "nPuBkqmPYq6J",
        "outputId": "b6832d95-4be2-4258-9f17-ea82a537a8dd"
      },
      "execution_count": null,
      "outputs": [
        {
          "output_type": "stream",
          "name": "stdout",
          "text": [
            "Hello shantayya\n"
          ]
        }
      ]
    },
    {
      "cell_type": "code",
      "source": [
        "def add(num1,num2):\n",
        "  return num1+num2"
      ],
      "metadata": {
        "id": "02kq6OX8YtSv"
      },
      "execution_count": null,
      "outputs": []
    },
    {
      "cell_type": "code",
      "source": [
        "add(3,4.5)"
      ],
      "metadata": {
        "colab": {
          "base_uri": "https://localhost:8080/"
        },
        "id": "7h9Bs6u9akCl",
        "outputId": "e3bf228f-4f22-477d-f064-a65140d32d76"
      },
      "execution_count": null,
      "outputs": [
        {
          "output_type": "execute_result",
          "data": {
            "text/plain": [
              "7.5"
            ]
          },
          "metadata": {},
          "execution_count": 37
        }
      ]
    },
    {
      "cell_type": "code",
      "source": [
        "def check_list(num_list):\n",
        "  for num in num_list:\n",
        "    if num%2==0:\n",
        "      return True\n",
        "    else:\n",
        "      continue\n",
        "  return False"
      ],
      "metadata": {
        "id": "nurIbFKcamLZ"
      },
      "execution_count": null,
      "outputs": []
    },
    {
      "cell_type": "code",
      "source": [
        "check_list([1,3,21])"
      ],
      "metadata": {
        "colab": {
          "base_uri": "https://localhost:8080/"
        },
        "id": "Yg9VzGd8daBp",
        "outputId": "d05b1df0-b5b2-4297-c4d1-0dc5c2e97cd3"
      },
      "execution_count": null,
      "outputs": [
        {
          "output_type": "execute_result",
          "data": {
            "text/plain": [
              "False"
            ]
          },
          "metadata": {},
          "execution_count": 49
        }
      ]
    },
    {
      "cell_type": "code",
      "source": [
        "tup=[('A',100),('B',1000),('Shan',4000)]"
      ],
      "metadata": {
        "id": "abodmq5UddVV"
      },
      "execution_count": null,
      "outputs": []
    },
    {
      "cell_type": "code",
      "source": [
        "def employee_check(work_hours):\n",
        "  current_hours = 0\n",
        "  employee_of_month=''\n",
        "  for emp,hrs in work_hours:\n",
        "    if hrs > current_hours:\n",
        "      current_hours=hrs\n",
        "      employee_of_month=emp\n",
        "    else:\n",
        "      pass\n",
        "  return(employee_of_month,current_hours)"
      ],
      "metadata": {
        "id": "rVSdJXNUg7lt"
      },
      "execution_count": null,
      "outputs": []
    },
    {
      "cell_type": "code",
      "source": [
        "employee_check(tup)"
      ],
      "metadata": {
        "colab": {
          "base_uri": "https://localhost:8080/"
        },
        "id": "OZ7c_-mFiotc",
        "outputId": "785d5690-d02e-467e-a4f7-c5f10de8294f"
      },
      "execution_count": null,
      "outputs": [
        {
          "output_type": "execute_result",
          "data": {
            "text/plain": [
              "('Shan', 4000)"
            ]
          },
          "metadata": {},
          "execution_count": 76
        }
      ]
    },
    {
      "cell_type": "code",
      "source": [
        "def arg(*args):\n",
        "  print(args)"
      ],
      "metadata": {
        "id": "G-l4QoBomKfU"
      },
      "execution_count": 1,
      "outputs": []
    },
    {
      "cell_type": "code",
      "source": [
        "arg([10,20,30])"
      ],
      "metadata": {
        "colab": {
          "base_uri": "https://localhost:8080/"
        },
        "id": "d7nguICRJ80r",
        "outputId": "704cabea-adb1-4de5-db83-4247cfb67773"
      },
      "execution_count": 2,
      "outputs": [
        {
          "output_type": "stream",
          "name": "stdout",
          "text": [
            "([10, 20, 30],)\n"
          ]
        }
      ]
    },
    {
      "cell_type": "code",
      "source": [
        "def kwarg(**kwargs):\n",
        "  print(kwargs)"
      ],
      "metadata": {
        "id": "sxkoqkbWKAb0"
      },
      "execution_count": 3,
      "outputs": []
    },
    {
      "cell_type": "code",
      "source": [
        "kwarg(fruit='apple', Men='Shantayya')"
      ],
      "metadata": {
        "colab": {
          "base_uri": "https://localhost:8080/"
        },
        "id": "iyDaAds1KKNE",
        "outputId": "a95e998e-c8f6-45a5-d7a9-874c58bf35bb"
      },
      "execution_count": 9,
      "outputs": [
        {
          "output_type": "stream",
          "name": "stdout",
          "text": [
            "{'fruit': 'apple', 'Men': 'Shantayya'}\n"
          ]
        }
      ]
    },
    {
      "cell_type": "code",
      "source": [
        "def func(*args,**kwargs):\n",
        "  print(args)\n",
        "  print(kwargs)\n",
        "  print('I would like {}{}'.format(args[1],kwargs['fruit']))"
      ],
      "metadata": {
        "id": "ZUhDG56MKTG_"
      },
      "execution_count": 20,
      "outputs": []
    },
    {
      "cell_type": "code",
      "source": [
        "func(10,20,30,fruit='apple',Men='Shantayya')"
      ],
      "metadata": {
        "colab": {
          "base_uri": "https://localhost:8080/"
        },
        "id": "sRSJjU35LYvY",
        "outputId": "25a5215a-2614-4930-ca2e-7de3bfbe24d2"
      },
      "execution_count": 21,
      "outputs": [
        {
          "output_type": "stream",
          "name": "stdout",
          "text": [
            "(10, 20, 30)\n",
            "{'fruit': 'apple', 'Men': 'Shantayya'}\n",
            "I would like 20apple\n"
          ]
        }
      ]
    },
    {
      "cell_type": "code",
      "source": [
        "\n",
        "def square(num):\n",
        "  return num**2\n",
        "  "
      ],
      "metadata": {
        "id": "KRbBMoeMP0VT"
      },
      "execution_count": 40,
      "outputs": []
    },
    {
      "cell_type": "code",
      "source": [
        "mylist=[2,3,4,5,6,25,36]"
      ],
      "metadata": {
        "id": "STe9trBbogy3"
      },
      "execution_count": 49,
      "outputs": []
    },
    {
      "cell_type": "code",
      "source": [
        "list(map(square,mylist))"
      ],
      "metadata": {
        "colab": {
          "base_uri": "https://localhost:8080/"
        },
        "id": "DAZkE7zmokpU",
        "outputId": "cb5022b0-583b-4fd4-f71f-d031a5d36b0c"
      },
      "execution_count": 42,
      "outputs": [
        {
          "output_type": "execute_result",
          "data": {
            "text/plain": [
              "[4, 9, 16, 25, 36]"
            ]
          },
          "metadata": {},
          "execution_count": 42
        }
      ]
    },
    {
      "cell_type": "code",
      "source": [
        "def sqroot(num):\n",
        " return num**0.5"
      ],
      "metadata": {
        "id": "bjDFkmNGooOn"
      },
      "execution_count": 52,
      "outputs": []
    },
    {
      "cell_type": "code",
      "source": [
        "list(map(sqroot,mylist))"
      ],
      "metadata": {
        "colab": {
          "base_uri": "https://localhost:8080/"
        },
        "id": "9NNuAom7ov-m",
        "outputId": "223e2c16-6769-485f-b9c9-8f08330573b9"
      },
      "execution_count": 50,
      "outputs": [
        {
          "output_type": "execute_result",
          "data": {
            "text/plain": [
              "[1.4142135623730951,\n",
              " 1.7320508075688772,\n",
              " 2.0,\n",
              " 2.23606797749979,\n",
              " 2.449489742783178,\n",
              " 5.0,\n",
              " 6.0]"
            ]
          },
          "metadata": {},
          "execution_count": 50
        }
      ]
    },
    {
      "cell_type": "code",
      "source": [
        "def even(num):\n",
        "  return num%2 == 0\n"
      ],
      "metadata": {
        "id": "Hj1J9quzo9wN"
      },
      "execution_count": 53,
      "outputs": []
    },
    {
      "cell_type": "code",
      "source": [
        "list(filter(even,mylist))"
      ],
      "metadata": {
        "colab": {
          "base_uri": "https://localhost:8080/"
        },
        "id": "Lrf-q0G2qPKG",
        "outputId": "ce893ba9-6629-4a69-8603-20bd734cf945"
      },
      "execution_count": 54,
      "outputs": [
        {
          "output_type": "execute_result",
          "data": {
            "text/plain": [
              "[2, 4, 6, 36]"
            ]
          },
          "metadata": {},
          "execution_count": 54
        }
      ]
    },
    {
      "cell_type": "code",
      "source": [
        "list(filter(lambda num:num**2,mylist))"
      ],
      "metadata": {
        "colab": {
          "base_uri": "https://localhost:8080/"
        },
        "id": "4NdsA0e8qUPY",
        "outputId": "dcee3686-0b9e-4f24-ad98-d6dd42b3b57e"
      },
      "execution_count": 57,
      "outputs": [
        {
          "output_type": "execute_result",
          "data": {
            "text/plain": [
              "[2, 3, 4, 5, 6, 25, 36]"
            ]
          },
          "metadata": {},
          "execution_count": 57
        }
      ]
    },
    {
      "cell_type": "code",
      "source": [
        "sqroot=lambda num:num**0.5"
      ],
      "metadata": {
        "id": "RkCRvfr8qp-_"
      },
      "execution_count": 62,
      "outputs": []
    },
    {
      "cell_type": "code",
      "source": [
        "list(map(sqroot,mylist))"
      ],
      "metadata": {
        "colab": {
          "base_uri": "https://localhost:8080/"
        },
        "id": "1N429ffLq7-j",
        "outputId": "355a8534-1c60-4398-e808-1eddc78dd7d7"
      },
      "execution_count": 65,
      "outputs": [
        {
          "output_type": "execute_result",
          "data": {
            "text/plain": [
              "[1.4142135623730951,\n",
              " 1.7320508075688772,\n",
              " 2.0,\n",
              " 2.23606797749979,\n",
              " 2.449489742783178,\n",
              " 5.0,\n",
              " 6.0]"
            ]
          },
          "metadata": {},
          "execution_count": 65
        }
      ]
    },
    {
      "cell_type": "code",
      "source": [
        "my_list=[1,2,3,4]"
      ],
      "metadata": {
        "id": "WaBgvI6krDE0"
      },
      "execution_count": 77,
      "outputs": []
    },
    {
      "cell_type": "code",
      "source": [
        "def display_list(list):\n",
        " return list"
      ],
      "metadata": {
        "id": "lmCQlWuiEa2D"
      },
      "execution_count": 87,
      "outputs": []
    },
    {
      "cell_type": "code",
      "source": [
        "display_list(my_list)"
      ],
      "metadata": {
        "colab": {
          "base_uri": "https://localhost:8080/"
        },
        "id": "njMcX3ysE57K",
        "outputId": "fa0bc492-c133-45ac-ce2e-5d40f225df24"
      },
      "execution_count": 88,
      "outputs": [
        {
          "output_type": "execute_result",
          "data": {
            "text/plain": [
              "[1, 2, 3, 4]"
            ]
          },
          "metadata": {},
          "execution_count": 88
        }
      ]
    },
    {
      "cell_type": "code",
      "source": [
        "int(input(\"Please enter number:\"))"
      ],
      "metadata": {
        "colab": {
          "base_uri": "https://localhost:8080/"
        },
        "id": "NrZIosngE9To",
        "outputId": "1561a87e-a5a1-4e9c-fd49-c03d43713766"
      },
      "execution_count": 89,
      "outputs": [
        {
          "name": "stdout",
          "output_type": "stream",
          "text": [
            "Please enter number:1\n"
          ]
        },
        {
          "output_type": "execute_result",
          "data": {
            "text/plain": [
              "1"
            ]
          },
          "metadata": {},
          "execution_count": 89
        }
      ]
    },
    {
      "cell_type": "code",
      "source": [
        "def validate_input():\n",
        "  choice = 'wrong'\n",
        "  while choice.isdigit() == False:\n",
        "    choice = input(\"Please input number:\")\n",
        "    if choice.isdigit() == False:\n",
        "         print(\"Input is not a digit,..please try again\")\n",
        "  return int(choice)\n"
      ],
      "metadata": {
        "id": "qZCUnsJcGrXU"
      },
      "execution_count": 100,
      "outputs": []
    },
    {
      "cell_type": "code",
      "source": [
        "validate_input()"
      ],
      "metadata": {
        "colab": {
          "base_uri": "https://localhost:8080/"
        },
        "id": "qILk3YdyIFBw",
        "outputId": "e1b73bf8-3195-4c2a-a70d-54d4907cb653"
      },
      "execution_count": 101,
      "outputs": [
        {
          "name": "stdout",
          "output_type": "stream",
          "text": [
            "Please input number:ed\n",
            "Input is not a digit,..please try again\n",
            "Please input number:12\n"
          ]
        },
        {
          "output_type": "execute_result",
          "data": {
            "text/plain": [
              "12"
            ]
          },
          "metadata": {},
          "execution_count": 101
        }
      ]
    },
    {
      "cell_type": "code",
      "source": [
        "from IPython.display import clear_output\n",
        "def validate_input():\n",
        "  choice = 'wrong'\n",
        "  while choice.isdigit() == False:\n",
        "    choice = input(\"Please input number:\")\n",
        "    if choice.isdigit() == False:\n",
        "       clear_output()\n",
        "       print(\"Input is not a digit,..please try again\")\n",
        "  return choice"
      ],
      "metadata": {
        "id": "VlMa8JwKIQg8"
      },
      "execution_count": 111,
      "outputs": []
    },
    {
      "cell_type": "code",
      "source": [
        "validate_input()"
      ],
      "metadata": {
        "colab": {
          "base_uri": "https://localhost:8080/",
          "height": 70
        },
        "id": "Zrmj6ZUEJelR",
        "outputId": "f6315239-c596-4192-a06e-bbc848b1c3c1"
      },
      "execution_count": 112,
      "outputs": [
        {
          "name": "stdout",
          "output_type": "stream",
          "text": [
            "Input is not a digit,..please try again\n",
            "Please input number:23\n"
          ]
        },
        {
          "output_type": "execute_result",
          "data": {
            "text/plain": [
              "'23'"
            ],
            "application/vnd.google.colaboratory.intrinsic+json": {
              "type": "string"
            }
          },
          "metadata": {},
          "execution_count": 112
        }
      ]
    },
    {
      "cell_type": "code",
      "source": [
        "\n",
        "result = 10\n",
        "result in range(1,10)"
      ],
      "metadata": {
        "colab": {
          "base_uri": "https://localhost:8080/"
        },
        "id": "Gqd6ltmrJ94G",
        "outputId": "6292b307-785b-4764-8bd7-35a318e68c9c"
      },
      "execution_count": 114,
      "outputs": [
        {
          "output_type": "execute_result",
          "data": {
            "text/plain": [
              "False"
            ]
          },
          "metadata": {},
          "execution_count": 114
        }
      ]
    },
    {
      "cell_type": "code",
      "source": [
        "from IPython.display import clear_output\n",
        "def validate_input():\n",
        "  choice = 'wrong'\n",
        "  within_range= False\n",
        "\n",
        "  while choice.isdigit() == False or within_range == False:\n",
        "    choice = input(\"Please input number:\")\n",
        "    if choice.isdigit() == False:\n",
        "       clear_output()\n",
        "       print(\"Input is not a digit,..please try again\")\n",
        "    if choice.isdigit() == True:\n",
        "      if  int(choice) not in range(1,10):\n",
        "        clear_output()\n",
        "        print(\"Please input within range(1-9)\")\n",
        "        within_range = False\n",
        "      else:\n",
        "        within_range = True\n",
        "  return int(choice)"
      ],
      "metadata": {
        "id": "0uN2nqEeLlmE"
      },
      "execution_count": 126,
      "outputs": []
    },
    {
      "cell_type": "code",
      "source": [
        "validate_input()"
      ],
      "metadata": {
        "colab": {
          "base_uri": "https://localhost:8080/"
        },
        "id": "XBinq90cMazJ",
        "outputId": "6443329c-ff10-48b3-c79c-a5da2fa0a797"
      },
      "execution_count": 125,
      "outputs": [
        {
          "name": "stdout",
          "output_type": "stream",
          "text": [
            "Input is not a digit,..please try again\n",
            "Please input number:13\n",
            "Please input within range(1-9)\n",
            "Please input number:2\n"
          ]
        },
        {
          "output_type": "execute_result",
          "data": {
            "text/plain": [
              "2"
            ]
          },
          "metadata": {},
          "execution_count": 125
        }
      ]
    },
    {
      "cell_type": "code",
      "source": [
        "from IPython.display import clear_output\n",
        "def display_board(list):\n",
        "  print(list[0]+ '|' +list[1]+ '|' +list[2])\n",
        "  print('-----')\n",
        "  print(list[3]+ '|' +list[4]+ '|' +list[5])\n",
        "  print('-----')\n",
        "  print(list[6]+ '|' +list[7]+ '|' +list[8])\n"
      ],
      "metadata": {
        "id": "BTnw6n29MguE"
      },
      "execution_count": 134,
      "outputs": []
    },
    {
      "cell_type": "code",
      "source": [
        "board= ['#','X','O','X','O','X','O','X','O','X']"
      ],
      "metadata": {
        "id": "2iPONrGpPtcM"
      },
      "execution_count": 147,
      "outputs": []
    },
    {
      "cell_type": "code",
      "source": [
        "display_board(board)"
      ],
      "metadata": {
        "colab": {
          "base_uri": "https://localhost:8080/"
        },
        "id": "vafwWW-2P4Nc",
        "outputId": "6983a866-99ad-4b58-d10b-931d3b12f686"
      },
      "execution_count": 148,
      "outputs": [
        {
          "output_type": "stream",
          "name": "stdout",
          "text": [
            "   |   |\n",
            " X | O | X\n",
            "   |   |\n",
            "-----------\n",
            "   |   |\n",
            " O | X | O\n",
            "   |   |\n",
            "-----------\n",
            "   |   |\n",
            " X | O | X\n",
            "   |   |\n"
          ]
        }
      ]
    },
    {
      "cell_type": "code",
      "source": [
        "def player():\n",
        "  while True:\n",
        "    player1=input(\"Player 1: Please choose (X or O): \")\n",
        "    if player1.upper() == 'X':\n",
        "      print(\"Player 1: X and Player 2: O\")\n",
        "      break\n",
        "    elif player1.upper() == 'O':\n",
        "      print(\"Player 1: O and Player 2: X\")\n",
        "      break\n",
        "    else:\n",
        "      print(\"Please choose one of (X or O):\")\n",
        "    \n",
        "    "
      ],
      "metadata": {
        "id": "euSnDR9RP7n3"
      },
      "execution_count": 142,
      "outputs": []
    },
    {
      "cell_type": "code",
      "source": [
        "player()"
      ],
      "metadata": {
        "colab": {
          "base_uri": "https://localhost:8080/"
        },
        "id": "Gp0GnashSA4_",
        "outputId": "c4e90aec-b3a0-4068-cd98-2130d7df51d8"
      },
      "execution_count": 143,
      "outputs": [
        {
          "output_type": "stream",
          "name": "stdout",
          "text": [
            "Player 1: Please choose (X or O): s\n",
            "Please choose one of (X or O):\n",
            "Player 1: Please choose (X or O): o\n",
            "Player 1: O and Player 2: X\n"
          ]
        }
      ]
    },
    {
      "cell_type": "code",
      "source": [
        "from IPython.display import clear_output\n",
        "\n",
        "def display_board(board):\n",
        "    clear_output()  # Remember, this only works in jupyter!\n",
        "    \n",
        "    print('   |   |')\n",
        "    print(' ' + board[7] + ' | ' + board[8] + ' | ' + board[9])\n",
        "    print('   |   |')\n",
        "    print('-----------')\n",
        "    print('   |   |')\n",
        "    print(' ' + board[4] + ' | ' + board[5] + ' | ' + board[6])\n",
        "    print('   |   |')\n",
        "    print('-----------')\n",
        "    print('   |   |')\n",
        "    print(' ' + board[1] + ' | ' + board[2] + ' | ' + board[3])\n",
        "    print('   |   |')"
      ],
      "metadata": {
        "id": "NmSgM3Z8SaK-"
      },
      "execution_count": 146,
      "outputs": []
    },
    {
      "cell_type": "code",
      "source": [
        "def player_input():\n",
        "  marker=''\n",
        "  while not (marker.upper() == 'X' or marker.upper() == 'O'):\n",
        "    marker = input(\" you want to be X or O:\")\n",
        "  \n",
        "  if marker.upper() == 'X':\n",
        "    return ('X','O')\n",
        "  else:\n",
        "    return ('O','X')\n",
        "  \n",
        "\n"
      ],
      "metadata": {
        "id": "bHGeR1oNUjgi"
      },
      "execution_count": 226,
      "outputs": []
    },
    {
      "cell_type": "code",
      "source": [
        "player_input()"
      ],
      "metadata": {
        "colab": {
          "base_uri": "https://localhost:8080/"
        },
        "id": "vzRZala_VFgi",
        "outputId": "a55cfcc9-222d-466b-f0cd-579d5cfc3129"
      },
      "execution_count": 163,
      "outputs": [
        {
          "name": "stdout",
          "output_type": "stream",
          "text": [
            "Player1: Do you want to be X or O:s\n",
            "Player1: Do you want to be X or O:x\n"
          ]
        },
        {
          "output_type": "execute_result",
          "data": {
            "text/plain": [
              "('X', 'O')"
            ]
          },
          "metadata": {},
          "execution_count": 163
        }
      ]
    },
    {
      "cell_type": "code",
      "source": [
        "def place_marker(list, marker, position):\n",
        "  board[position]=marker"
      ],
      "metadata": {
        "id": "lAFWJ4qOVHGP"
      },
      "execution_count": 164,
      "outputs": []
    },
    {
      "cell_type": "code",
      "source": [
        "place_marker(board,'@',3)\n",
        "display_board(board)"
      ],
      "metadata": {
        "colab": {
          "base_uri": "https://localhost:8080/"
        },
        "id": "vtWQzr1mW2HB",
        "outputId": "17a79bfb-1147-4f6b-92b6-9063e5609e3c"
      },
      "execution_count": 194,
      "outputs": [
        {
          "output_type": "stream",
          "name": "stdout",
          "text": [
            "   |   |\n",
            " X | O | X\n",
            "   |   |\n",
            "-----------\n",
            "   |   |\n",
            " O | X | O\n",
            "   |   |\n",
            "-----------\n",
            "   |   |\n",
            " X | O | @\n",
            "   |   |\n"
          ]
        }
      ]
    },
    {
      "cell_type": "code",
      "source": [
        "board= ['#','X','O','X','O','X','O','X','O','X']"
      ],
      "metadata": {
        "id": "y5Ng9q_PW8gL"
      },
      "execution_count": 166,
      "outputs": []
    },
    {
      "cell_type": "code",
      "source": [
        "def win_check(board, mark):\n",
        "  return ((board[7] == mark and board[8] == mark and board[9] == mark) or\n",
        "  (board[4] == mark and board[5] == mark and board[6] == mark) or\n",
        "  (board[1] == mark and board[2] == mark and board[3] == mark) or\n",
        "  (board[1] == mark and board[4] == mark and board[7] == mark) or\n",
        "  (board[2] == mark and board[5] == mark and board[8] == mark) or\n",
        "  (board[3] == mark and board[6] == mark and board[9] == mark) or\n",
        "  (board[1] == mark and board[5] == mark and board[9] == mark) or\n",
        "  (board[3] == mark and board[5] == mark and board[7] == mark))"
      ],
      "metadata": {
        "id": "7OOuKmIZXBhL"
      },
      "execution_count": 174,
      "outputs": []
    },
    {
      "cell_type": "code",
      "source": [
        "win_check(board,'O')"
      ],
      "metadata": {
        "colab": {
          "base_uri": "https://localhost:8080/"
        },
        "id": "GcBA-BG0YnUI",
        "outputId": "2fef0913-db6f-4397-9b30-b7625edb2107"
      },
      "execution_count": 179,
      "outputs": [
        {
          "output_type": "execute_result",
          "data": {
            "text/plain": [
              "False"
            ]
          },
          "metadata": {},
          "execution_count": 179
        }
      ]
    },
    {
      "cell_type": "code",
      "source": [
        "import random\n",
        "def choose_first():\n",
        "  if random.randint(0,1) == 0:\n",
        "    return 'Player 1'\n",
        "  else:\n",
        "    return 'Player 2'\n"
      ],
      "metadata": {
        "id": "v3oxnN2TZFht"
      },
      "execution_count": 181,
      "outputs": []
    },
    {
      "cell_type": "code",
      "source": [
        "choose_first()"
      ],
      "metadata": {
        "colab": {
          "base_uri": "https://localhost:8080/",
          "height": 35
        },
        "id": "gmZhSjXnZ2Rz",
        "outputId": "7149bcbb-8990-40e5-d06a-151b9eb447fb"
      },
      "execution_count": 183,
      "outputs": [
        {
          "output_type": "execute_result",
          "data": {
            "text/plain": [
              "'Player 2'"
            ],
            "application/vnd.google.colaboratory.intrinsic+json": {
              "type": "string"
            }
          },
          "metadata": {},
          "execution_count": 183
        }
      ]
    },
    {
      "cell_type": "code",
      "source": [
        "def space_check(board, position):\n",
        "  return board[position] == ' '\n"
      ],
      "metadata": {
        "id": "tl7sgZpTZ53y"
      },
      "execution_count": 184,
      "outputs": []
    },
    {
      "cell_type": "code",
      "source": [
        "space_check(board,3)"
      ],
      "metadata": {
        "colab": {
          "base_uri": "https://localhost:8080/"
        },
        "id": "MfTDRoTKaM-d",
        "outputId": "45733b28-e36a-47ef-a8ec-c4c6d98bfe06"
      },
      "execution_count": 198,
      "outputs": [
        {
          "output_type": "execute_result",
          "data": {
            "text/plain": [
              "False"
            ]
          },
          "metadata": {},
          "execution_count": 198
        }
      ]
    },
    {
      "cell_type": "code",
      "source": [
        "def full_board_check(board):\n",
        "  for i in range(1,10):\n",
        "    if space_check(board,i):\n",
        "      return False\n",
        "  return True"
      ],
      "metadata": {
        "id": "oyAmVcxOaQp3"
      },
      "execution_count": 199,
      "outputs": []
    },
    {
      "cell_type": "code",
      "source": [
        "full_board_check(board)"
      ],
      "metadata": {
        "colab": {
          "base_uri": "https://localhost:8080/"
        },
        "id": "Nn1jqz1fbJXx",
        "outputId": "0a082bef-4a40-4d20-f988-fa4b3b1967cd"
      },
      "execution_count": 200,
      "outputs": [
        {
          "output_type": "execute_result",
          "data": {
            "text/plain": [
              "True"
            ]
          },
          "metadata": {},
          "execution_count": 200
        }
      ]
    },
    {
      "cell_type": "code",
      "source": [
        "def player_choice(board):\n",
        "  position = 0\n",
        "  while position not in [1,2,3,4,5,5,6,7,8,9]:\n",
        "     position = int(input(\"Choose your next position (1-9):\"))\n",
        "  return position\n"
      ],
      "metadata": {
        "id": "IBIdNENebMfb"
      },
      "execution_count": 207,
      "outputs": []
    },
    {
      "cell_type": "code",
      "source": [
        "player_choice(board)"
      ],
      "metadata": {
        "colab": {
          "base_uri": "https://localhost:8080/"
        },
        "id": "73_BfO0aiysG",
        "outputId": "7880faa1-b531-4894-c346-282189191b24"
      },
      "execution_count": 208,
      "outputs": [
        {
          "name": "stdout",
          "output_type": "stream",
          "text": [
            "Choose your next position (1-9):0\n",
            "Choose your next position (1-9):2\n"
          ]
        },
        {
          "output_type": "execute_result",
          "data": {
            "text/plain": [
              "2"
            ]
          },
          "metadata": {},
          "execution_count": 208
        }
      ]
    },
    {
      "cell_type": "code",
      "source": [
        "def replay():\n",
        "  return input(\"Do you want to play again (Y or N)\").lower() == 'y'"
      ],
      "metadata": {
        "id": "GAU-c-BTjasT"
      },
      "execution_count": 223,
      "outputs": []
    },
    {
      "cell_type": "code",
      "source": [
        "replay()"
      ],
      "metadata": {
        "colab": {
          "base_uri": "https://localhost:8080/"
        },
        "id": "Kll4Hdllkk8n",
        "outputId": "251f284c-c20c-481f-97f3-58017e45ebfb"
      },
      "execution_count": 224,
      "outputs": [
        {
          "name": "stdout",
          "output_type": "stream",
          "text": [
            "Do you want to play again (Y or N)n\n"
          ]
        },
        {
          "output_type": "execute_result",
          "data": {
            "text/plain": [
              "False"
            ]
          },
          "metadata": {},
          "execution_count": 224
        }
      ]
    },
    {
      "cell_type": "code",
      "source": [
        "print('Welcome to Tic Tac Toe')\n",
        "while True:\n",
        " # clear board\n",
        " board = [' ']*10\n",
        " player1, player2=player_input()\n",
        " turn = choose_first()\n",
        " print(f'{turn} will go first')\n",
        "\n",
        " play_game = input('Are you ready? Enter Yes or No').lower()\n",
        "\n",
        " if play_game[0] == 'y':\n",
        "   game_on = True\n",
        " else:\n",
        "   game_on = False\n",
        "\n",
        " while game_on:\n",
        "   if turn == 'Player 1':\n",
        "     # player 1 turn\n",
        "\n",
        "     display_board(board)\n",
        "     position = player_choice(board)\n",
        "     place_marker(board,player1,position)\n",
        "\n",
        "     if win_check(board, player1):\n",
        "       display_board(board)\n",
        "       print(\"Congrats..You won the game\")\n",
        "       game_on = False\n",
        "     else:\n",
        "       if full_board_check(board):\n",
        "         display_board(board)\n",
        "         print('Game is draw')\n",
        "         break\n",
        "       else:\n",
        "        turn = 'Player 2'\n",
        "    \n",
        "   else:\n",
        "      # player 2\n",
        "\n",
        "      display_board(board)\n",
        "      position = player_choice(board)\n",
        "      place_marker(board,player2,position)\n",
        "\n",
        "      if win_check(board, player2):\n",
        "       display_board(board)\n",
        "       print(\"Congrats..You won the game\")\n",
        "       game_on = False\n",
        "      else:\n",
        "       if full_board_check(board):\n",
        "         display_board(board)\n",
        "         print('Game is draw')\n",
        "         break\n",
        "       else:\n",
        "        turn = 'Player 1'\n",
        "\n",
        " if not replay():\n",
        "    break  \n",
        "\n",
        "\n"
      ],
      "metadata": {
        "colab": {
          "base_uri": "https://localhost:8080/"
        },
        "id": "x--4Q2EPnSPc",
        "outputId": "9747f734-6249-42db-aa76-beaf2fa88aea"
      },
      "execution_count": 238,
      "outputs": [
        {
          "name": "stdout",
          "output_type": "stream",
          "text": [
            "   |   |\n",
            "   | X | O\n",
            "   |   |\n",
            "-----------\n",
            "   |   |\n",
            "   | X |  \n",
            "   |   |\n",
            "-----------\n",
            "   |   |\n",
            " O | X | O\n",
            "   |   |\n",
            "Congrats..You won the game\n",
            "Do you want to play again (Y or N)n\n"
          ]
        }
      ]
    },
    {
      "cell_type": "code",
      "source": [
        ""
      ],
      "metadata": {
        "id": "cWS7kswd1mrO"
      },
      "execution_count": null,
      "outputs": []
    }
  ]
}