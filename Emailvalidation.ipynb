{
  "nbformat": 4,
  "nbformat_minor": 0,
  "metadata": {
    "colab": {
      "name": "Emailvalidation.ipynb",
      "provenance": [],
      "collapsed_sections": [],
      "authorship_tag": "ABX9TyMUZBJbKihHCxoRXEVMhxvq",
      "include_colab_link": true
    },
    "kernelspec": {
      "name": "python3",
      "display_name": "Python 3"
    },
    "language_info": {
      "name": "python"
    }
  },
  "cells": [
    {
      "cell_type": "markdown",
      "metadata": {
        "id": "view-in-github",
        "colab_type": "text"
      },
      "source": [
        "<a href=\"https://colab.research.google.com/github/shantayya/Python-Projects/blob/main/Emailvalidation.ipynb\" target=\"_parent\"><img src=\"https://colab.research.google.com/assets/colab-badge.svg\" alt=\"Open In Colab\"/></a>"
      ]
    },
    {
      "cell_type": "code",
      "execution_count": 7,
      "metadata": {
        "id": "WeKp4hGVaBYT"
      },
      "outputs": [],
      "source": [
        "def Emailvalidation():\n",
        "  cap,space,exp,n = 0,0,0,0\n",
        "  email = input(\"Enter your email address:\")\n",
        "  if len(email) >= 6:    #g@g.in or g@g.com min email length is 6\n",
        "    if email[0].isalpha():  # first letter should be alphabetic \n",
        "      if email[-3] == '.' or email[-4] == '.':    # . should come at 3rd or 4th inde from last\n",
        "        if ('@' in email) and (email.count('@') == 1):    # @ should not be more than 1\n",
        "            for l,m in zip(email,email[1:]):            # to check consecutive letters shoyuld not be ()._,.@,_@,_.,@.,@_)\n",
        "              if l == '@' and m == '_':\n",
        "                n = 1\n",
        "                break\n",
        "              elif l == '@' and m == '.':\n",
        "                n = 1\n",
        "                break\n",
        "              elif l == '.' and m == '_':\n",
        "                n = 1\n",
        "                break\n",
        "              elif l == '.' and m == '@':\n",
        "                n = 1\n",
        "                break\n",
        "              elif l == '_' and m == '.':\n",
        "                n = 1\n",
        "                break\n",
        "              elif l == '_' and m == '@':\n",
        "                n = 1\n",
        "                break\n",
        "              else:\n",
        "                for i in email:\n",
        "                  if i.isspace():              # email should not contain any space\n",
        "                    space = 1\n",
        "                  elif i.isalpha():\n",
        "                     if i == i.upper():        # email letters should not contain any capital letter\n",
        "                        cap = 1\n",
        "                  elif i.isdigit():            # numbers are allowed in email but not at starting\n",
        "                     continue\n",
        "                  elif i == '_' or i == \".\" or i == '@':    # only these 3 signs are allowed to enter in email but should not be consecutive\n",
        "                    continue\n",
        "                  else:\n",
        "                    exp = 1\n",
        "            if space == 1 or cap == 1 or exp == 1 or n == 1:\n",
        "              print(\"Sorry! Wrong email address condition5 satisfied\")\n",
        "            else:\n",
        "              print(\"Congrats...! your email is valid\")\n",
        "\n",
        "        else:\n",
        "          print(\"Sorry! Wrong email address condition4 satisfied\")         \n",
        "      else:\n",
        "        print(\"Sorry! Wrong email address Condition3 satisfied\")\n",
        "    else:\n",
        "      print(\"Sorry! Wrong email address condition2 satisfied\")\n",
        "  else:\n",
        "    print(\"Sorry! Wrong email address condition1 satistifed\")"
      ]
    },
    {
      "cell_type": "code",
      "source": [
        "Emailvalidation()"
      ],
      "metadata": {
        "colab": {
          "base_uri": "https://localhost:8080/"
        },
        "id": "neNH-ARkegEz",
        "outputId": "efe14fae-cfc1-4383-86e1-3dc62946fb08"
      },
      "execution_count": null,
      "outputs": [
        {
          "output_type": "stream",
          "name": "stdout",
          "text": [
            "Enter your email address:edsa\n",
            "Sorry! Wrong email address condition1 satistifed\n"
          ]
        }
      ]
    },
    {
      "cell_type": "code",
      "source": [
        "Emailvalidation()"
      ],
      "metadata": {
        "colab": {
          "base_uri": "https://localhost:8080/"
        },
        "id": "5amzkgD6ej15",
        "outputId": "fbcbbce7-b081-4550-fac1-f96ac517bbb9"
      },
      "execution_count": null,
      "outputs": [
        {
          "output_type": "stream",
          "name": "stdout",
          "text": [
            "Enter your email address:2sa@gmail.com\n",
            "Sorry! Wrong email address condition2 satisfied\n"
          ]
        }
      ]
    },
    {
      "cell_type": "code",
      "source": [
        "Emailvalidation()"
      ],
      "metadata": {
        "colab": {
          "base_uri": "https://localhost:8080/"
        },
        "id": "D4hW1yhBfe6q",
        "outputId": "5f0a3ef5-7b4b-43a2-9ed8-3e206f0557e1"
      },
      "execution_count": null,
      "outputs": [
        {
          "output_type": "stream",
          "name": "stdout",
          "text": [
            "Enter your email address:edsa@.comg\n",
            "Sorry! Wrong email address Condition3 satisfied\n"
          ]
        }
      ]
    },
    {
      "cell_type": "code",
      "source": [
        "Emailvalidation()"
      ],
      "metadata": {
        "colab": {
          "base_uri": "https://localhost:8080/"
        },
        "id": "1F3TcU-7flsF",
        "outputId": "5aff54dc-4e7f-4d35-b4bf-6c19dad91b02"
      },
      "execution_count": null,
      "outputs": [
        {
          "output_type": "stream",
          "name": "stdout",
          "text": [
            "Enter your email address:eds@.@.com\n",
            "Sorry! Wrong email address condition4 satisfied\n"
          ]
        }
      ]
    },
    {
      "cell_type": "code",
      "source": [
        "Emailvalidation()"
      ],
      "metadata": {
        "colab": {
          "base_uri": "https://localhost:8080/"
        },
        "id": "XXrLw6UYf6XJ",
        "outputId": "57596488-9f6a-436d-930b-4cbe7b69516c"
      },
      "execution_count": null,
      "outputs": [
        {
          "output_type": "stream",
          "name": "stdout",
          "text": [
            "Enter your email address:eds ws@g.com\n",
            "Sorry! Wrong email address condition5 satisfied\n"
          ]
        }
      ]
    },
    {
      "cell_type": "code",
      "source": [
        "Emailvalidation()"
      ],
      "metadata": {
        "colab": {
          "base_uri": "https://localhost:8080/"
        },
        "id": "EhI9eVA4gLRj",
        "outputId": "a1c6e920-9291-4dc2-b29c-7173f2171f04"
      },
      "execution_count": null,
      "outputs": [
        {
          "output_type": "stream",
          "name": "stdout",
          "text": [
            "Enter your email address:es@GMAIL.com\n",
            "Sorry! Wrong email address condition5 satisfied\n"
          ]
        }
      ]
    },
    {
      "cell_type": "code",
      "source": [
        "text = 'shantay._@'\n",
        "for i,j in zip(text,text[1:]):\n",
        "    if i == '@' and j == '_':\n",
        "      print(\"wrong text\")\n",
        "      break\n",
        "    elif i == '@' and j == '.':\n",
        "      print(\"wrong text\")\n",
        "      break\n",
        "    elif i == '.' and j == '_':\n",
        "      print(\"wrong text\")\n",
        "      break\n",
        "    if i == '.' and j == '@':\n",
        "      print(\"wrong text\")\n",
        "      break\n",
        "    elif i == '_' and j == '.':\n",
        "      print(\"wrong text\")\n",
        "      break\n",
        "    elif i == '_' and j == '@':\n",
        "      print(\"wrong text\")\n",
        "      break\n",
        "    else:\n",
        "      continue\n",
        "  "
      ],
      "metadata": {
        "id": "8JCCfTiNhOhl",
        "colab": {
          "base_uri": "https://localhost:8080/"
        },
        "outputId": "1901c5c2-8875-4727-dfad-1968d3ebffc4"
      },
      "execution_count": null,
      "outputs": [
        {
          "output_type": "stream",
          "name": "stdout",
          "text": [
            "wrong text\n"
          ]
        }
      ]
    },
    {
      "cell_type": "code",
      "source": [
        "Emailvalidation()"
      ],
      "metadata": {
        "colab": {
          "base_uri": "https://localhost:8080/"
        },
        "id": "5okkyTxOrJGV",
        "outputId": "4357695e-68da-4cbc-8172-0b0852e61bb4"
      },
      "execution_count": 13,
      "outputs": [
        {
          "output_type": "stream",
          "name": "stdout",
          "text": [
            "Enter your email address:sa@_.com\n",
            "Sorry! Wrong email address condition5 satisfied\n"
          ]
        }
      ]
    },
    {
      "cell_type": "code",
      "source": [
        " # Email validation using regEx module\n",
        " # a-z starting letter\n",
        " # ._ occur only once\n",
        " # a-z or 0-9 are allowed\n",
        " # @ only once\n",
        " # . position should be at 2nd or 3rd from last\n"
      ],
      "metadata": {
        "id": "Co_C6omKxVRv"
      },
      "execution_count": 14,
      "outputs": []
    },
    {
      "cell_type": "code",
      "source": [
        "import re\n",
        "def EmailValidationRe():\n",
        "  email_cond = \"^[a-z]+[\\._]?[a-z 0-9]+[@]\\w+[.]\\w{2,3}$\"\n",
        "  email = input(\"Enter a valida email address:\").lower()\n",
        "  if re.search(email_cond,email):\n",
        "    print(\"Congrats...! You have entered Valid email address.\")\n",
        "  else:\n",
        "    print(\"Sorry...! Please enter valid email address\")"
      ],
      "metadata": {
        "id": "IrgGgP4He0rG"
      },
      "execution_count": 27,
      "outputs": []
    },
    {
      "cell_type": "code",
      "source": [
        "EmailValidationRe()"
      ],
      "metadata": {
        "colab": {
          "base_uri": "https://localhost:8080/"
        },
        "id": "WXzxI9qpgA1z",
        "outputId": "1e5cea8f-e52e-4f67-ae56-a8dfbc5a5e9a"
      },
      "execution_count": 17,
      "outputs": [
        {
          "output_type": "stream",
          "name": "stdout",
          "text": [
            "Enter a valida email address:2sa@gmail.com\n",
            "Sorry...! Please enter valid email address\n"
          ]
        }
      ]
    },
    {
      "cell_type": "code",
      "source": [
        "EmailValidationRe()"
      ],
      "metadata": {
        "colab": {
          "base_uri": "https://localhost:8080/"
        },
        "id": "8TVUoseIgDFF",
        "outputId": "5374b053-310d-404b-a809-257c472f758c"
      },
      "execution_count": 28,
      "outputs": [
        {
          "output_type": "stream",
          "name": "stdout",
          "text": [
            "Enter a valida email address:shantayya_21_87@gmail.com\n",
            "Sorry...! Please enter valid email address\n"
          ]
        }
      ]
    },
    {
      "cell_type": "code",
      "source": [
        "import timeit"
      ],
      "metadata": {
        "id": "hT1uvBFugJBL"
      },
      "execution_count": 29,
      "outputs": []
    },
    {
      "cell_type": "code",
      "source": [
        "func1 = '''\n",
        "Emailvalidation()\n",
        "'''"
      ],
      "metadata": {
        "id": "MDnqPx47hLB7"
      },
      "execution_count": 30,
      "outputs": []
    },
    {
      "cell_type": "code",
      "source": [
        "setup1 = '''\n",
        "def Emailvalidation():\n",
        "  cap,space,exp,n = 0,0,0,0\n",
        "  email = input(\"Enter your email address:\")\n",
        "  if len(email) >= 6:    #g@g.in or g@g.com min email length is 6\n",
        "    if email[0].isalpha():  # first letter should be alphabetic \n",
        "      if email[-3] == '.' or email[-4] == '.':    # . should come at 3rd or 4th inde from last\n",
        "        if ('@' in email) and (email.count('@') == 1):    # @ should not be more than 1\n",
        "            for l,m in zip(email,email[1:]):            # to check consecutive letters shoyuld not be ()._,.@,_@,_.,@.,@_)\n",
        "              if l == '@' and m == '_':\n",
        "                n = 1\n",
        "                break\n",
        "              elif l == '@' and m == '.':\n",
        "                n = 1\n",
        "                break\n",
        "              elif l == '.' and m == '_':\n",
        "                n = 1\n",
        "                break\n",
        "              elif l == '.' and m == '@':\n",
        "                n = 1\n",
        "                break\n",
        "              elif l == '_' and m == '.':\n",
        "                n = 1\n",
        "                break\n",
        "              elif l == '_' and m == '@':\n",
        "                n = 1\n",
        "                break\n",
        "              else:\n",
        "                for i in email:\n",
        "                  if i.isspace():              # email should not contain any space\n",
        "                    space = 1\n",
        "                  elif i.isalpha():\n",
        "                     if i == i.upper():        # email letters should not contain any capital letter\n",
        "                        cap = 1\n",
        "                  elif i.isdigit():            # numbers are allowed in email but not at starting\n",
        "                     continue\n",
        "                  elif i == '_' or i == \".\" or i == '@':    # only these 3 signs are allowed to enter in email but should not be consecutive\n",
        "                    continue\n",
        "                  else:\n",
        "                    exp = 1\n",
        "            if space == 1 or cap == 1 or exp == 1 or n == 1:\n",
        "              print(\"Sorry! Wrong email address condition5 satisfied\")\n",
        "            else:\n",
        "              print(\"Congrats...! your email is valid\")\n",
        "\n",
        "        else:\n",
        "          print(\"Sorry! Wrong email address condition4 satisfied\")         \n",
        "      else:\n",
        "        print(\"Sorry! Wrong email address Condition3 satisfied\")\n",
        "    else:\n",
        "      print(\"Sorry! Wrong email address condition2 satisfied\")\n",
        "  else:\n",
        "    print(\"Sorry! Wrong email address condition1 satistifed\") '''"
      ],
      "metadata": {
        "id": "ESQQKj-WhVLI"
      },
      "execution_count": 31,
      "outputs": []
    },
    {
      "cell_type": "code",
      "source": [
        "func2 = '''\n",
        "EmailValidationRe()\n",
        "'''"
      ],
      "metadata": {
        "id": "3d2ejRKdhfKy"
      },
      "execution_count": 32,
      "outputs": []
    },
    {
      "cell_type": "code",
      "source": [
        "setup2 = '''\n",
        "import re\n",
        "def EmailValidationRe():\n",
        "  email_cond = \"^[a-z]+[\\._]?[a-z 0-9]+[@]\\w+[.]\\w{2,3}$\"\n",
        "  email = input(\"Enter a valida email address:\").lower()\n",
        "  if re.search(email_cond,email):\n",
        "    print(\"Congrats...! You have entered Valid email address.\")\n",
        "  else:\n",
        "    print(\"Sorry...! Please enter valid email address\")\n",
        "  '''"
      ],
      "metadata": {
        "id": "Szxz895Chj9-"
      },
      "execution_count": 33,
      "outputs": []
    },
    {
      "cell_type": "code",
      "source": [
        "%%timeit\n",
        "Emailvalidation()"
      ],
      "metadata": {
        "colab": {
          "base_uri": "https://localhost:8080/"
        },
        "id": "JyAK0nJWidYC",
        "outputId": "3f97bcde-7217-4df9-8f9b-a3a1b39d130c"
      },
      "execution_count": 37,
      "outputs": [
        {
          "output_type": "stream",
          "name": "stdout",
          "text": [
            "Enter your email address:shantayy4@gmail.com\n",
            "Congrats...! your email is valid\n",
            "Enter your email address:sae@g.com\n",
            "Congrats...! your email is valid\n",
            "Enter your email address:dase2.com\n",
            "Sorry! Wrong email address condition4 satisfied\n",
            "Enter your email address:dsawe\n",
            "Sorry! Wrong email address condition1 satistifed\n",
            "Enter your email address:bhgytfd.\n",
            "Sorry! Wrong email address Condition3 satisfied\n",
            "Enter your email address:998865\n",
            "Sorry! Wrong email address condition2 satisfied\n",
            "Enter your email address:dnajdhyrgr\n",
            "Sorry! Wrong email address Condition3 satisfied\n",
            "Enter your email address:g.g@g.com\n",
            "Congrats...! your email is valid\n",
            "4.81 s ± 2.52 s per loop (mean ± std. dev. of 7 runs, 1 loop each)\n"
          ]
        }
      ]
    },
    {
      "cell_type": "code",
      "source": [
        "%%timeit\n",
        "EmailValidationRe()"
      ],
      "metadata": {
        "colab": {
          "base_uri": "https://localhost:8080/"
        },
        "id": "ypuXHi7ciwS_",
        "outputId": "f00e4f7c-1887-4636-80bb-85af2a478ec4"
      },
      "execution_count": 39,
      "outputs": [
        {
          "output_type": "stream",
          "name": "stdout",
          "text": [
            "Enter a valida email address:shantayya4@gmail.com\n",
            "Congrats...! You have entered Valid email address.\n",
            "Enter a valida email address:shantya\n",
            "Sorry...! Please enter valid email address\n",
            "Enter a valida email address:srdaw4@_/com\n",
            "Sorry...! Please enter valid email address\n",
            "Enter a valida email address:87654dg\n",
            "Sorry...! Please enter valid email address\n",
            "Enter a valida email address:g.g@g.in\n",
            "Congrats...! You have entered Valid email address.\n",
            "Enter a valida email address:da97@k.con\n",
            "Congrats...! You have entered Valid email address.\n",
            "Enter a valida email address:876f@gmail.com\n",
            "Sorry...! Please enter valid email address\n",
            "Enter a valida email address:hngtfrd@h.in\n",
            "Congrats...! You have entered Valid email address.\n",
            "5.9 s ± 1.28 s per loop (mean ± std. dev. of 7 runs, 1 loop each)\n"
          ]
        }
      ]
    },
    {
      "cell_type": "code",
      "source": [
        ""
      ],
      "metadata": {
        "id": "8vzNgyKvjCZ1"
      },
      "execution_count": null,
      "outputs": []
    }
  ]
}