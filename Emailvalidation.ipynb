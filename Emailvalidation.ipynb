{
  "nbformat": 4,
  "nbformat_minor": 0,
  "metadata": {
    "colab": {
      "name": "Emailvalidation.ipynb",
      "provenance": [],
      "collapsed_sections": [],
      "authorship_tag": "ABX9TyNmV+EG0uS9hPqNusW4E44b",
      "include_colab_link": true
    },
    "kernelspec": {
      "name": "python3",
      "display_name": "Python 3"
    },
    "language_info": {
      "name": "python"
    }
  },
  "cells": [
    {
      "cell_type": "markdown",
      "metadata": {
        "id": "view-in-github",
        "colab_type": "text"
      },
      "source": [
        "<a href=\"https://colab.research.google.com/github/shantayya/Python-Projects/blob/main/Emailvalidation.ipynb\" target=\"_parent\"><img src=\"https://colab.research.google.com/assets/colab-badge.svg\" alt=\"Open In Colab\"/></a>"
      ]
    },
    {
      "cell_type": "code",
      "execution_count": 22,
      "metadata": {
        "id": "WeKp4hGVaBYT"
      },
      "outputs": [],
      "source": [
        "def Emailvalidation():\n",
        "  cap,space,exp = 0,0,0\n",
        "  email = input(\"Enter your email address:\")\n",
        "  if len(email) >= 6:    #g@g.in or g@g.com min email length is 6\n",
        "    if email[0].isalpha():\n",
        "      if email[-3] == '.' or email[-4] == '.':\n",
        "        if ('@' in email) and (email.count('@') == 1):\n",
        "            for i in email:\n",
        "              if i.isspace():\n",
        "                space = 1\n",
        "              elif i.isalpha():\n",
        "                if i == i.upper():\n",
        "                  cap = 1\n",
        "              elif i.isdigit():\n",
        "                continue\n",
        "              elif i == '_' or i == \".\" or i == '@':\n",
        "                continue\n",
        "              else:\n",
        "               exp = 1\n",
        "            if space == 1 or cap == 1 or exp == 1:\n",
        "              print(\"Sorry! Wrong email address condition5 satisfied\")\n",
        "            else:\n",
        "              print(\"Congrats...! your email is valid\")\n",
        "\n",
        "        else:\n",
        "          print(\"Sorry! Wrong email address condition4 satisfied\")         \n",
        "      else:\n",
        "        print(\"Sorry! Wrong email address Condition3 satisfied\")\n",
        "    else:\n",
        "      print(\"Sorry! Wrong email address condition2 satisfied\")\n",
        "  else:\n",
        "    print(\"Sorry! Wrong email address condition1 satistifed\")"
      ]
    },
    {
      "cell_type": "code",
      "source": [
        "Emailvalidation()"
      ],
      "metadata": {
        "colab": {
          "base_uri": "https://localhost:8080/"
        },
        "id": "neNH-ARkegEz",
        "outputId": "efe14fae-cfc1-4383-86e1-3dc62946fb08"
      },
      "execution_count": 5,
      "outputs": [
        {
          "output_type": "stream",
          "name": "stdout",
          "text": [
            "Enter your email address:edsa\n",
            "Sorry! Wrong email address condition1 satistifed\n"
          ]
        }
      ]
    },
    {
      "cell_type": "code",
      "source": [
        "Emailvalidation()"
      ],
      "metadata": {
        "colab": {
          "base_uri": "https://localhost:8080/"
        },
        "id": "5amzkgD6ej15",
        "outputId": "fbcbbce7-b081-4550-fac1-f96ac517bbb9"
      },
      "execution_count": 7,
      "outputs": [
        {
          "output_type": "stream",
          "name": "stdout",
          "text": [
            "Enter your email address:2sa@gmail.com\n",
            "Sorry! Wrong email address condition2 satisfied\n"
          ]
        }
      ]
    },
    {
      "cell_type": "code",
      "source": [
        "Emailvalidation()"
      ],
      "metadata": {
        "colab": {
          "base_uri": "https://localhost:8080/"
        },
        "id": "D4hW1yhBfe6q",
        "outputId": "5f0a3ef5-7b4b-43a2-9ed8-3e206f0557e1"
      },
      "execution_count": 10,
      "outputs": [
        {
          "output_type": "stream",
          "name": "stdout",
          "text": [
            "Enter your email address:edsa@.comg\n",
            "Sorry! Wrong email address Condition3 satisfied\n"
          ]
        }
      ]
    },
    {
      "cell_type": "code",
      "source": [
        "Emailvalidation()"
      ],
      "metadata": {
        "colab": {
          "base_uri": "https://localhost:8080/"
        },
        "id": "1F3TcU-7flsF",
        "outputId": "5aff54dc-4e7f-4d35-b4bf-6c19dad91b02"
      },
      "execution_count": 12,
      "outputs": [
        {
          "output_type": "stream",
          "name": "stdout",
          "text": [
            "Enter your email address:eds@.@.com\n",
            "Sorry! Wrong email address condition4 satisfied\n"
          ]
        }
      ]
    },
    {
      "cell_type": "code",
      "source": [
        "Emailvalidation()"
      ],
      "metadata": {
        "colab": {
          "base_uri": "https://localhost:8080/"
        },
        "id": "XXrLw6UYf6XJ",
        "outputId": "57596488-9f6a-436d-930b-4cbe7b69516c"
      },
      "execution_count": 13,
      "outputs": [
        {
          "output_type": "stream",
          "name": "stdout",
          "text": [
            "Enter your email address:eds ws@g.com\n",
            "Sorry! Wrong email address condition5 satisfied\n"
          ]
        }
      ]
    },
    {
      "cell_type": "code",
      "source": [
        "Emailvalidation()"
      ],
      "metadata": {
        "colab": {
          "base_uri": "https://localhost:8080/"
        },
        "id": "EhI9eVA4gLRj",
        "outputId": "a1c6e920-9291-4dc2-b29c-7173f2171f04"
      },
      "execution_count": 14,
      "outputs": [
        {
          "output_type": "stream",
          "name": "stdout",
          "text": [
            "Enter your email address:es@GMAIL.com\n",
            "Sorry! Wrong email address condition5 satisfied\n"
          ]
        }
      ]
    },
    {
      "cell_type": "code",
      "source": [
        ""
      ],
      "metadata": {
        "id": "8JCCfTiNhOhl"
      },
      "execution_count": null,
      "outputs": []
    }
  ]
}