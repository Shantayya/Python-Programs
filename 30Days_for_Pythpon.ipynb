{
  "nbformat": 4,
  "nbformat_minor": 0,
  "metadata": {
    "colab": {
      "provenance": [],
      "collapsed_sections": [],
      "authorship_tag": "ABX9TyOBrvOjJ3WdRRNsqaio2zx0",
      "include_colab_link": true
    },
    "kernelspec": {
      "name": "python3",
      "display_name": "Python 3"
    },
    "language_info": {
      "name": "python"
    }
  },
  "cells": [
    {
      "cell_type": "markdown",
      "metadata": {
        "id": "view-in-github",
        "colab_type": "text"
      },
      "source": [
        "<a href=\"https://colab.research.google.com/github/shantayya/Python-Projects/blob/main/30Days_for_Pythpon.ipynb\" target=\"_parent\"><img src=\"https://colab.research.google.com/assets/colab-badge.svg\" alt=\"Open In Colab\"/></a>"
      ]
    },
    {
      "cell_type": "code",
      "execution_count": null,
      "metadata": {
        "id": "bGtmBGgycDpi"
      },
      "outputs": [],
      "source": [
        "# select lines and press ctrl + / for multiple line comments \n",
        "# Day1 excercise\n",
        "# Print your age to the console.\n",
        "# Calculate and print the number of days, weeks, and months in 27 years. Don’t worry about leap years!\n",
        "# Calculate and print the area of a circle with a radius of 5 units. You can be as accurate as you like with the value of pi."
      ]
    },
    {
      "cell_type": "code",
      "source": [
        "print(30)"
      ],
      "metadata": {
        "colab": {
          "base_uri": "https://localhost:8080/"
        },
        "id": "K78yc4evcKCj",
        "outputId": "6360a145-6917-43a1-f14a-9360705b120c"
      },
      "execution_count": null,
      "outputs": [
        {
          "output_type": "stream",
          "name": "stdout",
          "text": [
            "30\n"
          ]
        }
      ]
    },
    {
      "cell_type": "code",
      "source": [
        "print('Days:'+ str(27 * 365))\n",
        "print('Weaks:'+ str(27 * 52))\n",
        "print('Months:'+ str(27 * 12))\n",
        "\n"
      ],
      "metadata": {
        "colab": {
          "base_uri": "https://localhost:8080/"
        },
        "id": "9yGvoVuYcLfX",
        "outputId": "99369d26-16db-4bf7-de48-3be5339aeb81"
      },
      "execution_count": null,
      "outputs": [
        {
          "output_type": "stream",
          "name": "stdout",
          "text": [
            "Days:9855\n",
            "Weaks:1404\n",
            "Months:324\n"
          ]
        }
      ]
    },
    {
      "cell_type": "code",
      "source": [
        "def area(rad):\n",
        "  pi = 3.14\n",
        "  area = pi * rad**2\n",
        "  print(f\"Area: {area}\")"
      ],
      "metadata": {
        "id": "iG65fvuxdSiO"
      },
      "execution_count": null,
      "outputs": []
    },
    {
      "cell_type": "code",
      "source": [
        "area(5)"
      ],
      "metadata": {
        "colab": {
          "base_uri": "https://localhost:8080/"
        },
        "id": "q2oc3zrAeB9d",
        "outputId": "89f5bbfa-ca37-4759-9d7b-a38a6db090ea"
      },
      "execution_count": null,
      "outputs": [
        {
          "output_type": "stream",
          "name": "stdout",
          "text": [
            "Area: 78.5\n"
          ]
        }
      ]
    },
    {
      "cell_type": "code",
      "source": [
        "# QRCode generation"
      ],
      "metadata": {
        "id": "lIkkVXCMeDZK"
      },
      "execution_count": null,
      "outputs": []
    },
    {
      "cell_type": "code",
      "source": [
        "pip install qrcode[pip]"
      ],
      "metadata": {
        "colab": {
          "base_uri": "https://localhost:8080/"
        },
        "id": "divDR_lRmv-9",
        "outputId": "7909e124-b9bc-4511-e190-51590fce285f"
      },
      "execution_count": null,
      "outputs": [
        {
          "output_type": "stream",
          "name": "stdout",
          "text": [
            "Looking in indexes: https://pypi.org/simple, https://us-python.pkg.dev/colab-wheels/public/simple/\n",
            "Collecting qrcode[pip]\n",
            "  Downloading qrcode-7.3.1.tar.gz (43 kB)\n",
            "\u001b[?25l\r\u001b[K     |███████▌                        | 10 kB 20.9 MB/s eta 0:00:01\r\u001b[K     |███████████████                 | 20 kB 29.2 MB/s eta 0:00:01\r\u001b[K     |██████████████████████▋         | 30 kB 35.5 MB/s eta 0:00:01\r\u001b[K     |██████████████████████████████▏ | 40 kB 40.4 MB/s eta 0:00:01\r\u001b[K     |████████████████████████████████| 43 kB 2.3 MB/s \n",
            "\u001b[33mWARNING: qrcode 7.3.1 does not provide the extra 'pip'\u001b[0m\n",
            "\u001b[?25hBuilding wheels for collected packages: qrcode\n",
            "  Building wheel for qrcode (setup.py) ... \u001b[?25l\u001b[?25hdone\n",
            "  Created wheel for qrcode: filename=qrcode-7.3.1-py3-none-any.whl size=40402 sha256=7776182181a1f3c9e7f98347025342f7e4c90c0efb5c0775e19fd4b03d5bf881\n",
            "  Stored in directory: /root/.cache/pip/wheels/93/d7/39/a4111be2cfb8e679938aa671a37888b6afb1f9e7d748e94492\n",
            "Successfully built qrcode\n",
            "Installing collected packages: qrcode\n",
            "Successfully installed qrcode-7.3.1\n"
          ]
        }
      ]
    },
    {
      "cell_type": "code",
      "source": [
        "import qrcode as qr\n",
        "from PIL import Image\n",
        "img = qr.make(\"mh12q9820@icici\")\n",
        "img.save(\"iciciqr.png\")\n",
        "qrc = Image.open(r\"/content/iciciqr.png\")\n",
        "qrc.show()"
      ],
      "metadata": {
        "id": "DL9BHlh8m75n"
      },
      "execution_count": null,
      "outputs": []
    },
    {
      "cell_type": "code",
      "source": [
        "pwd"
      ],
      "metadata": {
        "colab": {
          "base_uri": "https://localhost:8080/",
          "height": 35
        },
        "id": "-A6lrVENukst",
        "outputId": "3370dad8-587a-42e2-9cbf-ec10eb0ec467"
      },
      "execution_count": null,
      "outputs": [
        {
          "output_type": "execute_result",
          "data": {
            "text/plain": [
              "'/content'"
            ],
            "application/vnd.google.colaboratory.intrinsic+json": {
              "type": "string"
            }
          },
          "metadata": {},
          "execution_count": 33
        }
      ]
    },
    {
      "cell_type": "code",
      "source": [
        "ls -lrt"
      ],
      "metadata": {
        "colab": {
          "base_uri": "https://localhost:8080/"
        },
        "id": "zIomA1rmvc1N",
        "outputId": "41fcae76-5a2c-4372-e6af-5e2b7fc4cd43"
      },
      "execution_count": null,
      "outputs": [
        {
          "output_type": "stream",
          "name": "stdout",
          "text": [
            "total 8\n",
            "drwxr-xr-x 1 root root 4096 Aug 15 13:44 \u001b[0m\u001b[01;34msample_data\u001b[0m/\n",
            "-rw-r--r-- 1 root root  557 Aug 26 06:01 iciciqr.png\n"
          ]
        }
      ]
    },
    {
      "cell_type": "code",
      "source": [
        "img = Image.open('/content/iciciqr.png')\n",
        "img.show()"
      ],
      "metadata": {
        "id": "2eUPMqUtvd7R"
      },
      "execution_count": null,
      "outputs": []
    },
    {
      "cell_type": "code",
      "source": [
        "# Day2 \n",
        "# Ask the user for their name and age, assign theses values to two variables, and then print them.\n",
        "# Investigate what happens when you try to assign a value to a variable that you’ve already defined. Try printing the variable before and after you reuse the name.\n",
        "# Below you’ll find some code with a number of errors. Try to go through the program line by line and fix the issues in the code. I’d encourage you to try running the program while you’re working on it, as reading the error messages is great practice for debugging your own programs.\n",
        "#hourly_wage = input(\"Please enter your hourly wage: ')\n",
        "\n",
        "#prnt(\"Hourly wage: \")\n",
        "#print(hourlywage)\n",
        "#print(\"Hours worked: \")\n",
        "#print(hours_worked)\n",
        "\n",
        "#hours_worked = input(\"How many hours did you work this week? \")"
      ],
      "metadata": {
        "id": "5yT__4EFvrcn"
      },
      "execution_count": null,
      "outputs": []
    },
    {
      "cell_type": "code",
      "source": [
        "name = input(\"Name please:\")\n",
        "age = input(\"Age please:\")\n",
        "print(f'Name:{name} \\nAge: {age}')\n"
      ],
      "metadata": {
        "colab": {
          "base_uri": "https://localhost:8080/"
        },
        "id": "Rd1PnWyj_MwB",
        "outputId": "da4bb76a-e6ac-46f5-cea6-b4c897cdf5f1"
      },
      "execution_count": null,
      "outputs": [
        {
          "output_type": "stream",
          "name": "stdout",
          "text": [
            "Name please:Shantayya\n",
            "Age please:30\n",
            "Name:Shantayya \n",
            "Age: 30\n"
          ]
        }
      ]
    },
    {
      "cell_type": "code",
      "source": [
        "hourly_wage = input(\"Please enter your hourly wage: \")\n",
        "hours_worked = input(\"How many hours did you work this week? \")\n",
        "print(f\"Hourly wage:{hourly_wage} \")\n",
        "print(f\"Hours worked:{hours_worked}\")\n"
      ],
      "metadata": {
        "colab": {
          "base_uri": "https://localhost:8080/"
        },
        "id": "_O69KMnB_l_B",
        "outputId": "89828928-630e-4363-d66c-1db928792fc4"
      },
      "execution_count": null,
      "outputs": [
        {
          "output_type": "stream",
          "name": "stdout",
          "text": [
            "Please enter your hourly wage: 150\n",
            "How many hours did you work this week? 8\n",
            "Hourly wage:150 \n",
            "Hours worked:8\n"
          ]
        }
      ]
    },
    {
      "cell_type": "code",
      "source": [
        "x = 5\n",
        "x = 7\n",
        "print(x)"
      ],
      "metadata": {
        "colab": {
          "base_uri": "https://localhost:8080/"
        },
        "id": "j4bSlQIQAcXH",
        "outputId": "7d28a668-e85c-4919-8718-9440ae3b2ed5"
      },
      "execution_count": null,
      "outputs": [
        {
          "output_type": "stream",
          "name": "stdout",
          "text": [
            "7\n"
          ]
        }
      ]
    },
    {
      "cell_type": "code",
      "source": [
        "# Day3 \n",
        "# if we want multiline statements then use \\\n",
        "# use ctl+/ for multiline comment"
      ],
      "metadata": {
        "id": "IK-D9lcZA2AM"
      },
      "execution_count": null,
      "outputs": []
    },
    {
      "cell_type": "code",
      "source": [
        "print(\"hello multiline\")\n",
        "x = 4 + \\\n",
        "        4\n",
        "print(x)"
      ],
      "metadata": {
        "colab": {
          "base_uri": "https://localhost:8080/"
        },
        "id": "4o34nz6T-Dip",
        "outputId": "cd32bf7f-93e7-4694-e342-7c3dfca87080"
      },
      "execution_count": null,
      "outputs": [
        {
          "output_type": "stream",
          "name": "stdout",
          "text": [
            "hello multiline\n",
            "8\n"
          ]
        }
      ]
    },
    {
      "cell_type": "code",
      "source": [
        "# String interpolation with .format() method"
      ],
      "metadata": {
        "id": "WzjxBbTt-K-f"
      },
      "execution_count": null,
      "outputs": []
    },
    {
      "cell_type": "code",
      "source": [
        "print(\"{} stays in {}\".format(\"Shantayya\",\"Pune\"))"
      ],
      "metadata": {
        "colab": {
          "base_uri": "https://localhost:8080/"
        },
        "id": "WzZlyNplD7Q6",
        "outputId": "e9679f6f-c1f1-4c2d-bb3c-b1c6fdf63ca0"
      },
      "execution_count": null,
      "outputs": [
        {
          "output_type": "stream",
          "name": "stdout",
          "text": [
            "Shantayya stays in Pune\n"
          ]
        }
      ]
    },
    {
      "cell_type": "code",
      "source": [
        "output = \"{0} Stays in {1} and {0} is {2} years old\"\n",
        "print(output.format(\"Shantayya\",\"Pune\",30))"
      ],
      "metadata": {
        "colab": {
          "base_uri": "https://localhost:8080/"
        },
        "id": "dOH6AZGWEHKc",
        "outputId": "d01a7cab-0cbf-46c7-ff65-f9b05b1794e3"
      },
      "execution_count": null,
      "outputs": [
        {
          "output_type": "stream",
          "name": "stdout",
          "text": [
            "Shantayya Stays in Pune and Shantayya is 30 years old\n"
          ]
        }
      ]
    },
    {
      "cell_type": "code",
      "source": [
        "output = \"{name} stays in {city} and {name} is {age} years old\"\n",
        "print(output.format(name=\"Shantayya\",city=\"Pune\",age=30))"
      ],
      "metadata": {
        "id": "Swh2EIP3EVaj",
        "colab": {
          "base_uri": "https://localhost:8080/"
        },
        "outputId": "2b2cd70e-699b-4c56-e3db-e4827b7afb18"
      },
      "execution_count": null,
      "outputs": [
        {
          "output_type": "stream",
          "name": "stdout",
          "text": [
            "Shantayya stays in Pune and Shantayya is 30 years old\n"
          ]
        }
      ]
    },
    {
      "cell_type": "code",
      "source": [
        "name = \"Shantayya\"\n",
        "city = \"Pune\"\n",
        "age = 30"
      ],
      "metadata": {
        "id": "XlUJVZaeE0vt"
      },
      "execution_count": null,
      "outputs": []
    },
    {
      "cell_type": "code",
      "source": [
        "f\"{name} stays in {city} and {name} is {age} years old\""
      ],
      "metadata": {
        "colab": {
          "base_uri": "https://localhost:8080/",
          "height": 35
        },
        "id": "YTsg-N2gFx5I",
        "outputId": "c33bcc85-8f4b-413c-c268-ead21bdf11f7"
      },
      "execution_count": null,
      "outputs": [
        {
          "output_type": "execute_result",
          "data": {
            "text/plain": [
              "'Shantayya stays in Pune and Shantayya is 30 years old'"
            ],
            "application/vnd.google.colaboratory.intrinsic+json": {
              "type": "string"
            }
          },
          "metadata": {},
          "execution_count": 3
        }
      ]
    },
    {
      "cell_type": "code",
      "source": [
        "# Basic string processing\n",
        "# lower and upper turn the entire string to lowercase and uppercase, respectively\n",
        "# capitalize is going to turn the first character to uppercase, with the rest being lowercase. \n",
        "# title is going to turn the string to title case, which means every word starts with a capital letter, and all other letters are turns to lowercase.\n",
        "# strip removing white space from the ends of a string"
      ],
      "metadata": {
        "id": "GISmG3qMF5Rh"
      },
      "execution_count": null,
      "outputs": []
    },
    {
      "cell_type": "code",
      "source": [
        "\"Hello World!\".lower()"
      ],
      "metadata": {
        "colab": {
          "base_uri": "https://localhost:8080/",
          "height": 35
        },
        "id": "hw6Ih3-jGSPZ",
        "outputId": "d9cd6f45-6c9a-40b1-fffd-34bec4ea3605"
      },
      "execution_count": null,
      "outputs": [
        {
          "output_type": "execute_result",
          "data": {
            "text/plain": [
              "'hello world!'"
            ],
            "application/vnd.google.colaboratory.intrinsic+json": {
              "type": "string"
            }
          },
          "metadata": {},
          "execution_count": 17
        }
      ]
    },
    {
      "cell_type": "code",
      "source": [
        "\"hello World!\".upper()"
      ],
      "metadata": {
        "colab": {
          "base_uri": "https://localhost:8080/",
          "height": 35
        },
        "id": "V8QFhvWYGh3P",
        "outputId": "36dff3d4-fdfd-4f99-8354-e65bf9457de5"
      },
      "execution_count": null,
      "outputs": [
        {
          "output_type": "execute_result",
          "data": {
            "text/plain": [
              "'HELLO WORLD!'"
            ],
            "application/vnd.google.colaboratory.intrinsic+json": {
              "type": "string"
            }
          },
          "metadata": {},
          "execution_count": 18
        }
      ]
    },
    {
      "cell_type": "code",
      "source": [
        "\"hello world!\".capitalize()"
      ],
      "metadata": {
        "colab": {
          "base_uri": "https://localhost:8080/",
          "height": 35
        },
        "id": "PKXtvIhXG0A-",
        "outputId": "cd896206-27af-437a-a10a-576bffd13a02"
      },
      "execution_count": null,
      "outputs": [
        {
          "output_type": "execute_result",
          "data": {
            "text/plain": [
              "'Hello world!'"
            ],
            "application/vnd.google.colaboratory.intrinsic+json": {
              "type": "string"
            }
          },
          "metadata": {},
          "execution_count": 19
        }
      ]
    },
    {
      "cell_type": "code",
      "source": [
        "\"hello world!\".title()"
      ],
      "metadata": {
        "colab": {
          "base_uri": "https://localhost:8080/",
          "height": 35
        },
        "id": "67ZD7xyXG1Ym",
        "outputId": "7486f86f-9952-4d72-eeda-23725134d371"
      },
      "execution_count": null,
      "outputs": [
        {
          "output_type": "execute_result",
          "data": {
            "text/plain": [
              "'Hello World!'"
            ],
            "application/vnd.google.colaboratory.intrinsic+json": {
              "type": "string"
            }
          },
          "metadata": {},
          "execution_count": 20
        }
      ]
    },
    {
      "cell_type": "code",
      "source": [
        "\" Hello, Shantayya. How are ---you--- doing? \".strip()"
      ],
      "metadata": {
        "colab": {
          "base_uri": "https://localhost:8080/",
          "height": 35
        },
        "id": "PejlMmpaG5Ma",
        "outputId": "7988e553-6535-4172-8e7f-977847af554b"
      },
      "execution_count": null,
      "outputs": [
        {
          "output_type": "execute_result",
          "data": {
            "text/plain": [
              "'Hello, Shantayya. How are ---you--- doing?'"
            ],
            "application/vnd.google.colaboratory.intrinsic+json": {
              "type": "string"
            }
          },
          "metadata": {},
          "execution_count": 50
        }
      ]
    },
    {
      "cell_type": "code",
      "source": [
        "# day4 "
      ],
      "metadata": {
        "id": "uYdM5h2yK6L6"
      },
      "execution_count": null,
      "outputs": []
    },
    {
      "cell_type": "code",
      "source": [
        "name = \"Shantayya\"\n",
        "lenth = len(name)\n",
        "print(f\"{name[lenth:0]}\")"
      ],
      "metadata": {
        "colab": {
          "base_uri": "https://localhost:8080/"
        },
        "id": "5IboJ6etukkA",
        "outputId": "da05eb43-e918-4ed7-f1ae-592af278775b"
      },
      "execution_count": null,
      "outputs": [
        {
          "output_type": "stream",
          "name": "stdout",
          "text": [
            "\n"
          ]
        }
      ]
    },
    {
      "cell_type": "code",
      "source": [
        "one = int(input(\"Enter 1st number:\"))\n",
        "two = int(input(\"Enter 2nd number\"))\n",
        "print(one + two)\n",
        "\n",
        "# input considered as string\n",
        "one = input(\"Enter 1st number:\")\n",
        "two = input(\"Enter 2nd number\")\n",
        "print(one + two)"
      ],
      "metadata": {
        "colab": {
          "base_uri": "https://localhost:8080/"
        },
        "id": "Q3i0Hx_2uq62",
        "outputId": "2a0f5297-bf83-4e05-cd65-836edf1460de"
      },
      "execution_count": null,
      "outputs": [
        {
          "output_type": "stream",
          "name": "stdout",
          "text": [
            "Enter 1st number:12\n",
            "Enter 2nd number12\n",
            "24\n",
            "Enter 1st number:12\n",
            "Enter 2nd number12\n",
            "1212\n"
          ]
        }
      ]
    },
    {
      "cell_type": "code",
      "source": [
        "# lists"
      ],
      "metadata": {
        "id": "LU0KMF8xvnXv"
      },
      "execution_count": null,
      "outputs": []
    },
    {
      "cell_type": "code",
      "source": [
        "mylistone = ['Shantayya', 30, \"Swami\", 80]\n",
        "mylisttwo = [\"Shankar\", 32, \"Swamy\", 66]\n",
        "print(mylistone)\n",
        "print(mylistone[1:])\n",
        "print(mylistone + mylisttwo)\n",
        "mylistone[0] = \"Shantanu\"\n",
        "print(mylistone)\n",
        "mylistone.append(100)\n",
        "mylistone.pop(1)\n",
        "mylisttwo.remove(66)\n",
        "print(mylistone + mylisttwo)\n",
        "mylisttwo.insert(0,\"Shankar\")\n",
        "print(mylisttwo)"
      ],
      "metadata": {
        "colab": {
          "base_uri": "https://localhost:8080/"
        },
        "id": "V2q9hjrzx1JA",
        "outputId": "f192df0f-1236-4246-fda4-f511c495fc6b"
      },
      "execution_count": null,
      "outputs": [
        {
          "output_type": "stream",
          "name": "stdout",
          "text": [
            "['Shantayya', 30, 'Swami', 80]\n",
            "[30, 'Swami', 80]\n",
            "['Shantayya', 30, 'Swami', 80, 'Shankar', 32, 'Swamy', 66]\n",
            "['Shantanu', 30, 'Swami', 80]\n",
            "['Shantanu', 'Swami', 80, 100, 'Shankar', 32, 'Swamy']\n",
            "['Shankar', 'Shankar', 32, 'Swamy']\n"
          ]
        }
      ]
    },
    {
      "cell_type": "code",
      "source": [
        "# tuple\n",
        "# We can’t change them once we define them.\n",
        "\n",
        "#This means you won’t find any pop or append methods for tuples, and the del keyword isn’t going to allow you to remove values using an index."
      ],
      "metadata": {
        "id": "tfVbzwbVyE4e"
      },
      "execution_count": null,
      "outputs": []
    },
    {
      "cell_type": "code",
      "source": [
        "mytuple = (\"Shantayya\", 80, \"Pune\", 'additon')\n",
        "print(mytuple)\n",
        "print(mytuple[1:])\n",
        "print(len(mytuple))\n",
        "\n",
        "#not allowed\n",
        "#mytuple[0] = \"Hitesh\""
      ],
      "metadata": {
        "colab": {
          "base_uri": "https://localhost:8080/"
        },
        "id": "crMjO4DhyqlE",
        "outputId": "10864911-1391-4154-c0a0-7c36582fa051"
      },
      "execution_count": null,
      "outputs": [
        {
          "output_type": "stream",
          "name": "stdout",
          "text": [
            "('Shantayya', 80, 'Pune', 'additon')\n",
            "(80, 'Pune', 'additon')\n",
            "4\n"
          ]
        }
      ]
    },
    {
      "cell_type": "code",
      "source": [
        "# disctionary\n",
        "myd = {\n",
        "    1 : \"Shantayya\",\n",
        "    2 : \"Swmay\",\n",
        "    3 : \"one\"\n",
        "\n",
        "}"
      ],
      "metadata": {
        "id": "NttZDDXnyx6Q"
      },
      "execution_count": null,
      "outputs": []
    },
    {
      "cell_type": "code",
      "source": [
        "print(myd.keys())\n",
        "print(myd.values())"
      ],
      "metadata": {
        "colab": {
          "base_uri": "https://localhost:8080/"
        },
        "id": "onfTv8Yd0uI_",
        "outputId": "a7d20de6-ff00-46f2-a97b-c7ffd46a6a6b"
      },
      "execution_count": null,
      "outputs": [
        {
          "output_type": "stream",
          "name": "stdout",
          "text": [
            "dict_keys([1, 2, 3, 5])\n",
            "dict_values(['Shantayya', 'Swmay', 'one', 'shantayya'])\n"
          ]
        }
      ]
    },
    {
      "cell_type": "code",
      "source": [
        "myd[5] = 'shantayya'\n",
        "print(myd)"
      ],
      "metadata": {
        "colab": {
          "base_uri": "https://localhost:8080/"
        },
        "id": "aIL1De7d1N8X",
        "outputId": "1ebc2990-f2b7-4188-d0f5-884edb6be279"
      },
      "execution_count": null,
      "outputs": [
        {
          "output_type": "stream",
          "name": "stdout",
          "text": [
            "{1: 'Shantayya', 2: 'Swmay', 3: 'one', 5: 'shantayya'}\n"
          ]
        }
      ]
    },
    {
      "cell_type": "code",
      "source": [
        "myd.pop(1)"
      ],
      "metadata": {
        "colab": {
          "base_uri": "https://localhost:8080/",
          "height": 35
        },
        "id": "YfhaeMBs1h-D",
        "outputId": "cf2dd72d-8729-4c2b-f5a2-07b42799c44c"
      },
      "execution_count": null,
      "outputs": [
        {
          "output_type": "execute_result",
          "data": {
            "text/plain": [
              "'Shantayya'"
            ],
            "application/vnd.google.colaboratory.intrinsic+json": {
              "type": "string"
            }
          },
          "metadata": {},
          "execution_count": 65
        }
      ]
    },
    {
      "cell_type": "code",
      "source": [
        "#Excecise\n",
        "# 1. Create a movies list containing a single tuple. The tuple should contain a movie title, the director’s name, the release year of the movie, and the movie’s budget.\n",
        "# 2. Use the input function to gather information about another movie. You need a title, director’s name, release year, and budget.\n",
        "# 3. Create a new tuple from the values you gathered using input. Make sure they’re in the same order as the tuple you wrote in the movies list.\n",
        "# 4. Use an f-string to print the movie name and release year by accessing your new movie tuple.\n",
        "# 5. Add the new movie tuple to the movies collection using append.\n",
        "# 6. Print both movies in the movies collection.\n",
        "# 7. Remove the first movie from movies. Use any method you like."
      ],
      "metadata": {
        "id": "ylix4CGk15no"
      },
      "execution_count": null,
      "outputs": []
    },
    {
      "cell_type": "code",
      "source": [
        "movies = [(\"DDLJ\", \"Shantayya Swami\", \"1999\", \"1000k\" )]\n",
        "movieinput = (input(\"Movie: \"), input(\"Director: \"), input(\"year: \"), input(\"Budget: \"))\n",
        "movies.append(movieinput)\n",
        "print(movies)"
      ],
      "metadata": {
        "colab": {
          "base_uri": "https://localhost:8080/"
        },
        "id": "1uzteHvi67II",
        "outputId": "c5012dbb-9272-499e-ddcb-fc58e948916c"
      },
      "execution_count": null,
      "outputs": [
        {
          "output_type": "stream",
          "name": "stdout",
          "text": [
            "Movie: Om\n",
            "Director: Somnath\n",
            "year: \n",
            "Budget: 19\n",
            "[('DDLJ', 'Shantayya Swami', '1999', '1000k'), ('Om', 'Somnath', '', '19')]\n"
          ]
        }
      ]
    },
    {
      "cell_type": "code",
      "source": [
        "#movies.pop(0)\n",
        "print(movies)"
      ],
      "metadata": {
        "colab": {
          "base_uri": "https://localhost:8080/"
        },
        "id": "KQ8hhVQq7MUy",
        "outputId": "8262faa5-4306-4158-c14e-e1e54bcfda3b"
      },
      "execution_count": null,
      "outputs": [
        {
          "output_type": "stream",
          "name": "stdout",
          "text": [
            "[('om', 'shank', '1991', '50l')]\n"
          ]
        }
      ]
    },
    {
      "cell_type": "code",
      "source": [
        "# Day 5\n",
        "# 1) Try to approximate the behaviour of the is operator using ==. \n",
        "# Remember we have the id function for finding the memory address for a given value, and we can compare memory addresses to check for identity."
      ],
      "metadata": {
        "id": "6tyrnaPE_N_W"
      },
      "execution_count": null,
      "outputs": []
    },
    {
      "cell_type": "code",
      "source": [
        "a = 100\n",
        "b = 100\n",
        "id(a)\n",
        "id(b)"
      ],
      "metadata": {
        "colab": {
          "base_uri": "https://localhost:8080/"
        },
        "id": "dTEVpd4Jhl3v",
        "outputId": "a94852f3-4644-4819-994e-4db8c82cc135"
      },
      "execution_count": null,
      "outputs": [
        {
          "output_type": "execute_result",
          "data": {
            "text/plain": [
              "11259232"
            ]
          },
          "metadata": {},
          "execution_count": 2
        }
      ]
    },
    {
      "cell_type": "code",
      "source": [
        "a is b"
      ],
      "metadata": {
        "colab": {
          "base_uri": "https://localhost:8080/"
        },
        "id": "WGzN9vyLhqBo",
        "outputId": "6e799efa-ec16-4a4a-823d-dd5f73feb26f"
      },
      "execution_count": null,
      "outputs": [
        {
          "output_type": "execute_result",
          "data": {
            "text/plain": [
              "True"
            ]
          },
          "metadata": {},
          "execution_count": 6
        }
      ]
    },
    {
      "cell_type": "code",
      "source": [
        "# 2) Try to use the is operator or the id function to investigate the difference between this:\n",
        "\n",
        "# numbers = [1, 2, 3, 4]\n",
        "# new_numbers = numbers + [5]\n",
        "# And this:\n",
        "\n",
        "# # numbers = [1, 2, 3, 4]\n",
        "# numbers.append(5)"
      ],
      "metadata": {
        "id": "o8FQNBhHhtBq"
      },
      "execution_count": null,
      "outputs": []
    },
    {
      "cell_type": "code",
      "source": [
        "number = [1,2,3,4]\n",
        "new_number = number + [5]\n",
        "id(number)"
      ],
      "metadata": {
        "colab": {
          "base_uri": "https://localhost:8080/"
        },
        "id": "8wn7-dQWiUXH",
        "outputId": "11791f8c-dca6-4c44-9c56-14b7b937e66c"
      },
      "execution_count": null,
      "outputs": [
        {
          "output_type": "execute_result",
          "data": {
            "text/plain": [
              "140406153203056"
            ]
          },
          "metadata": {},
          "execution_count": 10
        }
      ]
    },
    {
      "cell_type": "code",
      "source": [
        "id(new_number)"
      ],
      "metadata": {
        "colab": {
          "base_uri": "https://localhost:8080/"
        },
        "id": "SfGgkkWsiiir",
        "outputId": "edb9b407-6b5f-4d08-e007-56a5d521761e"
      },
      "execution_count": null,
      "outputs": [
        {
          "output_type": "execute_result",
          "data": {
            "text/plain": [
              "140406152888400"
            ]
          },
          "metadata": {},
          "execution_count": 11
        }
      ]
    },
    {
      "cell_type": "code",
      "source": [
        "print(number)"
      ],
      "metadata": {
        "colab": {
          "base_uri": "https://localhost:8080/"
        },
        "id": "Y0iKCgnQimwS",
        "outputId": "2a07e153-2f0e-4065-cf3c-98c1f2f6886a"
      },
      "execution_count": null,
      "outputs": [
        {
          "output_type": "stream",
          "name": "stdout",
          "text": [
            "[1, 2, 3, 4]\n"
          ]
        }
      ]
    },
    {
      "cell_type": "code",
      "source": [
        "print(new_number)"
      ],
      "metadata": {
        "colab": {
          "base_uri": "https://localhost:8080/"
        },
        "id": "_Kqxij5kiqHu",
        "outputId": "ca02d16b-2ab7-410a-a1e4-5f30ed8cd485"
      },
      "execution_count": null,
      "outputs": [
        {
          "output_type": "stream",
          "name": "stdout",
          "text": [
            "[1, 2, 3, 4, 5]\n"
          ]
        }
      ]
    },
    {
      "cell_type": "code",
      "source": [
        "id(number.append(5))"
      ],
      "metadata": {
        "colab": {
          "base_uri": "https://localhost:8080/"
        },
        "id": "fg6J4_gEitB6",
        "outputId": "d6761c76-885a-46b7-b11c-acee6d10fe3d"
      },
      "execution_count": null,
      "outputs": [
        {
          "output_type": "execute_result",
          "data": {
            "text/plain": [
              "11125344"
            ]
          },
          "metadata": {},
          "execution_count": 14
        }
      ]
    },
    {
      "cell_type": "code",
      "source": [
        "# 3) Ask the user to enter a number. Tell the user whether the number is positive, negative, or zero.\n",
        "num = int(input(\"Please enter a number:\"))\n",
        "if num > 0:\n",
        "  print(f\"{num} is Positive\")\n",
        "elif num < 0:\n",
        "  print(f\"{num} is Negative\")\n",
        "else:\n",
        "  print(f\"Number is {num}\")"
      ],
      "metadata": {
        "colab": {
          "base_uri": "https://localhost:8080/"
        },
        "id": "si50ZHAri-Ic",
        "outputId": "433d143e-1284-4075-e6bb-044651cefe69"
      },
      "execution_count": null,
      "outputs": [
        {
          "output_type": "stream",
          "name": "stdout",
          "text": [
            "Please enter a number:-1\n",
            "-1 is Negative\n"
          ]
        }
      ]
    },
    {
      "cell_type": "code",
      "source": [
        "# # Design a rating system where user is asked to rate a product with 1-5 rating. Follwing are the feedback that we want to pass to user baed on rating.\n",
        "# 1. Sorry to hear about your experiance.\n",
        "# 2. We are tryingto get better. \n",
        "# 3. Thanks\n",
        "# 4. We almost missed the perfect rating fom you.\n",
        "# 5. Happy to know that you loved our service."
      ],
      "metadata": {
        "id": "phXgiMxvjbaC"
      },
      "execution_count": null,
      "outputs": []
    },
    {
      "cell_type": "code",
      "source": [
        "feed = int(input(\"Please provide your rating(1-5): \"))\n",
        "if feed in range(1,6):\n",
        "  if feed == 1:\n",
        "    print('Sorry to hear about your experiance..!')\n",
        "  elif feed == 2:\n",
        "    print(\"We are trying to get better\")\n",
        "  elif feed == 3:\n",
        "    print(\"Thanks\")\n",
        "  elif feed == 4:\n",
        "    print(\"We almost missed the perfect rating from you...!\")\n",
        "  else: \n",
        "    print(\"Happy to know that you loved our service...!\")\n",
        "else:\n",
        "  print(\"Sorry you have provided incorrect rating...rate within(1-5)\")\n",
        "\n",
        "\n"
      ],
      "metadata": {
        "colab": {
          "base_uri": "https://localhost:8080/"
        },
        "id": "Q4CZ-OY5jZkq",
        "outputId": "5f967916-3b48-4975-b12e-96303f7086ef"
      },
      "execution_count": null,
      "outputs": [
        {
          "output_type": "stream",
          "name": "stdout",
          "text": [
            "Please provide your rating(1-5): 5\n",
            "Happy to know that you loved our service...!\n"
          ]
        }
      ]
    },
    {
      "cell_type": "code",
      "source": [
        "# # day6\n",
        "# # build casino game\n",
        "# 1. take use input between 1-100 number\n",
        "# 2. If input matches then congrats user to win a lottery\n",
        "# 3. if input does not patch print match not found and retry \n",
        "# 4. retry count will be only 5 times\n",
        "# 5. if user input >100 then show user that input should be between 1-100"
      ],
      "metadata": {
        "id": "FkHZhiq2kwGO"
      },
      "execution_count": null,
      "outputs": []
    },
    {
      "cell_type": "code",
      "source": [
        "  import random\n",
        "  rand, count = 0, 0\n",
        "  if count in range(1,5):\n",
        "    uinput = int(input(\"Please enter a number (1-100)\"))\n",
        "    if uinput in range(1,101):\n",
        "        rand = randint.shuffle()\n",
        "        if rand == uinput:\n",
        "          print(\"Congrats...! You win the lottery\")\n",
        "          break\n",
        "        else:\n",
        "          count += 1\n",
        "          continue\n",
        "    else:\n",
        "      count += 1\n",
        "      print(\"Please enter a correct number (1-100)\")\n",
        "      continue\n",
        "   \n",
        "\n",
        "\n",
        "\n"
      ],
      "metadata": {
        "id": "Sx7Zt1LytcCG",
        "colab": {
          "base_uri": "https://localhost:8080/"
        },
        "outputId": "ee3f0ae4-9b4e-4401-81a5-08b630df7d85"
      },
      "execution_count": null,
      "outputs": [
        {
          "output_type": "stream",
          "name": "stdout",
          "text": [
            "Please enter a number (1-100)200\n",
            "Please enter a correct number (1-100)\n",
            "Please enter a number (1-100)211\n",
            "Please enter a correct number (1-100)\n",
            "Please enter a number (1-100)233\n",
            "Please enter a correct number (1-100)\n",
            "Please enter a number (1-100)432\n",
            "Please enter a correct number (1-100)\n"
          ]
        }
      ]
    },
    {
      "cell_type": "code",
      "source": [
        "casino()"
      ],
      "metadata": {
        "colab": {
          "base_uri": "https://localhost:8080/"
        },
        "id": "m5V1V9YFg7kI",
        "outputId": "b8be6c49-483d-4cd9-9a1a-a84e1a20ac0c"
      },
      "execution_count": null,
      "outputs": [
        {
          "output_type": "stream",
          "name": "stdout",
          "text": [
            "Please enter a number (1-100)199\n",
            "Our o range\n"
          ]
        }
      ]
    },
    {
      "cell_type": "code",
      "source": [
        "import random\n",
        "random.random()   #random.random gives value between 1 and 0"
      ],
      "metadata": {
        "id": "dq0WO6DZmUaS",
        "colab": {
          "base_uri": "https://localhost:8080/"
        },
        "outputId": "cfb0b483-bb5e-40ef-b126-412800e4cac9"
      },
      "execution_count": null,
      "outputs": [
        {
          "output_type": "execute_result",
          "data": {
            "text/plain": [
              "0.4008636992667498"
            ]
          },
          "metadata": {},
          "execution_count": 5
        }
      ]
    },
    {
      "cell_type": "code",
      "source": [
        "random.choice(range(100))"
      ],
      "metadata": {
        "colab": {
          "base_uri": "https://localhost:8080/"
        },
        "id": "9wGyNErQDrZP",
        "outputId": "35a374da-ee48-46a4-9707-ec392cc150d6"
      },
      "execution_count": null,
      "outputs": [
        {
          "output_type": "execute_result",
          "data": {
            "text/plain": [
              "8"
            ]
          },
          "metadata": {},
          "execution_count": 15
        }
      ]
    },
    {
      "cell_type": "code",
      "source": [
        "list = ['shantayya', 2, 32, 21, 'swami']\n",
        "random.shuffle(list)\n",
        "print(list)"
      ],
      "metadata": {
        "colab": {
          "base_uri": "https://localhost:8080/"
        },
        "id": "8qusmjrZD4Sj",
        "outputId": "56b1fe23-1255-4695-ef48-4c4387fd9af6"
      },
      "execution_count": null,
      "outputs": [
        {
          "output_type": "stream",
          "name": "stdout",
          "text": [
            "['swami', 32, 21, 'shantayya', 2]\n"
          ]
        }
      ]
    },
    {
      "cell_type": "code",
      "source": [
        "import math\n",
        "print(min(20,12,12,1,9)) \n",
        "print(25**0.5)"
      ],
      "metadata": {
        "colab": {
          "base_uri": "https://localhost:8080/"
        },
        "id": "69dx47QNEGKh",
        "outputId": "737912b0-e1b7-4cdf-8718-7be7a3c0f4d1"
      },
      "execution_count": null,
      "outputs": [
        {
          "output_type": "stream",
          "name": "stdout",
          "text": [
            "1\n",
            "5.0\n"
          ]
        }
      ]
    },
    {
      "cell_type": "code",
      "source": [
        "def add(a,b):\n",
        " return a+b"
      ],
      "metadata": {
        "id": "Mi-KohNvKwZh"
      },
      "execution_count": null,
      "outputs": []
    },
    {
      "cell_type": "code",
      "source": [
        "add(4,9)"
      ],
      "metadata": {
        "colab": {
          "base_uri": "https://localhost:8080/"
        },
        "id": "9rCS5S7MOx2c",
        "outputId": "f7329e01-bd0d-4515-a374-c5738d79af80"
      },
      "execution_count": null,
      "outputs": [
        {
          "output_type": "execute_result",
          "data": {
            "text/plain": [
              "13"
            ]
          },
          "metadata": {},
          "execution_count": 86
        }
      ]
    },
    {
      "cell_type": "code",
      "source": [
        "def sub(*num):   #(*num) used to accept multiple arugments\n",
        "  sub = 0\n",
        "  for v in num:\n",
        "    sub = v - sub\n",
        "  return abs(sub)\n",
        "   \n"
      ],
      "metadata": {
        "id": "XJZapFaYRaq-"
      },
      "execution_count": null,
      "outputs": []
    },
    {
      "cell_type": "code",
      "source": [
        "sub(20,10)"
      ],
      "metadata": {
        "colab": {
          "base_uri": "https://localhost:8080/"
        },
        "id": "Cn-qZmCrSyib",
        "outputId": "0bcfe988-b859-4e08-99ed-8c0b1d090ff9"
      },
      "execution_count": null,
      "outputs": [
        {
          "output_type": "execute_result",
          "data": {
            "text/plain": [
              "10"
            ]
          },
          "metadata": {},
          "execution_count": 112
        }
      ]
    },
    {
      "cell_type": "code",
      "source": [
        "#lambda is a single line function with no name. it can accept n number of arguments but have only one expression\n",
        "sum = lambda num1, num2: num1 + num2\n",
        "print(sum(32,2))"
      ],
      "metadata": {
        "colab": {
          "base_uri": "https://localhost:8080/"
        },
        "id": "l8OS1Tj1Sz_-",
        "outputId": "95bd03cd-83fd-4100-e5b9-931e5af28f54"
      },
      "execution_count": null,
      "outputs": [
        {
          "output_type": "stream",
          "name": "stdout",
          "text": [
            "34\n"
          ]
        }
      ]
    },
    {
      "cell_type": "code",
      "source": [
        "def add():\n",
        "  n1,n2 = list(map(int,input(\"Please input 2 numbers:\").split()))      #.split is being used to accept mupltiple inputs\n",
        "  return n1 + n2\n",
        "\n",
        "def sub():\n",
        "  n1,n2 = list(map(int,input(\"Please input 2 numbers:\").split()))\n",
        "  return abs(n1 - n2)\n",
        "\n",
        "def mul():\n",
        "  n1,n2 = lits(map(int,input(\"Please input 2 numbers:\").split()))\n",
        "  return n1 * n2\n",
        "\n",
        "def default():\n",
        "  print(\"Incorect choice\")\n",
        "  \n",
        "switcher={\n",
        "    1: add,\n",
        "    2: sub,\n",
        "    3: mul\n",
        "}\n",
        "def switch():\n",
        "  ch = int(input(\"Welcome to Calculator world:\\n1: add\\n2: sub\\n3: mul\\n Please press your choice(1-3):\"))\n",
        "  return switcher.get(ch, default)()   \n",
        "\n",
        "print(switch())\n"
      ],
      "metadata": {
        "colab": {
          "base_uri": "https://localhost:8080/"
        },
        "id": "qBYlJeH3Xg-h",
        "outputId": "49fe2774-6711-417d-98a9-1ed2dd54157b"
      },
      "execution_count": null,
      "outputs": [
        {
          "output_type": "stream",
          "name": "stdout",
          "text": [
            "Welcome to Calculator world:\n",
            "1: add\n",
            "2: sub\n",
            "3: mul\n",
            " Please press your choice(1-3):2\n",
            "Please input 2 numbers:20 10\n",
            "None\n"
          ]
        }
      ]
    },
    {
      "cell_type": "code",
      "source": [
        "import time\n",
        "time.asctime(time.localtime(time.time()))"
      ],
      "metadata": {
        "colab": {
          "base_uri": "https://localhost:8080/",
          "height": 35
        },
        "id": "YaSsms91dNME",
        "outputId": "2f29bd41-25af-4e1c-cad9-ce1568468ceb"
      },
      "execution_count": null,
      "outputs": [
        {
          "output_type": "execute_result",
          "data": {
            "text/plain": [
              "'Sun Sep 11 13:54:04 2022'"
            ],
            "application/vnd.google.colaboratory.intrinsic+json": {
              "type": "string"
            }
          },
          "metadata": {},
          "execution_count": 21
        }
      ]
    },
    {
      "cell_type": "code",
      "source": [
        "def prime(num):\n",
        "  prime = 0\n",
        "  for i in range(3,num):\n",
        "    if i == 2:\n",
        "     continue\n",
        "    elif not num % i == 0:\n",
        "      continue\n",
        "    else:\n",
        "      prime += 1\n",
        "  if prime == 0:\n",
        "    print(f\"{num} is prime\")\n",
        "  else:\n",
        "    print(f\"{num} is not prime\")\n",
        "      \n",
        "  "
      ],
      "metadata": {
        "id": "fclaYgws0W6f"
      },
      "execution_count": null,
      "outputs": []
    },
    {
      "cell_type": "code",
      "source": [
        "prime(9)"
      ],
      "metadata": {
        "colab": {
          "base_uri": "https://localhost:8080/"
        },
        "id": "lO0e-aEV9ati",
        "outputId": "0f196516-b5f0-4bce-9a36-7d093a4675d3"
      },
      "execution_count": null,
      "outputs": [
        {
          "output_type": "stream",
          "name": "stdout",
          "text": [
            "9 is not prime\n"
          ]
        }
      ]
    },
    {
      "cell_type": "code",
      "source": [
        "def primerange(num):\n",
        " for num in range(1,num + 1):\n",
        "  if num > 1:\n",
        "   for i in range(2,num): \n",
        "      if num % i == 0:\n",
        "        break \n",
        "   else:\n",
        "     print(num)"
      ],
      "metadata": {
        "id": "0XHG9LxE9uRr"
      },
      "execution_count": null,
      "outputs": []
    },
    {
      "cell_type": "code",
      "source": [
        "primerange(50)"
      ],
      "metadata": {
        "colab": {
          "base_uri": "https://localhost:8080/"
        },
        "id": "2yryB7U8Ao15",
        "outputId": "d4e61cc3-ed24-4542-8c73-53f46573bf4a"
      },
      "execution_count": null,
      "outputs": [
        {
          "output_type": "stream",
          "name": "stdout",
          "text": [
            "2\n",
            "3\n",
            "5\n",
            "7\n",
            "11\n",
            "13\n",
            "17\n",
            "19\n",
            "23\n",
            "29\n",
            "31\n",
            "37\n",
            "41\n",
            "43\n",
            "47\n"
          ]
        }
      ]
    },
    {
      "cell_type": "code",
      "source": [
        "def fact(num):\n",
        "  factorial = 1\n",
        "  if num == 0:\n",
        "    print(\"Factorial is 1\")\n",
        "  elif num < 0:\n",
        "    print(f\"Factorial is not allowed for {num}\")\n",
        "  else:\n",
        "   for i in range(1,num + 1):\n",
        "     factorial = factorial * i\n",
        "   return factorial \n",
        "     "
      ],
      "metadata": {
        "id": "OgrzZGSrBBmw"
      },
      "execution_count": null,
      "outputs": []
    },
    {
      "cell_type": "code",
      "source": [
        "fact(6)"
      ],
      "metadata": {
        "colab": {
          "base_uri": "https://localhost:8080/"
        },
        "id": "_5-bMCdRMEk1",
        "outputId": "ad5236d2-21b1-423e-f580-c7954c89dfc3"
      },
      "execution_count": null,
      "outputs": [
        {
          "output_type": "execute_result",
          "data": {
            "text/plain": [
              "720"
            ]
          },
          "metadata": {},
          "execution_count": 129
        }
      ]
    },
    {
      "cell_type": "code",
      "source": [
        "# print matrix\n",
        "row = int(input(\"Enter number of rows:\"))\n",
        "col = int(input(\"Enter number of columns\"))\n",
        "\n",
        "matrix = []\n",
        "print(\"Enter the values:\\n\")\n",
        "for i in range(row):\n",
        "  a = []\n",
        "  for j in range(col):\n",
        "     a.append(int(input()))\n",
        "  matrix.append(a)\n",
        "\n",
        "for i in range(row):\n",
        "  for j in range(col):\n",
        "    print(matrix[i][j], end=' ' )\n",
        "  print()"
      ],
      "metadata": {
        "colab": {
          "base_uri": "https://localhost:8080/"
        },
        "id": "lbLAD2OrMFrt",
        "outputId": "3113dcce-0e06-491a-95c2-ffaa9b4dd030"
      },
      "execution_count": null,
      "outputs": [
        {
          "output_type": "stream",
          "name": "stdout",
          "text": [
            "Enter number of rows:2\n",
            "Enter number of columns2\n",
            "Enter the values:\n",
            "\n",
            "1\n",
            "2\n",
            "3\n",
            "4\n",
            "1 2 \n",
            "3 4 \n"
          ]
        }
      ]
    },
    {
      "cell_type": "code",
      "source": [
        "class Phone():\n",
        "  Name = \"\"\n",
        "  version = \"10X\"\n",
        "  \n",
        "  def __init__(self,name):\n",
        "    self.Name = name\n",
        "\n",
        "  def bootLogo(self):\n",
        "    print(\"Iphone\", self.version)"
      ],
      "metadata": {
        "id": "Yvm9PgX5QwSh"
      },
      "execution_count": 1,
      "outputs": []
    },
    {
      "cell_type": "code",
      "source": [
        "p = Phone(\"Iphone\")\n",
        "p.bootLogo()"
      ],
      "metadata": {
        "colab": {
          "base_uri": "https://localhost:8080/"
        },
        "id": "Tgcqj9Eawjd4",
        "outputId": "c5cfb9a5-e542-4022-cdcd-532405ce97e6"
      },
      "execution_count": 2,
      "outputs": [
        {
          "output_type": "stream",
          "name": "stdout",
          "text": [
            "Iphone 10X\n"
          ]
        }
      ]
    },
    {
      "cell_type": "code",
      "source": [
        "# when we want full control of what is getting inside ans going out of class ten we used getter and setter "
      ],
      "metadata": {
        "id": "7At8vuOfwpg3"
      },
      "execution_count": 3,
      "outputs": []
    },
    {
      "cell_type": "code",
      "source": [
        "class Phone():\n",
        "  Company = \"\"\n",
        "  version = \"10X\"\n",
        "  \n",
        "  def __init__(self,name):\n",
        "    self.Company = name\n",
        "\n",
        "  def bootLogo(self):\n",
        "    print(\"Iphone\", self.version)\n",
        "\n",
        "  def get_model(self):\n",
        "    return \"iPhone\"\n",
        "\n",
        "  def set_model(self, val):\n",
        "    self.model = val"
      ],
      "metadata": {
        "id": "HZn7c1oyxtj1"
      },
      "execution_count": 4,
      "outputs": []
    },
    {
      "cell_type": "code",
      "source": [
        "ph = Phone(\"Apple\")\n",
        "ph.set_model(\"Samsung\")\n",
        "ph.get_model()"
      ],
      "metadata": {
        "colab": {
          "base_uri": "https://localhost:8080/",
          "height": 35
        },
        "id": "Dg8kVOwryMm1",
        "outputId": "71665c54-7d4e-4ae3-a2e2-90058dd92ef4"
      },
      "execution_count": 12,
      "outputs": [
        {
          "output_type": "execute_result",
          "data": {
            "text/plain": [
              "'iPhone'"
            ],
            "application/vnd.google.colaboratory.intrinsic+json": {
              "type": "string"
            }
          },
          "metadata": {},
          "execution_count": 12
        }
      ]
    },
    {
      "cell_type": "code",
      "source": [
        "ph.model"
      ],
      "metadata": {
        "colab": {
          "base_uri": "https://localhost:8080/",
          "height": 35
        },
        "id": "oKAy1fBAyWBv",
        "outputId": "df43c883-c35f-4451-b24d-cec94a8a7e81"
      },
      "execution_count": 13,
      "outputs": [
        {
          "output_type": "execute_result",
          "data": {
            "text/plain": [
              "'Samsung'"
            ],
            "application/vnd.google.colaboratory.intrinsic+json": {
              "type": "string"
            }
          },
          "metadata": {},
          "execution_count": 13
        }
      ]
    },
    {
      "cell_type": "code",
      "source": [
        "# Inheritance - borrowing the super class functionality in subclass "
      ],
      "metadata": {
        "id": "O5EAc2Kty-XS"
      },
      "execution_count": 14,
      "outputs": []
    },
    {
      "cell_type": "code",
      "source": [
        "class iPhone():\n",
        "  def __init__(self):\n",
        "    print(\"I am iPhone\")\n",
        "  \n",
        "  def makesceen(self):\n",
        "    print(\"I make screens\")\n",
        "\n",
        "  def test(self):\n",
        "    print(\"Phone tested ok\")\n",
        "  \n",
        "class Samsung(iPhone):\n",
        "  def __init__(self):\n",
        "    print(\"I am SamSung\")\n",
        "  \n",
        "  def a3cheeps(self):\n",
        "    print(\"I am a3cheeps\")\n",
        "  \n",
        "  def Stest(self):\n",
        "    print(\"SamSung tested ok\")\n",
        "    super().test()\n",
        "  \n"
      ],
      "metadata": {
        "id": "r3HNCn-O0UJz"
      },
      "execution_count": 41,
      "outputs": []
    },
    {
      "cell_type": "code",
      "source": [
        "cell = Samsung()\n",
        "icell = iPhone()"
      ],
      "metadata": {
        "colab": {
          "base_uri": "https://localhost:8080/"
        },
        "id": "EF_G5SRa1IlI",
        "outputId": "788327ab-72db-4c09-de21-317ea99a0ca4"
      },
      "execution_count": 42,
      "outputs": [
        {
          "output_type": "stream",
          "name": "stdout",
          "text": [
            "I am SamSung\n",
            "I am iPhone\n"
          ]
        }
      ]
    },
    {
      "cell_type": "code",
      "source": [
        "cell.Stest()"
      ],
      "metadata": {
        "colab": {
          "base_uri": "https://localhost:8080/"
        },
        "id": "MC-kvN_U1MBH",
        "outputId": "63077e1f-8b54-497c-9b8d-e019d584f0fd"
      },
      "execution_count": 43,
      "outputs": [
        {
          "output_type": "stream",
          "name": "stdout",
          "text": [
            "SamSung tested ok\n",
            "Phone tested ok\n"
          ]
        }
      ]
    },
    {
      "cell_type": "code",
      "source": [],
      "metadata": {
        "id": "43JWUZUM1T09"
      },
      "execution_count": null,
      "outputs": []
    }
  ]
}