{
  "nbformat": 4,
  "nbformat_minor": 0,
  "metadata": {
    "colab": {
      "name": "30Days for Pythpon.ipynb",
      "provenance": [],
      "collapsed_sections": [],
      "authorship_tag": "ABX9TyMquvVA+1qL6izC5B9p4GYN",
      "include_colab_link": true
    },
    "kernelspec": {
      "name": "python3",
      "display_name": "Python 3"
    },
    "language_info": {
      "name": "python"
    }
  },
  "cells": [
    {
      "cell_type": "markdown",
      "metadata": {
        "id": "view-in-github",
        "colab_type": "text"
      },
      "source": [
        "<a href=\"https://colab.research.google.com/github/shantayya/Python-Projects/blob/main/30Days_for_Pythpon.ipynb\" target=\"_parent\"><img src=\"https://colab.research.google.com/assets/colab-badge.svg\" alt=\"Open In Colab\"/></a>"
      ]
    },
    {
      "cell_type": "code",
      "execution_count": null,
      "metadata": {
        "id": "bGtmBGgycDpi"
      },
      "outputs": [],
      "source": [
        "# Day1 excercise\n",
        "# Print your age to the console.\n",
        "# Calculate and print the number of days, weeks, and months in 27 years. Don’t worry about leap years!\n",
        "# Calculate and print the area of a circle with a radius of 5 units. You can be as accurate as you like with the value of pi."
      ]
    },
    {
      "cell_type": "code",
      "source": [
        "print(30)"
      ],
      "metadata": {
        "colab": {
          "base_uri": "https://localhost:8080/"
        },
        "id": "K78yc4evcKCj",
        "outputId": "6360a145-6917-43a1-f14a-9360705b120c"
      },
      "execution_count": null,
      "outputs": [
        {
          "output_type": "stream",
          "name": "stdout",
          "text": [
            "30\n"
          ]
        }
      ]
    },
    {
      "cell_type": "code",
      "source": [
        "print('Days:'+ str(27 * 365))\n",
        "print('Weaks:'+ str(27 * 52))\n",
        "print('Months:'+ str(27 * 12))\n",
        "\n"
      ],
      "metadata": {
        "colab": {
          "base_uri": "https://localhost:8080/"
        },
        "id": "9yGvoVuYcLfX",
        "outputId": "99369d26-16db-4bf7-de48-3be5339aeb81"
      },
      "execution_count": null,
      "outputs": [
        {
          "output_type": "stream",
          "name": "stdout",
          "text": [
            "Days:9855\n",
            "Weaks:1404\n",
            "Months:324\n"
          ]
        }
      ]
    },
    {
      "cell_type": "code",
      "source": [
        "def area(rad):\n",
        "  pi = 3.14\n",
        "  area = pi * rad**2\n",
        "  print(f\"Area: {area}\")"
      ],
      "metadata": {
        "id": "iG65fvuxdSiO"
      },
      "execution_count": null,
      "outputs": []
    },
    {
      "cell_type": "code",
      "source": [
        "area(5)"
      ],
      "metadata": {
        "colab": {
          "base_uri": "https://localhost:8080/"
        },
        "id": "q2oc3zrAeB9d",
        "outputId": "89f5bbfa-ca37-4759-9d7b-a38a6db090ea"
      },
      "execution_count": null,
      "outputs": [
        {
          "output_type": "stream",
          "name": "stdout",
          "text": [
            "Area: 78.5\n"
          ]
        }
      ]
    },
    {
      "cell_type": "code",
      "source": [
        "# QRCode generation"
      ],
      "metadata": {
        "id": "lIkkVXCMeDZK"
      },
      "execution_count": null,
      "outputs": []
    },
    {
      "cell_type": "code",
      "source": [
        "pip install qrcode[pip]"
      ],
      "metadata": {
        "colab": {
          "base_uri": "https://localhost:8080/"
        },
        "id": "divDR_lRmv-9",
        "outputId": "7909e124-b9bc-4511-e190-51590fce285f"
      },
      "execution_count": null,
      "outputs": [
        {
          "output_type": "stream",
          "name": "stdout",
          "text": [
            "Looking in indexes: https://pypi.org/simple, https://us-python.pkg.dev/colab-wheels/public/simple/\n",
            "Collecting qrcode[pip]\n",
            "  Downloading qrcode-7.3.1.tar.gz (43 kB)\n",
            "\u001b[?25l\r\u001b[K     |███████▌                        | 10 kB 20.9 MB/s eta 0:00:01\r\u001b[K     |███████████████                 | 20 kB 29.2 MB/s eta 0:00:01\r\u001b[K     |██████████████████████▋         | 30 kB 35.5 MB/s eta 0:00:01\r\u001b[K     |██████████████████████████████▏ | 40 kB 40.4 MB/s eta 0:00:01\r\u001b[K     |████████████████████████████████| 43 kB 2.3 MB/s \n",
            "\u001b[33mWARNING: qrcode 7.3.1 does not provide the extra 'pip'\u001b[0m\n",
            "\u001b[?25hBuilding wheels for collected packages: qrcode\n",
            "  Building wheel for qrcode (setup.py) ... \u001b[?25l\u001b[?25hdone\n",
            "  Created wheel for qrcode: filename=qrcode-7.3.1-py3-none-any.whl size=40402 sha256=7776182181a1f3c9e7f98347025342f7e4c90c0efb5c0775e19fd4b03d5bf881\n",
            "  Stored in directory: /root/.cache/pip/wheels/93/d7/39/a4111be2cfb8e679938aa671a37888b6afb1f9e7d748e94492\n",
            "Successfully built qrcode\n",
            "Installing collected packages: qrcode\n",
            "Successfully installed qrcode-7.3.1\n"
          ]
        }
      ]
    },
    {
      "cell_type": "code",
      "source": [
        "import qrcode as qr\n",
        "from PIL import Image\n",
        "img = qr.make(\"mh12q9820@icici\")\n",
        "img.save(\"iciciqr.png\")\n",
        "qrc = Image.open(r\"/content/iciciqr.png\")\n",
        "qrc.show()"
      ],
      "metadata": {
        "id": "DL9BHlh8m75n"
      },
      "execution_count": null,
      "outputs": []
    },
    {
      "cell_type": "code",
      "source": [
        "pwd"
      ],
      "metadata": {
        "colab": {
          "base_uri": "https://localhost:8080/",
          "height": 35
        },
        "id": "-A6lrVENukst",
        "outputId": "3370dad8-587a-42e2-9cbf-ec10eb0ec467"
      },
      "execution_count": null,
      "outputs": [
        {
          "output_type": "execute_result",
          "data": {
            "text/plain": [
              "'/content'"
            ],
            "application/vnd.google.colaboratory.intrinsic+json": {
              "type": "string"
            }
          },
          "metadata": {},
          "execution_count": 33
        }
      ]
    },
    {
      "cell_type": "code",
      "source": [
        "ls -lrt"
      ],
      "metadata": {
        "colab": {
          "base_uri": "https://localhost:8080/"
        },
        "id": "zIomA1rmvc1N",
        "outputId": "41fcae76-5a2c-4372-e6af-5e2b7fc4cd43"
      },
      "execution_count": null,
      "outputs": [
        {
          "output_type": "stream",
          "name": "stdout",
          "text": [
            "total 8\n",
            "drwxr-xr-x 1 root root 4096 Aug 15 13:44 \u001b[0m\u001b[01;34msample_data\u001b[0m/\n",
            "-rw-r--r-- 1 root root  557 Aug 26 06:01 iciciqr.png\n"
          ]
        }
      ]
    },
    {
      "cell_type": "code",
      "source": [
        "img = Image.open('/content/iciciqr.png')\n",
        "img.show()"
      ],
      "metadata": {
        "id": "2eUPMqUtvd7R"
      },
      "execution_count": null,
      "outputs": []
    },
    {
      "cell_type": "code",
      "source": [
        "# Day2 \n",
        "# Ask the user for their name and age, assign theses values to two variables, and then print them.\n",
        "# Investigate what happens when you try to assign a value to a variable that you’ve already defined. Try printing the variable before and after you reuse the name.\n",
        "# Below you’ll find some code with a number of errors. Try to go through the program line by line and fix the issues in the code. I’d encourage you to try running the program while you’re working on it, as reading the error messages is great practice for debugging your own programs.\n",
        "#hourly_wage = input(\"Please enter your hourly wage: ')\n",
        "\n",
        "#prnt(\"Hourly wage: \")\n",
        "#print(hourlywage)\n",
        "#print(\"Hours worked: \")\n",
        "#print(hours_worked)\n",
        "\n",
        "#hours_worked = input(\"How many hours did you work this week? \")"
      ],
      "metadata": {
        "id": "5yT__4EFvrcn"
      },
      "execution_count": 3,
      "outputs": []
    },
    {
      "cell_type": "code",
      "source": [
        "name = input(\"Name please:\")\n",
        "age = input(\"Age please:\")\n",
        "print(f'Name:{name} \\nAge: {age}')\n"
      ],
      "metadata": {
        "colab": {
          "base_uri": "https://localhost:8080/"
        },
        "id": "Rd1PnWyj_MwB",
        "outputId": "da4bb76a-e6ac-46f5-cea6-b4c897cdf5f1"
      },
      "execution_count": 2,
      "outputs": [
        {
          "output_type": "stream",
          "name": "stdout",
          "text": [
            "Name please:Shantayya\n",
            "Age please:30\n",
            "Name:Shantayya \n",
            "Age: 30\n"
          ]
        }
      ]
    },
    {
      "cell_type": "code",
      "source": [
        "hourly_wage = input(\"Please enter your hourly wage: \")\n",
        "hours_worked = input(\"How many hours did you work this week? \")\n",
        "print(f\"Hourly wage:{hourly_wage} \")\n",
        "print(f\"Hours worked:{hours_worked}\")\n"
      ],
      "metadata": {
        "colab": {
          "base_uri": "https://localhost:8080/"
        },
        "id": "_O69KMnB_l_B",
        "outputId": "89828928-630e-4363-d66c-1db928792fc4"
      },
      "execution_count": 4,
      "outputs": [
        {
          "output_type": "stream",
          "name": "stdout",
          "text": [
            "Please enter your hourly wage: 150\n",
            "How many hours did you work this week? 8\n",
            "Hourly wage:150 \n",
            "Hours worked:8\n"
          ]
        }
      ]
    },
    {
      "cell_type": "code",
      "source": [
        "x = 5\n",
        "x = 7\n",
        "print(x)"
      ],
      "metadata": {
        "colab": {
          "base_uri": "https://localhost:8080/"
        },
        "id": "j4bSlQIQAcXH",
        "outputId": "7d28a668-e85c-4919-8718-9440ae3b2ed5"
      },
      "execution_count": 5,
      "outputs": [
        {
          "output_type": "stream",
          "name": "stdout",
          "text": [
            "7\n"
          ]
        }
      ]
    },
    {
      "cell_type": "code",
      "source": [],
      "metadata": {
        "id": "IK-D9lcZA2AM"
      },
      "execution_count": null,
      "outputs": []
    }
  ]
}