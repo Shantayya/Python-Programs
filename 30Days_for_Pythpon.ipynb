{
  "nbformat": 4,
  "nbformat_minor": 0,
  "metadata": {
    "colab": {
      "name": "30Days for Pythpon.ipynb",
      "provenance": [],
      "collapsed_sections": [],
      "authorship_tag": "ABX9TyPPzWlYml5qcW3YZ2Ed45nj",
      "include_colab_link": true
    },
    "kernelspec": {
      "name": "python3",
      "display_name": "Python 3"
    },
    "language_info": {
      "name": "python"
    }
  },
  "cells": [
    {
      "cell_type": "markdown",
      "metadata": {
        "id": "view-in-github",
        "colab_type": "text"
      },
      "source": [
        "<a href=\"https://colab.research.google.com/github/shantayya/Python-Projects/blob/main/30Days_for_Pythpon.ipynb\" target=\"_parent\"><img src=\"https://colab.research.google.com/assets/colab-badge.svg\" alt=\"Open In Colab\"/></a>"
      ]
    },
    {
      "cell_type": "code",
      "execution_count": 6,
      "metadata": {
        "id": "bGtmBGgycDpi"
      },
      "outputs": [],
      "source": [
        "# Day1 excercise\n",
        "# Print your age to the console.\n",
        "# Calculate and print the number of days, weeks, and months in 27 years. Don’t worry about leap years!\n",
        "# Calculate and print the area of a circle with a radius of 5 units. You can be as accurate as you like with the value of pi."
      ]
    },
    {
      "cell_type": "code",
      "source": [
        "print(30)"
      ],
      "metadata": {
        "colab": {
          "base_uri": "https://localhost:8080/"
        },
        "id": "K78yc4evcKCj",
        "outputId": "6360a145-6917-43a1-f14a-9360705b120c"
      },
      "execution_count": 2,
      "outputs": [
        {
          "output_type": "stream",
          "name": "stdout",
          "text": [
            "30\n"
          ]
        }
      ]
    },
    {
      "cell_type": "code",
      "source": [
        "print('Days:'+ str(27 * 365))\n",
        "print('Weaks:'+ str(27 * 52))\n",
        "print('Months:'+ str(27 * 12))\n",
        "\n"
      ],
      "metadata": {
        "colab": {
          "base_uri": "https://localhost:8080/"
        },
        "id": "9yGvoVuYcLfX",
        "outputId": "99369d26-16db-4bf7-de48-3be5339aeb81"
      },
      "execution_count": 16,
      "outputs": [
        {
          "output_type": "stream",
          "name": "stdout",
          "text": [
            "Days:9855\n",
            "Weaks:1404\n",
            "Months:324\n"
          ]
        }
      ]
    },
    {
      "cell_type": "code",
      "source": [
        "def area(rad):\n",
        "  pi = 3.14\n",
        "  area = pi * rad**2\n",
        "  print(f\"Area: {area}\")"
      ],
      "metadata": {
        "id": "iG65fvuxdSiO"
      },
      "execution_count": null,
      "outputs": []
    },
    {
      "cell_type": "code",
      "source": [
        "area(5)"
      ],
      "metadata": {
        "colab": {
          "base_uri": "https://localhost:8080/"
        },
        "id": "q2oc3zrAeB9d",
        "outputId": "89f5bbfa-ca37-4759-9d7b-a38a6db090ea"
      },
      "execution_count": 8,
      "outputs": [
        {
          "output_type": "stream",
          "name": "stdout",
          "text": [
            "Area: 78.5\n"
          ]
        }
      ]
    },
    {
      "cell_type": "code",
      "source": [],
      "metadata": {
        "id": "lIkkVXCMeDZK"
      },
      "execution_count": null,
      "outputs": []
    }
  ]
}